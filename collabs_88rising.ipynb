{
 "cells": [
  {
   "cell_type": "code",
   "execution_count": 1,
   "metadata": {},
   "outputs": [],
   "source": [
    "from artists_88rising import artists\n",
    "import requests\n",
    "from config import client_id, client_secret \n",
    "import base64\n",
    "import datetime\n",
    "from urllib.parse import urlencode"
   ]
  },
  {
   "cell_type": "code",
   "execution_count": 3,
   "metadata": {},
   "outputs": [
    {
     "data": {
      "text/plain": [
       "b'ac79a9fbf50948ad9c74b15dba9fca1f:1bf2b8599ee84d61a297e1111b07a07a'"
      ]
     },
     "execution_count": 3,
     "metadata": {},
     "output_type": "execute_result"
    }
   ],
   "source": [
    "client_creds = f\"{client_id}:{client_secret}\"\n",
    "client_creds_b64 = base64.b64encode(client_creds.encode())\n",
    "base64.b64decode(client_creds_b64)"
   ]
  },
  {
   "cell_type": "code",
   "execution_count": 4,
   "metadata": {},
   "outputs": [],
   "source": [
    "# do a looklup for a token and future reqeust \n",
    "\n",
    "token_url = 'https://accounts.spotify.com/api/token'\n",
    "method = 'POST'\n",
    "token_data = {\n",
    "    'grant_type': \"client_credentials\"\n",
    "}\n",
    "token_headers = {\n",
    "    \"Authorization\": f\"Basic {client_creds_b64.decode()}\" #<base64 encoded client_id:client_secret>\n",
    "}"
   ]
  },
  {
   "cell_type": "code",
   "execution_count": 5,
   "metadata": {},
   "outputs": [
    {
     "name": "stdout",
     "output_type": "stream",
     "text": [
      "{'access_token': 'BQAqWHRTXV_b2zJzpn0LJewN5COeUaBpsB0ojbCqEwLfvyP9oxenND6bIh9MrCue0Cm4XEHlDf_RgbUb0ralhQSlV6DlMjver-fCJubuYfXSp8-Y8vs', 'token_type': 'Bearer', 'expires_in': 3600}\n"
     ]
    }
   ],
   "source": [
    "r = requests.post(token_url, data=token_data, headers=token_headers)\n",
    "print(r.json())\n",
    "valid_request = r.status_code in range(200,299)\n",
    "token_response_data = r.json()"
   ]
  },
  {
   "cell_type": "code",
   "execution_count": 6,
   "metadata": {},
   "outputs": [],
   "source": [
    "access_token = token_response_data['access_token']"
   ]
  },
  {
   "cell_type": "code",
   "execution_count": 34,
   "metadata": {},
   "outputs": [],
   "source": [
    "#Spotify Search and extract their Spotify ID\n",
    "def searchArtist(name) :\n",
    "    headers = {\n",
    "        'Authorization': f'Bearer {access_token}'\n",
    "    }\n",
    "    endpoint = 'https://api.spotify.com/v1/search'\n",
    "    data = urlencode({'q': name, 'type': 'artist'})\n",
    "    top = urlencode({'offset': '0', 'limit': '20'})\n",
    "\n",
    "    query_url = f'{endpoint}?{data}&{top}'\n",
    "\n",
    "    r = requests.get(query_url, headers=headers) \n",
    "    artist_data=r.json()\n",
    "    id = artist_data['artists']['items'][0]['id']\n",
    "    return id"
   ]
  },
  {
   "cell_type": "code",
   "execution_count": 36,
   "metadata": {},
   "outputs": [
    {
     "data": {
      "text/plain": [
       "['Atarashii Gakko!',\n",
       " 'Bibi',\n",
       " 'Chungha',\n",
       " 'Dumbfoundead',\n",
       " 'Guapdad 4000',\n",
       " 'Higher Brothers',\n",
       " 'Jackson Wang',\n",
       " 'Joji',\n",
       " 'Keith Ape',\n",
       " 'Lexie Liu',\n",
       " 'Milli',\n",
       " 'Niki',\n",
       " 'Rich Brian',\n",
       " 'Seori',\n",
       " 'Stephanie Poetri',\n",
       " 'Warren Hue',\n",
       " 'Ylona Garcia']"
      ]
     },
     "execution_count": 36,
     "metadata": {},
     "output_type": "execute_result"
    }
   ],
   "source": [
    "# List of artists in 88 Rising\n",
    "artists"
   ]
  },
  {
   "cell_type": "code",
   "execution_count": 37,
   "metadata": {},
   "outputs": [],
   "source": [
    "# Create a dictionary to extract their Spotify ID\n",
    "artists_dict = {}\n",
    "for a in artists:\n",
    "    a_id = searchArtist(a)\n",
    "    artists_dict[a] = a_id"
   ]
  },
  {
   "cell_type": "code",
   "execution_count": 38,
   "metadata": {},
   "outputs": [
    {
     "data": {
      "text/plain": [
       "{'Atarashii Gakko!': '4OfU76YhPU04wlmbVFFgTJ',\n",
       " 'Bibi': '6UbmqUEgjLA6jAcXwbM1Z9',\n",
       " 'Chungha': '2PSJ6YriU7JsFucxACpU7Y',\n",
       " 'Dumbfoundead': '7LTShHcq1KdTrWeLvWoYed',\n",
       " 'Guapdad 4000': '0NcPKaSNIHAM2RfioH9vMT',\n",
       " 'Higher Brothers': '07ZhipyrvoyNoJejeyM0PQ',\n",
       " 'Jackson Wang': '1kfWoWgCugPkyxQP8lkRlY',\n",
       " 'Joji': '3MZsBdqDrRTJihTHQrO6Dq',\n",
       " 'Keith Ape': '6f9bmfkqiYbhCtdAZsv7KI',\n",
       " 'Lexie Liu': '6fs2or0cKLEM2xohWq8SoX',\n",
       " 'Milli': '62h3mAlyYduSmprbNEdKKD',\n",
       " 'Niki': '2kxP07DLgs4xlWz8YHlvfh',\n",
       " 'Rich Brian': '2IDLDx25HU1nQMKde4n61a',\n",
       " 'Seori': '2bWTIIQP9zaVc55RaMGu7e',\n",
       " 'Stephanie Poetri': '0HS00NN7MAfF59aJnfcxSO',\n",
       " 'Warren Hue': '4qcKNkdxUidhvUByB2eQ6g',\n",
       " 'Ylona Garcia': '2qnQOnL1oLKtH779qZ6iuR'}"
      ]
     },
     "execution_count": 38,
     "metadata": {},
     "output_type": "execute_result"
    }
   ],
   "source": [
    "artists_dict"
   ]
  },
  {
   "cell_type": "code",
   "execution_count": 41,
   "metadata": {},
   "outputs": [],
   "source": [
    "# Now that we have the ID's we can pull all the albums from each artist\n",
    "headers = {\n",
    "        'Authorization': f'Bearer {access_token}'\n",
    "    }\n",
    "album_url = f'https://api.spotify.com/v1/artists/{artists_dict[\"Rich Brian\"]}/albums'\n",
    "r = requests.get(album_url, headers=headers) \n",
    "album_data = r.json()\n",
    "\n"
   ]
  },
  {
   "cell_type": "code",
   "execution_count": 46,
   "metadata": {},
   "outputs": [
    {
     "name": "stdout",
     "output_type": "stream",
     "text": [
      "The Sailor 2ZGkTvwtwDoembcBr8SS0d\n"
     ]
    }
   ],
   "source": [
    "# Example\n",
    "rich_brian_album = album_data['items'][1]['name']\n",
    "rich_brian_album_id = album_data['items'][1]['id']\n",
    "print(rich_brian_album, rich_brian_album_id)"
   ]
  },
  {
   "cell_type": "code",
   "execution_count": 52,
   "metadata": {},
   "outputs": [],
   "source": [
    "# Get Tracks of each album\n",
    "tracks_url = f'https://api.spotify.com/v1/albums/{rich_brian_album_id}/tracks'\n",
    "t = requests.get(tracks_url, headers=headers) \n",
    "track_data = t.json()"
   ]
  },
  {
   "cell_type": "code",
   "execution_count": 56,
   "metadata": {},
   "outputs": [
    {
     "name": "stdout",
     "output_type": "stream",
     "text": [
      "Rapapapa (feat. RZA) 7sPoDigIbCWDS6AZmOhSRR\n"
     ]
    }
   ],
   "source": [
    "track_name = track_data['items'][1]['name']\n",
    "track_id = track_data['items'][1]['id']\n",
    "print(track_name, track_id)"
   ]
  },
  {
   "cell_type": "code",
   "execution_count": 57,
   "metadata": {},
   "outputs": [],
   "source": [
    "# Get Audio Features\n",
    "audio_url = f'https://api.spotify.com/v1/audio-features/{track_id}'\n",
    "audio = requests.get(audio_url, headers= headers)\n",
    "audio_data = audio.json()"
   ]
  },
  {
   "cell_type": "code",
   "execution_count": 58,
   "metadata": {},
   "outputs": [
    {
     "data": {
      "text/plain": [
       "{'error': {'status': 401, 'message': 'The access token expired'}}"
      ]
     },
     "execution_count": 58,
     "metadata": {},
     "output_type": "execute_result"
    }
   ],
   "source": [
    "audio_data"
   ]
  }
 ],
 "metadata": {
  "kernelspec": {
   "display_name": "Python 3.9.12 ('base')",
   "language": "python",
   "name": "python3"
  },
  "language_info": {
   "codemirror_mode": {
    "name": "ipython",
    "version": 3
   },
   "file_extension": ".py",
   "mimetype": "text/x-python",
   "name": "python",
   "nbconvert_exporter": "python",
   "pygments_lexer": "ipython3",
   "version": "3.9.12"
  },
  "orig_nbformat": 4,
  "vscode": {
   "interpreter": {
    "hash": "fd5f0602b361fcd80b6e43c9db32d5ff96b182a40640908c77b502a93aa9387e"
   }
  }
 },
 "nbformat": 4,
 "nbformat_minor": 2
}
