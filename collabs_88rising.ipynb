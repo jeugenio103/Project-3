{
 "cells": [
  {
   "cell_type": "code",
   "execution_count": 1,
   "metadata": {},
   "outputs": [
    {
     "ename": "ImportError",
     "evalue": "cannot import name 'client_id' from 'config' (/Users/og/opt/anaconda3/lib/python3.9/site-packages/config/__init__.py)",
     "output_type": "error",
     "traceback": [
      "\u001b[0;31m---------------------------------------------------------------------------\u001b[0m",
      "\u001b[0;31mImportError\u001b[0m                               Traceback (most recent call last)",
      "\u001b[1;32m/Users/og/Desktop/Data/Project-3/collabs_88rising.ipynb Cell 1\u001b[0m in \u001b[0;36m<cell line: 3>\u001b[0;34m()\u001b[0m\n\u001b[1;32m      <a href='vscode-notebook-cell:/Users/og/Desktop/Data/Project-3/collabs_88rising.ipynb#W0sZmlsZQ%3D%3D?line=0'>1</a>\u001b[0m \u001b[39mfrom\u001b[39;00m \u001b[39martists_88rising\u001b[39;00m \u001b[39mimport\u001b[39;00m artists\n\u001b[1;32m      <a href='vscode-notebook-cell:/Users/og/Desktop/Data/Project-3/collabs_88rising.ipynb#W0sZmlsZQ%3D%3D?line=1'>2</a>\u001b[0m \u001b[39mimport\u001b[39;00m \u001b[39mrequests\u001b[39;00m\n\u001b[0;32m----> <a href='vscode-notebook-cell:/Users/og/Desktop/Data/Project-3/collabs_88rising.ipynb#W0sZmlsZQ%3D%3D?line=2'>3</a>\u001b[0m \u001b[39mfrom\u001b[39;00m \u001b[39mconfig\u001b[39;00m \u001b[39mimport\u001b[39;00m client_id, client_secret \n\u001b[1;32m      <a href='vscode-notebook-cell:/Users/og/Desktop/Data/Project-3/collabs_88rising.ipynb#W0sZmlsZQ%3D%3D?line=3'>4</a>\u001b[0m \u001b[39mimport\u001b[39;00m \u001b[39mbase64\u001b[39;00m\n\u001b[1;32m      <a href='vscode-notebook-cell:/Users/og/Desktop/Data/Project-3/collabs_88rising.ipynb#W0sZmlsZQ%3D%3D?line=4'>5</a>\u001b[0m \u001b[39mimport\u001b[39;00m \u001b[39mdatetime\u001b[39;00m\n",
      "\u001b[0;31mImportError\u001b[0m: cannot import name 'client_id' from 'config' (/Users/og/opt/anaconda3/lib/python3.9/site-packages/config/__init__.py)"
     ]
    }
   ],
   "source": [
    "from artists_88rising import artists\n",
    "import requests\n",
    "from config import client_id, client_secret \n",
    "import base64\n",
    "import datetime\n",
    "from urllib.parse import urlencode"
   ]
  },
  {
   "cell_type": "code",
   "execution_count": null,
   "metadata": {},
   "outputs": [],
   "source": [
    "client_creds = f\"{client_id}:{client_secret}\"\n",
    "client_creds_b64 = base64.b64encode(client_creds.encode())\n",
    "base64.b64decode(client_creds_b64)"
   ]
  },
  {
   "cell_type": "code",
   "execution_count": null,
   "metadata": {},
   "outputs": [],
   "source": [
    "# do a looklup for a token and future reqeust \n",
    "\n",
    "token_url = 'https://accounts.spotify.com/api/token'\n",
    "method = 'POST'\n",
    "token_data = {\n",
    "    'grant_type': \"client_credentials\"\n",
    "}\n",
    "token_headers = {\n",
    "    \"Authorization\": f\"Basic {client_creds_b64.decode()}\" #<base64 encoded client_id:client_secret>\n",
    "}"
   ]
  },
  {
   "cell_type": "code",
   "execution_count": null,
   "metadata": {},
   "outputs": [],
   "source": [
    "r = requests.post(token_url, data=token_data, headers=token_headers)\n",
    "print(r.json())\n",
    "valid_request = r.status_code in range(200,299)\n",
    "token_response_data = r.json()"
   ]
  },
  {
   "cell_type": "code",
   "execution_count": null,
   "metadata": {},
   "outputs": [],
   "source": [
    "access_token = token_response_data['access_token']"
   ]
  },
  {
   "cell_type": "code",
   "execution_count": null,
   "metadata": {},
   "outputs": [],
   "source": [
    "#Spotify Search and extract their Spotify ID\n",
    "def searchArtist(name) :\n",
    "    headers = {\n",
    "        'Authorization': f'Bearer {access_token}'\n",
    "    }\n",
    "    endpoint = 'https://api.spotify.com/v1/search'\n",
    "    data = urlencode({'q': name, 'type': 'artist'})\n",
    "    top = urlencode({'offset': '0', 'limit': '20'})\n",
    "\n",
    "    query_url = f'{endpoint}?{data}&{top}'\n",
    "\n",
    "    r = requests.get(query_url, headers=headers) \n",
    "    artist_data=r.json()\n",
    "    id = artist_data['artists']['items'][0]['id']\n",
    "    return id"
   ]
  },
  {
   "cell_type": "code",
   "execution_count": null,
   "metadata": {},
   "outputs": [],
   "source": [
    "# List of artists in 88 Rising\n",
    "artists"
   ]
  },
  {
   "cell_type": "code",
   "execution_count": null,
   "metadata": {},
   "outputs": [],
   "source": [
    "# Create a dictionary to extract their Spotify ID\n",
    "artists_dict = {}\n",
    "for a in artists:\n",
    "    a_id = searchArtist(a)\n",
    "    artists_dict[a] = a_id"
   ]
  },
  {
   "cell_type": "code",
   "execution_count": null,
   "metadata": {},
   "outputs": [],
   "source": [
    "artists_dict"
   ]
  },
  {
   "cell_type": "code",
   "execution_count": null,
   "metadata": {},
   "outputs": [],
   "source": [
    "# Now that we have the ID's we can pull all the albums from each artist\n",
    "headers = {\n",
    "        'Authorization': f'Bearer {access_token}'\n",
    "    }\n",
    "album_url = f'https://api.spotify.com/v1/artists/{artists_dict[\"Rich Brian\"]}/albums'\n",
    "r = requests.get(album_url, headers=headers) \n",
    "album_data = r.json()\n",
    "\n"
   ]
  },
  {
   "cell_type": "code",
   "execution_count": null,
   "metadata": {},
   "outputs": [],
   "source": [
    "# Example\n",
    "rich_brian_album = album_data['items'][1]['name']\n",
    "rich_brian_album_id = album_data['items'][1]['id']\n",
    "print(rich_brian_album, rich_brian_album_id)"
   ]
  },
  {
   "cell_type": "code",
   "execution_count": null,
   "metadata": {},
   "outputs": [],
   "source": [
    "# Get Tracks of each album\n",
    "tracks_url = f'https://api.spotify.com/v1/albums/{rich_brian_album_id}/tracks'\n",
    "t = requests.get(tracks_url, headers=headers) \n",
    "track_data = t.json()"
   ]
  },
  {
   "cell_type": "code",
   "execution_count": null,
   "metadata": {},
   "outputs": [],
   "source": [
    "track_name = track_data['items'][1]['name']\n",
    "track_id = track_data['items'][1]['id']\n",
    "print(track_name, track_id)"
   ]
  },
  {
   "cell_type": "code",
   "execution_count": null,
   "metadata": {},
   "outputs": [],
   "source": [
    "# Get Audio Features\n",
    "audio_url = f'https://api.spotify.com/v1/audio-features/{track_id}'\n",
    "audio = requests.get(audio_url, headers= headers)\n",
    "audio_data = audio.json()"
   ]
  },
  {
   "cell_type": "code",
   "execution_count": null,
   "metadata": {},
   "outputs": [],
   "source": [
    "audio_data"
   ]
  }
 ],
 "metadata": {
  "kernelspec": {
   "display_name": "Python 3.9.12 ('base')",
   "language": "python",
   "name": "python3"
  },
  "language_info": {
   "codemirror_mode": {
    "name": "ipython",
    "version": 3
   },
   "file_extension": ".py",
   "mimetype": "text/x-python",
   "name": "python",
   "nbconvert_exporter": "python",
   "pygments_lexer": "ipython3",
   "version": "3.9.12"
  },
  "orig_nbformat": 4,
  "vscode": {
   "interpreter": {
    "hash": "aea3586fa6990ac190289595ab990eef45803da6fa4c3d19da3f2714bb971529"
   }
  }
 },
 "nbformat": 4,
 "nbformat_minor": 2
}
