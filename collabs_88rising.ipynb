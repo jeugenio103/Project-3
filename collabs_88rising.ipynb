{
 "cells": [
  {
   "cell_type": "code",
   "execution_count": 1,
   "metadata": {},
   "outputs": [],
   "source": [
    "from artists_88rising import artists\n",
    "import requests\n",
    "from config import client_id, client_secret \n",
    "import base64\n",
    "import datetime\n",
    "from urllib.parse import urlencode\n",
    "import json"
   ]
  },
  {
   "cell_type": "code",
   "execution_count": 53,
   "metadata": {},
   "outputs": [],
   "source": [
    "# Function that generates the access token\n",
    "def newToken(client_id, client_secret):\n",
    "    client_creds = f\"{client_id}:{client_secret}\"\n",
    "    client_creds_b64 = base64.b64encode(client_creds.encode())\n",
    "    base64.b64decode(client_creds_b64)\n",
    "\n",
    "    # do a looklup for a token and future reqeust \n",
    "\n",
    "    token_url = 'https://accounts.spotify.com/api/token'\n",
    "    method = 'POST'\n",
    "    token_data = {\n",
    "        'grant_type': \"client_credentials\"\n",
    "    }\n",
    "    token_headers = {\n",
    "        \"Authorization\": f\"Basic {client_creds_b64.decode()}\" #<base64 encoded client_id:client_secret>\n",
    "    }\n",
    "    r = requests.post(token_url, data=token_data, headers=token_headers)\n",
    "    valid_request = r.status_code in range(200,299)\n",
    "    token_response_data = r.json()\n",
    "    access_token = token_response_data['access_token']\n",
    "    print(access_token)\n",
    "    return access_token"
   ]
  },
  {
   "cell_type": "code",
   "execution_count": 89,
   "metadata": {},
   "outputs": [
    {
     "name": "stdout",
     "output_type": "stream",
     "text": [
      "BQDjTN-SqFW0biEcSpboEhy7q2zJUl-Hq1bvx_XfVR5N0U-l6evIcoe_aq3OL1I1_pbCpQYdb27IO8rmtk8LXtUvP9llMNcLSPPJm0EvPYpJxmcId9c\n"
     ]
    }
   ],
   "source": [
    "access_token = newToken(client_id, client_secret)"
   ]
  },
  {
   "cell_type": "code",
   "execution_count": 6,
   "metadata": {},
   "outputs": [],
   "source": [
    "#Spotify Search and extract their Spotify ID\n",
    "def searchArtist(name) :\n",
    "    headers = {\n",
    "        'Authorization': f'Bearer {access_token}'\n",
    "    }\n",
    "    endpoint = 'https://api.spotify.com/v1/search'\n",
    "    data = urlencode({'q': name, 'type': 'artist'})\n",
    "    top = urlencode({'offset': '0', 'limit': '20'})\n",
    "\n",
    "    query_url = f'{endpoint}?{data}&{top}'\n",
    "\n",
    "    r = requests.get(query_url, headers=headers) \n",
    "    artist_data=r.json()\n",
    "    id = artist_data['artists']['items'][0]['id']\n",
    "    return id"
   ]
  },
  {
   "cell_type": "code",
   "execution_count": 7,
   "metadata": {},
   "outputs": [
    {
     "data": {
      "text/plain": [
       "['Atarashii Gakko!',\n",
       " 'Bibi',\n",
       " 'Chungha',\n",
       " 'Dumbfoundead',\n",
       " 'Guapdad 4000',\n",
       " 'Higher Brothers',\n",
       " 'Jackson Wang',\n",
       " 'Joji',\n",
       " 'Keith Ape',\n",
       " 'Lexie Liu',\n",
       " 'Milli',\n",
       " 'Niki',\n",
       " 'Rich Brian',\n",
       " 'Seori',\n",
       " 'Stephanie Poetri',\n",
       " 'Warren Hue',\n",
       " 'Ylona Garcia']"
      ]
     },
     "execution_count": 7,
     "metadata": {},
     "output_type": "execute_result"
    }
   ],
   "source": [
    "# List of artists in 88 Rising\n",
    "artists"
   ]
  },
  {
   "cell_type": "code",
   "execution_count": 8,
   "metadata": {},
   "outputs": [],
   "source": [
    "# Create a dictionary to extract their Spotify ID\n",
    "artists_dict = {}\n",
    "for a in artists:\n",
    "    a_id = searchArtist(a)\n",
    "    artists_dict[a] = a_id"
   ]
  },
  {
   "cell_type": "code",
   "execution_count": 9,
   "metadata": {},
   "outputs": [
    {
     "data": {
      "text/plain": [
       "{'Atarashii Gakko!': '4OfU76YhPU04wlmbVFFgTJ',\n",
       " 'Bibi': '6UbmqUEgjLA6jAcXwbM1Z9',\n",
       " 'Chungha': '2PSJ6YriU7JsFucxACpU7Y',\n",
       " 'Dumbfoundead': '7LTShHcq1KdTrWeLvWoYed',\n",
       " 'Guapdad 4000': '0NcPKaSNIHAM2RfioH9vMT',\n",
       " 'Higher Brothers': '07ZhipyrvoyNoJejeyM0PQ',\n",
       " 'Jackson Wang': '1kfWoWgCugPkyxQP8lkRlY',\n",
       " 'Joji': '3MZsBdqDrRTJihTHQrO6Dq',\n",
       " 'Keith Ape': '6f9bmfkqiYbhCtdAZsv7KI',\n",
       " 'Lexie Liu': '6fs2or0cKLEM2xohWq8SoX',\n",
       " 'Milli': '62h3mAlyYduSmprbNEdKKD',\n",
       " 'Niki': '2kxP07DLgs4xlWz8YHlvfh',\n",
       " 'Rich Brian': '2IDLDx25HU1nQMKde4n61a',\n",
       " 'Seori': '2bWTIIQP9zaVc55RaMGu7e',\n",
       " 'Stephanie Poetri': '0HS00NN7MAfF59aJnfcxSO',\n",
       " 'Warren Hue': '4qcKNkdxUidhvUByB2eQ6g',\n",
       " 'Ylona Garcia': '2qnQOnL1oLKtH779qZ6iuR'}"
      ]
     },
     "execution_count": 9,
     "metadata": {},
     "output_type": "execute_result"
    }
   ],
   "source": [
    "artists_dict"
   ]
  },
  {
   "cell_type": "code",
   "execution_count": null,
   "metadata": {},
   "outputs": [],
   "source": [
    "# Save Artist ID so we do not have to regenerate\n",
    "with open(\"artist_88rising_id.json\", \"w\") as outfile:\n",
    "    json.dump(artists_dict, outfile)"
   ]
  },
  {
   "cell_type": "code",
   "execution_count": 72,
   "metadata": {},
   "outputs": [],
   "source": [
    "# Function to pull all the albums per artist and returns a list of dictionaries with the album name and album id\n",
    "\n",
    "def findAlbums(name):\n",
    "    try:\n",
    "        headers = {\n",
    "            'Authorization': f'Bearer {access_token}'\n",
    "        }\n",
    "        album_url = f'https://api.spotify.com/v1/artists/{artists_dict[name]}/albums'\n",
    "        r = requests.get(album_url, headers=headers)\n",
    "        album_data = r.json()\n",
    "        \n",
    "        # Create empty list and dictionary to add all album data\n",
    "        album = []\n",
    "        # Get the album name, and album id\n",
    "        for a in range(0, len(album_data['items'])):\n",
    "            album_name = album_data['items'][a]['name']\n",
    "            id = album_data['items'][a]['id']\n",
    "            album.append({album_name:id})\n",
    "    except Exception as e:\n",
    "        print(\"Error: \"+str(e))\n",
    "    return album"
   ]
  },
  {
   "cell_type": "code",
   "execution_count": 73,
   "metadata": {},
   "outputs": [
    {
     "data": {
      "text/plain": [
       "[{'1999': '7lOkeIDUuoQXexEkfutSMx'},\n",
       " {'The Sailor': '2ZGkTvwtwDoembcBr8SS0d'},\n",
       " {'The Sailor': '6aIcEKmCG0QvwutJdHYujR'},\n",
       " {'Amen': '4Y2V5TihhuWyKGnUzLQEpH'},\n",
       " {\"C'est La Vie\": '4cR3Cgc4klmCeDgFkA3nz7'},\n",
       " {\"C'est La Vie\": '6TUp8UUBqpeCJGc1TKG3Z3'},\n",
       " {'Brightside': '41f4EFQKt0oSJjq8KCClJZ'},\n",
       " {'Brightside': '3V9Qs9nSZn06EPStZWI1dE'},\n",
       " {'edamame (feat. Rich Brian) [Diplo Remix]': '5odm6e5o2RG93VxGV0Mynx'},\n",
       " {'edamame (feat. Rich Brian) [Diplo Remix]': '2pcFjaO7Eouy8DiDV9mmjW'},\n",
       " {'New Tooth': '10yiYbL1xMtPpEfDvwHCej'},\n",
       " {'New Tooth': '2phIaGti74YsVAXdoQZvaP'},\n",
       " {'edamame (feat. Rich Brian)': '1YrACh9xDRGpjrkdWz4MfP'},\n",
       " {'edamame (feat. Rich Brian)': '0UHniMw1xtjLN6abQYyvzj'},\n",
       " {'California (feat. Jackson Wang & Warren Hue) [Remix]': '2gg6B0XKlAW0XwIMIrwk2n'},\n",
       " {'California (feat. Jackson Wang & Warren Hue) [Remix]': '3pttfxxKOSTI48VOEssbuC'},\n",
       " {'California (feat. Warren Hue) [Acoustic Live Version]': '6LAcWcel05QWZz1dLGAbk7'},\n",
       " {'California (feat. Warren Hue) [Acoustic Live Version]': '7EIuAlMBFKCAhyQVp35EBB'},\n",
       " {'California (feat. Warren Hue)': '2gCRiVJ8w6f64f2rtb3TAD'},\n",
       " {'California (feat. Warren Hue)': '4fxpPHS2UuPfSC9cFlgYas'}]"
      ]
     },
     "execution_count": 73,
     "metadata": {},
     "output_type": "execute_result"
    }
   ],
   "source": [
    "findAlbums('Rich Brian')"
   ]
  },
  {
   "cell_type": "code",
   "execution_count": 60,
   "metadata": {},
   "outputs": [],
   "source": [
    "# Create an empty dictionary to hold all 88 Rising Albums\n",
    "album_88R = {}\n"
   ]
  },
  {
   "cell_type": "code",
   "execution_count": 64,
   "metadata": {},
   "outputs": [
    {
     "data": {
      "text/plain": [
       "{'Atarashii Gakko!': '4OfU76YhPU04wlmbVFFgTJ',\n",
       " 'Bibi': '6UbmqUEgjLA6jAcXwbM1Z9',\n",
       " 'Chungha': '2PSJ6YriU7JsFucxACpU7Y',\n",
       " 'Dumbfoundead': '7LTShHcq1KdTrWeLvWoYed',\n",
       " 'Guapdad 4000': '0NcPKaSNIHAM2RfioH9vMT',\n",
       " 'Higher Brothers': '07ZhipyrvoyNoJejeyM0PQ',\n",
       " 'Jackson Wang': '1kfWoWgCugPkyxQP8lkRlY',\n",
       " 'Joji': '3MZsBdqDrRTJihTHQrO6Dq',\n",
       " 'Keith Ape': '6f9bmfkqiYbhCtdAZsv7KI',\n",
       " 'Lexie Liu': '6fs2or0cKLEM2xohWq8SoX',\n",
       " 'Milli': '62h3mAlyYduSmprbNEdKKD',\n",
       " 'Niki': '2kxP07DLgs4xlWz8YHlvfh',\n",
       " 'Rich Brian': '2IDLDx25HU1nQMKde4n61a',\n",
       " 'Seori': '2bWTIIQP9zaVc55RaMGu7e',\n",
       " 'Stephanie Poetri': '0HS00NN7MAfF59aJnfcxSO',\n",
       " 'Warren Hue': '4qcKNkdxUidhvUByB2eQ6g',\n",
       " 'Ylona Garcia': '2qnQOnL1oLKtH779qZ6iuR'}"
      ]
     },
     "execution_count": 64,
     "metadata": {},
     "output_type": "execute_result"
    }
   ],
   "source": [
    "artists_dict"
   ]
  },
  {
   "cell_type": "code",
   "execution_count": 74,
   "metadata": {},
   "outputs": [],
   "source": [
    "# Get a list of all albums IDs for all 88 Rising Singers\n",
    "for key, value in artists_dict.items():\n",
    "    album_88R[key] = findAlbums(key)"
   ]
  },
  {
   "cell_type": "code",
   "execution_count": 75,
   "metadata": {},
   "outputs": [
    {
     "data": {
      "text/plain": [
       "{'Atarashii Gakko!': [{'若気ガイタル': '0cDbgZ0vxxB2Q245gSto45'},\n",
       "  {'wakage ga itaru': '7wN4b7hcoWOabX4PKu73pi'},\n",
       "  {'マエナラワナイ': '1CxY90JApODcj8gApBls3C'},\n",
       "  {'maenarawanai': '3HmOMYSlIlHBPwSHl3POgb'},\n",
       "  {'HANAKO': '5d3BzQ6GQQqBa8y92I7hT5'},\n",
       "  {'Pineapple Kryptonite (Yohji Igarashi Remix)': '0UdI5EQWD8hc1JbM1Nnv6v'},\n",
       "  {'Pineapple Kryptonite (Yohji Igarashi Remix)': '2o1YJam5IYt2TQRJv5tbQB'},\n",
       "  {'WOO! GO!': '6TeEBQZuGMjY3cu7e6JjUX'},\n",
       "  {'Free Your Mind (Spanish Version)': '0nm8RYsOK1mCjJPn3yGH2i'},\n",
       "  {'Free Your Mind (Spanish Version)': '6bCkVPVm8sMDjkcr891ZF9'},\n",
       "  {'SNACKTIME': '18upq1gGx7cAytSF7c7cld'},\n",
       "  {'SNACKTIME': '4tVsoZB3dhpVrRJizg525t'},\n",
       "  {'Pineapple Kryptonite': '3KQ5M2NnAzJOKFoocKxBfq'},\n",
       "  {'Pineapple Kryptonite': '2f9BkxNCxjyzxQHQm7lvmt'},\n",
       "  {'Freaks': '31KJXQUrbyRqkNJxKHYQB0'},\n",
       "  {'NAINAINAI': '1syyqRfv0iRNmVzrxFXSdo'},\n",
       "  {'NAINAINAI': '059c3I0EdugkhXLkYtSSXh'},\n",
       "  {'恋文': '3EF7yZY1MbyIf2OVwIWGB7'},\n",
       "  {'KOIBUMI': '2zI6Rce9bvVZtXgazjhD6D'},\n",
       "  {'ケセラセラ': '484wxB8I3sy4YLOrr5ebJj'}],\n",
       " 'Bibi': [{'Sweet Sorrow of Mother': '5JeeP4rSAS41KjuC7c6cvJ'},\n",
       "  {'Sweet Sorrow of Mother': '0afcc1xSwEV1BA8My240qk'},\n",
       "  {'Animal Farm': '7ISzH0CLVVin4Nc9f7vSsH'},\n",
       "  {'Animal Farm': '3Wn89ahl9ccGAxrjIB8Tvt'},\n",
       "  {'Animal Farm': '5R1kHAbpMTpeMkg34HqT3e'},\n",
       "  {'Twenty-Five Twenty-One OST Part 3': '3KKlnC97LdYrHuOvolb8GP'},\n",
       "  {'The Weekend (MILLI Remix)': '4d6HwJXZUDUPC46qWPwTbq'},\n",
       "  {'その年、私たちは オリジナル・サウンドトラック Part.2': '4elMP6xvHWz0pc6jbobIYC'},\n",
       "  {'Our Beloved Summer (Original Television Soundtrack), Pt. 2': '5VC48G4kgYR2SrDrK9XWXt'},\n",
       "  {'The Weekend (with 347aidan) [Remix]': '6Ccx88JcI9DhF1HjtGExZR'},\n",
       "  {'The Weekend (with 347aidan) [Remix]': '5trMDxlf6jvznwYg7xZ1UK'},\n",
       "  {'The Weekend': '6zQD9g698P2LjEtKpoBXWq'},\n",
       "  {'The Weekend': '01AysSMhhOZhSaAzK9Lf3v'},\n",
       "  {'PADO': '3iW45o3MaH1WmO9KpURWit'},\n",
       "  {'Galipette (BIBI Remix)': '1x5eiXeq1m6KQxfYFKWQus'},\n",
       "  {'Galipette (BIBI Remix)': '6MY2xXT8m5cUTJudUmZvJ4'},\n",
       "  {'WHY Y': '1ypeL7YGRCb4Byeh1i7OAU'},\n",
       "  {'Oh! Master (Original Television Soundtrack), Pt. 5': '7l5BUAUxjMCRAdBoujzcGA'},\n",
       "  {'Life is a Bi…': '0VDb4oas0usbuPljrSZH5s'},\n",
       "  {'괴물 (Original Television Soundtrack) Pt. 2': '4yUT8A8Ki9520Afmvx6ne0'}],\n",
       " 'Chungha': [{'Bare&Rare, Pt. 1': '0fgLDYoqdQw5bhzPFWvclR'},\n",
       "  {'Bare&Rare Pt.1': '6fF8gJo5WHY47OYL4t4Sox'},\n",
       "  {'Bare&Rare, Pt. 1': '5KLYmSbrtpo5pqjOMzDDLi'},\n",
       "  {'Querencia': '1p2OBhqq0d1N8awjHV9xA3'},\n",
       "  {'Querencia': '0Gx8xMmiB89thaOXS86seu'},\n",
       "  {'When I Get Old': '3mJMHqT2w0HwjQkneNVE14'},\n",
       "  {'Bloody Heart, Pt. 4 (Original Television Soundtrack)': '5mUdKodxv172t3aB4AhrWy'},\n",
       "  {'Seoul Check-in OST Part 4': '4sBO5xbe5KXQGcAYD5Fe3z'},\n",
       "  {'Killing Me': '21jf5kUkK5nHYTuZ5GRZVW'},\n",
       "  {'Killing Me': '51DzSqNMB3phk6IhcyUwaj'},\n",
       "  {'One the Woman (Original Television Soundtrack, Pt. 3)': '57PE5m7bKkHg2pXQThizAj'},\n",
       "  {'My Lips Like Warm Coffee': '5RsWNGFreBwwHCHln5CL6D'},\n",
       "  {'Demente (Spanish Version)': '1mQa2WEGMn321q6XaBmPRj'},\n",
       "  {'Demente (Spanish Version)': '46Veo9EtvuDO0UaNJN14Dv'},\n",
       "  {'X': '4IcRaeKgtqQp1Vz5zo00OP'},\n",
       "  {'Dream of You (with R3HAB)': '5X6bAM6vCWQpcEFOYzIkQt'},\n",
       "  {'Bad Boy': '4IRuxkSbw7iZZmnr6Rly2Q'},\n",
       "  {'Record of Youth (Original Television Soundtrack) Pt. 2': '3YlTiz3mgIUok8P9bgFA6U'},\n",
       "  {'Be Yourself.newwav': '1qXEwadpMUuNwByliKWdbc'},\n",
       "  {'My Friend': '0FBwobo00ZRJRZzPvpWRyj'}],\n",
       " 'Dumbfoundead': [{'We Might Die': '08zM5YTjmUG0T1pc4h8Bug'},\n",
       "  {'We Might Die': '5v60WkGaZwYWXQ7dCfLeE9'},\n",
       "  {'Old Boy Jon': '0gUClvKEpxpGDcYTIThB5C'},\n",
       "  {'Take the Stares': '59dpn5lYOfMoawTD1MkvT1'},\n",
       "  {'Dfd': '0GzvtJK1moTO2pElgGPQU2'},\n",
       "  {'Wax & DFD Are Clockwise': '5cVt2eezIqIncw7UgJ0Orc'},\n",
       "  {'Fun With Dumb: The Early Years 2005-2008': '0FWx0FS2MFZ39ssMFLBzEF'},\n",
       "  {'Rent Free (Feat. Jeff Bernat)': '5bno9LllkG8Qe6uzeQdZtf'},\n",
       "  {'All Alone': '6DGKlwW1pdC1SWmDyNrA6Y'},\n",
       "  {'Inside/Outside': '76PHtkpe0tDrsnlRcPCtKe'},\n",
       "  {'CAFE BLEU': '4p0HROlKDqKNnDTq5KK0Wg'},\n",
       "  {'CAFE BLEU': '5fyhaJ3YjGxXZh6Rnah5Eh'},\n",
       "  {'Rocket Man': '6HdeItk32sBZ0FLJTU5V53'},\n",
       "  {'Rocket Man': '1JENf1KfS8qzTNqeOzipcX'},\n",
       "  {'Kill Me': '6KwVx6o0lkM7S6gtEGf0Zn'},\n",
       "  {'Kill Me': '1oIjZtcPDSWvyE42nHyRwW'},\n",
       "  {'P.A.A.C. (Protect At All Cost)': '05uGieSh6eACficHurGUKZ'},\n",
       "  {'P.A.A.C. (Protect At All Cost)': '2sPBmKY9YwEy9lU3bAwcoS'},\n",
       "  {'Every Last Drop': '1Gm7LfWNhnpBjGfnbr2bFr'},\n",
       "  {'Every Last Drop (Clean Ver.)': '0q51lV2OBocBoL4AQ5zPwI'}],\n",
       " 'Guapdad 4000': [{'1176 (Deluxe Edition)': '6WpHEikQx4dB9ntP03bTlN'},\n",
       "  {'1176 (Deluxe Edition)': '5eRKagg6Eoz3w83CapYVGQ'},\n",
       "  {'1176': '4OaGEhSy7NfxdzFv584t4Q'},\n",
       "  {'1176': '4KwJ5pWESPDgdzNrUrfAJE'},\n",
       "  {'Dior Deposits (Deluxe)': '1kX8DoiYygZDcd33aEOjTi'},\n",
       "  {'Scamboy Color': '436SAPMaPiSRIcoNPYKv3t'},\n",
       "  {'Careless': '62jlwq1PUIjy3hhWTWicqC'},\n",
       "  {'Windows Down': '1YKa5EhZPaoRrtV3LVFJCL'},\n",
       "  {'GUAP': '7rAtGcKLJrp2cwGgH39BQx'},\n",
       "  {'Pose (feat. Wiz Khalifa & Curren$y)': '4BExQf4XQxKdT1NYyjtyR8'},\n",
       "  {'Grammys': '5pAe3EGnGmYKh0P7HGU8q7'},\n",
       "  {'Poppin Pills (Remix)': '11sCYu4miLKsuM9rZQGd5H'},\n",
       "  {'Black Iverson': '46Enyl1OWFBCqnEh2hVIfA'},\n",
       "  {'Oh Really? (feat. Kiefer)': '34By43vyYsxtfgLyDRoMnI'},\n",
       "  {'Black Iverson - A COLORS SHOW': '4aMwjA3WzsiYpzOnUnD11p'},\n",
       "  {'Cheap': '1ddtZxVVgYsrpfE7qhXSxn'},\n",
       "  {'Ruthless': '2sXZcFiXa2vTF5xRxUvZvq'},\n",
       "  {'Fearless': '2foovL6UaCvp5QR72qdm72'},\n",
       "  {'I Need Bands': '4Cu7Dpsdv8JUgiegEQ9Bg7'},\n",
       "  {'Got Me Bent': '72yHiG0mVdBZl9GFpNaVMh'}],\n",
       " 'Higher Brothers': [{'PSYLIFE.25': '5BgutlFgnCswoxCdvQdwei'},\n",
       "  {'PSYLIFE.25': '2wn5nu0FixzOIpdBQtvA2P'},\n",
       "  {'Old Master': '5jOexKH5kL67bgUX5fbvtm'},\n",
       "  {'Old Master': '1KVs2afaBiGdKGT2MZnFDt'},\n",
       "  {'Prince Charming': '2ilKV1SbeT2Ldn1ICoJCy2'},\n",
       "  {'Prince Charming': '3OBWLm79VzCRTiS3ZUNIMS'},\n",
       "  {'Mr. Enjoy Da Money': '1AVwD6m0CZJLMTzcZangei'},\n",
       "  {'Mr. Enjoy Da Money': '0g7c987QV1Me1ZOJwWEQEW'},\n",
       "  {'Five Stars': '3lnH9OOzXwxd8SlYOuJfyK'},\n",
       "  {'Five Stars': '7KRn1bLb5oVCme4YXl37AK'},\n",
       "  {'Black Cab': '1Ckb9aOcWVYG10I5EdMbNM'},\n",
       "  {'Black Cab': '4bnP97MZOFzh95hozVZcoI'},\n",
       "  {'Black Cab': '2bvuphJA3SOomZVXsMqJ6U'},\n",
       "  {'Black Cab': '4BmQkBwd3HWaVjtHhss6WH'},\n",
       "  {'Empire': '3gCfOOi8YyPUE6y2fkvlTT'},\n",
       "  {'#MADEINCHINA': '4IEVPQ5RA0T3NMoOByuj74'},\n",
       "  {'Bad Habits': '1HeIwSBSjigIEoVRq6i7RB'},\n",
       "  {'King of the Jungle (feat. Melo)': '1ZxsnKSeBXXHBmYx4LZYeL'},\n",
       "  {'Daili (feat. KnowKnow)': '05dbCPQS3aJeorHT4ormLj'},\n",
       "  {'Daili (feat. KnowKnow)': '5q7JmpYcJXgGwj6yKrvDRy'}],\n",
       " 'Jackson Wang': [{'MAGIC MAN': '2VZ4og2ZbwyTQ3X1rbgCe1'},\n",
       "  {'MAGIC MAN': '66k71qtTET4vXFJ6sAAU0U'},\n",
       "  {'LOST & FOUND': '309fPeKWAtVIlws7pupSQf'},\n",
       "  {'LOST & FOUND': '7eIMhFd8iS72HPvK9lAkot'},\n",
       "  {'MIRRORS': '38Haveja8WznqiccCDJKHz'},\n",
       "  {'MIRRORS': '3wie3AM5Wz4ccbudJRA5GU'},\n",
       "  {'Cruel': '2XVAjpwJNlbMQF5N7cGfIf'},\n",
       "  {\"Born To Be Alive (From 'Minions: The Rise of Gru' Soundtrack)\": '04Qwy7yFfUd6o9prhAFCU3'},\n",
       "  {'Blow': '2y6aTfBouCa2nRJadWq0WX'},\n",
       "  {'王嘉爾': '1F4k2mAISGJFSKRvDUt1f1'},\n",
       "  {'Drive You Home': '7AiL3QPCgFxmG64c8gXkvD'},\n",
       "  {'LMLY': '09UJf8ZqCuv5NHRZIqTZgh'},\n",
       "  {'一個人 (Alone)': '3E5E4eCn8uhVjXxzRv8q6y'},\n",
       "  {\"過 (Should've Let Go)\": '6L8xaNHZkd5SdTp17V2WwO'},\n",
       "  {'Pretty Please': '6ytnDl9t7n1ROdtbVzK7Kb'},\n",
       "  {'100 Ways (MK Remix)': '6reU4scmYeENCV66zeZUVh'},\n",
       "  {'100 Ways': '5lSO3Vtlfqu8BJZ9lKa4va'},\n",
       "  {'DWAY!': '4cyL11fVUKjhCri1ucDL20'},\n",
       "  {'DWAY!': '08UXf4p7zAdrb7Vq0XA8Lg'},\n",
       "  {'BULLET TO THE HEART': '4e2ISy1Q6CSMwlDNfnYXkO'}],\n",
       " 'Joji': [{'SMITHEREENS': '2hEnymoejldpuxSdTnkard'},\n",
       "  {'SMITHEREENS': '0U90EVca25cAwMmi42QhSX'},\n",
       "  {'Nectar': '5EzDhyNZuO7kuaABHwbBKX'},\n",
       "  {'Nectar': '6YKk4wlKdACRITGKmGnoIm'},\n",
       "  {'BALLADS 1': '34GQP3dILpyCN018y2k61L'},\n",
       "  {'BALLADS 1': '5loDAHTEb4RVgaVUBsQEmh'},\n",
       "  {'In Tongues (Deluxe)': '6ZksrxRWlJ7ExylPyJwfLJ'},\n",
       "  {'In Tongues Deluxe': '1zBTgIxNWenPL4yZahQPXC'},\n",
       "  {'YUKON (INTERLUDE)': '0GxWXE6ltKk4Gx3WyWLLrW'},\n",
       "  {'YUKON (INTERLUDE)': '08Uuoj9sXdScCULh04sZqi'},\n",
       "  {'YUKON (INTERLUDE)': '42hd0ctoc5vEo1t7ELe9R0'},\n",
       "  {'YUKON (INTERLUDE)': '3hkNa6LtU6BLxrRbsR0o7n'},\n",
       "  {'Glimpse of Us': '6ZZvx0aefZV3LKa053fn71'},\n",
       "  {'Daylight': '1jcNHi5D96aaD0T5f1OjFY'},\n",
       "  {'Daylight': '5CKEHbQhEc5R8cfnnjUr42'},\n",
       "  {'Gimme Love': '3NhYseiC5dmIJMAOfaFeIU'},\n",
       "  {'Gimme Love (Channel Tres Remix)': '7l2ZAKZIPZOhMQaNcPXbl3'},\n",
       "  {'Run': '6vC3YjRy755VljFSemBUu7'},\n",
       "  {'Sanctuary': '1cjgTku8zcYVHRi8QQH1XI'},\n",
       "  {'SLOW DANCING IN THE DARK (Loud Luxury Remix)': '5mHiYBTIG4T0Exc5VOy8WA'}],\n",
       " 'Keith Ape': [{\"MOD: Ape's Basics in Time and Play\": '7n0c1kHnHVgWIqgf8YFpoJ'},\n",
       "  {\"MOD: Ape's Basics in Time and Play\": '0Xym143xfofFwbxJgRCg8a'},\n",
       "  {'Born Again': '7wGlFgHJ4f68OAI80yrMYH'},\n",
       "  {'Born Again': '5gfRympr7vHBC12S1FW2Oy'},\n",
       "  {'BORN AGAIN': '2T6MOjOlobzYkeG5OKgLhD'},\n",
       "  {'BORN AGAIN': '4L74CKcKgEhnyk1yOwdIi3'},\n",
       "  {'Project : Brainwash': '668vpqsrExU8x9l0KCd15O'},\n",
       "  {'$MOKE UNDER THE WATER': '3p95YwY4PFbm8TDoJyyEZ9'},\n",
       "  {'Pure (Ape Wolves)': '5K3JjqBfuyisIcDtDYh2MF'},\n",
       "  {'Yuh Dig': '3ehsbfS4dj8FYmzfgAAyuF'},\n",
       "  {'Yuh Dig': '4TZfWaF9vN7aWwOKXcmVxO'},\n",
       "  {\"LET'S PLAY! YOU! MAKE ME SAD!!!\": '5h3zoK3kPo63dMtQgbZC3D'},\n",
       "  {\"LET'S PLAY! YOU! MAKE ME SAD!!!\": '2xE9r6gI43sMsJvyZlHPUh'},\n",
       "  {'My Wrist Clearer Than Water!': '1oZFEGZI9zcXJnLqwUtCQx'},\n",
       "  {'My Wrist Clearer Than Water!': '2HujgFTXrEL3aNqzx92syj'},\n",
       "  {'My Wrist Clearer Than Water!': '2QjiYZ9f0CL9jBIRmqOsx3'},\n",
       "  {'My Wrist Clearer Than Water!': '4OlIwkzp3qQSSEo4xzCiro'},\n",
       "  {'Ninja Turtle (feat. Wifisfuneral)': '7jdGCAv1pEBiQyije1034D'},\n",
       "  {'Ninja Turtle (CLEAN)': '1MgbeRH2eWAIxwJH2KdwwW'},\n",
       "  {'Ninja Turtle': '4EOzr8pGxtfa30k4JxE5Zq'}],\n",
       " 'Lexie Liu': [{'无限意识 Meta Ego': '1ON6zUsWnFa7nlo5YbDkoD'},\n",
       "  {'2030': '3EDheqSnBlJIST8dU7baWF'},\n",
       "  {'2029': '4R9OhcfncLyASXFXHPIyZz'},\n",
       "  {'白鷺思一騁(大型紀錄片《紫禁城》主題歌)': '7qemR7s1XUfpQBcOXR15i7'},\n",
       "  {'818(浙江卫视818晚会主题曲)': '2AxEOTlx5eyX1r9UzVIa9S'},\n",
       "  {'Deep Down': '5qrb8OZWqeaLXZbzsVCbff'},\n",
       "  {'上线了 GONE GOLD': '5fDCqCkR3tcZAELkjOPNFO'},\n",
       "  {'瞳雀': '6vmCMIw2hP0EWNb07DJ5Ev'},\n",
       "  {'Manta': '0TaRJ9FoDGVPowcLabbF4h'},\n",
       "  {'好吗, 好啦, 好吧 OK,OK,OK': '60W896at9L8XcXLz6wjzVt'},\n",
       "  {'2030': '2lEZBNCmIyIpdNaJRvTABm'},\n",
       "  {'Sleep Away': '48qcAdHVXhLavbeWYoYuH4'},\n",
       "  {'Like A Mercedes': '7bN4ntgFFoEyQF1u5HLEPk'},\n",
       "  {'大型紀錄片《紫禁城》主題歌音樂專輯': '0Zbf0EW7QitQnBZb3AEETN'},\n",
       "  {'ALL OUT': '26IdRjba8f8DNa7c0FwfQb'},\n",
       "  {'MORE': '23yd1cYlPgl643vE8bb0WD'},\n",
       "  {'Yellow Claw Presents: Barong Family Best - Vocal Tracks -': '5g6akpIcVjEHuP18oTFgnh'},\n",
       "  {'麻雀': '6AutqyaLd7YxiVn7W5Hkun'},\n",
       "  {'兩個普普通通小青年 (feat. 劉柏辛)': '57andMJAUItSgqcv6kcMmV'},\n",
       "  {'刘柏辛Lexie·专场': '15POFRTCRXrrT5ppCe7fOM'}],\n",
       " 'Milli': [{'Peace Within': '0XELxfn4pnzQatzFGc0kJn'},\n",
       "  {'Celebrate': '1TIHv8KKsPCo7IuD3WbPBL'},\n",
       "  {'Healing': '46CZaAwaqaymtYDUCe95H3'},\n",
       "  {'Yellow': '3DhpbLhcfEkLuS03OL7S8E'},\n",
       "  {'Stay': '5pFRSq0nznf0Z7pyZTbBia'},\n",
       "  {'Wonder': '7jDf2EPydQbL3rdrnKOYQR'},\n",
       "  {'Tundra': '1BJOv9kFnR2hp0epumr7nT'},\n",
       "  {'Spring Flower': '3sCicZc8FdokthxOuZ01nH'},\n",
       "  {'Unique': '5sY81ipCOhVpTGZf9acuT7'},\n",
       "  {'Watercolor': '0N4wJle7fdjuoYUfpPDSOb'},\n",
       "  {'Icarus': '2m5AQaOhWQ9BJnqtqPq2eJ'},\n",
       "  {'The Aquarium': '0QWLYJ71iMlJkroAyPrg0x'},\n",
       "  {'Sage': '26BmBroNz25vIvfSXU5rwd'},\n",
       "  {'Ocean Drive': '4kQ2E8gsowKMSXg7abfL7p'},\n",
       "  {'Jade': '4ngOUyofOYjCdVefifeFAV'},\n",
       "  {'every piece of you': '06WNw8eysXOH7gDuUGXgu5'},\n",
       "  {'Stars Upon Us': '3lYF0enLh3xlj78iPtMZNs'},\n",
       "  {'u make me': '3iXK2nkrVGdDeAd50g67UY'},\n",
       "  {'Aurora': '1LMvx21eGyqHtp7HHkWSwq'},\n",
       "  {'Luna': '68KrGRItZqU6C2IOy2bVp7'}],\n",
       " 'Niki': [{'Nicole': '5WR7ksPLp3kqFbDLTYpGfx'},\n",
       "  {'Nicole': '7gK4I6eM9fYJCfq4IeHx1t'},\n",
       "  {'Shang-Chi and The Legend of The Ten Rings: The Album': '2kAqjStKcwlDD59H0llhGC'},\n",
       "  {'MOONCHILD': '59Y3t7Q4Vf8pw8STJ6fogW'},\n",
       "  {'MOONCHILD': '2JYYakgDf5R0Ych28NvYkS'},\n",
       "  {'Zephyr': '4E3FHEEdQkcuEd0D2GKRrX'},\n",
       "  {'Zephyr': '4p5YaAdN9xu4KpPSsKJWz9'},\n",
       "  {'Spotify Singles': '5F6IRzJZGzLGb8R0GDMKSz'},\n",
       "  {'High School in Jakarta': '34zREEtZQOmQbqFU4cIQuT'},\n",
       "  {'High School in Jakarta': '3QtwI1FUvH2kCD9Y5HaG9y'},\n",
       "  {'Oceans & Engines': '2va673nk2JXgCxJeTiZdM9'},\n",
       "  {'Before': '6fXesrnlXstTyz9uurgYEY'},\n",
       "  {'Split': '7uAHGGN6s8u1BwkA3uKYiQ'},\n",
       "  {'COMING HOME (feat. NIKI) [Long Distance Recording]': '3XTizmfvhOiFp5GMSTkRZ3'},\n",
       "  {'COMING HOME (feat. NIKI)': '1BLMrCc9WNdafvEVXxdOab'},\n",
       "  {'Every Summertime': '2HPj0XZe9WduSsyKTQqgVa'},\n",
       "  {'California (feat. Jackson Wang & Warren Hue) [Remix]': '2gg6B0XKlAW0XwIMIrwk2n'},\n",
       "  {'California (feat. Jackson Wang & Warren Hue) [Remix]': '3pttfxxKOSTI48VOEssbuC'},\n",
       "  {'California (feat. Warren Hue) [Acoustic Live Version]': '6LAcWcel05QWZz1dLGAbk7'},\n",
       "  {'California (feat. Warren Hue) [Acoustic Live Version]': '7EIuAlMBFKCAhyQVp35EBB'}],\n",
       " 'Rich Brian': [{'1999': '7lOkeIDUuoQXexEkfutSMx'},\n",
       "  {'The Sailor': '2ZGkTvwtwDoembcBr8SS0d'},\n",
       "  {'The Sailor': '6aIcEKmCG0QvwutJdHYujR'},\n",
       "  {'Amen': '4Y2V5TihhuWyKGnUzLQEpH'},\n",
       "  {\"C'est La Vie\": '4cR3Cgc4klmCeDgFkA3nz7'},\n",
       "  {\"C'est La Vie\": '6TUp8UUBqpeCJGc1TKG3Z3'},\n",
       "  {'Brightside': '41f4EFQKt0oSJjq8KCClJZ'},\n",
       "  {'Brightside': '3V9Qs9nSZn06EPStZWI1dE'},\n",
       "  {'edamame (feat. Rich Brian) [Diplo Remix]': '5odm6e5o2RG93VxGV0Mynx'},\n",
       "  {'edamame (feat. Rich Brian) [Diplo Remix]': '2pcFjaO7Eouy8DiDV9mmjW'},\n",
       "  {'New Tooth': '10yiYbL1xMtPpEfDvwHCej'},\n",
       "  {'New Tooth': '2phIaGti74YsVAXdoQZvaP'},\n",
       "  {'edamame (feat. Rich Brian)': '1YrACh9xDRGpjrkdWz4MfP'},\n",
       "  {'edamame (feat. Rich Brian)': '0UHniMw1xtjLN6abQYyvzj'},\n",
       "  {'California (feat. Jackson Wang & Warren Hue) [Remix]': '2gg6B0XKlAW0XwIMIrwk2n'},\n",
       "  {'California (feat. Jackson Wang & Warren Hue) [Remix]': '3pttfxxKOSTI48VOEssbuC'},\n",
       "  {'California (feat. Warren Hue) [Acoustic Live Version]': '6LAcWcel05QWZz1dLGAbk7'},\n",
       "  {'California (feat. Warren Hue) [Acoustic Live Version]': '7EIuAlMBFKCAhyQVp35EBB'},\n",
       "  {'California (feat. Warren Hue)': '2gCRiVJ8w6f64f2rtb3TAD'},\n",
       "  {'California (feat. Warren Hue)': '4fxpPHS2UuPfSC9cFlgYas'}],\n",
       " 'Seori': [{'Remarriage and Desires (Original Soundtrack from The Netflix Series)': '2YM9Oahck5kVuWGiFQK1dg'},\n",
       "  {'Seoul Check-in OST Part 5': '2deDzuHfGo5kH9tKBvm8jD'},\n",
       "  {\"Can't Stop This Party\": '6nG0PLR5YgP7tHYKfwhiOI'},\n",
       "  {\"Can't Stop This Party\": '0jQsaQXnbqi3RuToyfcxUe'},\n",
       "  {\"Can't Stop This Party\": '0V0GnJig9oBwwU6YX5KfrL'},\n",
       "  {'Dive with you (feat. eaJ)': '0kgcdvmmnK6Uuhw6E3nlgZ'},\n",
       "  {'Dive with you (feat. eaJ)': '4Ax41uyC6zscjAXjYd6cq8'},\n",
       "  {'긴 밤 (feat. GIRIBOY)': '3AuhCLxpvg4gWl2Oi8D043'},\n",
       "  {'Lovers In The Night': '5qewqwnafgBx455s6LNcWv'},\n",
       "  {'Lovers In The Night': '1K8vhT940w44DgXKUYjSgv'},\n",
       "  {'Trigger': '1w7t4Q5OfS3HA0nPirbgde'},\n",
       "  {'Trigger': '6QtBSkraZxMKmogtaaEs5F'},\n",
       "  {'Trigger': '4OLu8p4EH9tKzrCmqXHqpB'},\n",
       "  {'?depacse ohw': '0srUbfZOMUBwUitQGQeUca'},\n",
       "  {'First Rollie': '3KKL9O2t4zoXef1mrfno5A'},\n",
       "  {'6equence': '2CjEXBaIlNfqbGf7QFHu5g'},\n",
       "  {'6equence': '0SXzCRUFSNGBG1S1lqvzb1'},\n",
       "  {'Shutdown': '7tknyxSxQ4lTzT4dRzh80P'},\n",
       "  {'Shutdown (Feat. Seori)': '3qGgRGX3KHbwph4AzWVko1'},\n",
       "  {'Inside Out': '3xA110ttA5PDmnDIBoyb7b'}],\n",
       " 'Stephanie Poetri': [{'AM:PM (Acoustic)': '1xOZwqv8LcBpllecTTC9Mr'},\n",
       "  {'Breakfast in Bed': '24aSDb1blluKkN02Wy4Tl4'},\n",
       "  {'oh to be in love': '4Nd7dd1PVy1LZgfmnp2fa9'},\n",
       "  {'Picture Myself': '6LHKYRQ0aTADgfgZErmYjT'},\n",
       "  {'miss sick world (Remix)': '5dO1UEqSrGJbr7F1eqkVl9'},\n",
       "  {'AM:PM': '6zS9RYa2QLc8XO9mO4VmiO'},\n",
       "  {'IRL': '1GoynDFX8zhqqBaM3mFoJo'},\n",
       "  {'How We Used To': '7qCjzaSExuzLhBXu7L3Ohw'},\n",
       "  {'Selfish': '4fGjZLAfNlFz5hoUFuvyil'},\n",
       "  {'Straight To You': '1JtWFoRkVontcgz0ycpFym'},\n",
       "  {'Do You Love Me': '3KmwObuD2kb4XcuUnMJkQ7'},\n",
       "  {'I Love You 3000': '0vaFqzSwOjHv4QhK6BizL5'},\n",
       "  {'Appreciate (English Version)': '7hArFpLGeMpzRpzNy9QPon'},\n",
       "  {'Appreciate': '77UhF2Yynt7rdSXmYUPRwp'},\n",
       "  {'Bimbang': '57T2p9ghZfWH42b59t8rBr'},\n",
       "  {'Head In The Clouds II': '7bOpX6Ilc9UCFmH9uGyUDy'},\n",
       "  {'Head In The Clouds II': '0t9ZJ2G03bW3C1BWqE1d1N'}],\n",
       " 'Warren Hue': [{'BOY OF THE YEAR': '7jKfffXc64aO4CubnAI1UJ'},\n",
       "  {'BOY OF THE YEAR': '1PQd3NJjYgsG2pE88bwTwp'},\n",
       "  {'SUGARTOWN': '7McuiynMZiR1R3Ex8f0gqi'},\n",
       "  {'HANDSOME': '4cFVHMqi4KvkOrb6zlhdvT'},\n",
       "  {'HANDSOME': '2g6cUvZe0sdX9FgfG6XlLm'},\n",
       "  {'W (with yvngxchris)': '6wWt12ueB7BwQJS0OcuoHZ'},\n",
       "  {'W (with yvngxchris)': '1rFdJyh8GoZAhw57cARHqg'},\n",
       "  {'RUNAWAY W ME': '0e5zw8a0EjqapZqc7Fkmv4'},\n",
       "  {'RUNAWAY W ME': '2KDM6I7cToQpAtkhQZLoHw'},\n",
       "  {'WEST': '2Z6pkESrKWO14hSFVaUNmS'},\n",
       "  {'WEST': '7JUVZYPCnh6c7qYwZ8FcuH'},\n",
       "  {'Too Many Tears': '5T1SmloBK9oojxO6bLLvbe'},\n",
       "  {'Too Many Tears': '415sCJqodqTzvG3gu3CMHv'},\n",
       "  {'omomo punk': '2Tdd4X4XkZLc9dS4Q8b07Y'},\n",
       "  {'omomo punk': '3HMACDe90EJTXU8uEh6fB4'},\n",
       "  {'Freaks': '31KJXQUrbyRqkNJxKHYQB0'},\n",
       "  {'I NEED U, IN THE SUMMERTIME': '1qJMRM8qReo4zkBgHytyVE'},\n",
       "  {'Star in Love': '7lbxQF0frZIi0owPeVEHIe'},\n",
       "  {'candy choppa': '6yrCMXWWUht2fjApDn8Qs5'},\n",
       "  {'blue jeans': '6svRg2XBOhd5rn8dlUK7H5'}],\n",
       " 'Ylona Garcia': [{'My Name is Ylona Garcia': '506cNdgXeuFXHFzoWQIiwj'},\n",
       "  {'Vibin': '270wSkBt06wNswRpgTWqHT'},\n",
       "  {'Entertain Me (with 220 KID) [Remix]': '3NQkfPS2mb7YcEDnjpXw4v'},\n",
       "  {'Entertain Me (with 220 KID) [Remix]': '7oBVX72SozFHyfTDYXtLyR'},\n",
       "  {'Entertain Me': '3EePyDmGTMp3EV77YTjZrP'},\n",
       "  {'Entertain Me': '06fq3L3g8MjkvfgeE9ZDux'},\n",
       "  {\"Don't Go Changing\": '0dJk7K8gB2utiR1cUtWrzF'},\n",
       "  {'All That': '5dGFEC14f3mNCNZNnYLClk'},\n",
       "  {'All That': '3Gn5aY3jk0fEU6GUi0iaU9'},\n",
       "  {'Spilt Milk': '5DNMSask0yef7u56PwYpR4'},\n",
       "  {'Walk in My Timbs': '5aI2XkPsegIrQeRrfINYSW'},\n",
       "  {'Space': '3nt1uKlHAC7k3z7y1hKl7m'},\n",
       "  {'Lie So Well': '0CV2kQSAICIqaObL0kxY2w'},\n",
       "  {'Pretty Please': '65CDdjFB1RJEAFSSr6Hnsz'},\n",
       "  {'Maybe a Little Bit (feat. Jay R)': '6xzhuurdd0pnoYGoB0O5Hv'},\n",
       "  {\"Don't Say Goodbye (Alternate Version)\": '5ZEo4N5WjTpujV7xAdTXO6'},\n",
       "  {'Dahan Dahan Dahan Lang': '1EmVAeo1rqnlJTsZrhwMxf'},\n",
       "  {'Hello, Love, Goodbye (Original Movie Soundtrack)': '3pCXtuVnbtyAFE9WG5kvIi'},\n",
       "  {\"Hey It's Me, Jamie\": '7zuUOgoZVdZCf6U7bsHBqH'},\n",
       "  {'Vince & Kath & James (Original Motion Picture Soundtrack)': '2Is0yeBka3hK5PSob7HTLs'}]}"
      ]
     },
     "execution_count": 75,
     "metadata": {},
     "output_type": "execute_result"
    }
   ],
   "source": [
    "album_88R"
   ]
  },
  {
   "cell_type": "code",
   "execution_count": 79,
   "metadata": {},
   "outputs": [
    {
     "data": {
      "text/plain": [
       "dict_keys(['Atarashii Gakko!', 'Bibi', 'Chungha', 'Dumbfoundead', 'Guapdad 4000', 'Higher Brothers', 'Jackson Wang', 'Joji', 'Keith Ape', 'Lexie Liu', 'Milli', 'Niki', 'Rich Brian', 'Seori', 'Stephanie Poetri', 'Warren Hue', 'Ylona Garcia'])"
      ]
     },
     "execution_count": 79,
     "metadata": {},
     "output_type": "execute_result"
    }
   ],
   "source": [
    "album_88R.keys()"
   ]
  },
  {
   "cell_type": "code",
   "execution_count": 82,
   "metadata": {},
   "outputs": [
    {
     "data": {
      "text/plain": [
       "20"
      ]
     },
     "execution_count": 82,
     "metadata": {},
     "output_type": "execute_result"
    }
   ],
   "source": [
    "len(album_88R['Rich Brian'])"
   ]
  },
  {
   "cell_type": "code",
   "execution_count": 83,
   "metadata": {},
   "outputs": [
    {
     "data": {
      "text/plain": [
       "[{'1999': '7lOkeIDUuoQXexEkfutSMx'},\n",
       " {'The Sailor': '2ZGkTvwtwDoembcBr8SS0d'},\n",
       " {'The Sailor': '6aIcEKmCG0QvwutJdHYujR'},\n",
       " {'Amen': '4Y2V5TihhuWyKGnUzLQEpH'},\n",
       " {\"C'est La Vie\": '4cR3Cgc4klmCeDgFkA3nz7'},\n",
       " {\"C'est La Vie\": '6TUp8UUBqpeCJGc1TKG3Z3'},\n",
       " {'Brightside': '41f4EFQKt0oSJjq8KCClJZ'},\n",
       " {'Brightside': '3V9Qs9nSZn06EPStZWI1dE'},\n",
       " {'edamame (feat. Rich Brian) [Diplo Remix]': '5odm6e5o2RG93VxGV0Mynx'},\n",
       " {'edamame (feat. Rich Brian) [Diplo Remix]': '2pcFjaO7Eouy8DiDV9mmjW'},\n",
       " {'New Tooth': '10yiYbL1xMtPpEfDvwHCej'},\n",
       " {'New Tooth': '2phIaGti74YsVAXdoQZvaP'},\n",
       " {'edamame (feat. Rich Brian)': '1YrACh9xDRGpjrkdWz4MfP'},\n",
       " {'edamame (feat. Rich Brian)': '0UHniMw1xtjLN6abQYyvzj'},\n",
       " {'California (feat. Jackson Wang & Warren Hue) [Remix]': '2gg6B0XKlAW0XwIMIrwk2n'},\n",
       " {'California (feat. Jackson Wang & Warren Hue) [Remix]': '3pttfxxKOSTI48VOEssbuC'},\n",
       " {'California (feat. Warren Hue) [Acoustic Live Version]': '6LAcWcel05QWZz1dLGAbk7'},\n",
       " {'California (feat. Warren Hue) [Acoustic Live Version]': '7EIuAlMBFKCAhyQVp35EBB'},\n",
       " {'California (feat. Warren Hue)': '2gCRiVJ8w6f64f2rtb3TAD'},\n",
       " {'California (feat. Warren Hue)': '4fxpPHS2UuPfSC9cFlgYas'}]"
      ]
     },
     "execution_count": 83,
     "metadata": {},
     "output_type": "execute_result"
    }
   ],
   "source": [
    "album_88R['Rich Brian']"
   ]
  },
  {
   "cell_type": "code",
   "execution_count": 81,
   "metadata": {},
   "outputs": [],
   "source": [
    "# Convert album dictionary into a JSON\n",
    "with open(\"album_88rising_id.json\", \"w\") as outfile:\n",
    "    json.dump(album_88R, outfile)"
   ]
  },
  {
   "cell_type": "code",
   "execution_count": 87,
   "metadata": {},
   "outputs": [],
   "source": [
    "# Function to get tracks per album, returns a list of dictionaries\n",
    "def getTracks(album_id):\n",
    "    try:\n",
    "        headers = {\n",
    "            'Authorization': f'Bearer {access_token}'\n",
    "        }\n",
    "        tracks_url = f'https://api.spotify.com/v1/albums/{album_id}/tracks'\n",
    "        t = requests.get(tracks_url, headers=headers)\n",
    "        track_data = t.json()\n",
    "\n",
    "        # Empty list to hold tracks\n",
    "        tracks_list = []\n",
    "        track_json = {}\n",
    "        for track in range(0, len(track_data)):\n",
    "            track_name = track_data['items'][track]['name']\n",
    "            track_id = track_data['items'][track]['id']\n",
    "            tracks_list.append({track_name:track_id})\n",
    "        track_json[album_id] = tracks_list\n",
    "    except Exception as e:\n",
    "        print(\"Error: \"+str(e))\n",
    "    return track_json"
   ]
  },
  {
   "cell_type": "code",
   "execution_count": 107,
   "metadata": {},
   "outputs": [
    {
     "name": "stdout",
     "output_type": "stream",
     "text": [
      "{\"C'est La Vie\": '6TUp8UUBqpeCJGc1TKG3Z3'}\n"
     ]
    }
   ],
   "source": [
    "# Test Track Albums\n",
    "rb_sailor = album_88R[\"Rich Brian\"][5]\n",
    "print(rb_sailor)"
   ]
  },
  {
   "cell_type": "code",
   "execution_count": 92,
   "metadata": {},
   "outputs": [],
   "source": [
    "headers = {\n",
    "            'Authorization': f'Bearer {access_token}'\n",
    "        }"
   ]
  },
  {
   "cell_type": "code",
   "execution_count": 109,
   "metadata": {},
   "outputs": [],
   "source": [
    "sailor_id = rb_sailor[\"C\\'est La Vie\"]"
   ]
  },
  {
   "cell_type": "code",
   "execution_count": 110,
   "metadata": {},
   "outputs": [],
   "source": [
    "tracks_url = f'https://api.spotify.com/v1/albums/{sailor_id}/tracks'\n",
    "t = requests.get(tracks_url, headers=headers)\n",
    "track_data = t.json()"
   ]
  },
  {
   "cell_type": "code",
   "execution_count": 111,
   "metadata": {},
   "outputs": [
    {
     "data": {
      "text/plain": [
       "7"
      ]
     },
     "execution_count": 111,
     "metadata": {},
     "output_type": "execute_result"
    }
   ],
   "source": [
    "len(track_data)"
   ]
  },
  {
   "cell_type": "code",
   "execution_count": null,
   "metadata": {},
   "outputs": [],
   "source": [
    "# Get the tracks and their ids for each artists' albums\n"
   ]
  },
  {
   "cell_type": "code",
   "execution_count": 10,
   "metadata": {},
   "outputs": [],
   "source": [
    "# Now that we have the ID's we can pull all the albums from each artist\n",
    "headers = {\n",
    "        'Authorization': f'Bearer {access_token}'\n",
    "    }\n",
    "album_url = f'https://api.spotify.com/v1/artists/{artists_dict[\"Rich Brian\"]}/albums'\n",
    "r = requests.get(album_url, headers=headers) \n",
    "album_data = r.json()"
   ]
  },
  {
   "cell_type": "code",
   "execution_count": 11,
   "metadata": {},
   "outputs": [
    {
     "name": "stdout",
     "output_type": "stream",
     "text": [
      "The Sailor 2ZGkTvwtwDoembcBr8SS0d\n"
     ]
    }
   ],
   "source": [
    "# Example\n",
    "rich_brian_album = album_data['items'][1]['name']\n",
    "rich_brian_album_id = album_data['items'][1]['id']\n",
    "print(rich_brian_album, rich_brian_album_id)"
   ]
  },
  {
   "cell_type": "code",
   "execution_count": 16,
   "metadata": {},
   "outputs": [
    {
     "name": "stdout",
     "output_type": "stream",
     "text": [
      "https://api.spotify.com/v1/albums/2ZGkTvwtwDoembcBr8SS0d/tracks\n"
     ]
    }
   ],
   "source": [
    "# Get Tracks of each album\n",
    "tracks_url = f'https://api.spotify.com/v1/albums/{rich_brian_album_id}/tracks'\n",
    "t = requests.get(tracks_url, headers=headers) \n",
    "track_data = t.json()\n",
    "print(tracks_url)\n"
   ]
  },
  {
   "cell_type": "code",
   "execution_count": 13,
   "metadata": {},
   "outputs": [
    {
     "name": "stdout",
     "output_type": "stream",
     "text": [
      "Rapapapa (feat. RZA) 7sPoDigIbCWDS6AZmOhSRR\n"
     ]
    }
   ],
   "source": [
    "track_name = track_data['items'][1]['name']\n",
    "track_id = track_data['items'][1]['id']\n",
    "print(track_name, track_id)"
   ]
  },
  {
   "cell_type": "code",
   "execution_count": 14,
   "metadata": {},
   "outputs": [],
   "source": [
    "# Get Audio Features\n",
    "audio_url = f'https://api.spotify.com/v1/audio-features/{track_id}'\n",
    "audio = requests.get(audio_url, headers= headers)\n",
    "audio_data = audio.json()"
   ]
  },
  {
   "cell_type": "code",
   "execution_count": 15,
   "metadata": {},
   "outputs": [
    {
     "data": {
      "text/plain": [
       "{'danceability': 0.782,\n",
       " 'energy': 0.752,\n",
       " 'key': 3,\n",
       " 'loudness': -4.622,\n",
       " 'mode': 0,\n",
       " 'speechiness': 0.214,\n",
       " 'acousticness': 0.501,\n",
       " 'instrumentalness': 0,\n",
       " 'liveness': 0.114,\n",
       " 'valence': 0.504,\n",
       " 'tempo': 126.936,\n",
       " 'type': 'audio_features',\n",
       " 'id': '7sPoDigIbCWDS6AZmOhSRR',\n",
       " 'uri': 'spotify:track:7sPoDigIbCWDS6AZmOhSRR',\n",
       " 'track_href': 'https://api.spotify.com/v1/tracks/7sPoDigIbCWDS6AZmOhSRR',\n",
       " 'analysis_url': 'https://api.spotify.com/v1/audio-analysis/7sPoDigIbCWDS6AZmOhSRR',\n",
       " 'duration_ms': 247166,\n",
       " 'time_signature': 4}"
      ]
     },
     "execution_count": 15,
     "metadata": {},
     "output_type": "execute_result"
    }
   ],
   "source": [
    "audio_data"
   ]
  }
 ],
 "metadata": {
  "kernelspec": {
   "display_name": "Python 3.9.12 ('base')",
   "language": "python",
   "name": "python3"
  },
  "language_info": {
   "codemirror_mode": {
    "name": "ipython",
    "version": 3
   },
   "file_extension": ".py",
   "mimetype": "text/x-python",
   "name": "python",
   "nbconvert_exporter": "python",
   "pygments_lexer": "ipython3",
   "version": "3.9.12"
  },
  "orig_nbformat": 4,
  "vscode": {
   "interpreter": {
    "hash": "aea3586fa6990ac190289595ab990eef45803da6fa4c3d19da3f2714bb971529"
   }
  }
 },
 "nbformat": 4,
 "nbformat_minor": 2
}
