{
 "cells": [
  {
   "cell_type": "code",
   "execution_count": null,
   "metadata": {},
   "outputs": [],
   "source": [
    "pip install spotipy"
   ]
  },
  {
   "cell_type": "code",
   "execution_count": 1,
   "metadata": {},
   "outputs": [],
   "source": [
    "import spotipy \n",
    "from spotipy.oauth2 import SpotifyClientCredentials\n",
    "import base64\n",
    "import pandas as pd\n",
    "import requests\n",
    "import time \n",
    "from urllib.parse import urlencode"
   ]
  },
  {
   "cell_type": "code",
   "execution_count": 2,
   "metadata": {},
   "outputs": [],
   "source": [
    "client_id = '46f5d2f533c84b87b65d2d65da27adc4'\n",
    "client_secret = 'f1acbf7a089c48eba9ad687ef198028f'"
   ]
  },
  {
   "cell_type": "code",
   "execution_count": 3,
   "metadata": {},
   "outputs": [
    {
     "data": {
      "text/plain": [
       "str"
      ]
     },
     "execution_count": 3,
     "metadata": {},
     "output_type": "execute_result"
    }
   ],
   "source": [
    "client_creds = f\"{client_id}:{client_secret}\"\n",
    "type(client_creds)"
   ]
  },
  {
   "cell_type": "code",
   "execution_count": 4,
   "metadata": {},
   "outputs": [
    {
     "name": "stdout",
     "output_type": "stream",
     "text": [
      "b'NDZmNWQyZjUzM2M4NGI4N2I2NWQyZDY1ZGEyN2FkYzQ6ZjFhY2JmN2EwODljNDhlYmE5YWQ2ODdlZjE5ODAyOGY='\n"
     ]
    },
    {
     "data": {
      "text/plain": [
       "bytes"
      ]
     },
     "execution_count": 4,
     "metadata": {},
     "output_type": "execute_result"
    }
   ],
   "source": [
    "client_creds_b64 = base64.b64encode(client_creds.encode())\n",
    "print(client_creds_b64)\n",
    "type(client_creds_b64)"
   ]
  },
  {
   "cell_type": "code",
   "execution_count": 5,
   "metadata": {},
   "outputs": [
    {
     "data": {
      "text/plain": [
       "b'46f5d2f533c84b87b65d2d65da27adc4:f1acbf7a089c48eba9ad687ef198028f'"
      ]
     },
     "execution_count": 5,
     "metadata": {},
     "output_type": "execute_result"
    }
   ],
   "source": [
    "base64.b64decode(client_creds_b64)"
   ]
  },
  {
   "cell_type": "code",
   "execution_count": 6,
   "metadata": {},
   "outputs": [],
   "source": [
    "# do a looklup for a token and future reqeust \n",
    "\n",
    "token_url = 'https://accounts.spotify.com/api/token'\n",
    "method = 'POST'\n",
    "token_data = {\n",
    "    'grant_type': \"client_credentials\"\n",
    "}\n",
    "token_headers = {\n",
    "    \"Authorization\": f\"Basic {client_creds_b64.decode()}\" #<base64 encoded client_id:client_secret>\n",
    "}"
   ]
  },
  {
   "cell_type": "code",
   "execution_count": 7,
   "metadata": {},
   "outputs": [
    {
     "name": "stdout",
     "output_type": "stream",
     "text": [
      "{'access_token': 'BQCaZP3sV084lxA828luGWCkJ5Cbh0Clu1n2z-bmSGDctASwqH8j6JuDVWVfcEueNThH4-PqCLTTJWN_1o8y1ot7ZfU_YEFtKH1FUf7uEsqjpp4sYLs', 'token_type': 'Bearer', 'expires_in': 3600}\n"
     ]
    }
   ],
   "source": [
    "r = requests.post(token_url, data=token_data, headers=token_headers)\n",
    "print(r.json())\n",
    "valid_request = r.status_code in range(200,299)\n",
    "token_response_data = r.json()"
   ]
  },
  {
   "cell_type": "code",
   "execution_count": 8,
   "metadata": {},
   "outputs": [],
   "source": [
    "access_token = token_response_data['access_token']"
   ]
  },
  {
   "cell_type": "code",
   "execution_count": 9,
   "metadata": {},
   "outputs": [],
   "source": [
    "client_credentials_manager = SpotifyClientCredentials(client_id,client_secret)\n",
    "\n",
    "sp = spotipy.Spotify(client_credentials_manager=client_credentials_manager)"
   ]
  },
  {
   "cell_type": "code",
   "execution_count": 29,
   "metadata": {},
   "outputs": [
    {
     "name": "stdout",
     "output_type": "stream",
     "text": [
      "q=This+is+Rich+Brian&type=playlist\n",
      "https://api.spotify.com/v1/search?q=This+is+Rich+Brian&type=playlist&offset=0&limit=05\n",
      "200\n"
     ]
    },
    {
     "data": {
      "text/plain": [
       "{'playlists': {'href': 'https://api.spotify.com/v1/search?query=This+is+Rich+Brian&type=playlist&offset=0&limit=5',\n",
       "  'items': [{'collaborative': False,\n",
       "    'description': 'All the essentials from Rich Brian, right here.',\n",
       "    'external_urls': {'spotify': 'https://open.spotify.com/playlist/37i9dQZF1DX0eg5lGPtFS1'},\n",
       "    'href': 'https://api.spotify.com/v1/playlists/37i9dQZF1DX0eg5lGPtFS1',\n",
       "    'id': '37i9dQZF1DX0eg5lGPtFS1',\n",
       "    'images': [{'height': None,\n",
       "      'url': 'https://i.scdn.co/image/ab67706f000000035f96d4d26c12baaf88a7f691',\n",
       "      'width': None}],\n",
       "    'name': 'This Is Rich Brian',\n",
       "    'owner': {'display_name': 'Spotify',\n",
       "     'external_urls': {'spotify': 'https://open.spotify.com/user/spotify'},\n",
       "     'href': 'https://api.spotify.com/v1/users/spotify',\n",
       "     'id': 'spotify',\n",
       "     'type': 'user',\n",
       "     'uri': 'spotify:user:spotify'},\n",
       "    'primary_color': None,\n",
       "    'public': None,\n",
       "    'snapshot_id': 'MTYzNjA0NTIwMCwwMDAwMDAwMGM5ZDVkOTA3ODQ5N2E3MjJkYjQyZTYxZTZlZGJkMzg2',\n",
       "    'tracks': {'href': 'https://api.spotify.com/v1/playlists/37i9dQZF1DX0eg5lGPtFS1/tracks',\n",
       "     'total': 41},\n",
       "    'type': 'playlist',\n",
       "    'uri': 'spotify:playlist:37i9dQZF1DX0eg5lGPtFS1'},\n",
       "   {'collaborative': False,\n",
       "    'description': 'From Rich Chigga to Rich Brian. This is Completly Rich Brian (Featureds, Singles, EPs, and Remixes)',\n",
       "    'external_urls': {'spotify': 'https://open.spotify.com/playlist/3tqRvOCRgu6JfhJcBA3WWV'},\n",
       "    'href': 'https://api.spotify.com/v1/playlists/3tqRvOCRgu6JfhJcBA3WWV',\n",
       "    'id': '3tqRvOCRgu6JfhJcBA3WWV',\n",
       "    'images': [{'height': None,\n",
       "      'url': 'https://i.scdn.co/image/ab67706c0000bebb71bc1c1d9cd9b83253ed7e69',\n",
       "      'width': None}],\n",
       "    'name': 'Rich Brian Complete',\n",
       "    'owner': {'display_name': 'Sam Piini',\n",
       "     'external_urls': {'spotify': 'https://open.spotify.com/user/xercethekingslayer'},\n",
       "     'href': 'https://api.spotify.com/v1/users/xercethekingslayer',\n",
       "     'id': 'xercethekingslayer',\n",
       "     'type': 'user',\n",
       "     'uri': 'spotify:user:xercethekingslayer'},\n",
       "    'primary_color': None,\n",
       "    'public': None,\n",
       "    'snapshot_id': 'NzMsMGRjMmQxZGUxZGZiZmRmNzBlM2IwNjY4OWNjYTVjYzExNDFmY2E0OQ==',\n",
       "    'tracks': {'href': 'https://api.spotify.com/v1/playlists/3tqRvOCRgu6JfhJcBA3WWV/tracks',\n",
       "     'total': 77},\n",
       "    'type': 'playlist',\n",
       "    'uri': 'spotify:playlist:3tqRvOCRgu6JfhJcBA3WWV'},\n",
       "   {'collaborative': False,\n",
       "    'description': 'This is Rick Braun. The essential tracks, all in one playlist.',\n",
       "    'external_urls': {'spotify': 'https://open.spotify.com/playlist/37i9dQZF1DZ06evO2S0OZV'},\n",
       "    'href': 'https://api.spotify.com/v1/playlists/37i9dQZF1DZ06evO2S0OZV',\n",
       "    'id': '37i9dQZF1DZ06evO2S0OZV',\n",
       "    'images': [{'height': None,\n",
       "      'url': 'https://thisis-images.scdn.co/37i9dQZF1DZ06evO2S0OZV-large.jpg',\n",
       "      'width': None}],\n",
       "    'name': 'This Is Rick Braun',\n",
       "    'owner': {'display_name': 'Spotify',\n",
       "     'external_urls': {'spotify': 'https://open.spotify.com/user/spotify'},\n",
       "     'href': 'https://api.spotify.com/v1/users/spotify',\n",
       "     'id': 'spotify',\n",
       "     'type': 'user',\n",
       "     'uri': 'spotify:user:spotify'},\n",
       "    'primary_color': None,\n",
       "    'public': None,\n",
       "    'snapshot_id': 'Mjc3ODg0OTksMDAwMDAwMDA2YjhhOGMyZTlhNjEyYTE4ZGVhZDkxZDQzZTY3MTU1OQ==',\n",
       "    'tracks': {'href': 'https://api.spotify.com/v1/playlists/37i9dQZF1DZ06evO2S0OZV/tracks',\n",
       "     'total': 50},\n",
       "    'type': 'playlist',\n",
       "    'uri': 'spotify:playlist:37i9dQZF1DZ06evO2S0OZV'},\n",
       "   {'collaborative': False,\n",
       "    'description': 'This playlist is filled only with songs either from Joji or Rich Brian, released or not, there they are.',\n",
       "    'external_urls': {'spotify': 'https://open.spotify.com/playlist/2BukPHUZG2M0MYGjwmxYNl'},\n",
       "    'href': 'https://api.spotify.com/v1/playlists/2BukPHUZG2M0MYGjwmxYNl',\n",
       "    'id': '2BukPHUZG2M0MYGjwmxYNl',\n",
       "    'images': [{'height': None,\n",
       "      'url': 'https://i.scdn.co/image/ab67706c0000bebb908884a41d04fc76380945a7',\n",
       "      'width': None}],\n",
       "    'name': 'Rich Brian x Joji',\n",
       "    'owner': {'display_name': 'ryou',\n",
       "     'external_urls': {'spotify': 'https://open.spotify.com/user/ryoutv'},\n",
       "     'href': 'https://api.spotify.com/v1/users/ryoutv',\n",
       "     'id': 'ryoutv',\n",
       "     'type': 'user',\n",
       "     'uri': 'spotify:user:ryoutv'},\n",
       "    'primary_color': None,\n",
       "    'public': None,\n",
       "    'snapshot_id': 'MTIzLDcwZDdjMTBlZjA3NDlmODY0OTU4ZjhiMzU3MjIyOTM3ZGMwYWY4Zjk=',\n",
       "    'tracks': {'href': 'https://api.spotify.com/v1/playlists/2BukPHUZG2M0MYGjwmxYNl/tracks',\n",
       "     'total': 102},\n",
       "    'type': 'playlist',\n",
       "    'uri': 'spotify:playlist:2BukPHUZG2M0MYGjwmxYNl'},\n",
       "   {'collaborative': False,\n",
       "    'description': 'This is Rich Boy. The essential tracks, all in one playlist.',\n",
       "    'external_urls': {'spotify': 'https://open.spotify.com/playlist/37i9dQZF1DZ06evO3LaHKe'},\n",
       "    'href': 'https://api.spotify.com/v1/playlists/37i9dQZF1DZ06evO3LaHKe',\n",
       "    'id': '37i9dQZF1DZ06evO3LaHKe',\n",
       "    'images': [{'height': None,\n",
       "      'url': 'https://thisis-images.scdn.co/37i9dQZF1DZ06evO3LaHKe-large.jpg',\n",
       "      'width': None}],\n",
       "    'name': 'This Is Rich Boy',\n",
       "    'owner': {'display_name': 'Spotify',\n",
       "     'external_urls': {'spotify': 'https://open.spotify.com/user/spotify'},\n",
       "     'href': 'https://api.spotify.com/v1/users/spotify',\n",
       "     'id': 'spotify',\n",
       "     'type': 'user',\n",
       "     'uri': 'spotify:user:spotify'},\n",
       "    'primary_color': None,\n",
       "    'public': None,\n",
       "    'snapshot_id': 'Mjc3ODg0OTksMDAwMDAwMDA4MjIxNzZhY2QyNjU1ZGU5MmE5NTUyZWFjMTUzZDQwOA==',\n",
       "    'tracks': {'href': 'https://api.spotify.com/v1/playlists/37i9dQZF1DZ06evO3LaHKe/tracks',\n",
       "     'total': 50},\n",
       "    'type': 'playlist',\n",
       "    'uri': 'spotify:playlist:37i9dQZF1DZ06evO3LaHKe'}],\n",
       "  'limit': 5,\n",
       "  'next': 'https://api.spotify.com/v1/search?query=This+is+Rich+Brian&type=playlist&offset=5&limit=5',\n",
       "  'offset': 0,\n",
       "  'previous': None,\n",
       "  'total': 142}}"
      ]
     },
     "execution_count": 29,
     "metadata": {},
     "output_type": "execute_result"
    }
   ],
   "source": [
    "#Search thru api for playlist ID\n",
    "headers = {\n",
    "    'Authorization': f'Bearer {access_token}'\n",
    "}\n",
    "endpoint = 'https://api.spotify.com/v1/search'\n",
    "data = urlencode({'q': 'This is Rich Brian', 'type': 'playlist'})\n",
    "top = urlencode({'offset': '0', 'limit': '05'})\n",
    "\n",
    "print(data)\n",
    "\n",
    "query_url = f'{endpoint}?{data}&{top}'\n",
    "print(query_url)\n",
    "\n",
    "r = requests.get(query_url, headers=headers) \n",
    "print(r.status_code)\n",
    "r.json()"
   ]
  },
  {
   "cell_type": "code",
   "execution_count": 11,
   "metadata": {},
   "outputs": [],
   "source": [
    "Spotify_profile_id = 'cef03df234f441af'"
   ]
  },
  {
   "cell_type": "code",
   "execution_count": 12,
   "metadata": {},
   "outputs": [],
   "source": [
    "def getTrackID(user,playlist_id):\n",
    "    id = []\n",
    "    play_list = sp.user_playlist(user,playlist_id)\n",
    "    for item in play_list['tracks']['items']:\n",
    "        track = item['track']\n",
    "        id.append(track['id'])\n",
    "    return id \n"
   ]
  },
  {
   "cell_type": "code",
   "execution_count": 13,
   "metadata": {},
   "outputs": [],
   "source": [
    "# ('spotify_id','playlist_id')\n",
    "id = getTrackID('cef03df234f441af','37i9dQZF1DX0eg5lGPtFS1')"
   ]
  },
  {
   "cell_type": "code",
   "execution_count": 20,
   "metadata": {},
   "outputs": [],
   "source": [
    "def getTrackFeatures(id):\n",
    "\n",
    "\n",
    "    meta = sp.track(id)\n",
    "    features = sp.audio_features(id)\n",
    "\n",
    "\n",
    "    name = meta['name']\n",
    "    album = meta['album']['name']\n",
    "    artist = meta['album']['artists'][0]['name']\n",
    "    release_date = meta['album']['release_date']\n",
    "    length = meta['duration_ms']\n",
    "    popularity = meta['popularity']\n",
    "\n",
    "\n",
    "    acousticness = features[0]['acousticness']\n",
    "    danceability = features[0]['danceability']\n",
    "    energy = features[0]['energy']\n",
    "    livenss = features[0]['liveness']\n",
    "    tempo = features[0]['tempo']\n",
    "    valence = features[0]['valence']\n",
    "\n",
    "    track = [name,album,artist,release_date,length,popularity,acousticness,danceability,energy,livenss,tempo,valence]\n",
    "\n",
    "    return track\n",
    "\n"
   ]
  },
  {
   "cell_type": "code",
   "execution_count": 25,
   "metadata": {},
   "outputs": [],
   "source": [
    "tracks = []\n",
    "for i in range(len(id)):\n",
    "    track = getTrackFeatures(id[i])\n",
    "    tracks.append(track)\n",
    "\n",
    "df = pd.DataFrame(tracks,columns = ['song name','album','artist','release_date','length(ms)','popularity','acousticness','danceability','energy','liveness','tempo','valence'])\n",
    "\n",
    "df.to_csv('rich_brian.csv', sep = ',')\n",
    "    "
   ]
  },
  {
   "cell_type": "code",
   "execution_count": 28,
   "metadata": {},
   "outputs": [
    {
     "data": {
      "text/html": [
       "<div>\n",
       "<style scoped>\n",
       "    .dataframe tbody tr th:only-of-type {\n",
       "        vertical-align: middle;\n",
       "    }\n",
       "\n",
       "    .dataframe tbody tr th {\n",
       "        vertical-align: top;\n",
       "    }\n",
       "\n",
       "    .dataframe thead th {\n",
       "        text-align: right;\n",
       "    }\n",
       "</style>\n",
       "<table border=\"1\" class=\"dataframe\">\n",
       "  <thead>\n",
       "    <tr style=\"text-align: right;\">\n",
       "      <th></th>\n",
       "      <th>song name</th>\n",
       "      <th>album</th>\n",
       "      <th>artist</th>\n",
       "      <th>release_date</th>\n",
       "      <th>length(ms)</th>\n",
       "      <th>popularity</th>\n",
       "      <th>acousticness</th>\n",
       "      <th>danceability</th>\n",
       "      <th>energy</th>\n",
       "      <th>liveness</th>\n",
       "      <th>tempo</th>\n",
       "      <th>valence</th>\n",
       "    </tr>\n",
       "  </thead>\n",
       "  <tbody>\n",
       "    <tr>\n",
       "      <th>0</th>\n",
       "      <td>New Tooth</td>\n",
       "      <td>New Tooth</td>\n",
       "      <td>Rich Brian</td>\n",
       "      <td>2021-11-04</td>\n",
       "      <td>220000</td>\n",
       "      <td>50</td>\n",
       "      <td>0.63100</td>\n",
       "      <td>0.788</td>\n",
       "      <td>0.678</td>\n",
       "      <td>0.1410</td>\n",
       "      <td>120.019</td>\n",
       "      <td>0.390</td>\n",
       "    </tr>\n",
       "    <tr>\n",
       "      <th>1</th>\n",
       "      <td>Run It (feat. Rick Ross &amp; Rich Brian)</td>\n",
       "      <td>Shang-Chi and The Legend of The Ten Rings: The...</td>\n",
       "      <td>88rising</td>\n",
       "      <td>2021-09-03</td>\n",
       "      <td>163373</td>\n",
       "      <td>68</td>\n",
       "      <td>0.01950</td>\n",
       "      <td>0.688</td>\n",
       "      <td>0.725</td>\n",
       "      <td>0.0726</td>\n",
       "      <td>104.006</td>\n",
       "      <td>0.225</td>\n",
       "    </tr>\n",
       "    <tr>\n",
       "      <th>2</th>\n",
       "      <td>Lazy Susan (with Rich Brian feat. Warren Hue &amp;...</td>\n",
       "      <td>Shang-Chi and The Legend of The Ten Rings: The...</td>\n",
       "      <td>88rising</td>\n",
       "      <td>2021-09-03</td>\n",
       "      <td>279960</td>\n",
       "      <td>52</td>\n",
       "      <td>0.04280</td>\n",
       "      <td>0.766</td>\n",
       "      <td>0.825</td>\n",
       "      <td>0.1020</td>\n",
       "      <td>155.967</td>\n",
       "      <td>0.646</td>\n",
       "    </tr>\n",
       "    <tr>\n",
       "      <th>3</th>\n",
       "      <td>edamame (feat. Rich Brian)</td>\n",
       "      <td>edamame (feat. Rich Brian)</td>\n",
       "      <td>bbno$</td>\n",
       "      <td>2021-07-24</td>\n",
       "      <td>133706</td>\n",
       "      <td>75</td>\n",
       "      <td>0.02300</td>\n",
       "      <td>0.815</td>\n",
       "      <td>0.848</td>\n",
       "      <td>0.0265</td>\n",
       "      <td>106.032</td>\n",
       "      <td>0.684</td>\n",
       "    </tr>\n",
       "    <tr>\n",
       "      <th>4</th>\n",
       "      <td>Sydney</td>\n",
       "      <td>Sydney</td>\n",
       "      <td>Rich Brian</td>\n",
       "      <td>2021-03-16</td>\n",
       "      <td>194240</td>\n",
       "      <td>46</td>\n",
       "      <td>0.47500</td>\n",
       "      <td>0.620</td>\n",
       "      <td>0.476</td>\n",
       "      <td>0.1350</td>\n",
       "      <td>161.168</td>\n",
       "      <td>0.602</td>\n",
       "    </tr>\n",
       "    <tr>\n",
       "      <th>5</th>\n",
       "      <td>DOA</td>\n",
       "      <td>1999</td>\n",
       "      <td>Rich Brian</td>\n",
       "      <td>2020-08-24</td>\n",
       "      <td>161162</td>\n",
       "      <td>45</td>\n",
       "      <td>0.22700</td>\n",
       "      <td>0.603</td>\n",
       "      <td>0.611</td>\n",
       "      <td>0.1090</td>\n",
       "      <td>86.001</td>\n",
       "      <td>0.317</td>\n",
       "    </tr>\n",
       "    <tr>\n",
       "      <th>6</th>\n",
       "      <td>Don't Care</td>\n",
       "      <td>Don't Care</td>\n",
       "      <td>Rich Brian</td>\n",
       "      <td>2020-08-18</td>\n",
       "      <td>164571</td>\n",
       "      <td>43</td>\n",
       "      <td>0.18000</td>\n",
       "      <td>0.642</td>\n",
       "      <td>0.569</td>\n",
       "      <td>0.1050</td>\n",
       "      <td>140.095</td>\n",
       "      <td>0.194</td>\n",
       "    </tr>\n",
       "    <tr>\n",
       "      <th>7</th>\n",
       "      <td>Love In My Pocket</td>\n",
       "      <td>Love In My Pocket</td>\n",
       "      <td>Rich Brian</td>\n",
       "      <td>2020-07-09</td>\n",
       "      <td>223093</td>\n",
       "      <td>41</td>\n",
       "      <td>0.02060</td>\n",
       "      <td>0.829</td>\n",
       "      <td>0.597</td>\n",
       "      <td>0.1100</td>\n",
       "      <td>113.011</td>\n",
       "      <td>0.782</td>\n",
       "    </tr>\n",
       "    <tr>\n",
       "      <th>8</th>\n",
       "      <td>BALI</td>\n",
       "      <td>BALI</td>\n",
       "      <td>Rich Brian</td>\n",
       "      <td>2020-04-09</td>\n",
       "      <td>199384</td>\n",
       "      <td>39</td>\n",
       "      <td>0.00983</td>\n",
       "      <td>0.864</td>\n",
       "      <td>0.642</td>\n",
       "      <td>0.2200</td>\n",
       "      <td>129.995</td>\n",
       "      <td>0.622</td>\n",
       "    </tr>\n",
       "    <tr>\n",
       "      <th>9</th>\n",
       "      <td>TITANIC (feat. Rich Brian)</td>\n",
       "      <td>MIRRORS</td>\n",
       "      <td>Jackson Wang</td>\n",
       "      <td>2019-10-25</td>\n",
       "      <td>141146</td>\n",
       "      <td>54</td>\n",
       "      <td>0.04630</td>\n",
       "      <td>0.894</td>\n",
       "      <td>0.748</td>\n",
       "      <td>0.0570</td>\n",
       "      <td>99.983</td>\n",
       "      <td>0.697</td>\n",
       "    </tr>\n",
       "  </tbody>\n",
       "</table>\n",
       "</div>"
      ],
      "text/plain": [
       "                                           song name  \\\n",
       "0                                          New Tooth   \n",
       "1              Run It (feat. Rick Ross & Rich Brian)   \n",
       "2  Lazy Susan (with Rich Brian feat. Warren Hue &...   \n",
       "3                         edamame (feat. Rich Brian)   \n",
       "4                                             Sydney   \n",
       "5                                                DOA   \n",
       "6                                         Don't Care   \n",
       "7                                  Love In My Pocket   \n",
       "8                                               BALI   \n",
       "9                         TITANIC (feat. Rich Brian)   \n",
       "\n",
       "                                               album        artist  \\\n",
       "0                                          New Tooth    Rich Brian   \n",
       "1  Shang-Chi and The Legend of The Ten Rings: The...      88rising   \n",
       "2  Shang-Chi and The Legend of The Ten Rings: The...      88rising   \n",
       "3                         edamame (feat. Rich Brian)         bbno$   \n",
       "4                                             Sydney    Rich Brian   \n",
       "5                                               1999    Rich Brian   \n",
       "6                                         Don't Care    Rich Brian   \n",
       "7                                  Love In My Pocket    Rich Brian   \n",
       "8                                               BALI    Rich Brian   \n",
       "9                                            MIRRORS  Jackson Wang   \n",
       "\n",
       "  release_date  length(ms)  popularity  acousticness  danceability  energy  \\\n",
       "0   2021-11-04      220000          50       0.63100         0.788   0.678   \n",
       "1   2021-09-03      163373          68       0.01950         0.688   0.725   \n",
       "2   2021-09-03      279960          52       0.04280         0.766   0.825   \n",
       "3   2021-07-24      133706          75       0.02300         0.815   0.848   \n",
       "4   2021-03-16      194240          46       0.47500         0.620   0.476   \n",
       "5   2020-08-24      161162          45       0.22700         0.603   0.611   \n",
       "6   2020-08-18      164571          43       0.18000         0.642   0.569   \n",
       "7   2020-07-09      223093          41       0.02060         0.829   0.597   \n",
       "8   2020-04-09      199384          39       0.00983         0.864   0.642   \n",
       "9   2019-10-25      141146          54       0.04630         0.894   0.748   \n",
       "\n",
       "   liveness    tempo  valence  \n",
       "0    0.1410  120.019    0.390  \n",
       "1    0.0726  104.006    0.225  \n",
       "2    0.1020  155.967    0.646  \n",
       "3    0.0265  106.032    0.684  \n",
       "4    0.1350  161.168    0.602  \n",
       "5    0.1090   86.001    0.317  \n",
       "6    0.1050  140.095    0.194  \n",
       "7    0.1100  113.011    0.782  \n",
       "8    0.2200  129.995    0.622  \n",
       "9    0.0570   99.983    0.697  "
      ]
     },
     "execution_count": 28,
     "metadata": {},
     "output_type": "execute_result"
    }
   ],
   "source": [
    "df.head(10)"
   ]
  }
 ],
 "metadata": {
  "kernelspec": {
   "display_name": "Python 3.9.12 ('base')",
   "language": "python",
   "name": "python3"
  },
  "language_info": {
   "codemirror_mode": {
    "name": "ipython",
    "version": 3
   },
   "file_extension": ".py",
   "mimetype": "text/x-python",
   "name": "python",
   "nbconvert_exporter": "python",
   "pygments_lexer": "ipython3",
   "version": "3.9.12"
  },
  "orig_nbformat": 4,
  "vscode": {
   "interpreter": {
    "hash": "aea3586fa6990ac190289595ab990eef45803da6fa4c3d19da3f2714bb971529"
   }
  }
 },
 "nbformat": 4,
 "nbformat_minor": 2
}
