{
 "cells": [
  {
   "cell_type": "code",
   "execution_count": null,
   "metadata": {},
   "outputs": [],
   "source": [
    "#Install module \n",
    "pip install spotipy"
   ]
  },
  {
   "cell_type": "code",
   "execution_count": 1,
   "metadata": {},
   "outputs": [],
   "source": [
    "#Import Dependencies \n",
    "import spotipy \n",
    "from spotipy.oauth2 import SpotifyClientCredentials\n",
    "from risingArtistDict import artists\n",
    "import base64\n",
    "from config import client_id, client_secret\n",
    "import pandas as pd\n",
    "from urllib.parse import urlencode\n",
    "from pprint import pprint"
   ]
  },
  {
   "cell_type": "code",
   "execution_count": 2,
   "metadata": {},
   "outputs": [],
   "source": [
    "#Sign in thru Spotidy credtentials from dashboard \n",
    "client_credentials_manager = SpotifyClientCredentials(client_id,client_secret)\n",
    "\n",
    "#Authorize credentials with token \n",
    "sp = spotipy.Spotify(client_credentials_manager=client_credentials_manager)"
   ]
  },
  {
   "cell_type": "code",
   "execution_count": 4,
   "metadata": {},
   "outputs": [
    {
     "name": "stdout",
     "output_type": "stream",
     "text": [
      "{'name': 'Guapdad 4000', 'followers': 975759}\n"
     ]
    }
   ],
   "source": [
    "print(artists)"
   ]
  },
  {
   "cell_type": "code",
   "execution_count": null,
   "metadata": {},
   "outputs": [],
   "source": [
    "#Query for playlist ID \n",
    "#Playlist should be start with \"This is ... \" ** cap sensitive **\n",
    "\n",
    "results= sp.search('This Is Guapdad 4000', type='playlist',limit='03')\n",
    "pprint(results)\n"
   ]
  },
  {
   "cell_type": "code",
   "execution_count": null,
   "metadata": {},
   "outputs": [],
   "source": [
    "#Default spotify profile id \n",
    "Spotify_profile_id = 'cef03df234f441af'"
   ]
  },
  {
   "cell_type": "code",
   "execution_count": null,
   "metadata": {},
   "outputs": [],
   "source": [
    "#Extract playlist id and name for top artist \n",
    "name = results['playlists']['items'][0]['name'].replace(\" \", \"_\")\n",
    "playlist_id = results['playlists']['items'][0]['id']\n",
    "print(name)\n",
    "print(playlist_id)\n"
   ]
  },
  {
   "cell_type": "code",
   "execution_count": null,
   "metadata": {},
   "outputs": [],
   "source": [
    "#Create function to get indiidual track id \n",
    "def getTrackID(user,playlist_id):\n",
    "    #Create a empty list to store ID's \n",
    "    id = []\n",
    "    play_list = sp.user_playlist(user,playlist_id)\n",
    "\n",
    "    #Loop thru ID's\n",
    "    for item in play_list['tracks']['items']:\n",
    "        track = item['track']\n",
    "        id.append(track['id'])\n",
    "    return id \n"
   ]
  },
  {
   "cell_type": "code",
   "execution_count": null,
   "metadata": {},
   "outputs": [],
   "source": [
    "#Create function to get ID features \n",
    "def getTrackFeatures(id):\n",
    "\n",
    "    #Query spotify track and feature attribute\n",
    "    info = sp.track(id)\n",
    "    features = sp.audio_features(id)\n",
    "\n",
    "    #Append info and features for specific track ID's\n",
    "    name = info['name']\n",
    "    album = info['album']['name']\n",
    "    artist = info['album']['artists'][0]['name']\n",
    "    release_date = info['album']['release_date']\n",
    "    length = info['duration_ms']\n",
    "    popularity = info['popularity']\n",
    "\n",
    "\n",
    "    acousticness = features[0]['acousticness']\n",
    "    danceability = features[0]['danceability']\n",
    "    energy = features[0]['energy']\n",
    "    livenss = features[0]['liveness']\n",
    "    tempo = features[0]['tempo']\n",
    "    valence = features[0]['valence']\n",
    "\n",
    "    track = [name,album,artist,release_date,length,popularity,acousticness,danceability,energy,livenss,tempo,valence]\n",
    "\n",
    "    return track"
   ]
  },
  {
   "cell_type": "code",
   "execution_count": null,
   "metadata": {},
   "outputs": [],
   "source": [
    "# ('spotify_id','playlist_id')\n",
    "id = getTrackID(Spotify_profile_id,playlist_id)"
   ]
  },
  {
   "cell_type": "code",
   "execution_count": null,
   "metadata": {},
   "outputs": [],
   "source": [
    "#Create dataframe and loop thru each track ID features to PD\n",
    "playlist = []\n",
    "for i in range(len(id)):\n",
    "    song = getTrackFeatures(id[i])\n",
    "    playlist.append(song)\n",
    "    \n",
    "df = pd.DataFrame(playlist,columns = ['song name','album','artist','release_date','length(ms)','popularity','acousticness','danceability','energy','liveness','tempo','valence'])\n",
    "    \n",
    "df.to_csv(f\"./Data Sets/{name}.csv\", sep = ',')"
   ]
  },
  {
   "cell_type": "code",
   "execution_count": null,
   "metadata": {},
   "outputs": [],
   "source": [
    "#Display dataframe \n",
    "df.head(10)"
   ]
  }
 ],
 "metadata": {
  "kernelspec": {
   "display_name": "Python 3.9.12 ('base')",
   "language": "python",
   "name": "python3"
  },
  "language_info": {
   "codemirror_mode": {
    "name": "ipython",
    "version": 3
   },
   "file_extension": ".py",
   "mimetype": "text/x-python",
   "name": "python",
   "nbconvert_exporter": "python",
   "pygments_lexer": "ipython3",
   "version": "3.9.12"
  },
  "orig_nbformat": 4,
  "vscode": {
   "interpreter": {
    "hash": "aea3586fa6990ac190289595ab990eef45803da6fa4c3d19da3f2714bb971529"
   }
  }
 },
 "nbformat": 4,
 "nbformat_minor": 2
}
