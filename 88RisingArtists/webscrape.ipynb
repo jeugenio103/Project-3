{
 "cells": [
  {
   "cell_type": "code",
   "execution_count": 93,
   "metadata": {},
   "outputs": [],
   "source": [
    "#Import Dependencies \n",
    "import spotipy \n",
    "from spotipy.oauth2 import SpotifyClientCredentials\n",
    "import base64\n",
    "from config import client_id, client_secret\n",
    "import pandas as pd\n",
    "from urllib.parse import urlencode\n",
    "from pprint import pprint\n",
    "from risingArtistDict import artist\n",
    "from bs4 import BeautifulSoup as bs\n",
    "from splinter import Browser \n",
    "from bs4 import BeautifulSoup\n",
    "from webdriver_manager.chrome import ChromeDriverManager\n",
    "import requests\n",
    "import time\n",
    "import pymongo"
   ]
  },
  {
   "cell_type": "code",
   "execution_count": 2,
   "metadata": {},
   "outputs": [],
   "source": [
    "#Sign in thru Spotidy credtentials from dashboard \n",
    "client_credentials_manager = SpotifyClientCredentials(client_id,client_secret)\n",
    "\n",
    "#Authorize credentials with token \n",
    "sp = spotipy.Spotify(client_credentials_manager=client_credentials_manager)"
   ]
  },
  {
   "cell_type": "code",
   "execution_count": 3,
   "metadata": {},
   "outputs": [
    {
     "data": {
      "text/plain": [
       "['Joji',\n",
       " 'NIKI',\n",
       " 'Rich Brian',\n",
       " 'BIBI',\n",
       " 'Jackson Wang',\n",
       " 'CHUNG HA',\n",
       " 'Stephanie Poetri',\n",
       " 'Higher Brothers',\n",
       " 'Mili',\n",
       " 'Guapdad 4000']"
      ]
     },
     "execution_count": 3,
     "metadata": {},
     "output_type": "execute_result"
    }
   ],
   "source": [
    "artist"
   ]
  },
  {
   "cell_type": "code",
   "execution_count": 4,
   "metadata": {},
   "outputs": [
    {
     "name": "stdout",
     "output_type": "stream",
     "text": [
      "{'artists': {'href': 'https://api.spotify.com/v1/search?query=Stephanie+Poetri&type=artist&offset=0&limit=1',\n",
      "             'items': [{'external_urls': {'spotify': 'https://open.spotify.com/artist/0HS00NN7MAfF59aJnfcxSO'},\n",
      "                        'followers': {'href': None, 'total': 529495},\n",
      "                        'genres': [],\n",
      "                        'href': 'https://api.spotify.com/v1/artists/0HS00NN7MAfF59aJnfcxSO',\n",
      "                        'id': '0HS00NN7MAfF59aJnfcxSO',\n",
      "                        'images': [{'height': 640,\n",
      "                                    'url': 'https://i.scdn.co/image/ab6761610000e5eb03559b6ae10b9787083dc3d9',\n",
      "                                    'width': 640},\n",
      "                                   {'height': 320,\n",
      "                                    'url': 'https://i.scdn.co/image/ab6761610000517403559b6ae10b9787083dc3d9',\n",
      "                                    'width': 320},\n",
      "                                   {'height': 160,\n",
      "                                    'url': 'https://i.scdn.co/image/ab6761610000f17803559b6ae10b9787083dc3d9',\n",
      "                                    'width': 160}],\n",
      "                        'name': 'Stephanie Poetri',\n",
      "                        'popularity': 54,\n",
      "                        'type': 'artist',\n",
      "                        'uri': 'spotify:artist:0HS00NN7MAfF59aJnfcxSO'}],\n",
      "             'limit': 1,\n",
      "             'next': 'https://api.spotify.com/v1/search?query=Stephanie+Poetri&type=artist&offset=1&limit=1',\n",
      "             'offset': 0,\n",
      "             'previous': None,\n",
      "             'total': 8}}\n"
     ]
    }
   ],
   "source": [
    "results = sp.search('Stephanie Poetri', type='artist', limit='01')\n",
    "pprint(results)"
   ]
  },
  {
   "cell_type": "code",
   "execution_count": 5,
   "metadata": {},
   "outputs": [
    {
     "data": {
      "text/plain": [
       "'https://open.spotify.com/artist/0HS00NN7MAfF59aJnfcxSO'"
      ]
     },
     "execution_count": 5,
     "metadata": {},
     "output_type": "execute_result"
    }
   ],
   "source": [
    "artist_id = results['artists']['items'][0]['external_urls']['spotify']\n",
    "artist_id"
   ]
  },
  {
   "cell_type": "code",
   "execution_count": 26,
   "metadata": {},
   "outputs": [],
   "source": [
    "def getArtistSite(artist):\n",
    "\n",
    "    ids = []\n",
    "    results = sp.search(artist, type='artist',limit='05')\n",
    "\n",
    "    ids.append(results['artists']['items'][0]['external_urls']['spotify'])\n",
    "    ids.append(results['artists']['items'][0]['id'])\n",
    "    ids.append(results['artists']['items'][0]['followers']['total'])\n",
    "    ids.append(results['artists']['items'][0]['genres'])\n",
    "    \n",
    "\n",
    "    return ids "
   ]
  },
  {
   "cell_type": "code",
   "execution_count": 27,
   "metadata": {},
   "outputs": [
    {
     "data": {
      "text/plain": [
       "['https://open.spotify.com/artist/3MZsBdqDrRTJihTHQrO6Dq',\n",
       " '3MZsBdqDrRTJihTHQrO6Dq',\n",
       " 7318289,\n",
       " ['viral pop']]"
      ]
     },
     "execution_count": 27,
     "metadata": {},
     "output_type": "execute_result"
    }
   ],
   "source": [
    "site_id = getArtistSite(artist)\n",
    "site_id"
   ]
  },
  {
   "cell_type": "code",
   "execution_count": 28,
   "metadata": {},
   "outputs": [],
   "source": [
    "artist_dict = {}\n",
    "for a in artist:\n",
    "    a_id = getArtistSite(a)\n",
    "    artist_dict[a] = a_id"
   ]
  },
  {
   "cell_type": "code",
   "execution_count": 29,
   "metadata": {},
   "outputs": [
    {
     "data": {
      "text/plain": [
       "{'Joji': ['https://open.spotify.com/artist/3MZsBdqDrRTJihTHQrO6Dq',\n",
       "  '3MZsBdqDrRTJihTHQrO6Dq',\n",
       "  7318289,\n",
       "  ['viral pop']],\n",
       " 'NIKI': ['https://open.spotify.com/artist/2kxP07DLgs4xlWz8YHlvfh',\n",
       "  '2kxP07DLgs4xlWz8YHlvfh',\n",
       "  2054578,\n",
       "  ['indonesian r&b', 'pop']],\n",
       " 'Rich Brian': ['https://open.spotify.com/artist/2IDLDx25HU1nQMKde4n61a',\n",
       "  '2IDLDx25HU1nQMKde4n61a',\n",
       "  2090502,\n",
       "  ['indonesian hip hop']],\n",
       " 'BIBI': ['https://open.spotify.com/artist/6UbmqUEgjLA6jAcXwbM1Z9',\n",
       "  '6UbmqUEgjLA6jAcXwbM1Z9',\n",
       "  557710,\n",
       "  ['k-pop', 'korean r&b']],\n",
       " 'Jackson Wang': ['https://open.spotify.com/artist/1kfWoWgCugPkyxQP8lkRlY',\n",
       "  '1kfWoWgCugPkyxQP8lkRlY',\n",
       "  3462002,\n",
       "  ['k-pop']],\n",
       " 'CHUNG HA': ['https://open.spotify.com/artist/2PSJ6YriU7JsFucxACpU7Y',\n",
       "  '2PSJ6YriU7JsFucxACpU7Y',\n",
       "  1982522,\n",
       "  ['k-pop']],\n",
       " 'Stephanie Poetri': ['https://open.spotify.com/artist/0HS00NN7MAfF59aJnfcxSO',\n",
       "  '0HS00NN7MAfF59aJnfcxSO',\n",
       "  529495,\n",
       "  []],\n",
       " 'Higher Brothers': ['https://open.spotify.com/artist/07ZhipyrvoyNoJejeyM0PQ',\n",
       "  '07ZhipyrvoyNoJejeyM0PQ',\n",
       "  266065,\n",
       "  ['chinese hip hop']],\n",
       " 'Mili': ['https://open.spotify.com/artist/0K05TDnN7xPwIHDOwD2YYs',\n",
       "  '0K05TDnN7xPwIHDOwD2YYs',\n",
       "  169374,\n",
       "  ['otacore']],\n",
       " 'Guapdad 4000': ['https://open.spotify.com/artist/0NcPKaSNIHAM2RfioH9vMT',\n",
       "  '0NcPKaSNIHAM2RfioH9vMT',\n",
       "  108350,\n",
       "  ['cali rap',\n",
       "   'oakland hip hop',\n",
       "   'scam rap',\n",
       "   'trap soul',\n",
       "   'underground hip hop',\n",
       "   'vapor trap',\n",
       "   'viral rap']]}"
      ]
     },
     "execution_count": 29,
     "metadata": {},
     "output_type": "execute_result"
    }
   ],
   "source": [
    "artist_dict"
   ]
  },
  {
   "cell_type": "code",
   "execution_count": 34,
   "metadata": {},
   "outputs": [
    {
     "data": {
      "text/html": [
       "<div>\n",
       "<style scoped>\n",
       "    .dataframe tbody tr th:only-of-type {\n",
       "        vertical-align: middle;\n",
       "    }\n",
       "\n",
       "    .dataframe tbody tr th {\n",
       "        vertical-align: top;\n",
       "    }\n",
       "\n",
       "    .dataframe thead th {\n",
       "        text-align: right;\n",
       "    }\n",
       "</style>\n",
       "<table border=\"1\" class=\"dataframe\">\n",
       "  <thead>\n",
       "    <tr style=\"text-align: right;\">\n",
       "      <th></th>\n",
       "      <th>0</th>\n",
       "      <th>1</th>\n",
       "      <th>2</th>\n",
       "      <th>3</th>\n",
       "    </tr>\n",
       "  </thead>\n",
       "  <tbody>\n",
       "    <tr>\n",
       "      <th>Joji</th>\n",
       "      <td>https://open.spotify.com/artist/3MZsBdqDrRTJih...</td>\n",
       "      <td>3MZsBdqDrRTJihTHQrO6Dq</td>\n",
       "      <td>7318289</td>\n",
       "      <td>[viral pop]</td>\n",
       "    </tr>\n",
       "    <tr>\n",
       "      <th>NIKI</th>\n",
       "      <td>https://open.spotify.com/artist/2kxP07DLgs4xlW...</td>\n",
       "      <td>2kxP07DLgs4xlWz8YHlvfh</td>\n",
       "      <td>2054578</td>\n",
       "      <td>[indonesian r&amp;b, pop]</td>\n",
       "    </tr>\n",
       "    <tr>\n",
       "      <th>Rich Brian</th>\n",
       "      <td>https://open.spotify.com/artist/2IDLDx25HU1nQM...</td>\n",
       "      <td>2IDLDx25HU1nQMKde4n61a</td>\n",
       "      <td>2090502</td>\n",
       "      <td>[indonesian hip hop]</td>\n",
       "    </tr>\n",
       "    <tr>\n",
       "      <th>BIBI</th>\n",
       "      <td>https://open.spotify.com/artist/6UbmqUEgjLA6jA...</td>\n",
       "      <td>6UbmqUEgjLA6jAcXwbM1Z9</td>\n",
       "      <td>557710</td>\n",
       "      <td>[k-pop, korean r&amp;b]</td>\n",
       "    </tr>\n",
       "    <tr>\n",
       "      <th>Jackson Wang</th>\n",
       "      <td>https://open.spotify.com/artist/1kfWoWgCugPkyx...</td>\n",
       "      <td>1kfWoWgCugPkyxQP8lkRlY</td>\n",
       "      <td>3462002</td>\n",
       "      <td>[k-pop]</td>\n",
       "    </tr>\n",
       "    <tr>\n",
       "      <th>CHUNG HA</th>\n",
       "      <td>https://open.spotify.com/artist/2PSJ6YriU7JsFu...</td>\n",
       "      <td>2PSJ6YriU7JsFucxACpU7Y</td>\n",
       "      <td>1982522</td>\n",
       "      <td>[k-pop]</td>\n",
       "    </tr>\n",
       "    <tr>\n",
       "      <th>Stephanie Poetri</th>\n",
       "      <td>https://open.spotify.com/artist/0HS00NN7MAfF59...</td>\n",
       "      <td>0HS00NN7MAfF59aJnfcxSO</td>\n",
       "      <td>529495</td>\n",
       "      <td>[]</td>\n",
       "    </tr>\n",
       "    <tr>\n",
       "      <th>Higher Brothers</th>\n",
       "      <td>https://open.spotify.com/artist/07ZhipyrvoyNoJ...</td>\n",
       "      <td>07ZhipyrvoyNoJejeyM0PQ</td>\n",
       "      <td>266065</td>\n",
       "      <td>[chinese hip hop]</td>\n",
       "    </tr>\n",
       "    <tr>\n",
       "      <th>Mili</th>\n",
       "      <td>https://open.spotify.com/artist/0K05TDnN7xPwIH...</td>\n",
       "      <td>0K05TDnN7xPwIHDOwD2YYs</td>\n",
       "      <td>169374</td>\n",
       "      <td>[otacore]</td>\n",
       "    </tr>\n",
       "    <tr>\n",
       "      <th>Guapdad 4000</th>\n",
       "      <td>https://open.spotify.com/artist/0NcPKaSNIHAM2R...</td>\n",
       "      <td>0NcPKaSNIHAM2RfioH9vMT</td>\n",
       "      <td>108350</td>\n",
       "      <td>[cali rap, oakland hip hop, scam rap, trap sou...</td>\n",
       "    </tr>\n",
       "  </tbody>\n",
       "</table>\n",
       "</div>"
      ],
      "text/plain": [
       "                                                                  0  \\\n",
       "Joji              https://open.spotify.com/artist/3MZsBdqDrRTJih...   \n",
       "NIKI              https://open.spotify.com/artist/2kxP07DLgs4xlW...   \n",
       "Rich Brian        https://open.spotify.com/artist/2IDLDx25HU1nQM...   \n",
       "BIBI              https://open.spotify.com/artist/6UbmqUEgjLA6jA...   \n",
       "Jackson Wang      https://open.spotify.com/artist/1kfWoWgCugPkyx...   \n",
       "CHUNG HA          https://open.spotify.com/artist/2PSJ6YriU7JsFu...   \n",
       "Stephanie Poetri  https://open.spotify.com/artist/0HS00NN7MAfF59...   \n",
       "Higher Brothers   https://open.spotify.com/artist/07ZhipyrvoyNoJ...   \n",
       "Mili              https://open.spotify.com/artist/0K05TDnN7xPwIH...   \n",
       "Guapdad 4000      https://open.spotify.com/artist/0NcPKaSNIHAM2R...   \n",
       "\n",
       "                                       1        2  \\\n",
       "Joji              3MZsBdqDrRTJihTHQrO6Dq  7318289   \n",
       "NIKI              2kxP07DLgs4xlWz8YHlvfh  2054578   \n",
       "Rich Brian        2IDLDx25HU1nQMKde4n61a  2090502   \n",
       "BIBI              6UbmqUEgjLA6jAcXwbM1Z9   557710   \n",
       "Jackson Wang      1kfWoWgCugPkyxQP8lkRlY  3462002   \n",
       "CHUNG HA          2PSJ6YriU7JsFucxACpU7Y  1982522   \n",
       "Stephanie Poetri  0HS00NN7MAfF59aJnfcxSO   529495   \n",
       "Higher Brothers   07ZhipyrvoyNoJejeyM0PQ   266065   \n",
       "Mili              0K05TDnN7xPwIHDOwD2YYs   169374   \n",
       "Guapdad 4000      0NcPKaSNIHAM2RfioH9vMT   108350   \n",
       "\n",
       "                                                                  3  \n",
       "Joji                                                    [viral pop]  \n",
       "NIKI                                          [indonesian r&b, pop]  \n",
       "Rich Brian                                     [indonesian hip hop]  \n",
       "BIBI                                            [k-pop, korean r&b]  \n",
       "Jackson Wang                                                [k-pop]  \n",
       "CHUNG HA                                                    [k-pop]  \n",
       "Stephanie Poetri                                                 []  \n",
       "Higher Brothers                                   [chinese hip hop]  \n",
       "Mili                                                      [otacore]  \n",
       "Guapdad 4000      [cali rap, oakland hip hop, scam rap, trap sou...  "
      ]
     },
     "execution_count": 34,
     "metadata": {},
     "output_type": "execute_result"
    }
   ],
   "source": [
    "df = pd.DataFrame(artist_dict).transpose()\n",
    "df"
   ]
  },
  {
   "cell_type": "code",
   "execution_count": 31,
   "metadata": {},
   "outputs": [
    {
     "data": {
      "text/html": [
       "<div>\n",
       "<style scoped>\n",
       "    .dataframe tbody tr th:only-of-type {\n",
       "        vertical-align: middle;\n",
       "    }\n",
       "\n",
       "    .dataframe tbody tr th {\n",
       "        vertical-align: top;\n",
       "    }\n",
       "\n",
       "    .dataframe thead th {\n",
       "        text-align: right;\n",
       "    }\n",
       "</style>\n",
       "<table border=\"1\" class=\"dataframe\">\n",
       "  <thead>\n",
       "    <tr style=\"text-align: right;\">\n",
       "      <th></th>\n",
       "      <th>index</th>\n",
       "      <th>0</th>\n",
       "      <th>1</th>\n",
       "      <th>2</th>\n",
       "      <th>3</th>\n",
       "    </tr>\n",
       "  </thead>\n",
       "  <tbody>\n",
       "    <tr>\n",
       "      <th>0</th>\n",
       "      <td>Joji</td>\n",
       "      <td>https://open.spotify.com/artist/3MZsBdqDrRTJih...</td>\n",
       "      <td>3MZsBdqDrRTJihTHQrO6Dq</td>\n",
       "      <td>7318289</td>\n",
       "      <td>[viral pop]</td>\n",
       "    </tr>\n",
       "    <tr>\n",
       "      <th>1</th>\n",
       "      <td>NIKI</td>\n",
       "      <td>https://open.spotify.com/artist/2kxP07DLgs4xlW...</td>\n",
       "      <td>2kxP07DLgs4xlWz8YHlvfh</td>\n",
       "      <td>2054578</td>\n",
       "      <td>[indonesian r&amp;b, pop]</td>\n",
       "    </tr>\n",
       "    <tr>\n",
       "      <th>2</th>\n",
       "      <td>Rich Brian</td>\n",
       "      <td>https://open.spotify.com/artist/2IDLDx25HU1nQM...</td>\n",
       "      <td>2IDLDx25HU1nQMKde4n61a</td>\n",
       "      <td>2090502</td>\n",
       "      <td>[indonesian hip hop]</td>\n",
       "    </tr>\n",
       "    <tr>\n",
       "      <th>3</th>\n",
       "      <td>BIBI</td>\n",
       "      <td>https://open.spotify.com/artist/6UbmqUEgjLA6jA...</td>\n",
       "      <td>6UbmqUEgjLA6jAcXwbM1Z9</td>\n",
       "      <td>557710</td>\n",
       "      <td>[k-pop, korean r&amp;b]</td>\n",
       "    </tr>\n",
       "    <tr>\n",
       "      <th>4</th>\n",
       "      <td>Jackson Wang</td>\n",
       "      <td>https://open.spotify.com/artist/1kfWoWgCugPkyx...</td>\n",
       "      <td>1kfWoWgCugPkyxQP8lkRlY</td>\n",
       "      <td>3462002</td>\n",
       "      <td>[k-pop]</td>\n",
       "    </tr>\n",
       "    <tr>\n",
       "      <th>5</th>\n",
       "      <td>CHUNG HA</td>\n",
       "      <td>https://open.spotify.com/artist/2PSJ6YriU7JsFu...</td>\n",
       "      <td>2PSJ6YriU7JsFucxACpU7Y</td>\n",
       "      <td>1982522</td>\n",
       "      <td>[k-pop]</td>\n",
       "    </tr>\n",
       "    <tr>\n",
       "      <th>6</th>\n",
       "      <td>Stephanie Poetri</td>\n",
       "      <td>https://open.spotify.com/artist/0HS00NN7MAfF59...</td>\n",
       "      <td>0HS00NN7MAfF59aJnfcxSO</td>\n",
       "      <td>529495</td>\n",
       "      <td>[]</td>\n",
       "    </tr>\n",
       "    <tr>\n",
       "      <th>7</th>\n",
       "      <td>Higher Brothers</td>\n",
       "      <td>https://open.spotify.com/artist/07ZhipyrvoyNoJ...</td>\n",
       "      <td>07ZhipyrvoyNoJejeyM0PQ</td>\n",
       "      <td>266065</td>\n",
       "      <td>[chinese hip hop]</td>\n",
       "    </tr>\n",
       "    <tr>\n",
       "      <th>8</th>\n",
       "      <td>Mili</td>\n",
       "      <td>https://open.spotify.com/artist/0K05TDnN7xPwIH...</td>\n",
       "      <td>0K05TDnN7xPwIHDOwD2YYs</td>\n",
       "      <td>169374</td>\n",
       "      <td>[otacore]</td>\n",
       "    </tr>\n",
       "    <tr>\n",
       "      <th>9</th>\n",
       "      <td>Guapdad 4000</td>\n",
       "      <td>https://open.spotify.com/artist/0NcPKaSNIHAM2R...</td>\n",
       "      <td>0NcPKaSNIHAM2RfioH9vMT</td>\n",
       "      <td>108350</td>\n",
       "      <td>[cali rap, oakland hip hop, scam rap, trap sou...</td>\n",
       "    </tr>\n",
       "  </tbody>\n",
       "</table>\n",
       "</div>"
      ],
      "text/plain": [
       "              index                                                  0  \\\n",
       "0              Joji  https://open.spotify.com/artist/3MZsBdqDrRTJih...   \n",
       "1              NIKI  https://open.spotify.com/artist/2kxP07DLgs4xlW...   \n",
       "2        Rich Brian  https://open.spotify.com/artist/2IDLDx25HU1nQM...   \n",
       "3              BIBI  https://open.spotify.com/artist/6UbmqUEgjLA6jA...   \n",
       "4      Jackson Wang  https://open.spotify.com/artist/1kfWoWgCugPkyx...   \n",
       "5          CHUNG HA  https://open.spotify.com/artist/2PSJ6YriU7JsFu...   \n",
       "6  Stephanie Poetri  https://open.spotify.com/artist/0HS00NN7MAfF59...   \n",
       "7   Higher Brothers  https://open.spotify.com/artist/07ZhipyrvoyNoJ...   \n",
       "8              Mili  https://open.spotify.com/artist/0K05TDnN7xPwIH...   \n",
       "9      Guapdad 4000  https://open.spotify.com/artist/0NcPKaSNIHAM2R...   \n",
       "\n",
       "                        1        2  \\\n",
       "0  3MZsBdqDrRTJihTHQrO6Dq  7318289   \n",
       "1  2kxP07DLgs4xlWz8YHlvfh  2054578   \n",
       "2  2IDLDx25HU1nQMKde4n61a  2090502   \n",
       "3  6UbmqUEgjLA6jAcXwbM1Z9   557710   \n",
       "4  1kfWoWgCugPkyxQP8lkRlY  3462002   \n",
       "5  2PSJ6YriU7JsFucxACpU7Y  1982522   \n",
       "6  0HS00NN7MAfF59aJnfcxSO   529495   \n",
       "7  07ZhipyrvoyNoJejeyM0PQ   266065   \n",
       "8  0K05TDnN7xPwIHDOwD2YYs   169374   \n",
       "9  0NcPKaSNIHAM2RfioH9vMT   108350   \n",
       "\n",
       "                                                   3  \n",
       "0                                        [viral pop]  \n",
       "1                              [indonesian r&b, pop]  \n",
       "2                               [indonesian hip hop]  \n",
       "3                                [k-pop, korean r&b]  \n",
       "4                                            [k-pop]  \n",
       "5                                            [k-pop]  \n",
       "6                                                 []  \n",
       "7                                  [chinese hip hop]  \n",
       "8                                          [otacore]  \n",
       "9  [cali rap, oakland hip hop, scam rap, trap sou...  "
      ]
     },
     "execution_count": 31,
     "metadata": {},
     "output_type": "execute_result"
    }
   ],
   "source": [
    "df.reset_index(inplace=True)\n",
    "df"
   ]
  },
  {
   "cell_type": "code",
   "execution_count": 35,
   "metadata": {},
   "outputs": [
    {
     "data": {
      "text/html": [
       "<div>\n",
       "<style scoped>\n",
       "    .dataframe tbody tr th:only-of-type {\n",
       "        vertical-align: middle;\n",
       "    }\n",
       "\n",
       "    .dataframe tbody tr th {\n",
       "        vertical-align: top;\n",
       "    }\n",
       "\n",
       "    .dataframe thead th {\n",
       "        text-align: right;\n",
       "    }\n",
       "</style>\n",
       "<table border=\"1\" class=\"dataframe\">\n",
       "  <thead>\n",
       "    <tr style=\"text-align: right;\">\n",
       "      <th></th>\n",
       "      <th>url</th>\n",
       "      <th>artist_id</th>\n",
       "      <th>followers</th>\n",
       "      <th>genre</th>\n",
       "    </tr>\n",
       "  </thead>\n",
       "  <tbody>\n",
       "    <tr>\n",
       "      <th>Joji</th>\n",
       "      <td>https://open.spotify.com/artist/3MZsBdqDrRTJih...</td>\n",
       "      <td>3MZsBdqDrRTJihTHQrO6Dq</td>\n",
       "      <td>7318289</td>\n",
       "      <td>[viral pop]</td>\n",
       "    </tr>\n",
       "    <tr>\n",
       "      <th>NIKI</th>\n",
       "      <td>https://open.spotify.com/artist/2kxP07DLgs4xlW...</td>\n",
       "      <td>2kxP07DLgs4xlWz8YHlvfh</td>\n",
       "      <td>2054578</td>\n",
       "      <td>[indonesian r&amp;b, pop]</td>\n",
       "    </tr>\n",
       "    <tr>\n",
       "      <th>Rich Brian</th>\n",
       "      <td>https://open.spotify.com/artist/2IDLDx25HU1nQM...</td>\n",
       "      <td>2IDLDx25HU1nQMKde4n61a</td>\n",
       "      <td>2090502</td>\n",
       "      <td>[indonesian hip hop]</td>\n",
       "    </tr>\n",
       "    <tr>\n",
       "      <th>BIBI</th>\n",
       "      <td>https://open.spotify.com/artist/6UbmqUEgjLA6jA...</td>\n",
       "      <td>6UbmqUEgjLA6jAcXwbM1Z9</td>\n",
       "      <td>557710</td>\n",
       "      <td>[k-pop, korean r&amp;b]</td>\n",
       "    </tr>\n",
       "    <tr>\n",
       "      <th>Jackson Wang</th>\n",
       "      <td>https://open.spotify.com/artist/1kfWoWgCugPkyx...</td>\n",
       "      <td>1kfWoWgCugPkyxQP8lkRlY</td>\n",
       "      <td>3462002</td>\n",
       "      <td>[k-pop]</td>\n",
       "    </tr>\n",
       "    <tr>\n",
       "      <th>CHUNG HA</th>\n",
       "      <td>https://open.spotify.com/artist/2PSJ6YriU7JsFu...</td>\n",
       "      <td>2PSJ6YriU7JsFucxACpU7Y</td>\n",
       "      <td>1982522</td>\n",
       "      <td>[k-pop]</td>\n",
       "    </tr>\n",
       "    <tr>\n",
       "      <th>Stephanie Poetri</th>\n",
       "      <td>https://open.spotify.com/artist/0HS00NN7MAfF59...</td>\n",
       "      <td>0HS00NN7MAfF59aJnfcxSO</td>\n",
       "      <td>529495</td>\n",
       "      <td>[]</td>\n",
       "    </tr>\n",
       "    <tr>\n",
       "      <th>Higher Brothers</th>\n",
       "      <td>https://open.spotify.com/artist/07ZhipyrvoyNoJ...</td>\n",
       "      <td>07ZhipyrvoyNoJejeyM0PQ</td>\n",
       "      <td>266065</td>\n",
       "      <td>[chinese hip hop]</td>\n",
       "    </tr>\n",
       "    <tr>\n",
       "      <th>Mili</th>\n",
       "      <td>https://open.spotify.com/artist/0K05TDnN7xPwIH...</td>\n",
       "      <td>0K05TDnN7xPwIHDOwD2YYs</td>\n",
       "      <td>169374</td>\n",
       "      <td>[otacore]</td>\n",
       "    </tr>\n",
       "    <tr>\n",
       "      <th>Guapdad 4000</th>\n",
       "      <td>https://open.spotify.com/artist/0NcPKaSNIHAM2R...</td>\n",
       "      <td>0NcPKaSNIHAM2RfioH9vMT</td>\n",
       "      <td>108350</td>\n",
       "      <td>[cali rap, oakland hip hop, scam rap, trap sou...</td>\n",
       "    </tr>\n",
       "  </tbody>\n",
       "</table>\n",
       "</div>"
      ],
      "text/plain": [
       "                                                                url  \\\n",
       "Joji              https://open.spotify.com/artist/3MZsBdqDrRTJih...   \n",
       "NIKI              https://open.spotify.com/artist/2kxP07DLgs4xlW...   \n",
       "Rich Brian        https://open.spotify.com/artist/2IDLDx25HU1nQM...   \n",
       "BIBI              https://open.spotify.com/artist/6UbmqUEgjLA6jA...   \n",
       "Jackson Wang      https://open.spotify.com/artist/1kfWoWgCugPkyx...   \n",
       "CHUNG HA          https://open.spotify.com/artist/2PSJ6YriU7JsFu...   \n",
       "Stephanie Poetri  https://open.spotify.com/artist/0HS00NN7MAfF59...   \n",
       "Higher Brothers   https://open.spotify.com/artist/07ZhipyrvoyNoJ...   \n",
       "Mili              https://open.spotify.com/artist/0K05TDnN7xPwIH...   \n",
       "Guapdad 4000      https://open.spotify.com/artist/0NcPKaSNIHAM2R...   \n",
       "\n",
       "                               artist_id followers  \\\n",
       "Joji              3MZsBdqDrRTJihTHQrO6Dq   7318289   \n",
       "NIKI              2kxP07DLgs4xlWz8YHlvfh   2054578   \n",
       "Rich Brian        2IDLDx25HU1nQMKde4n61a   2090502   \n",
       "BIBI              6UbmqUEgjLA6jAcXwbM1Z9    557710   \n",
       "Jackson Wang      1kfWoWgCugPkyxQP8lkRlY   3462002   \n",
       "CHUNG HA          2PSJ6YriU7JsFucxACpU7Y   1982522   \n",
       "Stephanie Poetri  0HS00NN7MAfF59aJnfcxSO    529495   \n",
       "Higher Brothers   07ZhipyrvoyNoJejeyM0PQ    266065   \n",
       "Mili              0K05TDnN7xPwIHDOwD2YYs    169374   \n",
       "Guapdad 4000      0NcPKaSNIHAM2RfioH9vMT    108350   \n",
       "\n",
       "                                                              genre  \n",
       "Joji                                                    [viral pop]  \n",
       "NIKI                                          [indonesian r&b, pop]  \n",
       "Rich Brian                                     [indonesian hip hop]  \n",
       "BIBI                                            [k-pop, korean r&b]  \n",
       "Jackson Wang                                                [k-pop]  \n",
       "CHUNG HA                                                    [k-pop]  \n",
       "Stephanie Poetri                                                 []  \n",
       "Higher Brothers                                   [chinese hip hop]  \n",
       "Mili                                                      [otacore]  \n",
       "Guapdad 4000      [cali rap, oakland hip hop, scam rap, trap sou...  "
      ]
     },
     "execution_count": 35,
     "metadata": {},
     "output_type": "execute_result"
    }
   ],
   "source": [
    "df = df.rename(columns={'index':'artist',0:'url',1:'artist_id',2:'followers',3:'genre'})\n",
    "df\n"
   ]
  },
  {
   "cell_type": "code",
   "execution_count": 70,
   "metadata": {},
   "outputs": [
    {
     "data": {
      "text/html": [
       "<div>\n",
       "<style scoped>\n",
       "    .dataframe tbody tr th:only-of-type {\n",
       "        vertical-align: middle;\n",
       "    }\n",
       "\n",
       "    .dataframe tbody tr th {\n",
       "        vertical-align: top;\n",
       "    }\n",
       "\n",
       "    .dataframe thead th {\n",
       "        text-align: right;\n",
       "    }\n",
       "</style>\n",
       "<table border=\"1\" class=\"dataframe\">\n",
       "  <thead>\n",
       "    <tr style=\"text-align: right;\">\n",
       "      <th></th>\n",
       "      <th>url</th>\n",
       "      <th>artist_id</th>\n",
       "      <th>followers</th>\n",
       "      <th>genre</th>\n",
       "      <th>monthly_listeners</th>\n",
       "    </tr>\n",
       "  </thead>\n",
       "  <tbody>\n",
       "    <tr>\n",
       "      <th>Joji</th>\n",
       "      <td>https://open.spotify.com/artist/3MZsBdqDrRTJih...</td>\n",
       "      <td>3MZsBdqDrRTJihTHQrO6Dq</td>\n",
       "      <td>7318289</td>\n",
       "      <td>[viral pop]</td>\n",
       "      <td></td>\n",
       "    </tr>\n",
       "    <tr>\n",
       "      <th>NIKI</th>\n",
       "      <td>https://open.spotify.com/artist/2kxP07DLgs4xlW...</td>\n",
       "      <td>2kxP07DLgs4xlWz8YHlvfh</td>\n",
       "      <td>2054578</td>\n",
       "      <td>[indonesian r&amp;b, pop]</td>\n",
       "      <td></td>\n",
       "    </tr>\n",
       "    <tr>\n",
       "      <th>Rich Brian</th>\n",
       "      <td>https://open.spotify.com/artist/2IDLDx25HU1nQM...</td>\n",
       "      <td>2IDLDx25HU1nQMKde4n61a</td>\n",
       "      <td>2090502</td>\n",
       "      <td>[indonesian hip hop]</td>\n",
       "      <td></td>\n",
       "    </tr>\n",
       "    <tr>\n",
       "      <th>BIBI</th>\n",
       "      <td>https://open.spotify.com/artist/6UbmqUEgjLA6jA...</td>\n",
       "      <td>6UbmqUEgjLA6jAcXwbM1Z9</td>\n",
       "      <td>557710</td>\n",
       "      <td>[k-pop, korean r&amp;b]</td>\n",
       "      <td></td>\n",
       "    </tr>\n",
       "    <tr>\n",
       "      <th>Jackson Wang</th>\n",
       "      <td>https://open.spotify.com/artist/1kfWoWgCugPkyx...</td>\n",
       "      <td>1kfWoWgCugPkyxQP8lkRlY</td>\n",
       "      <td>3462002</td>\n",
       "      <td>[k-pop]</td>\n",
       "      <td></td>\n",
       "    </tr>\n",
       "  </tbody>\n",
       "</table>\n",
       "</div>"
      ],
      "text/plain": [
       "                                                            url  \\\n",
       "Joji          https://open.spotify.com/artist/3MZsBdqDrRTJih...   \n",
       "NIKI          https://open.spotify.com/artist/2kxP07DLgs4xlW...   \n",
       "Rich Brian    https://open.spotify.com/artist/2IDLDx25HU1nQM...   \n",
       "BIBI          https://open.spotify.com/artist/6UbmqUEgjLA6jA...   \n",
       "Jackson Wang  https://open.spotify.com/artist/1kfWoWgCugPkyx...   \n",
       "\n",
       "                           artist_id followers                  genre  \\\n",
       "Joji          3MZsBdqDrRTJihTHQrO6Dq   7318289            [viral pop]   \n",
       "NIKI          2kxP07DLgs4xlWz8YHlvfh   2054578  [indonesian r&b, pop]   \n",
       "Rich Brian    2IDLDx25HU1nQMKde4n61a   2090502   [indonesian hip hop]   \n",
       "BIBI          6UbmqUEgjLA6jAcXwbM1Z9    557710    [k-pop, korean r&b]   \n",
       "Jackson Wang  1kfWoWgCugPkyxQP8lkRlY   3462002                [k-pop]   \n",
       "\n",
       "             monthly_listeners  \n",
       "Joji                            \n",
       "NIKI                            \n",
       "Rich Brian                      \n",
       "BIBI                            \n",
       "Jackson Wang                    "
      ]
     },
     "execution_count": 70,
     "metadata": {},
     "output_type": "execute_result"
    }
   ],
   "source": [
    "df['monthly_listeners'] = '' \n",
    "df.head()"
   ]
  },
  {
   "cell_type": "code",
   "execution_count": 71,
   "metadata": {},
   "outputs": [
    {
     "data": {
      "text/plain": [
       "url                  object\n",
       "artist_id            object\n",
       "followers            object\n",
       "genre                object\n",
       "monthly_listeners    object\n",
       "dtype: object"
      ]
     },
     "execution_count": 71,
     "metadata": {},
     "output_type": "execute_result"
    }
   ],
   "source": [
    "df.dtypes"
   ]
  },
  {
   "cell_type": "code",
   "execution_count": null,
   "metadata": {},
   "outputs": [],
   "source": [
    "# dtype_d = {\"followers\": \"int64\", \"monthly_listeners\": \"int64\"} \n",
    "# df = df.astype(dtype_d)"
   ]
  },
  {
   "cell_type": "code",
   "execution_count": 14,
   "metadata": {},
   "outputs": [],
   "source": [
    "# Setup splinter\n",
    "executable_path = {'executable_path': ChromeDriverManager().install()}\n",
    "browser = Browser('chrome', **executable_path, headless=False)"
   ]
  },
  {
   "cell_type": "code",
   "execution_count": 15,
   "metadata": {},
   "outputs": [],
   "source": [
    "# # Initialize PyMongo to work with MongoDBs\n",
    "# conn = 'mongodb://localhost:27017'\n",
    "# client = pymongo.MongoClient(conn)"
   ]
  },
  {
   "cell_type": "code",
   "execution_count": 16,
   "metadata": {},
   "outputs": [],
   "source": [
    "# # Define database and collection\n",
    "# db = client.artist_db\n",
    "# collection = db.items"
   ]
  },
  {
   "cell_type": "code",
   "execution_count": 99,
   "metadata": {},
   "outputs": [
    {
     "ename": "AttributeError",
     "evalue": "'str' object has no attribute 'list'",
     "output_type": "error",
     "traceback": [
      "\u001b[0;31m---------------------------------------------------------------------------\u001b[0m",
      "\u001b[0;31mAttributeError\u001b[0m                            Traceback (most recent call last)",
      "\u001b[1;32m/Users/og/Desktop/Data - Challenges/Project-3/88RisingArtists/webscrape.ipynb Cell 19\u001b[0m in \u001b[0;36m<cell line: 2>\u001b[0;34m()\u001b[0m\n\u001b[1;32m      <a href='vscode-notebook-cell:/Users/og/Desktop/Data%20-%20Challenges/Project-3/88RisingArtists/webscrape.ipynb#X22sZmlsZQ%3D%3D?line=4'>5</a>\u001b[0m \u001b[39mid\u001b[39m \u001b[39m=\u001b[39m row[\u001b[39m'\u001b[39m\u001b[39martist_id\u001b[39m\u001b[39m'\u001b[39m]\n\u001b[1;32m      <a href='vscode-notebook-cell:/Users/og/Desktop/Data%20-%20Challenges/Project-3/88RisingArtists/webscrape.ipynb#X22sZmlsZQ%3D%3D?line=5'>6</a>\u001b[0m \u001b[39mtry\u001b[39;00m:\n\u001b[0;32m----> <a href='vscode-notebook-cell:/Users/og/Desktop/Data%20-%20Challenges/Project-3/88RisingArtists/webscrape.ipynb#X22sZmlsZQ%3D%3D?line=6'>7</a>\u001b[0m     \u001b[39mprint\u001b[39m (\u001b[39mf\u001b[39m\u001b[39m\"\u001b[39m\u001b[39m{\u001b[39;00m\u001b[39mid\u001b[39m\u001b[39m.\u001b[39mlist()\u001b[39m}\u001b[39;00m\u001b[39m\"\u001b[39m)\n\u001b[1;32m      <a href='vscode-notebook-cell:/Users/og/Desktop/Data%20-%20Challenges/Project-3/88RisingArtists/webscrape.ipynb#X22sZmlsZQ%3D%3D?line=8'>9</a>\u001b[0m \u001b[39mexcept\u001b[39;00m \u001b[39mKeyError\u001b[39;00m:\n\u001b[1;32m     <a href='vscode-notebook-cell:/Users/og/Desktop/Data%20-%20Challenges/Project-3/88RisingArtists/webscrape.ipynb#X22sZmlsZQ%3D%3D?line=9'>10</a>\u001b[0m     \u001b[39mprint\u001b[39m(\u001b[39mKeyError\u001b[39;00m)\n",
      "\u001b[0;31mAttributeError\u001b[0m: 'str' object has no attribute 'list'"
     ]
    }
   ],
   "source": [
    "# use iterrows to iterate through pandas dataframe\n",
    "for index, row in df.iterrows():\n",
    "    \n",
    "    ids = []\n",
    "    id = row['artist_id']\n",
    "    try:\n",
    "        print (f\"{id}\")\n",
    "\n",
    "    except KeyError:\n",
    "        print(KeyError)\n"
   ]
  },
  {
   "cell_type": "code",
   "execution_count": 76,
   "metadata": {},
   "outputs": [
    {
     "data": {
      "text/plain": [
       "['3MZsBdqDrRTJihTHQrO6Dq',\n",
       " '2kxP07DLgs4xlWz8YHlvfh',\n",
       " '2IDLDx25HU1nQMKde4n61a',\n",
       " '6UbmqUEgjLA6jAcXwbM1Z9',\n",
       " '1kfWoWgCugPkyxQP8lkRlY',\n",
       " '2PSJ6YriU7JsFucxACpU7Y',\n",
       " '0HS00NN7MAfF59aJnfcxSO',\n",
       " '07ZhipyrvoyNoJejeyM0PQ',\n",
       " '0K05TDnN7xPwIHDOwD2YYs',\n",
       " '0NcPKaSNIHAM2RfioH9vMT']"
      ]
     },
     "execution_count": 76,
     "metadata": {},
     "output_type": "execute_result"
    }
   ],
   "source": [
    "list = df[\"artist_id\"].tolist()\n",
    "list\n"
   ]
  },
  {
   "cell_type": "code",
   "execution_count": 39,
   "metadata": {},
   "outputs": [],
   "source": [
    "url = 'https://open.spotify.com/artist/3MZsBdqDrRTJihTHQrO6Dq'\n",
    "browser.visit(url)"
   ]
  },
  {
   "cell_type": "code",
   "execution_count": 40,
   "metadata": {},
   "outputs": [],
   "source": [
    "html = browser.html\n",
    "soup = bs(html, 'html.parser')"
   ]
  },
  {
   "cell_type": "code",
   "execution_count": 41,
   "metadata": {},
   "outputs": [
    {
     "name": "stdout",
     "output_type": "stream",
     "text": [
      "-------------\n",
      "33124213\n",
      "-------------\n"
     ]
    }
   ],
   "source": [
    "# Examine the results, then determine element that contain listeners\n",
    "# Results are returned as an iterable list\n",
    "\n",
    "results = soup.find_all('div', class_='RP2rRchy4i8TIp1CTmb7')\n",
    "\n",
    "# Loop through results\n",
    "for result in results:\n",
    "    # Error handling\n",
    "    try:\n",
    "        # Identify span with listener value:\n",
    "        listeners = result.find('span', class_='Ydwa1P5GkCggtLlSvphs').text\n",
    "\n",
    "        if (listeners):\n",
    "            # Print results:\n",
    "            print('-------------')\n",
    "            print(listeners.split()[0].replace(',', ''))\n",
    "            print('-------------')\n",
    "        \n",
    "    except Exception as e:\n",
    "        print(e)\n",
    "\n",
    "\n",
    "        # Dictionary to be inserted as a MongoDB document\n",
    "        # post = {\n",
    "        #     'Followers': listeners,\n",
    "        # }\n",
    "\n",
    "        # collection.insert_one(post)"
   ]
  },
  {
   "cell_type": "code",
   "execution_count": 96,
   "metadata": {},
   "outputs": [
    {
     "name": "stdout",
     "output_type": "stream",
     "text": [
      "33124213\n",
      "9839486\n",
      "8588206\n",
      "3457047\n",
      "3187264\n",
      "2892132\n",
      "1709685\n",
      "1503020\n",
      "426976\n",
      "884421\n"
     ]
    }
   ],
   "source": [
    "\n",
    "executable_path = {'executable_path': ChromeDriverManager().install()}\n",
    "browser = Browser('chrome', **executable_path, headless=False)\n",
    "  \n",
    "for i in list:\n",
    "      # pls note that the total number of\n",
    "    # pages in the website is more than 5000 so i'm only taking the\n",
    "    # first 10 as this is just an example\n",
    "    url= 'https://open.spotify.com/artist'\n",
    "    browser.visit((\"{}/{}\".format(url,i)))\n",
    "    time.sleep(10)\n",
    "\n",
    "    html = browser.html\n",
    "    soup = bs(html, 'html.parser')\n",
    "\n",
    "    results = soup.find_all('div', class_='RP2rRchy4i8TIp1CTmb7')\n",
    "\n",
    "    # Loop through results\n",
    "    for result in results:\n",
    "        # Error handling\n",
    "        try:\n",
    "            # Identify span with listener value:\n",
    "            listeners = result.find('span', class_='Ydwa1P5GkCggtLlSvphs').text\n",
    "\n",
    "            if (listeners):\n",
    "                # Print results:\n",
    "                print(listeners.split()[0].replace(',', ''))\n",
    "                time.sleep(5)\n",
    "    \n",
    "            \n",
    "        except Exception as e:\n",
    "            print(e)"
   ]
  },
  {
   "cell_type": "code",
   "execution_count": 97,
   "metadata": {},
   "outputs": [],
   "source": [
    "browser.quit()"
   ]
  }
 ],
 "metadata": {
  "kernelspec": {
   "display_name": "Python 3.9.12 ('base')",
   "language": "python",
   "name": "python3"
  },
  "language_info": {
   "codemirror_mode": {
    "name": "ipython",
    "version": 3
   },
   "file_extension": ".py",
   "mimetype": "text/x-python",
   "name": "python",
   "nbconvert_exporter": "python",
   "pygments_lexer": "ipython3",
   "version": "3.9.12"
  },
  "orig_nbformat": 4,
  "vscode": {
   "interpreter": {
    "hash": "aea3586fa6990ac190289595ab990eef45803da6fa4c3d19da3f2714bb971529"
   }
  }
 },
 "nbformat": 4,
 "nbformat_minor": 2
}
