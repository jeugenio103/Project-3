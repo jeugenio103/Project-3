{
 "cells": [
  {
   "cell_type": "code",
   "execution_count": 76,
   "metadata": {},
   "outputs": [],
   "source": [
    "#Import Dependencies \n",
    "import spotipy \n",
    "from spotipy.oauth2 import SpotifyClientCredentials\n",
    "import base64\n",
    "from config import client_id, client_secret\n",
    "import pandas as pd\n",
    "from urllib.parse import urlencode\n",
    "from pprint import pprint\n",
    "from risingArtistDict import artist\n",
    "from bs4 import BeautifulSoup as bs\n",
    "from splinter import Browser \n",
    "from bs4 import BeautifulSoup\n",
    "from webdriver_manager.chrome import ChromeDriverManager\n",
    "import pymongo"
   ]
  },
  {
   "cell_type": "code",
   "execution_count": 2,
   "metadata": {},
   "outputs": [],
   "source": [
    "#Sign in thru Spotidy credtentials from dashboard \n",
    "client_credentials_manager = SpotifyClientCredentials(client_id,client_secret)\n",
    "\n",
    "#Authorize credentials with token \n",
    "sp = spotipy.Spotify(client_credentials_manager=client_credentials_manager)"
   ]
  },
  {
   "cell_type": "code",
   "execution_count": 4,
   "metadata": {},
   "outputs": [
    {
     "data": {
      "text/plain": [
       "['Joji',\n",
       " 'NIKI',\n",
       " 'Rich Brian',\n",
       " 'BIBI',\n",
       " 'Jackson Wang',\n",
       " 'CHUNG HA',\n",
       " 'Stephanie Poetri',\n",
       " 'Higher Brothers',\n",
       " 'Mili',\n",
       " 'Guapdad 4000']"
      ]
     },
     "execution_count": 4,
     "metadata": {},
     "output_type": "execute_result"
    }
   ],
   "source": [
    "artist"
   ]
  },
  {
   "cell_type": "code",
   "execution_count": null,
   "metadata": {},
   "outputs": [],
   "source": [
    "results = sp.search('Stephanie Poetri', type='artist', limit='01')\n",
    "pprint(results)"
   ]
  },
  {
   "cell_type": "code",
   "execution_count": 9,
   "metadata": {},
   "outputs": [
    {
     "data": {
      "text/plain": [
       "'https://open.spotify.com/artist/2IDLDx25HU1nQMKde4n61a'"
      ]
     },
     "execution_count": 9,
     "metadata": {},
     "output_type": "execute_result"
    }
   ],
   "source": [
    "artist_id = results['artists']['items'][0]['external_urls']['spotify']\n",
    "artist_id"
   ]
  },
  {
   "cell_type": "code",
   "execution_count": 29,
   "metadata": {},
   "outputs": [],
   "source": [
    "def getArtistSite(artist):\n",
    "\n",
    "    ids = []\n",
    "    results = sp.search(artist, type='artist',limit='05')\n",
    "\n",
    "    ids.append(results['artists']['items'][0]['external_urls']['spotify'])\n",
    "    ids.append(results['artists']['items'][0]['followers']['total'])\n",
    "    ids.append(results['artists']['items'][0]['genres'])\n",
    "\n",
    "    return ids "
   ]
  },
  {
   "cell_type": "code",
   "execution_count": 30,
   "metadata": {},
   "outputs": [
    {
     "data": {
      "text/plain": [
       "['https://open.spotify.com/artist/3MZsBdqDrRTJihTHQrO6Dq',\n",
       " 7318289,\n",
       " ['viral pop']]"
      ]
     },
     "execution_count": 30,
     "metadata": {},
     "output_type": "execute_result"
    }
   ],
   "source": [
    "site_id = getArtistSite(artist)\n",
    "site_id"
   ]
  },
  {
   "cell_type": "code",
   "execution_count": 32,
   "metadata": {},
   "outputs": [],
   "source": [
    "artist_dict = {}\n",
    "for a in artist:\n",
    "    a_id = getArtistSite(a)\n",
    "    artist_dict[a] = a_id"
   ]
  },
  {
   "cell_type": "code",
   "execution_count": 34,
   "metadata": {},
   "outputs": [
    {
     "data": {
      "text/plain": [
       "{'Joji': ['https://open.spotify.com/artist/3MZsBdqDrRTJihTHQrO6Dq',\n",
       "  7318289,\n",
       "  ['viral pop']],\n",
       " 'NIKI': ['https://open.spotify.com/artist/2kxP07DLgs4xlWz8YHlvfh',\n",
       "  2054578,\n",
       "  ['indonesian r&b', 'pop']],\n",
       " 'Rich Brian': ['https://open.spotify.com/artist/2IDLDx25HU1nQMKde4n61a',\n",
       "  2090502,\n",
       "  ['indonesian hip hop']],\n",
       " 'BIBI': ['https://open.spotify.com/artist/6UbmqUEgjLA6jAcXwbM1Z9',\n",
       "  557710,\n",
       "  ['k-pop', 'korean r&b']],\n",
       " 'Jackson Wang': ['https://open.spotify.com/artist/1kfWoWgCugPkyxQP8lkRlY',\n",
       "  3462002,\n",
       "  ['k-pop']],\n",
       " 'CHUNG HA': ['https://open.spotify.com/artist/2PSJ6YriU7JsFucxACpU7Y',\n",
       "  1982522,\n",
       "  ['k-pop']],\n",
       " 'Stephanie Poetri': ['https://open.spotify.com/artist/0HS00NN7MAfF59aJnfcxSO',\n",
       "  529495,\n",
       "  []],\n",
       " 'Higher Brothers': ['https://open.spotify.com/artist/07ZhipyrvoyNoJejeyM0PQ',\n",
       "  266065,\n",
       "  ['chinese hip hop']],\n",
       " 'Mili': ['https://open.spotify.com/artist/0K05TDnN7xPwIHDOwD2YYs',\n",
       "  169374,\n",
       "  ['otacore']],\n",
       " 'Guapdad 4000': ['https://open.spotify.com/artist/0NcPKaSNIHAM2RfioH9vMT',\n",
       "  108350,\n",
       "  ['cali rap',\n",
       "   'oakland hip hop',\n",
       "   'scam rap',\n",
       "   'trap soul',\n",
       "   'underground hip hop',\n",
       "   'vapor trap',\n",
       "   'viral rap']]}"
      ]
     },
     "execution_count": 34,
     "metadata": {},
     "output_type": "execute_result"
    }
   ],
   "source": [
    "artist_dict"
   ]
  },
  {
   "cell_type": "code",
   "execution_count": 71,
   "metadata": {},
   "outputs": [
    {
     "data": {
      "text/html": [
       "<div>\n",
       "<style scoped>\n",
       "    .dataframe tbody tr th:only-of-type {\n",
       "        vertical-align: middle;\n",
       "    }\n",
       "\n",
       "    .dataframe tbody tr th {\n",
       "        vertical-align: top;\n",
       "    }\n",
       "\n",
       "    .dataframe thead th {\n",
       "        text-align: right;\n",
       "    }\n",
       "</style>\n",
       "<table border=\"1\" class=\"dataframe\">\n",
       "  <thead>\n",
       "    <tr style=\"text-align: right;\">\n",
       "      <th></th>\n",
       "      <th>0</th>\n",
       "      <th>1</th>\n",
       "      <th>2</th>\n",
       "    </tr>\n",
       "  </thead>\n",
       "  <tbody>\n",
       "    <tr>\n",
       "      <th>Joji</th>\n",
       "      <td>https://open.spotify.com/artist/3MZsBdqDrRTJih...</td>\n",
       "      <td>7318289</td>\n",
       "      <td>[viral pop]</td>\n",
       "    </tr>\n",
       "    <tr>\n",
       "      <th>NIKI</th>\n",
       "      <td>https://open.spotify.com/artist/2kxP07DLgs4xlW...</td>\n",
       "      <td>2054578</td>\n",
       "      <td>[indonesian r&amp;b, pop]</td>\n",
       "    </tr>\n",
       "    <tr>\n",
       "      <th>Rich Brian</th>\n",
       "      <td>https://open.spotify.com/artist/2IDLDx25HU1nQM...</td>\n",
       "      <td>2090502</td>\n",
       "      <td>[indonesian hip hop]</td>\n",
       "    </tr>\n",
       "    <tr>\n",
       "      <th>BIBI</th>\n",
       "      <td>https://open.spotify.com/artist/6UbmqUEgjLA6jA...</td>\n",
       "      <td>557710</td>\n",
       "      <td>[k-pop, korean r&amp;b]</td>\n",
       "    </tr>\n",
       "    <tr>\n",
       "      <th>Jackson Wang</th>\n",
       "      <td>https://open.spotify.com/artist/1kfWoWgCugPkyx...</td>\n",
       "      <td>3462002</td>\n",
       "      <td>[k-pop]</td>\n",
       "    </tr>\n",
       "    <tr>\n",
       "      <th>CHUNG HA</th>\n",
       "      <td>https://open.spotify.com/artist/2PSJ6YriU7JsFu...</td>\n",
       "      <td>1982522</td>\n",
       "      <td>[k-pop]</td>\n",
       "    </tr>\n",
       "    <tr>\n",
       "      <th>Stephanie Poetri</th>\n",
       "      <td>https://open.spotify.com/artist/0HS00NN7MAfF59...</td>\n",
       "      <td>529495</td>\n",
       "      <td>[]</td>\n",
       "    </tr>\n",
       "    <tr>\n",
       "      <th>Higher Brothers</th>\n",
       "      <td>https://open.spotify.com/artist/07ZhipyrvoyNoJ...</td>\n",
       "      <td>266065</td>\n",
       "      <td>[chinese hip hop]</td>\n",
       "    </tr>\n",
       "    <tr>\n",
       "      <th>Mili</th>\n",
       "      <td>https://open.spotify.com/artist/0K05TDnN7xPwIH...</td>\n",
       "      <td>169374</td>\n",
       "      <td>[otacore]</td>\n",
       "    </tr>\n",
       "    <tr>\n",
       "      <th>Guapdad 4000</th>\n",
       "      <td>https://open.spotify.com/artist/0NcPKaSNIHAM2R...</td>\n",
       "      <td>108350</td>\n",
       "      <td>[cali rap, oakland hip hop, scam rap, trap sou...</td>\n",
       "    </tr>\n",
       "  </tbody>\n",
       "</table>\n",
       "</div>"
      ],
      "text/plain": [
       "                                                                  0        1  \\\n",
       "Joji              https://open.spotify.com/artist/3MZsBdqDrRTJih...  7318289   \n",
       "NIKI              https://open.spotify.com/artist/2kxP07DLgs4xlW...  2054578   \n",
       "Rich Brian        https://open.spotify.com/artist/2IDLDx25HU1nQM...  2090502   \n",
       "BIBI              https://open.spotify.com/artist/6UbmqUEgjLA6jA...   557710   \n",
       "Jackson Wang      https://open.spotify.com/artist/1kfWoWgCugPkyx...  3462002   \n",
       "CHUNG HA          https://open.spotify.com/artist/2PSJ6YriU7JsFu...  1982522   \n",
       "Stephanie Poetri  https://open.spotify.com/artist/0HS00NN7MAfF59...   529495   \n",
       "Higher Brothers   https://open.spotify.com/artist/07ZhipyrvoyNoJ...   266065   \n",
       "Mili              https://open.spotify.com/artist/0K05TDnN7xPwIH...   169374   \n",
       "Guapdad 4000      https://open.spotify.com/artist/0NcPKaSNIHAM2R...   108350   \n",
       "\n",
       "                                                                  2  \n",
       "Joji                                                    [viral pop]  \n",
       "NIKI                                          [indonesian r&b, pop]  \n",
       "Rich Brian                                     [indonesian hip hop]  \n",
       "BIBI                                            [k-pop, korean r&b]  \n",
       "Jackson Wang                                                [k-pop]  \n",
       "CHUNG HA                                                    [k-pop]  \n",
       "Stephanie Poetri                                                 []  \n",
       "Higher Brothers                                   [chinese hip hop]  \n",
       "Mili                                                      [otacore]  \n",
       "Guapdad 4000      [cali rap, oakland hip hop, scam rap, trap sou...  "
      ]
     },
     "execution_count": 71,
     "metadata": {},
     "output_type": "execute_result"
    }
   ],
   "source": [
    "df = pd.DataFrame(artist_dict).transpose()\n",
    "df"
   ]
  },
  {
   "cell_type": "code",
   "execution_count": 72,
   "metadata": {},
   "outputs": [
    {
     "data": {
      "text/html": [
       "<div>\n",
       "<style scoped>\n",
       "    .dataframe tbody tr th:only-of-type {\n",
       "        vertical-align: middle;\n",
       "    }\n",
       "\n",
       "    .dataframe tbody tr th {\n",
       "        vertical-align: top;\n",
       "    }\n",
       "\n",
       "    .dataframe thead th {\n",
       "        text-align: right;\n",
       "    }\n",
       "</style>\n",
       "<table border=\"1\" class=\"dataframe\">\n",
       "  <thead>\n",
       "    <tr style=\"text-align: right;\">\n",
       "      <th></th>\n",
       "      <th>index</th>\n",
       "      <th>0</th>\n",
       "      <th>1</th>\n",
       "      <th>2</th>\n",
       "    </tr>\n",
       "  </thead>\n",
       "  <tbody>\n",
       "    <tr>\n",
       "      <th>0</th>\n",
       "      <td>Joji</td>\n",
       "      <td>https://open.spotify.com/artist/3MZsBdqDrRTJih...</td>\n",
       "      <td>7318289</td>\n",
       "      <td>[viral pop]</td>\n",
       "    </tr>\n",
       "    <tr>\n",
       "      <th>1</th>\n",
       "      <td>NIKI</td>\n",
       "      <td>https://open.spotify.com/artist/2kxP07DLgs4xlW...</td>\n",
       "      <td>2054578</td>\n",
       "      <td>[indonesian r&amp;b, pop]</td>\n",
       "    </tr>\n",
       "    <tr>\n",
       "      <th>2</th>\n",
       "      <td>Rich Brian</td>\n",
       "      <td>https://open.spotify.com/artist/2IDLDx25HU1nQM...</td>\n",
       "      <td>2090502</td>\n",
       "      <td>[indonesian hip hop]</td>\n",
       "    </tr>\n",
       "    <tr>\n",
       "      <th>3</th>\n",
       "      <td>BIBI</td>\n",
       "      <td>https://open.spotify.com/artist/6UbmqUEgjLA6jA...</td>\n",
       "      <td>557710</td>\n",
       "      <td>[k-pop, korean r&amp;b]</td>\n",
       "    </tr>\n",
       "    <tr>\n",
       "      <th>4</th>\n",
       "      <td>Jackson Wang</td>\n",
       "      <td>https://open.spotify.com/artist/1kfWoWgCugPkyx...</td>\n",
       "      <td>3462002</td>\n",
       "      <td>[k-pop]</td>\n",
       "    </tr>\n",
       "    <tr>\n",
       "      <th>5</th>\n",
       "      <td>CHUNG HA</td>\n",
       "      <td>https://open.spotify.com/artist/2PSJ6YriU7JsFu...</td>\n",
       "      <td>1982522</td>\n",
       "      <td>[k-pop]</td>\n",
       "    </tr>\n",
       "    <tr>\n",
       "      <th>6</th>\n",
       "      <td>Stephanie Poetri</td>\n",
       "      <td>https://open.spotify.com/artist/0HS00NN7MAfF59...</td>\n",
       "      <td>529495</td>\n",
       "      <td>[]</td>\n",
       "    </tr>\n",
       "    <tr>\n",
       "      <th>7</th>\n",
       "      <td>Higher Brothers</td>\n",
       "      <td>https://open.spotify.com/artist/07ZhipyrvoyNoJ...</td>\n",
       "      <td>266065</td>\n",
       "      <td>[chinese hip hop]</td>\n",
       "    </tr>\n",
       "    <tr>\n",
       "      <th>8</th>\n",
       "      <td>Mili</td>\n",
       "      <td>https://open.spotify.com/artist/0K05TDnN7xPwIH...</td>\n",
       "      <td>169374</td>\n",
       "      <td>[otacore]</td>\n",
       "    </tr>\n",
       "    <tr>\n",
       "      <th>9</th>\n",
       "      <td>Guapdad 4000</td>\n",
       "      <td>https://open.spotify.com/artist/0NcPKaSNIHAM2R...</td>\n",
       "      <td>108350</td>\n",
       "      <td>[cali rap, oakland hip hop, scam rap, trap sou...</td>\n",
       "    </tr>\n",
       "  </tbody>\n",
       "</table>\n",
       "</div>"
      ],
      "text/plain": [
       "              index                                                  0  \\\n",
       "0              Joji  https://open.spotify.com/artist/3MZsBdqDrRTJih...   \n",
       "1              NIKI  https://open.spotify.com/artist/2kxP07DLgs4xlW...   \n",
       "2        Rich Brian  https://open.spotify.com/artist/2IDLDx25HU1nQM...   \n",
       "3              BIBI  https://open.spotify.com/artist/6UbmqUEgjLA6jA...   \n",
       "4      Jackson Wang  https://open.spotify.com/artist/1kfWoWgCugPkyx...   \n",
       "5          CHUNG HA  https://open.spotify.com/artist/2PSJ6YriU7JsFu...   \n",
       "6  Stephanie Poetri  https://open.spotify.com/artist/0HS00NN7MAfF59...   \n",
       "7   Higher Brothers  https://open.spotify.com/artist/07ZhipyrvoyNoJ...   \n",
       "8              Mili  https://open.spotify.com/artist/0K05TDnN7xPwIH...   \n",
       "9      Guapdad 4000  https://open.spotify.com/artist/0NcPKaSNIHAM2R...   \n",
       "\n",
       "         1                                                  2  \n",
       "0  7318289                                        [viral pop]  \n",
       "1  2054578                              [indonesian r&b, pop]  \n",
       "2  2090502                               [indonesian hip hop]  \n",
       "3   557710                                [k-pop, korean r&b]  \n",
       "4  3462002                                            [k-pop]  \n",
       "5  1982522                                            [k-pop]  \n",
       "6   529495                                                 []  \n",
       "7   266065                                  [chinese hip hop]  \n",
       "8   169374                                          [otacore]  \n",
       "9   108350  [cali rap, oakland hip hop, scam rap, trap sou...  "
      ]
     },
     "execution_count": 72,
     "metadata": {},
     "output_type": "execute_result"
    }
   ],
   "source": [
    "df.reset_index(inplace=True)\n",
    "df"
   ]
  },
  {
   "cell_type": "code",
   "execution_count": 73,
   "metadata": {},
   "outputs": [
    {
     "data": {
      "text/html": [
       "<div>\n",
       "<style scoped>\n",
       "    .dataframe tbody tr th:only-of-type {\n",
       "        vertical-align: middle;\n",
       "    }\n",
       "\n",
       "    .dataframe tbody tr th {\n",
       "        vertical-align: top;\n",
       "    }\n",
       "\n",
       "    .dataframe thead th {\n",
       "        text-align: right;\n",
       "    }\n",
       "</style>\n",
       "<table border=\"1\" class=\"dataframe\">\n",
       "  <thead>\n",
       "    <tr style=\"text-align: right;\">\n",
       "      <th></th>\n",
       "      <th>artist</th>\n",
       "      <th>url</th>\n",
       "      <th>followers</th>\n",
       "      <th>genre</th>\n",
       "    </tr>\n",
       "  </thead>\n",
       "  <tbody>\n",
       "    <tr>\n",
       "      <th>0</th>\n",
       "      <td>Joji</td>\n",
       "      <td>https://open.spotify.com/artist/3MZsBdqDrRTJih...</td>\n",
       "      <td>7318289</td>\n",
       "      <td>[viral pop]</td>\n",
       "    </tr>\n",
       "    <tr>\n",
       "      <th>1</th>\n",
       "      <td>NIKI</td>\n",
       "      <td>https://open.spotify.com/artist/2kxP07DLgs4xlW...</td>\n",
       "      <td>2054578</td>\n",
       "      <td>[indonesian r&amp;b, pop]</td>\n",
       "    </tr>\n",
       "    <tr>\n",
       "      <th>2</th>\n",
       "      <td>Rich Brian</td>\n",
       "      <td>https://open.spotify.com/artist/2IDLDx25HU1nQM...</td>\n",
       "      <td>2090502</td>\n",
       "      <td>[indonesian hip hop]</td>\n",
       "    </tr>\n",
       "    <tr>\n",
       "      <th>3</th>\n",
       "      <td>BIBI</td>\n",
       "      <td>https://open.spotify.com/artist/6UbmqUEgjLA6jA...</td>\n",
       "      <td>557710</td>\n",
       "      <td>[k-pop, korean r&amp;b]</td>\n",
       "    </tr>\n",
       "    <tr>\n",
       "      <th>4</th>\n",
       "      <td>Jackson Wang</td>\n",
       "      <td>https://open.spotify.com/artist/1kfWoWgCugPkyx...</td>\n",
       "      <td>3462002</td>\n",
       "      <td>[k-pop]</td>\n",
       "    </tr>\n",
       "    <tr>\n",
       "      <th>5</th>\n",
       "      <td>CHUNG HA</td>\n",
       "      <td>https://open.spotify.com/artist/2PSJ6YriU7JsFu...</td>\n",
       "      <td>1982522</td>\n",
       "      <td>[k-pop]</td>\n",
       "    </tr>\n",
       "    <tr>\n",
       "      <th>6</th>\n",
       "      <td>Stephanie Poetri</td>\n",
       "      <td>https://open.spotify.com/artist/0HS00NN7MAfF59...</td>\n",
       "      <td>529495</td>\n",
       "      <td>[]</td>\n",
       "    </tr>\n",
       "    <tr>\n",
       "      <th>7</th>\n",
       "      <td>Higher Brothers</td>\n",
       "      <td>https://open.spotify.com/artist/07ZhipyrvoyNoJ...</td>\n",
       "      <td>266065</td>\n",
       "      <td>[chinese hip hop]</td>\n",
       "    </tr>\n",
       "    <tr>\n",
       "      <th>8</th>\n",
       "      <td>Mili</td>\n",
       "      <td>https://open.spotify.com/artist/0K05TDnN7xPwIH...</td>\n",
       "      <td>169374</td>\n",
       "      <td>[otacore]</td>\n",
       "    </tr>\n",
       "    <tr>\n",
       "      <th>9</th>\n",
       "      <td>Guapdad 4000</td>\n",
       "      <td>https://open.spotify.com/artist/0NcPKaSNIHAM2R...</td>\n",
       "      <td>108350</td>\n",
       "      <td>[cali rap, oakland hip hop, scam rap, trap sou...</td>\n",
       "    </tr>\n",
       "  </tbody>\n",
       "</table>\n",
       "</div>"
      ],
      "text/plain": [
       "             artist                                                url  \\\n",
       "0              Joji  https://open.spotify.com/artist/3MZsBdqDrRTJih...   \n",
       "1              NIKI  https://open.spotify.com/artist/2kxP07DLgs4xlW...   \n",
       "2        Rich Brian  https://open.spotify.com/artist/2IDLDx25HU1nQM...   \n",
       "3              BIBI  https://open.spotify.com/artist/6UbmqUEgjLA6jA...   \n",
       "4      Jackson Wang  https://open.spotify.com/artist/1kfWoWgCugPkyx...   \n",
       "5          CHUNG HA  https://open.spotify.com/artist/2PSJ6YriU7JsFu...   \n",
       "6  Stephanie Poetri  https://open.spotify.com/artist/0HS00NN7MAfF59...   \n",
       "7   Higher Brothers  https://open.spotify.com/artist/07ZhipyrvoyNoJ...   \n",
       "8              Mili  https://open.spotify.com/artist/0K05TDnN7xPwIH...   \n",
       "9      Guapdad 4000  https://open.spotify.com/artist/0NcPKaSNIHAM2R...   \n",
       "\n",
       "  followers                                              genre  \n",
       "0   7318289                                        [viral pop]  \n",
       "1   2054578                              [indonesian r&b, pop]  \n",
       "2   2090502                               [indonesian hip hop]  \n",
       "3    557710                                [k-pop, korean r&b]  \n",
       "4   3462002                                            [k-pop]  \n",
       "5   1982522                                            [k-pop]  \n",
       "6    529495                                                 []  \n",
       "7    266065                                  [chinese hip hop]  \n",
       "8    169374                                          [otacore]  \n",
       "9    108350  [cali rap, oakland hip hop, scam rap, trap sou...  "
      ]
     },
     "execution_count": 73,
     "metadata": {},
     "output_type": "execute_result"
    }
   ],
   "source": [
    "df = df.rename(columns={'index':'artist',0:'url',1:'followers',2:'genre'})\n",
    "df\n"
   ]
  },
  {
   "cell_type": "code",
   "execution_count": 136,
   "metadata": {},
   "outputs": [
    {
     "data": {
      "text/html": [
       "<div>\n",
       "<style scoped>\n",
       "    .dataframe tbody tr th:only-of-type {\n",
       "        vertical-align: middle;\n",
       "    }\n",
       "\n",
       "    .dataframe tbody tr th {\n",
       "        vertical-align: top;\n",
       "    }\n",
       "\n",
       "    .dataframe thead th {\n",
       "        text-align: right;\n",
       "    }\n",
       "</style>\n",
       "<table border=\"1\" class=\"dataframe\">\n",
       "  <thead>\n",
       "    <tr style=\"text-align: right;\">\n",
       "      <th></th>\n",
       "      <th>artist</th>\n",
       "      <th>url</th>\n",
       "      <th>followers</th>\n",
       "      <th>genre</th>\n",
       "      <th>monthly_listeners</th>\n",
       "    </tr>\n",
       "  </thead>\n",
       "  <tbody>\n",
       "    <tr>\n",
       "      <th>0</th>\n",
       "      <td>Joji</td>\n",
       "      <td>https://open.spotify.com/artist/3MZsBdqDrRTJih...</td>\n",
       "      <td>7318289</td>\n",
       "      <td>[viral pop]</td>\n",
       "      <td></td>\n",
       "    </tr>\n",
       "    <tr>\n",
       "      <th>1</th>\n",
       "      <td>NIKI</td>\n",
       "      <td>https://open.spotify.com/artist/2kxP07DLgs4xlW...</td>\n",
       "      <td>2054578</td>\n",
       "      <td>[indonesian r&amp;b, pop]</td>\n",
       "      <td></td>\n",
       "    </tr>\n",
       "    <tr>\n",
       "      <th>2</th>\n",
       "      <td>Rich Brian</td>\n",
       "      <td>https://open.spotify.com/artist/2IDLDx25HU1nQM...</td>\n",
       "      <td>2090502</td>\n",
       "      <td>[indonesian hip hop]</td>\n",
       "      <td></td>\n",
       "    </tr>\n",
       "    <tr>\n",
       "      <th>3</th>\n",
       "      <td>BIBI</td>\n",
       "      <td>https://open.spotify.com/artist/6UbmqUEgjLA6jA...</td>\n",
       "      <td>557710</td>\n",
       "      <td>[k-pop, korean r&amp;b]</td>\n",
       "      <td></td>\n",
       "    </tr>\n",
       "    <tr>\n",
       "      <th>4</th>\n",
       "      <td>Jackson Wang</td>\n",
       "      <td>https://open.spotify.com/artist/1kfWoWgCugPkyx...</td>\n",
       "      <td>3462002</td>\n",
       "      <td>[k-pop]</td>\n",
       "      <td></td>\n",
       "    </tr>\n",
       "  </tbody>\n",
       "</table>\n",
       "</div>"
      ],
      "text/plain": [
       "         artist                                                url followers  \\\n",
       "0          Joji  https://open.spotify.com/artist/3MZsBdqDrRTJih...   7318289   \n",
       "1          NIKI  https://open.spotify.com/artist/2kxP07DLgs4xlW...   2054578   \n",
       "2    Rich Brian  https://open.spotify.com/artist/2IDLDx25HU1nQM...   2090502   \n",
       "3          BIBI  https://open.spotify.com/artist/6UbmqUEgjLA6jA...    557710   \n",
       "4  Jackson Wang  https://open.spotify.com/artist/1kfWoWgCugPkyx...   3462002   \n",
       "\n",
       "                   genre monthly_listeners  \n",
       "0            [viral pop]                    \n",
       "1  [indonesian r&b, pop]                    \n",
       "2   [indonesian hip hop]                    \n",
       "3    [k-pop, korean r&b]                    \n",
       "4                [k-pop]                    "
      ]
     },
     "execution_count": 136,
     "metadata": {},
     "output_type": "execute_result"
    }
   ],
   "source": [
    "df['monthly_listeners'] = '' \n",
    "df.head()"
   ]
  },
  {
   "cell_type": "code",
   "execution_count": 109,
   "metadata": {},
   "outputs": [],
   "source": [
    "# Setup splinter\n",
    "executable_path = {'executable_path': ChromeDriverManager().install()}\n",
    "browser = Browser('chrome', **executable_path, headless=False)"
   ]
  },
  {
   "cell_type": "code",
   "execution_count": 77,
   "metadata": {},
   "outputs": [],
   "source": [
    "# Initialize PyMongo to work with MongoDBs\n",
    "conn = 'mongodb://localhost:27017'\n",
    "client = pymongo.MongoClient(conn)"
   ]
  },
  {
   "cell_type": "code",
   "execution_count": 78,
   "metadata": {},
   "outputs": [],
   "source": [
    "# Define database and collection\n",
    "db = client.artist_db\n",
    "collection = db.items"
   ]
  },
  {
   "cell_type": "code",
   "execution_count": 127,
   "metadata": {},
   "outputs": [
    {
     "name": "stdout",
     "output_type": "stream",
     "text": [
      "https://open.spotify.com/artist/3MZsBdqDrRTJihTHQrO6Dq\n",
      "------------\n",
      "https://open.spotify.com/artist/2kxP07DLgs4xlWz8YHlvfh\n",
      "------------\n",
      "https://open.spotify.com/artist/2IDLDx25HU1nQMKde4n61a\n",
      "------------\n",
      "https://open.spotify.com/artist/6UbmqUEgjLA6jAcXwbM1Z9\n",
      "------------\n",
      "https://open.spotify.com/artist/1kfWoWgCugPkyxQP8lkRlY\n",
      "------------\n",
      "https://open.spotify.com/artist/2PSJ6YriU7JsFucxACpU7Y\n",
      "------------\n",
      "https://open.spotify.com/artist/0HS00NN7MAfF59aJnfcxSO\n",
      "------------\n",
      "https://open.spotify.com/artist/07ZhipyrvoyNoJejeyM0PQ\n",
      "------------\n",
      "https://open.spotify.com/artist/0K05TDnN7xPwIHDOwD2YYs\n",
      "------------\n",
      "https://open.spotify.com/artist/0NcPKaSNIHAM2RfioH9vMT\n",
      "------------\n"
     ]
    }
   ],
   "source": [
    "# use iterrows to iterate through pandas dataframe\n",
    "for index, row in df.iterrows():\n",
    "\n",
    "    site = row['url']\n",
    "    try:\n",
    "\n",
    "        print (f\"{site}\")\n",
    "        print(\"------------\")\n",
    "\n",
    "    except KeyError:\n",
    "        print(KeyError)\n"
   ]
  },
  {
   "cell_type": "code",
   "execution_count": 110,
   "metadata": {},
   "outputs": [],
   "source": [
    "url = 'https://open.spotify.com/artist/3MZsBdqDrRTJihTHQrO6Dq'\n",
    "browser.visit(url)"
   ]
  },
  {
   "cell_type": "code",
   "execution_count": 111,
   "metadata": {},
   "outputs": [],
   "source": [
    "html = browser.html\n",
    "soup = bs(html, 'html.parser')"
   ]
  },
  {
   "cell_type": "code",
   "execution_count": 117,
   "metadata": {},
   "outputs": [
    {
     "name": "stdout",
     "output_type": "stream",
     "text": [
      "-------------\n",
      "33,124,213 monthly listeners\n"
     ]
    }
   ],
   "source": [
    "# Examine the results, then determine element that contain title and preview info\n",
    "# results are returned as an iterable list\n",
    "\n",
    "results = soup.find_all('div', class_='RP2rRchy4i8TIp1CTmb7')\n",
    "\n",
    "# Loop through returned results\n",
    "for result in results:\n",
    "    # Error handling\n",
    "    try:\n",
    "        # Identify and return title of listing\n",
    "        followers = result.find('span', class_='Ydwa1P5GkCggtLlSvphs').text\n",
    "\n",
    "        if (followers):\n",
    "            # Print results\n",
    "            print('-------------')\n",
    "            print(followers)\n",
    "\n",
    "        # Dictionary to be inserted as a MongoDB document\n",
    "        post = {\n",
    "            'Followers': followers,\n",
    "        }\n",
    "\n",
    "        collection.insert_one(post)\n",
    "        \n",
    "    except Exception as e:\n",
    "        print(e)"
   ]
  }
 ],
 "metadata": {
  "kernelspec": {
   "display_name": "Python 3.9.12 ('base')",
   "language": "python",
   "name": "python3"
  },
  "language_info": {
   "codemirror_mode": {
    "name": "ipython",
    "version": 3
   },
   "file_extension": ".py",
   "mimetype": "text/x-python",
   "name": "python",
   "nbconvert_exporter": "python",
   "pygments_lexer": "ipython3",
   "version": "3.9.12"
  },
  "orig_nbformat": 4,
  "vscode": {
   "interpreter": {
    "hash": "aea3586fa6990ac190289595ab990eef45803da6fa4c3d19da3f2714bb971529"
   }
  }
 },
 "nbformat": 4,
 "nbformat_minor": 2
}
