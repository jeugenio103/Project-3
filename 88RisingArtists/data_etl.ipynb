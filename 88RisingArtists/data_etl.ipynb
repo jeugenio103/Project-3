{
 "cells": [
  {
   "cell_type": "code",
   "execution_count": 47,
   "metadata": {},
   "outputs": [],
   "source": [
    "import glob\n",
    "import pandas as pd\n",
    "from sqlalchemy import create_engine"
   ]
  },
  {
   "cell_type": "code",
   "execution_count": 74,
   "metadata": {},
   "outputs": [
    {
     "data": {
      "text/html": [
       "<div>\n",
       "<style scoped>\n",
       "    .dataframe tbody tr th:only-of-type {\n",
       "        vertical-align: middle;\n",
       "    }\n",
       "\n",
       "    .dataframe tbody tr th {\n",
       "        vertical-align: top;\n",
       "    }\n",
       "\n",
       "    .dataframe thead th {\n",
       "        text-align: right;\n",
       "    }\n",
       "</style>\n",
       "<table border=\"1\" class=\"dataframe\">\n",
       "  <thead>\n",
       "    <tr style=\"text-align: right;\">\n",
       "      <th></th>\n",
       "      <th>song name</th>\n",
       "      <th>album</th>\n",
       "      <th>artist</th>\n",
       "      <th>featured</th>\n",
       "      <th>release_date</th>\n",
       "      <th>length(ms)</th>\n",
       "      <th>popularity</th>\n",
       "      <th>acousticness</th>\n",
       "      <th>danceability</th>\n",
       "      <th>energy</th>\n",
       "      <th>liveness</th>\n",
       "      <th>tempo</th>\n",
       "      <th>valence</th>\n",
       "      <th>id</th>\n",
       "    </tr>\n",
       "  </thead>\n",
       "  <tbody>\n",
       "    <tr>\n",
       "      <th>0</th>\n",
       "      <td>world.execute (me) ;</td>\n",
       "      <td>Miracle Milk</td>\n",
       "      <td>Mili</td>\n",
       "      <td>['Mili']</td>\n",
       "      <td>2016-10-12</td>\n",
       "      <td>211912</td>\n",
       "      <td>52</td>\n",
       "      <td>0.00453</td>\n",
       "      <td>0.522</td>\n",
       "      <td>0.817</td>\n",
       "      <td>0.3930</td>\n",
       "      <td>129.971</td>\n",
       "      <td>0.548</td>\n",
       "      <td>1</td>\n",
       "    </tr>\n",
       "    <tr>\n",
       "      <th>1</th>\n",
       "      <td>Rightfully (TV Animation Goblin Slayer opening)</td>\n",
       "      <td>Rightfully (TV Animation Goblin Slayer opening)</td>\n",
       "      <td>Mili</td>\n",
       "      <td>['Mili']</td>\n",
       "      <td>2018-11-18</td>\n",
       "      <td>213333</td>\n",
       "      <td>54</td>\n",
       "      <td>0.00423</td>\n",
       "      <td>0.390</td>\n",
       "      <td>0.724</td>\n",
       "      <td>0.1020</td>\n",
       "      <td>181.910</td>\n",
       "      <td>0.301</td>\n",
       "      <td>2</td>\n",
       "    </tr>\n",
       "    <tr>\n",
       "      <th>2</th>\n",
       "      <td>In Hell We Live, Lament</td>\n",
       "      <td>In Hell We Live, Lament</td>\n",
       "      <td>Mili</td>\n",
       "      <td>['Mili', 'KIHOW']</td>\n",
       "      <td>2021-12-21</td>\n",
       "      <td>223807</td>\n",
       "      <td>48</td>\n",
       "      <td>0.22800</td>\n",
       "      <td>0.450</td>\n",
       "      <td>0.558</td>\n",
       "      <td>0.2880</td>\n",
       "      <td>124.818</td>\n",
       "      <td>0.146</td>\n",
       "      <td>3</td>\n",
       "    </tr>\n",
       "    <tr>\n",
       "      <th>3</th>\n",
       "      <td>Mortal With You</td>\n",
       "      <td>Mortal With You</td>\n",
       "      <td>Mili</td>\n",
       "      <td>['Mili']</td>\n",
       "      <td>2022-07-06</td>\n",
       "      <td>235773</td>\n",
       "      <td>50</td>\n",
       "      <td>0.40200</td>\n",
       "      <td>0.381</td>\n",
       "      <td>0.525</td>\n",
       "      <td>0.0946</td>\n",
       "      <td>183.635</td>\n",
       "      <td>0.232</td>\n",
       "      <td>4</td>\n",
       "    </tr>\n",
       "    <tr>\n",
       "      <th>4</th>\n",
       "      <td>String Theocracy</td>\n",
       "      <td>To Kill a Living Book -for Library Of Ruina-</td>\n",
       "      <td>Mili</td>\n",
       "      <td>['Mili']</td>\n",
       "      <td>2021-10-29</td>\n",
       "      <td>174170</td>\n",
       "      <td>49</td>\n",
       "      <td>0.17400</td>\n",
       "      <td>0.655</td>\n",
       "      <td>0.780</td>\n",
       "      <td>0.3320</td>\n",
       "      <td>116.027</td>\n",
       "      <td>0.659</td>\n",
       "      <td>5</td>\n",
       "    </tr>\n",
       "    <tr>\n",
       "      <th>...</th>\n",
       "      <td>...</td>\n",
       "      <td>...</td>\n",
       "      <td>...</td>\n",
       "      <td>...</td>\n",
       "      <td>...</td>\n",
       "      <td>...</td>\n",
       "      <td>...</td>\n",
       "      <td>...</td>\n",
       "      <td>...</td>\n",
       "      <td>...</td>\n",
       "      <td>...</td>\n",
       "      <td>...</td>\n",
       "      <td>...</td>\n",
       "      <td>...</td>\n",
       "    </tr>\n",
       "    <tr>\n",
       "      <th>465</th>\n",
       "      <td>How We Used To</td>\n",
       "      <td>How We Used To</td>\n",
       "      <td>Stephanie Poetri</td>\n",
       "      <td>['Stephanie Poetri']</td>\n",
       "      <td>2021-01-14</td>\n",
       "      <td>169655</td>\n",
       "      <td>29</td>\n",
       "      <td>0.74100</td>\n",
       "      <td>0.721</td>\n",
       "      <td>0.490</td>\n",
       "      <td>0.1080</td>\n",
       "      <td>75.005</td>\n",
       "      <td>0.502</td>\n",
       "      <td>466</td>\n",
       "    </tr>\n",
       "    <tr>\n",
       "      <th>466</th>\n",
       "      <td>Little Lifetimes</td>\n",
       "      <td>oh to be in love</td>\n",
       "      <td>Stephanie Poetri</td>\n",
       "      <td>['Stephanie Poetri']</td>\n",
       "      <td>2022-03-18</td>\n",
       "      <td>158769</td>\n",
       "      <td>28</td>\n",
       "      <td>0.75900</td>\n",
       "      <td>0.352</td>\n",
       "      <td>0.350</td>\n",
       "      <td>0.1130</td>\n",
       "      <td>91.525</td>\n",
       "      <td>0.376</td>\n",
       "      <td>467</td>\n",
       "    </tr>\n",
       "    <tr>\n",
       "      <th>467</th>\n",
       "      <td>Appreciate - English Version</td>\n",
       "      <td>Appreciate (English Version)</td>\n",
       "      <td>Stephanie Poetri</td>\n",
       "      <td>['Stephanie Poetri']</td>\n",
       "      <td>2019-04-19</td>\n",
       "      <td>235627</td>\n",
       "      <td>30</td>\n",
       "      <td>0.17400</td>\n",
       "      <td>0.664</td>\n",
       "      <td>0.831</td>\n",
       "      <td>0.1230</td>\n",
       "      <td>119.991</td>\n",
       "      <td>0.388</td>\n",
       "      <td>468</td>\n",
       "    </tr>\n",
       "    <tr>\n",
       "      <th>468</th>\n",
       "      <td>Daydreaming</td>\n",
       "      <td>AM:PM</td>\n",
       "      <td>Stephanie Poetri</td>\n",
       "      <td>['Stephanie Poetri']</td>\n",
       "      <td>2021-03-12</td>\n",
       "      <td>170181</td>\n",
       "      <td>23</td>\n",
       "      <td>0.82300</td>\n",
       "      <td>0.758</td>\n",
       "      <td>0.584</td>\n",
       "      <td>0.1800</td>\n",
       "      <td>109.949</td>\n",
       "      <td>0.631</td>\n",
       "      <td>469</td>\n",
       "    </tr>\n",
       "    <tr>\n",
       "      <th>469</th>\n",
       "      <td>Paranoia</td>\n",
       "      <td>AM:PM</td>\n",
       "      <td>Stephanie Poetri</td>\n",
       "      <td>['Stephanie Poetri']</td>\n",
       "      <td>2021-03-12</td>\n",
       "      <td>176080</td>\n",
       "      <td>24</td>\n",
       "      <td>0.34800</td>\n",
       "      <td>0.614</td>\n",
       "      <td>0.420</td>\n",
       "      <td>0.2120</td>\n",
       "      <td>150.054</td>\n",
       "      <td>0.336</td>\n",
       "      <td>470</td>\n",
       "    </tr>\n",
       "  </tbody>\n",
       "</table>\n",
       "<p>470 rows × 14 columns</p>\n",
       "</div>"
      ],
      "text/plain": [
       "                                           song name  \\\n",
       "0                               world.execute (me) ;   \n",
       "1    Rightfully (TV Animation Goblin Slayer opening)   \n",
       "2                            In Hell We Live, Lament   \n",
       "3                                    Mortal With You   \n",
       "4                                   String Theocracy   \n",
       "..                                               ...   \n",
       "465                                   How We Used To   \n",
       "466                                 Little Lifetimes   \n",
       "467                     Appreciate - English Version   \n",
       "468                                      Daydreaming   \n",
       "469                                         Paranoia   \n",
       "\n",
       "                                               album            artist  \\\n",
       "0                                       Miracle Milk              Mili   \n",
       "1    Rightfully (TV Animation Goblin Slayer opening)              Mili   \n",
       "2                            In Hell We Live, Lament              Mili   \n",
       "3                                    Mortal With You              Mili   \n",
       "4       To Kill a Living Book -for Library Of Ruina-              Mili   \n",
       "..                                               ...               ...   \n",
       "465                                   How We Used To  Stephanie Poetri   \n",
       "466                                 oh to be in love  Stephanie Poetri   \n",
       "467                     Appreciate (English Version)  Stephanie Poetri   \n",
       "468                                            AM:PM  Stephanie Poetri   \n",
       "469                                            AM:PM  Stephanie Poetri   \n",
       "\n",
       "                 featured release_date  length(ms)  popularity  acousticness  \\\n",
       "0                ['Mili']   2016-10-12      211912          52       0.00453   \n",
       "1                ['Mili']   2018-11-18      213333          54       0.00423   \n",
       "2       ['Mili', 'KIHOW']   2021-12-21      223807          48       0.22800   \n",
       "3                ['Mili']   2022-07-06      235773          50       0.40200   \n",
       "4                ['Mili']   2021-10-29      174170          49       0.17400   \n",
       "..                    ...          ...         ...         ...           ...   \n",
       "465  ['Stephanie Poetri']   2021-01-14      169655          29       0.74100   \n",
       "466  ['Stephanie Poetri']   2022-03-18      158769          28       0.75900   \n",
       "467  ['Stephanie Poetri']   2019-04-19      235627          30       0.17400   \n",
       "468  ['Stephanie Poetri']   2021-03-12      170181          23       0.82300   \n",
       "469  ['Stephanie Poetri']   2021-03-12      176080          24       0.34800   \n",
       "\n",
       "     danceability  energy  liveness    tempo  valence   id  \n",
       "0           0.522   0.817    0.3930  129.971    0.548    1  \n",
       "1           0.390   0.724    0.1020  181.910    0.301    2  \n",
       "2           0.450   0.558    0.2880  124.818    0.146    3  \n",
       "3           0.381   0.525    0.0946  183.635    0.232    4  \n",
       "4           0.655   0.780    0.3320  116.027    0.659    5  \n",
       "..            ...     ...       ...      ...      ...  ...  \n",
       "465         0.721   0.490    0.1080   75.005    0.502  466  \n",
       "466         0.352   0.350    0.1130   91.525    0.376  467  \n",
       "467         0.664   0.831    0.1230  119.991    0.388  468  \n",
       "468         0.758   0.584    0.1800  109.949    0.631  469  \n",
       "469         0.614   0.420    0.2120  150.054    0.336  470  \n",
       "\n",
       "[470 rows x 14 columns]"
      ]
     },
     "execution_count": 74,
     "metadata": {},
     "output_type": "execute_result"
    }
   ],
   "source": [
    "# Get CSV files list from a folder\n",
    "path = './DataSets'\n",
    "csv_files = glob.glob(path + \"/*.csv\")\n",
    "ind_dfs = (pd.read_csv(file) for file in csv_files)\n",
    "aio_df   = pd.concat(ind_dfs, ignore_index=True)\n",
    "aio_df.drop(['Unnamed: 0'], axis = 1, inplace = True) \n",
    "aio_df[\"id\"] = aio_df.index + 1\n",
    "aio_df"
   ]
  },
  {
   "cell_type": "code",
   "execution_count": 92,
   "metadata": {},
   "outputs": [],
   "source": [
    "aio_df = aio_df.rename(columns={'length(ms)': 'length_ms', 'song name': 'song_name'})\n"
   ]
  },
  {
   "cell_type": "code",
   "execution_count": 93,
   "metadata": {},
   "outputs": [
    {
     "data": {
      "text/plain": [
       "song_name               object\n",
       "album                   object\n",
       "artist                  object\n",
       "featured                object\n",
       "release_date    datetime64[ns]\n",
       "length_ms                int64\n",
       "popularity               int64\n",
       "acousticness           float64\n",
       "danceability           float64\n",
       "energy                 float64\n",
       "liveness               float64\n",
       "tempo                  float64\n",
       "valence                float64\n",
       "id                       int64\n",
       "dtype: object"
      ]
     },
     "execution_count": 93,
     "metadata": {},
     "output_type": "execute_result"
    }
   ],
   "source": [
    "aio_df.dtypes"
   ]
  },
  {
   "cell_type": "code",
   "execution_count": 94,
   "metadata": {},
   "outputs": [],
   "source": [
    "aio_df = aio_df.astype({'release_date': 'datetime64'})\n"
   ]
  },
  {
   "cell_type": "code",
   "execution_count": 95,
   "metadata": {},
   "outputs": [
    {
     "data": {
      "text/plain": [
       "song_name               object\n",
       "album                   object\n",
       "artist                  object\n",
       "featured                object\n",
       "release_date    datetime64[ns]\n",
       "length_ms                int64\n",
       "popularity               int64\n",
       "acousticness           float64\n",
       "danceability           float64\n",
       "energy                 float64\n",
       "liveness               float64\n",
       "tempo                  float64\n",
       "valence                float64\n",
       "id                       int64\n",
       "dtype: object"
      ]
     },
     "execution_count": 95,
     "metadata": {},
     "output_type": "execute_result"
    }
   ],
   "source": [
    "aio_df.dtypes"
   ]
  },
  {
   "cell_type": "code",
   "execution_count": 80,
   "metadata": {},
   "outputs": [
    {
     "data": {
      "text/html": [
       "<div>\n",
       "<style scoped>\n",
       "    .dataframe tbody tr th:only-of-type {\n",
       "        vertical-align: middle;\n",
       "    }\n",
       "\n",
       "    .dataframe tbody tr th {\n",
       "        vertical-align: top;\n",
       "    }\n",
       "\n",
       "    .dataframe thead th {\n",
       "        text-align: right;\n",
       "    }\n",
       "</style>\n",
       "<table border=\"1\" class=\"dataframe\">\n",
       "  <thead>\n",
       "    <tr style=\"text-align: right;\">\n",
       "      <th></th>\n",
       "      <th>artist</th>\n",
       "      <th>url</th>\n",
       "      <th>artist_id</th>\n",
       "      <th>followers</th>\n",
       "      <th>genre</th>\n",
       "      <th>monthly_listeners</th>\n",
       "      <th>id</th>\n",
       "    </tr>\n",
       "  </thead>\n",
       "  <tbody>\n",
       "    <tr>\n",
       "      <th>0</th>\n",
       "      <td>Joji</td>\n",
       "      <td>https://open.spotify.com/artist/3MZsBdqDrRTJih...</td>\n",
       "      <td>3MZsBdqDrRTJihTHQrO6Dq</td>\n",
       "      <td>7384722</td>\n",
       "      <td>['viral pop']</td>\n",
       "      <td>34369735</td>\n",
       "      <td>1</td>\n",
       "    </tr>\n",
       "    <tr>\n",
       "      <th>1</th>\n",
       "      <td>NIKI</td>\n",
       "      <td>https://open.spotify.com/artist/2kxP07DLgs4xlW...</td>\n",
       "      <td>2kxP07DLgs4xlWz8YHlvfh</td>\n",
       "      <td>2075512</td>\n",
       "      <td>['indonesian r&amp;b', 'pop']</td>\n",
       "      <td>9668996</td>\n",
       "      <td>2</td>\n",
       "    </tr>\n",
       "    <tr>\n",
       "      <th>2</th>\n",
       "      <td>Rich Brian</td>\n",
       "      <td>https://open.spotify.com/artist/2IDLDx25HU1nQM...</td>\n",
       "      <td>2IDLDx25HU1nQMKde4n61a</td>\n",
       "      <td>2094205</td>\n",
       "      <td>['indonesian hip hop']</td>\n",
       "      <td>8650936</td>\n",
       "      <td>3</td>\n",
       "    </tr>\n",
       "    <tr>\n",
       "      <th>3</th>\n",
       "      <td>BIBI</td>\n",
       "      <td>https://open.spotify.com/artist/6UbmqUEgjLA6jA...</td>\n",
       "      <td>6UbmqUEgjLA6jAcXwbM1Z9</td>\n",
       "      <td>584233</td>\n",
       "      <td>['k-pop', 'korean r&amp;b']</td>\n",
       "      <td>3564901</td>\n",
       "      <td>4</td>\n",
       "    </tr>\n",
       "    <tr>\n",
       "      <th>4</th>\n",
       "      <td>Jackson Wang</td>\n",
       "      <td>https://open.spotify.com/artist/1kfWoWgCugPkyx...</td>\n",
       "      <td>1kfWoWgCugPkyxQP8lkRlY</td>\n",
       "      <td>3482754</td>\n",
       "      <td>['k-pop']</td>\n",
       "      <td>3503326</td>\n",
       "      <td>5</td>\n",
       "    </tr>\n",
       "  </tbody>\n",
       "</table>\n",
       "</div>"
      ],
      "text/plain": [
       "         artist                                                url  \\\n",
       "0          Joji  https://open.spotify.com/artist/3MZsBdqDrRTJih...   \n",
       "1          NIKI  https://open.spotify.com/artist/2kxP07DLgs4xlW...   \n",
       "2    Rich Brian  https://open.spotify.com/artist/2IDLDx25HU1nQM...   \n",
       "3          BIBI  https://open.spotify.com/artist/6UbmqUEgjLA6jA...   \n",
       "4  Jackson Wang  https://open.spotify.com/artist/1kfWoWgCugPkyx...   \n",
       "\n",
       "                artist_id  followers                      genre  \\\n",
       "0  3MZsBdqDrRTJihTHQrO6Dq    7384722              ['viral pop']   \n",
       "1  2kxP07DLgs4xlWz8YHlvfh    2075512  ['indonesian r&b', 'pop']   \n",
       "2  2IDLDx25HU1nQMKde4n61a    2094205     ['indonesian hip hop']   \n",
       "3  6UbmqUEgjLA6jAcXwbM1Z9     584233    ['k-pop', 'korean r&b']   \n",
       "4  1kfWoWgCugPkyxQP8lkRlY    3482754                  ['k-pop']   \n",
       "\n",
       "   monthly_listeners  id  \n",
       "0           34369735   1  \n",
       "1            9668996   2  \n",
       "2            8650936   3  \n",
       "3            3564901   4  \n",
       "4            3503326   5  "
      ]
     },
     "execution_count": 80,
     "metadata": {},
     "output_type": "execute_result"
    }
   ],
   "source": [
    "csv_file = \"../Resources/customer_data.csv\"\n",
    "df = pd.read_csv('./FinalDataSets/artist_info.csv', index_col=0)\n",
    "df[\"id\"] = df.index + 1\n",
    "df.head()\n"
   ]
  },
  {
   "cell_type": "code",
   "execution_count": 81,
   "metadata": {},
   "outputs": [
    {
     "data": {
      "text/html": [
       "<div>\n",
       "<style scoped>\n",
       "    .dataframe tbody tr th:only-of-type {\n",
       "        vertical-align: middle;\n",
       "    }\n",
       "\n",
       "    .dataframe tbody tr th {\n",
       "        vertical-align: top;\n",
       "    }\n",
       "\n",
       "    .dataframe thead th {\n",
       "        text-align: right;\n",
       "    }\n",
       "</style>\n",
       "<table border=\"1\" class=\"dataframe\">\n",
       "  <thead>\n",
       "    <tr style=\"text-align: right;\">\n",
       "      <th></th>\n",
       "      <th>id</th>\n",
       "      <th>artist</th>\n",
       "      <th>followers</th>\n",
       "      <th>monthly_listeners</th>\n",
       "    </tr>\n",
       "  </thead>\n",
       "  <tbody>\n",
       "    <tr>\n",
       "      <th>0</th>\n",
       "      <td>1</td>\n",
       "      <td>Joji</td>\n",
       "      <td>7384722</td>\n",
       "      <td>34369735</td>\n",
       "    </tr>\n",
       "    <tr>\n",
       "      <th>1</th>\n",
       "      <td>2</td>\n",
       "      <td>NIKI</td>\n",
       "      <td>2075512</td>\n",
       "      <td>9668996</td>\n",
       "    </tr>\n",
       "    <tr>\n",
       "      <th>2</th>\n",
       "      <td>3</td>\n",
       "      <td>Rich Brian</td>\n",
       "      <td>2094205</td>\n",
       "      <td>8650936</td>\n",
       "    </tr>\n",
       "    <tr>\n",
       "      <th>3</th>\n",
       "      <td>4</td>\n",
       "      <td>BIBI</td>\n",
       "      <td>584233</td>\n",
       "      <td>3564901</td>\n",
       "    </tr>\n",
       "    <tr>\n",
       "      <th>4</th>\n",
       "      <td>5</td>\n",
       "      <td>Jackson Wang</td>\n",
       "      <td>3482754</td>\n",
       "      <td>3503326</td>\n",
       "    </tr>\n",
       "  </tbody>\n",
       "</table>\n",
       "</div>"
      ],
      "text/plain": [
       "   id        artist  followers  monthly_listeners\n",
       "0   1          Joji    7384722           34369735\n",
       "1   2          NIKI    2075512            9668996\n",
       "2   3    Rich Brian    2094205            8650936\n",
       "3   4          BIBI     584233            3564901\n",
       "4   5  Jackson Wang    3482754            3503326"
      ]
     },
     "execution_count": 81,
     "metadata": {},
     "output_type": "execute_result"
    }
   ],
   "source": [
    "follower_df = df[['id','artist', 'followers', 'monthly_listeners']].copy()\n",
    "follower_df.head()"
   ]
  },
  {
   "cell_type": "code",
   "execution_count": 82,
   "metadata": {},
   "outputs": [
    {
     "data": {
      "text/plain": [
       "id                    int64\n",
       "artist               object\n",
       "followers             int64\n",
       "monthly_listeners     int64\n",
       "dtype: object"
      ]
     },
     "execution_count": 82,
     "metadata": {},
     "output_type": "execute_result"
    }
   ],
   "source": [
    "follower_df.dtypes"
   ]
  },
  {
   "cell_type": "code",
   "execution_count": 83,
   "metadata": {},
   "outputs": [
    {
     "data": {
      "text/html": [
       "<div>\n",
       "<style scoped>\n",
       "    .dataframe tbody tr th:only-of-type {\n",
       "        vertical-align: middle;\n",
       "    }\n",
       "\n",
       "    .dataframe tbody tr th {\n",
       "        vertical-align: top;\n",
       "    }\n",
       "\n",
       "    .dataframe thead th {\n",
       "        text-align: right;\n",
       "    }\n",
       "</style>\n",
       "<table border=\"1\" class=\"dataframe\">\n",
       "  <thead>\n",
       "    <tr style=\"text-align: right;\">\n",
       "      <th></th>\n",
       "      <th>id</th>\n",
       "      <th>artist</th>\n",
       "      <th>genre</th>\n",
       "    </tr>\n",
       "  </thead>\n",
       "  <tbody>\n",
       "    <tr>\n",
       "      <th>0</th>\n",
       "      <td>1</td>\n",
       "      <td>Joji</td>\n",
       "      <td>['viral pop']</td>\n",
       "    </tr>\n",
       "    <tr>\n",
       "      <th>1</th>\n",
       "      <td>2</td>\n",
       "      <td>NIKI</td>\n",
       "      <td>['indonesian r&amp;b', 'pop']</td>\n",
       "    </tr>\n",
       "    <tr>\n",
       "      <th>2</th>\n",
       "      <td>3</td>\n",
       "      <td>Rich Brian</td>\n",
       "      <td>['indonesian hip hop']</td>\n",
       "    </tr>\n",
       "    <tr>\n",
       "      <th>3</th>\n",
       "      <td>4</td>\n",
       "      <td>BIBI</td>\n",
       "      <td>['k-pop', 'korean r&amp;b']</td>\n",
       "    </tr>\n",
       "    <tr>\n",
       "      <th>4</th>\n",
       "      <td>5</td>\n",
       "      <td>Jackson Wang</td>\n",
       "      <td>['k-pop']</td>\n",
       "    </tr>\n",
       "  </tbody>\n",
       "</table>\n",
       "</div>"
      ],
      "text/plain": [
       "   id        artist                      genre\n",
       "0   1          Joji              ['viral pop']\n",
       "1   2          NIKI  ['indonesian r&b', 'pop']\n",
       "2   3    Rich Brian     ['indonesian hip hop']\n",
       "3   4          BIBI    ['k-pop', 'korean r&b']\n",
       "4   5  Jackson Wang                  ['k-pop']"
      ]
     },
     "execution_count": 83,
     "metadata": {},
     "output_type": "execute_result"
    }
   ],
   "source": [
    "genre_df = df[['id','artist','genre']].copy()\n",
    "genre_df.head()"
   ]
  },
  {
   "cell_type": "code",
   "execution_count": 84,
   "metadata": {},
   "outputs": [
    {
     "data": {
      "text/plain": [
       "id         int64\n",
       "artist    object\n",
       "genre     object\n",
       "dtype: object"
      ]
     },
     "execution_count": 84,
     "metadata": {},
     "output_type": "execute_result"
    }
   ],
   "source": [
    "genre_df.dtypes"
   ]
  },
  {
   "cell_type": "code",
   "execution_count": 85,
   "metadata": {},
   "outputs": [],
   "source": [
    "protocol = 'postgresql'\n",
    "username = 'postgres'\n",
    "password = 'postgres'\n",
    "host = 'localhost'\n",
    "port = 5432\n",
    "database_name = 'artist_db'\n",
    "rds_connection_string = f'{protocol}://{username}:{password}@{host}:{port}/{database_name}'\n",
    "engine = create_engine(rds_connection_string)"
   ]
  },
  {
   "cell_type": "code",
   "execution_count": 89,
   "metadata": {},
   "outputs": [
    {
     "name": "stderr",
     "output_type": "stream",
     "text": [
      "/var/folders/06/dlzbbxfn6tgfd6s50hkzfk3r0000gn/T/ipykernel_98085/4162273999.py:1: SADeprecationWarning: The Engine.table_names() method is deprecated and will be removed in a future release.  Please refer to Inspector.get_table_names(). (deprecated since: 1.4)\n",
      "  engine.table_names()\n"
     ]
    },
    {
     "data": {
      "text/plain": [
       "['genre_table', 'artist_feature_table', 'followers_table']"
      ]
     },
     "execution_count": 89,
     "metadata": {},
     "output_type": "execute_result"
    }
   ],
   "source": [
    "engine.table_names()"
   ]
  },
  {
   "cell_type": "code",
   "execution_count": 90,
   "metadata": {},
   "outputs": [
    {
     "data": {
      "text/plain": [
       "10"
      ]
     },
     "execution_count": 90,
     "metadata": {},
     "output_type": "execute_result"
    }
   ],
   "source": [
    "follower_df.to_sql(name='followers_table', con=engine, if_exists='append', index=False)"
   ]
  },
  {
   "cell_type": "code",
   "execution_count": null,
   "metadata": {},
   "outputs": [
    {
     "data": {
      "text/plain": [
       "10"
      ]
     },
     "execution_count": 68,
     "metadata": {},
     "output_type": "execute_result"
    }
   ],
   "source": [
    "genre_df.to_sql(name='genre_table', con=engine, if_exists='append', index=False)"
   ]
  },
  {
   "cell_type": "code",
   "execution_count": 96,
   "metadata": {},
   "outputs": [
    {
     "data": {
      "text/plain": [
       "470"
      ]
     },
     "execution_count": 96,
     "metadata": {},
     "output_type": "execute_result"
    }
   ],
   "source": [
    "aio_df.to_sql(name='artist_feature_table', con=engine, if_exists='append', index=False)"
   ]
  }
 ],
 "metadata": {
  "kernelspec": {
   "display_name": "Python 3.9.12 ('base')",
   "language": "python",
   "name": "python3"
  },
  "language_info": {
   "codemirror_mode": {
    "name": "ipython",
    "version": 3
   },
   "file_extension": ".py",
   "mimetype": "text/x-python",
   "name": "python",
   "nbconvert_exporter": "python",
   "pygments_lexer": "ipython3",
   "version": "3.9.12"
  },
  "orig_nbformat": 4,
  "vscode": {
   "interpreter": {
    "hash": "aea3586fa6990ac190289595ab990eef45803da6fa4c3d19da3f2714bb971529"
   }
  }
 },
 "nbformat": 4,
 "nbformat_minor": 2
}
