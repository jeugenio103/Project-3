{
 "cells": [
  {
   "cell_type": "code",
   "execution_count": null,
   "metadata": {},
   "outputs": [],
   "source": [
    "# import glob\n",
    "import pandas as pd\n",
    "import glob\n",
    "\n",
    "# # Get CSV files list from a folder\n",
    "# path = '/Users/og/Desktop/Data/Project-3/88RisingArtists/Data Sets'\n",
    "# csv_files = glob.glob(path + \"/*.csv\")\n",
    "\n",
    "# # Read each CSV file into DataFrame\n",
    "# # This creates a list of dataframes\n",
    "# df_list = (pd.read_csv(file) for file in csv_files)\n",
    "\n",
    "# # Concatenate all DataFrames\n",
    "# big_df   = pd.concat(df_list, ignore_index=True)"
   ]
  },
  {
   "cell_type": "code",
   "execution_count": null,
   "metadata": {},
   "outputs": [],
   "source": [
    "# big_df.to_csv('loopedcsv.csv', sep = ',')"
   ]
  },
  {
   "cell_type": "code",
   "execution_count": null,
   "metadata": {},
   "outputs": [],
   "source": [
    "file1 = './Data Sets/bibi.csv'\n",
    "file2 = './Data Sets/chungha.csv'\n",
    "file3 = './Data Sets/jackson_wang.csv'\n",
    "file4= './Data Sets/joji.csv'\n",
    "file5 = './Data Sets/mili.csv'\n",
    "file6 = './Data Sets/niki.csv'\n",
    "file7 = './Data Sets/rich_brian.csv'\n",
    "file8 = './Data Sets/stephanie_poetri.csv'\n",
    "file9 = './Data Sets/This_Is_Guapdad_4000.csv'\n",
    "file10 = './Data Sets/This_Is_Higher_Brothers.csv'"
   ]
  },
  {
   "cell_type": "code",
   "execution_count": null,
   "metadata": {},
   "outputs": [],
   "source": [
    "df1 = pd.read_csv(file1, encoding=\"ISO-8859-1\")\n",
    "df2 = pd.read_csv(file2, encoding=\"ISO-8859-1\")\n",
    "df3 = pd.read_csv(file3, encoding=\"ISO-8859-1\")\n",
    "df4 = pd.read_csv(file4, encoding=\"ISO-8859-1\")\n",
    "df5 = pd.read_csv(file5, encoding=\"ISO-8859-1\")\n",
    "df6 = pd.read_csv(file6, encoding=\"ISO-8859-1\")\n",
    "df7 = pd.read_csv(file7, encoding=\"ISO-8859-1\")\n",
    "df8 = pd.read_csv(file8, encoding=\"ISO-8859-1\")\n",
    "df9 = pd.read_csv(file9, encoding=\"ISO-8859-1\")\n",
    "df10 = pd.read_csv(file10, encoding=\"ISO-8859-1\")"
   ]
  },
  {
   "cell_type": "code",
   "execution_count": null,
   "metadata": {},
   "outputs": [],
   "source": [
    "# df1 = df1[df1['artist'] == 'BIBI'] \n",
    "# df2 = df2[df2['artist'] == 'CHUNG HA'] \n",
    "# df3 = df3[df3['artist'] == 'Jackson Wang'] \n",
    "# df4 = df4[df4['artist'] == 'Joji'] \n",
    "# df5 = df5[df5['artist'] == 'Mili'] \n",
    "# df6 = df6[df6['artist'] == 'NIKI'] \n",
    "# df7 = df7[df7['artist'] == 'Rich Brian'] \n",
    "# df8 = df8[df8['artist'] == 'Stephani Poetri'] \n",
    "# df9 = df9[df9['artist'] == 'Guapdad 4000'] \n",
    "# df10 = df10[df10['artist'] == 'Higher Brothers'] \n"
   ]
  },
  {
   "cell_type": "code",
   "execution_count": null,
   "metadata": {},
   "outputs": [],
   "source": [
    "Rising88DF = pd.concat([df1,df2, df3,df4,df5,df5,df6,df7,df8,df9,df10])"
   ]
  },
  {
   "cell_type": "code",
   "execution_count": null,
   "metadata": {},
   "outputs": [],
   "source": [
    "new_df = Rising88DF.rename(\n",
    "    columns={\"Unnamed: 0\": \"ID\"})"
   ]
  },
  {
   "cell_type": "code",
   "execution_count": null,
   "metadata": {},
   "outputs": [],
   "source": [
    "new_df.drop_duplicates()"
   ]
  },
  {
   "cell_type": "code",
   "execution_count": null,
   "metadata": {},
   "outputs": [],
   "source": [
    "Rising88DF.set_index(['ID'], inplace=True)"
   ]
  },
  {
   "cell_type": "code",
   "execution_count": null,
   "metadata": {},
   "outputs": [],
   "source": [
    "#reset index\n",
    "Rising88DF.reset_index(drop=True, inplace=True)"
   ]
  },
  {
   "cell_type": "code",
   "execution_count": null,
   "metadata": {},
   "outputs": [],
   "source": [
    "Rising88DF"
   ]
  },
  {
   "cell_type": "code",
   "execution_count": null,
   "metadata": {},
   "outputs": [],
   "source": [
    "Rising88DF.to_csv('./Data Sets/final88data.csv', sep = ',')"
   ]
  },
  {
   "cell_type": "code",
   "execution_count": null,
   "metadata": {},
   "outputs": [],
   "source": [
    "#Final"
   ]
  }
 ],
 "metadata": {
  "kernelspec": {
   "display_name": "Python 3.9.12 ('base')",
   "language": "python",
   "name": "python3"
  },
  "language_info": {
   "codemirror_mode": {
    "name": "ipython",
    "version": 3
   },
   "file_extension": ".py",
   "mimetype": "text/x-python",
   "name": "python",
   "nbconvert_exporter": "python",
   "pygments_lexer": "ipython3",
   "version": "3.9.12"
  },
  "orig_nbformat": 4,
  "vscode": {
   "interpreter": {
    "hash": "aea3586fa6990ac190289595ab990eef45803da6fa4c3d19da3f2714bb971529"
   }
  }
 },
 "nbformat": 4,
 "nbformat_minor": 2
}
