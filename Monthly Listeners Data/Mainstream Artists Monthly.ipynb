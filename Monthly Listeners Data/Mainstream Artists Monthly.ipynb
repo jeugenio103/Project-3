{
 "cells": [
  {
   "cell_type": "code",
   "execution_count": 4,
   "metadata": {},
   "outputs": [],
   "source": [
    "#Dependencies\n",
    "import pandas as pd"
   ]
  },
  {
   "cell_type": "code",
   "execution_count": 5,
   "metadata": {},
   "outputs": [
    {
     "data": {
      "text/html": [
       "<div>\n",
       "<style scoped>\n",
       "    .dataframe tbody tr th:only-of-type {\n",
       "        vertical-align: middle;\n",
       "    }\n",
       "\n",
       "    .dataframe tbody tr th {\n",
       "        vertical-align: top;\n",
       "    }\n",
       "\n",
       "    .dataframe thead th {\n",
       "        text-align: right;\n",
       "    }\n",
       "</style>\n",
       "<table border=\"1\" class=\"dataframe\">\n",
       "  <thead>\n",
       "    <tr style=\"text-align: right;\">\n",
       "      <th></th>\n",
       "      <th>artist</th>\n",
       "      <th>monthly listeners</th>\n",
       "    </tr>\n",
       "  </thead>\n",
       "  <tbody>\n",
       "    <tr>\n",
       "      <th>0</th>\n",
       "      <td>The Weeknd</td>\n",
       "      <td>78929182</td>\n",
       "    </tr>\n",
       "    <tr>\n",
       "      <th>1</th>\n",
       "      <td>Ed Sheeran</td>\n",
       "      <td>77340632</td>\n",
       "    </tr>\n",
       "    <tr>\n",
       "      <th>2</th>\n",
       "      <td>Taylor Swift</td>\n",
       "      <td>77949736</td>\n",
       "    </tr>\n",
       "    <tr>\n",
       "      <th>3</th>\n",
       "      <td>David Guetta</td>\n",
       "      <td>68497234</td>\n",
       "    </tr>\n",
       "    <tr>\n",
       "      <th>4</th>\n",
       "      <td>Justin Bieber</td>\n",
       "      <td>68033809</td>\n",
       "    </tr>\n",
       "    <tr>\n",
       "      <th>5</th>\n",
       "      <td>Sam Smith</td>\n",
       "      <td>68410430</td>\n",
       "    </tr>\n",
       "    <tr>\n",
       "      <th>6</th>\n",
       "      <td>Harry Styles</td>\n",
       "      <td>65314712</td>\n",
       "    </tr>\n",
       "    <tr>\n",
       "      <th>7</th>\n",
       "      <td>Bad Bunny</td>\n",
       "      <td>62408526</td>\n",
       "    </tr>\n",
       "    <tr>\n",
       "      <th>8</th>\n",
       "      <td>Rihanna</td>\n",
       "      <td>64665339</td>\n",
       "    </tr>\n",
       "    <tr>\n",
       "      <th>9</th>\n",
       "      <td>Dua Lipa</td>\n",
       "      <td>60387414</td>\n",
       "    </tr>\n",
       "  </tbody>\n",
       "</table>\n",
       "</div>"
      ],
      "text/plain": [
       "          artist  monthly listeners\n",
       "0     The Weeknd           78929182\n",
       "1     Ed Sheeran           77340632\n",
       "2   Taylor Swift           77949736\n",
       "3   David Guetta           68497234\n",
       "4  Justin Bieber           68033809\n",
       "5      Sam Smith           68410430\n",
       "6   Harry Styles           65314712\n",
       "7      Bad Bunny           62408526\n",
       "8        Rihanna           64665339\n",
       "9       Dua Lipa           60387414"
      ]
     },
     "execution_count": 5,
     "metadata": {},
     "output_type": "execute_result"
    }
   ],
   "source": [
    "#Dictionary to Dataframe\n",
    "data = {'artist': [\"The Weeknd\", \"Ed Sheeran\",  \"Taylor Swift\", \"David Guetta\", \"Justin Bieber\", \"Sam Smith\", \"Harry Styles\", \"Bad Bunny\", \"Rihanna\", \"Dua Lipa\"], \n",
    "        'monthly listeners': [78929182, 77340632, 77949736, 68497234, 68033809, 68410430, 65314712, 62408526, 64665339, 60387414]}\n",
    "new = pd.DataFrame.from_dict(data)\n",
    "new"
   ]
  },
  {
   "cell_type": "code",
   "execution_count": 8,
   "metadata": {},
   "outputs": [],
   "source": [
    "new.to_csv(f\"./Mainstream Monthly.csv\", sep = ',')\n"
   ]
  }
 ],
 "metadata": {
  "kernelspec": {
   "display_name": "Python 3.9.12 ('base')",
   "language": "python",
   "name": "python3"
  },
  "language_info": {
   "codemirror_mode": {
    "name": "ipython",
    "version": 3
   },
   "file_extension": ".py",
   "mimetype": "text/x-python",
   "name": "python",
   "nbconvert_exporter": "python",
   "pygments_lexer": "ipython3",
   "version": "3.9.12"
  },
  "orig_nbformat": 4,
  "vscode": {
   "interpreter": {
    "hash": "9b65e3f165b9ab6886d5ca8424d575f5b16bbb36049fd86f168802c37613562d"
   }
  }
 },
 "nbformat": 4,
 "nbformat_minor": 2
}
