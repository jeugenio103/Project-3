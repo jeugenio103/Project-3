{
 "cells": [
  {
   "cell_type": "code",
   "execution_count": 142,
   "metadata": {},
   "outputs": [],
   "source": [
    "import pandas as pd\n",
    "import numpy as np\n",
    "import plotly.express as px\n",
    "import plotly.graph_objects as go\n",
    "import json\n",
    "from artists_88rising import artists"
   ]
  },
  {
   "cell_type": "code",
   "execution_count": 9,
   "metadata": {},
   "outputs": [
    {
     "data": {
      "text/html": [
       "<div>\n",
       "<style scoped>\n",
       "    .dataframe tbody tr th:only-of-type {\n",
       "        vertical-align: middle;\n",
       "    }\n",
       "\n",
       "    .dataframe tbody tr th {\n",
       "        vertical-align: top;\n",
       "    }\n",
       "\n",
       "    .dataframe thead th {\n",
       "        text-align: right;\n",
       "    }\n",
       "</style>\n",
       "<table border=\"1\" class=\"dataframe\">\n",
       "  <thead>\n",
       "    <tr style=\"text-align: right;\">\n",
       "      <th></th>\n",
       "      <th>song name</th>\n",
       "      <th>album</th>\n",
       "      <th>artist</th>\n",
       "      <th>featured</th>\n",
       "      <th>release_date</th>\n",
       "      <th>length(ms)</th>\n",
       "      <th>popularity</th>\n",
       "      <th>acousticness</th>\n",
       "      <th>danceability</th>\n",
       "      <th>energy</th>\n",
       "      <th>liveness</th>\n",
       "      <th>tempo</th>\n",
       "      <th>valence</th>\n",
       "    </tr>\n",
       "  </thead>\n",
       "  <tbody>\n",
       "    <tr>\n",
       "      <th>0</th>\n",
       "      <td>Animal Farm</td>\n",
       "      <td>Animal Farm</td>\n",
       "      <td>BIBI</td>\n",
       "      <td>[BIBI]</td>\n",
       "      <td>2022-09-27</td>\n",
       "      <td>203945</td>\n",
       "      <td>69</td>\n",
       "      <td>0.0178</td>\n",
       "      <td>0.617</td>\n",
       "      <td>0.570</td>\n",
       "      <td>0.5500</td>\n",
       "      <td>107.971</td>\n",
       "      <td>0.375</td>\n",
       "    </tr>\n",
       "    <tr>\n",
       "      <th>1</th>\n",
       "      <td>KAZINO</td>\n",
       "      <td>KAZINO</td>\n",
       "      <td>BIBI</td>\n",
       "      <td>[BIBI]</td>\n",
       "      <td>2020-04-29</td>\n",
       "      <td>185946</td>\n",
       "      <td>65</td>\n",
       "      <td>0.1390</td>\n",
       "      <td>0.625</td>\n",
       "      <td>0.686</td>\n",
       "      <td>0.1100</td>\n",
       "      <td>133.041</td>\n",
       "      <td>0.263</td>\n",
       "    </tr>\n",
       "    <tr>\n",
       "      <th>2</th>\n",
       "      <td>BAD SAD AND MAD</td>\n",
       "      <td>Life is a Biâ¦</td>\n",
       "      <td>BIBI</td>\n",
       "      <td>[BIBI]</td>\n",
       "      <td>2021-04-28</td>\n",
       "      <td>154988</td>\n",
       "      <td>64</td>\n",
       "      <td>0.5450</td>\n",
       "      <td>0.746</td>\n",
       "      <td>0.558</td>\n",
       "      <td>0.0904</td>\n",
       "      <td>90.013</td>\n",
       "      <td>0.638</td>\n",
       "    </tr>\n",
       "    <tr>\n",
       "      <th>3</th>\n",
       "      <td>Very, Slowly</td>\n",
       "      <td>Twenty-Five Twenty-One OST Part 3</td>\n",
       "      <td>BIBI</td>\n",
       "      <td>[BIBI]</td>\n",
       "      <td>2022-02-20</td>\n",
       "      <td>214851</td>\n",
       "      <td>60</td>\n",
       "      <td>0.6780</td>\n",
       "      <td>0.528</td>\n",
       "      <td>0.423</td>\n",
       "      <td>0.1670</td>\n",
       "      <td>135.917</td>\n",
       "      <td>0.249</td>\n",
       "    </tr>\n",
       "    <tr>\n",
       "      <th>4</th>\n",
       "      <td>MotoSpeed 24</td>\n",
       "      <td>Sweet Sorrow of Mother</td>\n",
       "      <td>BIBI</td>\n",
       "      <td>[BIBI]</td>\n",
       "      <td>2022-10-24</td>\n",
       "      <td>133904</td>\n",
       "      <td>56</td>\n",
       "      <td>0.3190</td>\n",
       "      <td>0.610</td>\n",
       "      <td>0.597</td>\n",
       "      <td>0.1360</td>\n",
       "      <td>95.004</td>\n",
       "      <td>0.295</td>\n",
       "    </tr>\n",
       "  </tbody>\n",
       "</table>\n",
       "</div>"
      ],
      "text/plain": [
       "         song name                              album artist featured  \\\n",
       "0      Animal Farm                        Animal Farm   BIBI   [BIBI]   \n",
       "1           KAZINO                             KAZINO   BIBI   [BIBI]   \n",
       "2  BAD SAD AND MAD                    Life is a Biâ¦   BIBI   [BIBI]   \n",
       "3     Very, Slowly  Twenty-Five Twenty-One OST Part 3   BIBI   [BIBI]   \n",
       "4     MotoSpeed 24             Sweet Sorrow of Mother   BIBI   [BIBI]   \n",
       "\n",
       "  release_date  length(ms)  popularity  acousticness  danceability  energy  \\\n",
       "0   2022-09-27      203945          69        0.0178         0.617   0.570   \n",
       "1   2020-04-29      185946          65        0.1390         0.625   0.686   \n",
       "2   2021-04-28      154988          64        0.5450         0.746   0.558   \n",
       "3   2022-02-20      214851          60        0.6780         0.528   0.423   \n",
       "4   2022-10-24      133904          56        0.3190         0.610   0.597   \n",
       "\n",
       "   liveness    tempo  valence  \n",
       "0    0.5500  107.971    0.375  \n",
       "1    0.1100  133.041    0.263  \n",
       "2    0.0904   90.013    0.638  \n",
       "3    0.1670  135.917    0.249  \n",
       "4    0.1360   95.004    0.295  "
      ]
     },
     "execution_count": 9,
     "metadata": {},
     "output_type": "execute_result"
    }
   ],
   "source": [
    "# Import JSON data into dataframe\n",
    "\n",
    "# Solo tracks\n",
    "solo_df = pd.read_json('./Datasets/solo_tracks_88rising.json')\n",
    "solo_df.head()"
   ]
  },
  {
   "cell_type": "code",
   "execution_count": 10,
   "metadata": {},
   "outputs": [
    {
     "data": {
      "text/html": [
       "<div>\n",
       "<style scoped>\n",
       "    .dataframe tbody tr th:only-of-type {\n",
       "        vertical-align: middle;\n",
       "    }\n",
       "\n",
       "    .dataframe tbody tr th {\n",
       "        vertical-align: top;\n",
       "    }\n",
       "\n",
       "    .dataframe thead th {\n",
       "        text-align: right;\n",
       "    }\n",
       "</style>\n",
       "<table border=\"1\" class=\"dataframe\">\n",
       "  <thead>\n",
       "    <tr style=\"text-align: right;\">\n",
       "      <th></th>\n",
       "      <th>song name</th>\n",
       "      <th>album</th>\n",
       "      <th>artist</th>\n",
       "      <th>featured</th>\n",
       "      <th>release_date</th>\n",
       "      <th>length(ms)</th>\n",
       "      <th>popularity</th>\n",
       "      <th>acousticness</th>\n",
       "      <th>danceability</th>\n",
       "      <th>energy</th>\n",
       "      <th>liveness</th>\n",
       "      <th>tempo</th>\n",
       "      <th>valence</th>\n",
       "    </tr>\n",
       "  </thead>\n",
       "  <tbody>\n",
       "    <tr>\n",
       "      <th>0</th>\n",
       "      <td>The Weekend</td>\n",
       "      <td>The Weekend</td>\n",
       "      <td>88rising</td>\n",
       "      <td>[88rising, BIBI]</td>\n",
       "      <td>2021-10-14</td>\n",
       "      <td>167661</td>\n",
       "      <td>69</td>\n",
       "      <td>0.062000</td>\n",
       "      <td>0.784</td>\n",
       "      <td>0.521</td>\n",
       "      <td>0.0995</td>\n",
       "      <td>101.491</td>\n",
       "      <td>0.817</td>\n",
       "    </tr>\n",
       "    <tr>\n",
       "      <th>1</th>\n",
       "      <td>Best Lover</td>\n",
       "      <td>Head In The Clouds Forever</td>\n",
       "      <td>88rising</td>\n",
       "      <td>[88rising, BIBI]</td>\n",
       "      <td>2022-04-16</td>\n",
       "      <td>152910</td>\n",
       "      <td>66</td>\n",
       "      <td>0.268000</td>\n",
       "      <td>0.740</td>\n",
       "      <td>0.663</td>\n",
       "      <td>0.1210</td>\n",
       "      <td>82.004</td>\n",
       "      <td>0.519</td>\n",
       "    </tr>\n",
       "    <tr>\n",
       "      <th>2</th>\n",
       "      <td>Crazy Like You (feat. BIBI)</td>\n",
       "      <td>Bare&amp;Rare, Pt. 1</td>\n",
       "      <td>CHUNG HA</td>\n",
       "      <td>[CHUNG HA, BIBI]</td>\n",
       "      <td>2022-07-11</td>\n",
       "      <td>175480</td>\n",
       "      <td>50</td>\n",
       "      <td>0.095700</td>\n",
       "      <td>0.536</td>\n",
       "      <td>0.639</td>\n",
       "      <td>0.2090</td>\n",
       "      <td>170.940</td>\n",
       "      <td>0.502</td>\n",
       "    </tr>\n",
       "    <tr>\n",
       "      <th>3</th>\n",
       "      <td>froyo (feat. Warren Hue)</td>\n",
       "      <td>Head In The Clouds Forever</td>\n",
       "      <td>88rising</td>\n",
       "      <td>[88rising, BIBI, Rich Brian]</td>\n",
       "      <td>2022-04-16</td>\n",
       "      <td>309121</td>\n",
       "      <td>45</td>\n",
       "      <td>0.213000</td>\n",
       "      <td>0.508</td>\n",
       "      <td>0.688</td>\n",
       "      <td>0.1570</td>\n",
       "      <td>145.089</td>\n",
       "      <td>0.335</td>\n",
       "    </tr>\n",
       "    <tr>\n",
       "      <th>4</th>\n",
       "      <td>These Nights</td>\n",
       "      <td>These Nights</td>\n",
       "      <td>88rising</td>\n",
       "      <td>[88rising, Rich Brian]</td>\n",
       "      <td>2019-10-03</td>\n",
       "      <td>223006</td>\n",
       "      <td>41</td>\n",
       "      <td>0.000317</td>\n",
       "      <td>0.656</td>\n",
       "      <td>0.673</td>\n",
       "      <td>0.2800</td>\n",
       "      <td>83.018</td>\n",
       "      <td>0.494</td>\n",
       "    </tr>\n",
       "  </tbody>\n",
       "</table>\n",
       "</div>"
      ],
      "text/plain": [
       "                     song name                       album    artist  \\\n",
       "0                  The Weekend                 The Weekend  88rising   \n",
       "1                   Best Lover  Head In The Clouds Forever  88rising   \n",
       "2  Crazy Like You (feat. BIBI)            Bare&Rare, Pt. 1  CHUNG HA   \n",
       "3     froyo (feat. Warren Hue)  Head In The Clouds Forever  88rising   \n",
       "4                 These Nights                These Nights  88rising   \n",
       "\n",
       "                       featured release_date  length(ms)  popularity  \\\n",
       "0              [88rising, BIBI]   2021-10-14      167661          69   \n",
       "1              [88rising, BIBI]   2022-04-16      152910          66   \n",
       "2              [CHUNG HA, BIBI]   2022-07-11      175480          50   \n",
       "3  [88rising, BIBI, Rich Brian]   2022-04-16      309121          45   \n",
       "4        [88rising, Rich Brian]   2019-10-03      223006          41   \n",
       "\n",
       "   acousticness  danceability  energy  liveness    tempo  valence  \n",
       "0      0.062000         0.784   0.521    0.0995  101.491    0.817  \n",
       "1      0.268000         0.740   0.663    0.1210   82.004    0.519  \n",
       "2      0.095700         0.536   0.639    0.2090  170.940    0.502  \n",
       "3      0.213000         0.508   0.688    0.1570  145.089    0.335  \n",
       "4      0.000317         0.656   0.673    0.2800   83.018    0.494  "
      ]
     },
     "execution_count": 10,
     "metadata": {},
     "output_type": "execute_result"
    }
   ],
   "source": [
    "# Tracks with collaborations from 88 Rising artists\n",
    "collabs_88_df = pd.read_json('./Datasets/collab_88rising.json')\n",
    "collabs_88_df.head()"
   ]
  },
  {
   "cell_type": "code",
   "execution_count": 11,
   "metadata": {},
   "outputs": [
    {
     "data": {
      "text/html": [
       "<div>\n",
       "<style scoped>\n",
       "    .dataframe tbody tr th:only-of-type {\n",
       "        vertical-align: middle;\n",
       "    }\n",
       "\n",
       "    .dataframe tbody tr th {\n",
       "        vertical-align: top;\n",
       "    }\n",
       "\n",
       "    .dataframe thead th {\n",
       "        text-align: right;\n",
       "    }\n",
       "</style>\n",
       "<table border=\"1\" class=\"dataframe\">\n",
       "  <thead>\n",
       "    <tr style=\"text-align: right;\">\n",
       "      <th></th>\n",
       "      <th>song name</th>\n",
       "      <th>album</th>\n",
       "      <th>artist</th>\n",
       "      <th>featured</th>\n",
       "      <th>release_date</th>\n",
       "      <th>length(ms)</th>\n",
       "      <th>popularity</th>\n",
       "      <th>acousticness</th>\n",
       "      <th>danceability</th>\n",
       "      <th>energy</th>\n",
       "      <th>liveness</th>\n",
       "      <th>tempo</th>\n",
       "      <th>valence</th>\n",
       "    </tr>\n",
       "  </thead>\n",
       "  <tbody>\n",
       "    <tr>\n",
       "      <th>0</th>\n",
       "      <td>LAW (Prod. Czaer)</td>\n",
       "      <td>Street Man Fighter Original Vol.3 (Mission by ...</td>\n",
       "      <td>Various Artists</td>\n",
       "      <td>[Yoon Mirae, BIBI]</td>\n",
       "      <td>2022-09-06</td>\n",
       "      <td>189373</td>\n",
       "      <td>71</td>\n",
       "      <td>0.00857</td>\n",
       "      <td>0.756</td>\n",
       "      <td>0.900</td>\n",
       "      <td>0.2370</td>\n",
       "      <td>128.054</td>\n",
       "      <td>0.550</td>\n",
       "    </tr>\n",
       "    <tr>\n",
       "      <th>1</th>\n",
       "      <td>Never Gonna Come Down</td>\n",
       "      <td>Shang-Chi and The Legend of The Ten Rings: The...</td>\n",
       "      <td>88rising</td>\n",
       "      <td>[Mark Tuan, BIBI]</td>\n",
       "      <td>2021-09-03</td>\n",
       "      <td>203800</td>\n",
       "      <td>51</td>\n",
       "      <td>0.65600</td>\n",
       "      <td>0.777</td>\n",
       "      <td>0.689</td>\n",
       "      <td>0.0620</td>\n",
       "      <td>150.036</td>\n",
       "      <td>0.873</td>\n",
       "    </tr>\n",
       "    <tr>\n",
       "      <th>2</th>\n",
       "      <td>AUTOMATIC</td>\n",
       "      <td>AUTOMATIC</td>\n",
       "      <td>Various Artists</td>\n",
       "      <td>[Chancellor, Babylon, twlv]</td>\n",
       "      <td>2020-10-14</td>\n",
       "      <td>268293</td>\n",
       "      <td>51</td>\n",
       "      <td>0.13300</td>\n",
       "      <td>0.720</td>\n",
       "      <td>0.703</td>\n",
       "      <td>0.1210</td>\n",
       "      <td>99.999</td>\n",
       "      <td>0.492</td>\n",
       "    </tr>\n",
       "    <tr>\n",
       "      <th>3</th>\n",
       "      <td>Eleven (feat. BIBI)</td>\n",
       "      <td>Blueline</td>\n",
       "      <td>twlv</td>\n",
       "      <td>[twlv, BIBI]</td>\n",
       "      <td>2019-03-15</td>\n",
       "      <td>196520</td>\n",
       "      <td>46</td>\n",
       "      <td>0.14500</td>\n",
       "      <td>0.502</td>\n",
       "      <td>0.576</td>\n",
       "      <td>0.1700</td>\n",
       "      <td>89.897</td>\n",
       "      <td>0.205</td>\n",
       "    </tr>\n",
       "    <tr>\n",
       "      <th>4</th>\n",
       "      <td>Hanryang</td>\n",
       "      <td>Hanryang</td>\n",
       "      <td>Min Kyunghoon</td>\n",
       "      <td>[Min Kyunghoon, KIM HEECHUL, BIBI]</td>\n",
       "      <td>2020-12-19</td>\n",
       "      <td>202866</td>\n",
       "      <td>49</td>\n",
       "      <td>0.06050</td>\n",
       "      <td>0.698</td>\n",
       "      <td>0.729</td>\n",
       "      <td>0.0918</td>\n",
       "      <td>140.083</td>\n",
       "      <td>0.306</td>\n",
       "    </tr>\n",
       "  </tbody>\n",
       "</table>\n",
       "</div>"
      ],
      "text/plain": [
       "               song name                                              album  \\\n",
       "0      LAW (Prod. Czaer)  Street Man Fighter Original Vol.3 (Mission by ...   \n",
       "1  Never Gonna Come Down  Shang-Chi and The Legend of The Ten Rings: The...   \n",
       "2              AUTOMATIC                                          AUTOMATIC   \n",
       "3    Eleven (feat. BIBI)                                           Blueline   \n",
       "4               Hanryang                                           Hanryang   \n",
       "\n",
       "            artist                            featured release_date  \\\n",
       "0  Various Artists                  [Yoon Mirae, BIBI]   2022-09-06   \n",
       "1         88rising                   [Mark Tuan, BIBI]   2021-09-03   \n",
       "2  Various Artists         [Chancellor, Babylon, twlv]   2020-10-14   \n",
       "3             twlv                        [twlv, BIBI]   2019-03-15   \n",
       "4    Min Kyunghoon  [Min Kyunghoon, KIM HEECHUL, BIBI]   2020-12-19   \n",
       "\n",
       "   length(ms)  popularity  acousticness  danceability  energy  liveness  \\\n",
       "0      189373          71       0.00857         0.756   0.900    0.2370   \n",
       "1      203800          51       0.65600         0.777   0.689    0.0620   \n",
       "2      268293          51       0.13300         0.720   0.703    0.1210   \n",
       "3      196520          46       0.14500         0.502   0.576    0.1700   \n",
       "4      202866          49       0.06050         0.698   0.729    0.0918   \n",
       "\n",
       "     tempo  valence  \n",
       "0  128.054    0.550  \n",
       "1  150.036    0.873  \n",
       "2   99.999    0.492  \n",
       "3   89.897    0.205  \n",
       "4  140.083    0.306  "
      ]
     },
     "execution_count": 11,
     "metadata": {},
     "output_type": "execute_result"
    }
   ],
   "source": [
    "# Collaborations with artists outside of 88 Rising\n",
    "collab_out_df = pd.read_json('./Datasets/collab_outside_artists.json')\n",
    "collab_out_df.head()"
   ]
  },
  {
   "cell_type": "markdown",
   "metadata": {},
   "source": [
    "## Collaboration Trends\n",
    "Explore the collaborations data to see if there is any effect on popularity. This will include tracks with collaborations with artists both part of 88 Rising and outside of 88 Rising\n",
    "- Does the number of artists in the collaboration effect song popularity?\n",
    "- Which artist collaborations are the most popular?\n"
   ]
  },
  {
   "cell_type": "code",
   "execution_count": 28,
   "metadata": {},
   "outputs": [
    {
     "data": {
      "text/html": [
       "<div>\n",
       "<style scoped>\n",
       "    .dataframe tbody tr th:only-of-type {\n",
       "        vertical-align: middle;\n",
       "    }\n",
       "\n",
       "    .dataframe tbody tr th {\n",
       "        vertical-align: top;\n",
       "    }\n",
       "\n",
       "    .dataframe thead th {\n",
       "        text-align: right;\n",
       "    }\n",
       "</style>\n",
       "<table border=\"1\" class=\"dataframe\">\n",
       "  <thead>\n",
       "    <tr style=\"text-align: right;\">\n",
       "      <th></th>\n",
       "      <th>song name</th>\n",
       "      <th>album</th>\n",
       "      <th>artist</th>\n",
       "      <th>featured</th>\n",
       "      <th>release_date</th>\n",
       "      <th>length(ms)</th>\n",
       "      <th>popularity</th>\n",
       "      <th>acousticness</th>\n",
       "      <th>danceability</th>\n",
       "      <th>energy</th>\n",
       "      <th>liveness</th>\n",
       "      <th>tempo</th>\n",
       "      <th>valence</th>\n",
       "    </tr>\n",
       "  </thead>\n",
       "  <tbody>\n",
       "    <tr>\n",
       "      <th>0</th>\n",
       "      <td>The Weekend</td>\n",
       "      <td>The Weekend</td>\n",
       "      <td>88rising</td>\n",
       "      <td>[88rising, BIBI]</td>\n",
       "      <td>2021-10-14</td>\n",
       "      <td>167661</td>\n",
       "      <td>69</td>\n",
       "      <td>0.062000</td>\n",
       "      <td>0.784</td>\n",
       "      <td>0.521</td>\n",
       "      <td>0.0995</td>\n",
       "      <td>101.491</td>\n",
       "      <td>0.817</td>\n",
       "    </tr>\n",
       "    <tr>\n",
       "      <th>1</th>\n",
       "      <td>Best Lover</td>\n",
       "      <td>Head In The Clouds Forever</td>\n",
       "      <td>88rising</td>\n",
       "      <td>[88rising, BIBI]</td>\n",
       "      <td>2022-04-16</td>\n",
       "      <td>152910</td>\n",
       "      <td>66</td>\n",
       "      <td>0.268000</td>\n",
       "      <td>0.740</td>\n",
       "      <td>0.663</td>\n",
       "      <td>0.1210</td>\n",
       "      <td>82.004</td>\n",
       "      <td>0.519</td>\n",
       "    </tr>\n",
       "    <tr>\n",
       "      <th>2</th>\n",
       "      <td>Crazy Like You (feat. BIBI)</td>\n",
       "      <td>Bare&amp;Rare, Pt. 1</td>\n",
       "      <td>CHUNG HA</td>\n",
       "      <td>[CHUNG HA, BIBI]</td>\n",
       "      <td>2022-07-11</td>\n",
       "      <td>175480</td>\n",
       "      <td>50</td>\n",
       "      <td>0.095700</td>\n",
       "      <td>0.536</td>\n",
       "      <td>0.639</td>\n",
       "      <td>0.2090</td>\n",
       "      <td>170.940</td>\n",
       "      <td>0.502</td>\n",
       "    </tr>\n",
       "    <tr>\n",
       "      <th>3</th>\n",
       "      <td>froyo (feat. Warren Hue)</td>\n",
       "      <td>Head In The Clouds Forever</td>\n",
       "      <td>88rising</td>\n",
       "      <td>[88rising, BIBI, Rich Brian]</td>\n",
       "      <td>2022-04-16</td>\n",
       "      <td>309121</td>\n",
       "      <td>45</td>\n",
       "      <td>0.213000</td>\n",
       "      <td>0.508</td>\n",
       "      <td>0.688</td>\n",
       "      <td>0.1570</td>\n",
       "      <td>145.089</td>\n",
       "      <td>0.335</td>\n",
       "    </tr>\n",
       "    <tr>\n",
       "      <th>4</th>\n",
       "      <td>These Nights</td>\n",
       "      <td>These Nights</td>\n",
       "      <td>88rising</td>\n",
       "      <td>[88rising, Rich Brian]</td>\n",
       "      <td>2019-10-03</td>\n",
       "      <td>223006</td>\n",
       "      <td>41</td>\n",
       "      <td>0.000317</td>\n",
       "      <td>0.656</td>\n",
       "      <td>0.673</td>\n",
       "      <td>0.2800</td>\n",
       "      <td>83.018</td>\n",
       "      <td>0.494</td>\n",
       "    </tr>\n",
       "  </tbody>\n",
       "</table>\n",
       "</div>"
      ],
      "text/plain": [
       "                     song name                       album    artist  \\\n",
       "0                  The Weekend                 The Weekend  88rising   \n",
       "1                   Best Lover  Head In The Clouds Forever  88rising   \n",
       "2  Crazy Like You (feat. BIBI)            Bare&Rare, Pt. 1  CHUNG HA   \n",
       "3     froyo (feat. Warren Hue)  Head In The Clouds Forever  88rising   \n",
       "4                 These Nights                These Nights  88rising   \n",
       "\n",
       "                       featured release_date  length(ms)  popularity  \\\n",
       "0              [88rising, BIBI]   2021-10-14      167661          69   \n",
       "1              [88rising, BIBI]   2022-04-16      152910          66   \n",
       "2              [CHUNG HA, BIBI]   2022-07-11      175480          50   \n",
       "3  [88rising, BIBI, Rich Brian]   2022-04-16      309121          45   \n",
       "4        [88rising, Rich Brian]   2019-10-03      223006          41   \n",
       "\n",
       "   acousticness  danceability  energy  liveness    tempo  valence  \n",
       "0      0.062000         0.784   0.521    0.0995  101.491    0.817  \n",
       "1      0.268000         0.740   0.663    0.1210   82.004    0.519  \n",
       "2      0.095700         0.536   0.639    0.2090  170.940    0.502  \n",
       "3      0.213000         0.508   0.688    0.1570  145.089    0.335  \n",
       "4      0.000317         0.656   0.673    0.2800   83.018    0.494  "
      ]
     },
     "execution_count": 28,
     "metadata": {},
     "output_type": "execute_result"
    }
   ],
   "source": [
    "# Combine 88 Rising solo, collabs and outside collabs data\n",
    "all_df = pd.concat([collabs_88_df, collab_out_df, solo_df], axis=0)\n",
    "all_df.head()"
   ]
  },
  {
   "cell_type": "code",
   "execution_count": 30,
   "metadata": {},
   "outputs": [
    {
     "name": "stdout",
     "output_type": "stream",
     "text": [
      "451 164 36 251\n"
     ]
    }
   ],
   "source": [
    "print(len(all_df), len(collab_out_df), len(collabs_88_df), len(solo_df))"
   ]
  },
  {
   "cell_type": "code",
   "execution_count": 31,
   "metadata": {},
   "outputs": [
    {
     "data": {
      "text/html": [
       "<div>\n",
       "<style scoped>\n",
       "    .dataframe tbody tr th:only-of-type {\n",
       "        vertical-align: middle;\n",
       "    }\n",
       "\n",
       "    .dataframe tbody tr th {\n",
       "        vertical-align: top;\n",
       "    }\n",
       "\n",
       "    .dataframe thead th {\n",
       "        text-align: right;\n",
       "    }\n",
       "</style>\n",
       "<table border=\"1\" class=\"dataframe\">\n",
       "  <thead>\n",
       "    <tr style=\"text-align: right;\">\n",
       "      <th></th>\n",
       "      <th>song name</th>\n",
       "      <th>album</th>\n",
       "      <th>artist</th>\n",
       "      <th>featured</th>\n",
       "      <th>release_date</th>\n",
       "      <th>length(ms)</th>\n",
       "      <th>popularity</th>\n",
       "      <th>acousticness</th>\n",
       "      <th>danceability</th>\n",
       "      <th>energy</th>\n",
       "      <th>liveness</th>\n",
       "      <th>tempo</th>\n",
       "      <th>valence</th>\n",
       "      <th>num_artists</th>\n",
       "    </tr>\n",
       "  </thead>\n",
       "  <tbody>\n",
       "    <tr>\n",
       "      <th>0</th>\n",
       "      <td>The Weekend</td>\n",
       "      <td>The Weekend</td>\n",
       "      <td>88rising</td>\n",
       "      <td>[88rising, BIBI]</td>\n",
       "      <td>2021-10-14</td>\n",
       "      <td>167661</td>\n",
       "      <td>69</td>\n",
       "      <td>0.062000</td>\n",
       "      <td>0.784</td>\n",
       "      <td>0.521</td>\n",
       "      <td>0.0995</td>\n",
       "      <td>101.491</td>\n",
       "      <td>0.817</td>\n",
       "      <td>2</td>\n",
       "    </tr>\n",
       "    <tr>\n",
       "      <th>1</th>\n",
       "      <td>Best Lover</td>\n",
       "      <td>Head In The Clouds Forever</td>\n",
       "      <td>88rising</td>\n",
       "      <td>[88rising, BIBI]</td>\n",
       "      <td>2022-04-16</td>\n",
       "      <td>152910</td>\n",
       "      <td>66</td>\n",
       "      <td>0.268000</td>\n",
       "      <td>0.740</td>\n",
       "      <td>0.663</td>\n",
       "      <td>0.1210</td>\n",
       "      <td>82.004</td>\n",
       "      <td>0.519</td>\n",
       "      <td>2</td>\n",
       "    </tr>\n",
       "    <tr>\n",
       "      <th>2</th>\n",
       "      <td>Crazy Like You (feat. BIBI)</td>\n",
       "      <td>Bare&amp;Rare, Pt. 1</td>\n",
       "      <td>CHUNG HA</td>\n",
       "      <td>[CHUNG HA, BIBI]</td>\n",
       "      <td>2022-07-11</td>\n",
       "      <td>175480</td>\n",
       "      <td>50</td>\n",
       "      <td>0.095700</td>\n",
       "      <td>0.536</td>\n",
       "      <td>0.639</td>\n",
       "      <td>0.2090</td>\n",
       "      <td>170.940</td>\n",
       "      <td>0.502</td>\n",
       "      <td>2</td>\n",
       "    </tr>\n",
       "    <tr>\n",
       "      <th>3</th>\n",
       "      <td>froyo (feat. Warren Hue)</td>\n",
       "      <td>Head In The Clouds Forever</td>\n",
       "      <td>88rising</td>\n",
       "      <td>[88rising, BIBI, Rich Brian]</td>\n",
       "      <td>2022-04-16</td>\n",
       "      <td>309121</td>\n",
       "      <td>45</td>\n",
       "      <td>0.213000</td>\n",
       "      <td>0.508</td>\n",
       "      <td>0.688</td>\n",
       "      <td>0.1570</td>\n",
       "      <td>145.089</td>\n",
       "      <td>0.335</td>\n",
       "      <td>3</td>\n",
       "    </tr>\n",
       "    <tr>\n",
       "      <th>4</th>\n",
       "      <td>These Nights</td>\n",
       "      <td>These Nights</td>\n",
       "      <td>88rising</td>\n",
       "      <td>[88rising, Rich Brian]</td>\n",
       "      <td>2019-10-03</td>\n",
       "      <td>223006</td>\n",
       "      <td>41</td>\n",
       "      <td>0.000317</td>\n",
       "      <td>0.656</td>\n",
       "      <td>0.673</td>\n",
       "      <td>0.2800</td>\n",
       "      <td>83.018</td>\n",
       "      <td>0.494</td>\n",
       "      <td>2</td>\n",
       "    </tr>\n",
       "  </tbody>\n",
       "</table>\n",
       "</div>"
      ],
      "text/plain": [
       "                     song name                       album    artist  \\\n",
       "0                  The Weekend                 The Weekend  88rising   \n",
       "1                   Best Lover  Head In The Clouds Forever  88rising   \n",
       "2  Crazy Like You (feat. BIBI)            Bare&Rare, Pt. 1  CHUNG HA   \n",
       "3     froyo (feat. Warren Hue)  Head In The Clouds Forever  88rising   \n",
       "4                 These Nights                These Nights  88rising   \n",
       "\n",
       "                       featured release_date  length(ms)  popularity  \\\n",
       "0              [88rising, BIBI]   2021-10-14      167661          69   \n",
       "1              [88rising, BIBI]   2022-04-16      152910          66   \n",
       "2              [CHUNG HA, BIBI]   2022-07-11      175480          50   \n",
       "3  [88rising, BIBI, Rich Brian]   2022-04-16      309121          45   \n",
       "4        [88rising, Rich Brian]   2019-10-03      223006          41   \n",
       "\n",
       "   acousticness  danceability  energy  liveness    tempo  valence  num_artists  \n",
       "0      0.062000         0.784   0.521    0.0995  101.491    0.817            2  \n",
       "1      0.268000         0.740   0.663    0.1210   82.004    0.519            2  \n",
       "2      0.095700         0.536   0.639    0.2090  170.940    0.502            2  \n",
       "3      0.213000         0.508   0.688    0.1570  145.089    0.335            3  \n",
       "4      0.000317         0.656   0.673    0.2800   83.018    0.494            2  "
      ]
     },
     "execution_count": 31,
     "metadata": {},
     "output_type": "execute_result"
    }
   ],
   "source": [
    "all_df['num_artists'] = all_df['featured'].apply(lambda x: len(x))\n",
    "all_df.head()"
   ]
  },
  {
   "cell_type": "markdown",
   "metadata": {},
   "source": [
    "### Number of Artists per song and track popularity\n",
    "A bar plot of the number of artists featured in a song and the song popularity. (Note: 88rising will be considered as one artist)"
   ]
  },
  {
   "cell_type": "code",
   "execution_count": 32,
   "metadata": {},
   "outputs": [
    {
     "data": {
      "text/html": [
       "<div>\n",
       "<style scoped>\n",
       "    .dataframe tbody tr th:only-of-type {\n",
       "        vertical-align: middle;\n",
       "    }\n",
       "\n",
       "    .dataframe tbody tr th {\n",
       "        vertical-align: top;\n",
       "    }\n",
       "\n",
       "    .dataframe thead th {\n",
       "        text-align: right;\n",
       "    }\n",
       "</style>\n",
       "<table border=\"1\" class=\"dataframe\">\n",
       "  <thead>\n",
       "    <tr style=\"text-align: right;\">\n",
       "      <th></th>\n",
       "      <th>length(ms)</th>\n",
       "      <th>popularity</th>\n",
       "      <th>acousticness</th>\n",
       "      <th>danceability</th>\n",
       "      <th>energy</th>\n",
       "      <th>liveness</th>\n",
       "      <th>tempo</th>\n",
       "      <th>valence</th>\n",
       "    </tr>\n",
       "    <tr>\n",
       "      <th>num_artists</th>\n",
       "      <th></th>\n",
       "      <th></th>\n",
       "      <th></th>\n",
       "      <th></th>\n",
       "      <th></th>\n",
       "      <th></th>\n",
       "      <th></th>\n",
       "      <th></th>\n",
       "    </tr>\n",
       "  </thead>\n",
       "  <tbody>\n",
       "    <tr>\n",
       "      <th>1</th>\n",
       "      <td>192300.314741</td>\n",
       "      <td>44.816733</td>\n",
       "      <td>0.385745</td>\n",
       "      <td>0.644884</td>\n",
       "      <td>0.583283</td>\n",
       "      <td>0.157935</td>\n",
       "      <td>122.583339</td>\n",
       "      <td>0.452216</td>\n",
       "    </tr>\n",
       "    <tr>\n",
       "      <th>2</th>\n",
       "      <td>191548.149254</td>\n",
       "      <td>43.395522</td>\n",
       "      <td>0.290008</td>\n",
       "      <td>0.702612</td>\n",
       "      <td>0.609897</td>\n",
       "      <td>0.170300</td>\n",
       "      <td>120.191045</td>\n",
       "      <td>0.499397</td>\n",
       "    </tr>\n",
       "    <tr>\n",
       "      <th>3</th>\n",
       "      <td>211788.090909</td>\n",
       "      <td>44.060606</td>\n",
       "      <td>0.274708</td>\n",
       "      <td>0.726061</td>\n",
       "      <td>0.655682</td>\n",
       "      <td>0.152873</td>\n",
       "      <td>119.776152</td>\n",
       "      <td>0.446202</td>\n",
       "    </tr>\n",
       "  </tbody>\n",
       "</table>\n",
       "</div>"
      ],
      "text/plain": [
       "                length(ms)  popularity  acousticness  danceability    energy  \\\n",
       "num_artists                                                                    \n",
       "1            192300.314741   44.816733      0.385745      0.644884  0.583283   \n",
       "2            191548.149254   43.395522      0.290008      0.702612  0.609897   \n",
       "3            211788.090909   44.060606      0.274708      0.726061  0.655682   \n",
       "\n",
       "             liveness       tempo   valence  \n",
       "num_artists                                  \n",
       "1            0.157935  122.583339  0.452216  \n",
       "2            0.170300  120.191045  0.499397  \n",
       "3            0.152873  119.776152  0.446202  "
      ]
     },
     "execution_count": 32,
     "metadata": {},
     "output_type": "execute_result"
    }
   ],
   "source": [
    "# Group data by number of artists and taking the average of the popularity and audio features\n",
    "num_art_grp = all_df.groupby(\"num_artists\")\n",
    "num_art_grp=num_art_grp.mean()\n",
    "num_art_grp.head()"
   ]
  },
  {
   "cell_type": "code",
   "execution_count": 37,
   "metadata": {},
   "outputs": [
    {
     "data": {
      "text/plain": [
       "Int64Index([1, 2, 3], dtype='int64', name='num_artists')"
      ]
     },
     "execution_count": 37,
     "metadata": {},
     "output_type": "execute_result"
    }
   ],
   "source": [
    "num_art_grp.index"
   ]
  },
  {
   "cell_type": "code",
   "execution_count": 68,
   "metadata": {},
   "outputs": [
    {
     "data": {
      "application/vnd.plotly.v1+json": {
       "config": {
        "plotlyServerURL": "https://plot.ly"
       },
       "data": [
        {
         "alignmentgroup": "True",
         "customdata": [
          [
           192300.31474103587,
           0.38574462151394423,
           0.6448844621513945,
           0.5832828685258964,
           0.1579346613545817,
           122.58333864541834,
           0.4522155378486056
          ],
          [
           191548.14925373133,
           0.29000800746268657,
           0.7026119402985075,
           0.6098970149253732,
           0.1703,
           120.19104477611941,
           0.49939701492537314
          ],
          [
           211788.0909090909,
           0.27470781818181816,
           0.7260606060606061,
           0.6556818181818181,
           0.15287272727272727,
           119.77615151515151,
           0.4462015151515152
          ]
         ],
         "hovertemplate": "Number of Artists=%{x}<br>Average Popularity=%{y:.2f}<br>length(ms)=%{customdata[0]:.2f}<br>acousticness=%{customdata[1]:.2f}<br>danceability=%{customdata[2]:.2f}<br>energy=%{customdata[3]:.2f}<br>liveness=%{customdata[4]:.2f}<br>tempo=%{customdata[5]:.2f}<br>valence=%{customdata[6]:.2f}<extra></extra>",
         "legendgroup": "",
         "marker": {
          "color": "#636efa",
          "pattern": {
           "shape": ""
          }
         },
         "name": "",
         "offsetgroup": "",
         "orientation": "v",
         "showlegend": false,
         "textposition": "auto",
         "type": "bar",
         "x": [
          1,
          2,
          3
         ],
         "xaxis": "x",
         "y": [
          44.81673306772908,
          43.3955223880597,
          44.06060606060606
         ],
         "yaxis": "y"
        }
       ],
       "layout": {
        "barmode": "relative",
        "legend": {
         "tracegroupgap": 0
        },
        "template": {
         "data": {
          "bar": [
           {
            "error_x": {
             "color": "#2a3f5f"
            },
            "error_y": {
             "color": "#2a3f5f"
            },
            "marker": {
             "line": {
              "color": "#E5ECF6",
              "width": 0.5
             },
             "pattern": {
              "fillmode": "overlay",
              "size": 10,
              "solidity": 0.2
             }
            },
            "type": "bar"
           }
          ],
          "barpolar": [
           {
            "marker": {
             "line": {
              "color": "#E5ECF6",
              "width": 0.5
             },
             "pattern": {
              "fillmode": "overlay",
              "size": 10,
              "solidity": 0.2
             }
            },
            "type": "barpolar"
           }
          ],
          "carpet": [
           {
            "aaxis": {
             "endlinecolor": "#2a3f5f",
             "gridcolor": "white",
             "linecolor": "white",
             "minorgridcolor": "white",
             "startlinecolor": "#2a3f5f"
            },
            "baxis": {
             "endlinecolor": "#2a3f5f",
             "gridcolor": "white",
             "linecolor": "white",
             "minorgridcolor": "white",
             "startlinecolor": "#2a3f5f"
            },
            "type": "carpet"
           }
          ],
          "choropleth": [
           {
            "colorbar": {
             "outlinewidth": 0,
             "ticks": ""
            },
            "type": "choropleth"
           }
          ],
          "contour": [
           {
            "colorbar": {
             "outlinewidth": 0,
             "ticks": ""
            },
            "colorscale": [
             [
              0,
              "#0d0887"
             ],
             [
              0.1111111111111111,
              "#46039f"
             ],
             [
              0.2222222222222222,
              "#7201a8"
             ],
             [
              0.3333333333333333,
              "#9c179e"
             ],
             [
              0.4444444444444444,
              "#bd3786"
             ],
             [
              0.5555555555555556,
              "#d8576b"
             ],
             [
              0.6666666666666666,
              "#ed7953"
             ],
             [
              0.7777777777777778,
              "#fb9f3a"
             ],
             [
              0.8888888888888888,
              "#fdca26"
             ],
             [
              1,
              "#f0f921"
             ]
            ],
            "type": "contour"
           }
          ],
          "contourcarpet": [
           {
            "colorbar": {
             "outlinewidth": 0,
             "ticks": ""
            },
            "type": "contourcarpet"
           }
          ],
          "heatmap": [
           {
            "colorbar": {
             "outlinewidth": 0,
             "ticks": ""
            },
            "colorscale": [
             [
              0,
              "#0d0887"
             ],
             [
              0.1111111111111111,
              "#46039f"
             ],
             [
              0.2222222222222222,
              "#7201a8"
             ],
             [
              0.3333333333333333,
              "#9c179e"
             ],
             [
              0.4444444444444444,
              "#bd3786"
             ],
             [
              0.5555555555555556,
              "#d8576b"
             ],
             [
              0.6666666666666666,
              "#ed7953"
             ],
             [
              0.7777777777777778,
              "#fb9f3a"
             ],
             [
              0.8888888888888888,
              "#fdca26"
             ],
             [
              1,
              "#f0f921"
             ]
            ],
            "type": "heatmap"
           }
          ],
          "heatmapgl": [
           {
            "colorbar": {
             "outlinewidth": 0,
             "ticks": ""
            },
            "colorscale": [
             [
              0,
              "#0d0887"
             ],
             [
              0.1111111111111111,
              "#46039f"
             ],
             [
              0.2222222222222222,
              "#7201a8"
             ],
             [
              0.3333333333333333,
              "#9c179e"
             ],
             [
              0.4444444444444444,
              "#bd3786"
             ],
             [
              0.5555555555555556,
              "#d8576b"
             ],
             [
              0.6666666666666666,
              "#ed7953"
             ],
             [
              0.7777777777777778,
              "#fb9f3a"
             ],
             [
              0.8888888888888888,
              "#fdca26"
             ],
             [
              1,
              "#f0f921"
             ]
            ],
            "type": "heatmapgl"
           }
          ],
          "histogram": [
           {
            "marker": {
             "pattern": {
              "fillmode": "overlay",
              "size": 10,
              "solidity": 0.2
             }
            },
            "type": "histogram"
           }
          ],
          "histogram2d": [
           {
            "colorbar": {
             "outlinewidth": 0,
             "ticks": ""
            },
            "colorscale": [
             [
              0,
              "#0d0887"
             ],
             [
              0.1111111111111111,
              "#46039f"
             ],
             [
              0.2222222222222222,
              "#7201a8"
             ],
             [
              0.3333333333333333,
              "#9c179e"
             ],
             [
              0.4444444444444444,
              "#bd3786"
             ],
             [
              0.5555555555555556,
              "#d8576b"
             ],
             [
              0.6666666666666666,
              "#ed7953"
             ],
             [
              0.7777777777777778,
              "#fb9f3a"
             ],
             [
              0.8888888888888888,
              "#fdca26"
             ],
             [
              1,
              "#f0f921"
             ]
            ],
            "type": "histogram2d"
           }
          ],
          "histogram2dcontour": [
           {
            "colorbar": {
             "outlinewidth": 0,
             "ticks": ""
            },
            "colorscale": [
             [
              0,
              "#0d0887"
             ],
             [
              0.1111111111111111,
              "#46039f"
             ],
             [
              0.2222222222222222,
              "#7201a8"
             ],
             [
              0.3333333333333333,
              "#9c179e"
             ],
             [
              0.4444444444444444,
              "#bd3786"
             ],
             [
              0.5555555555555556,
              "#d8576b"
             ],
             [
              0.6666666666666666,
              "#ed7953"
             ],
             [
              0.7777777777777778,
              "#fb9f3a"
             ],
             [
              0.8888888888888888,
              "#fdca26"
             ],
             [
              1,
              "#f0f921"
             ]
            ],
            "type": "histogram2dcontour"
           }
          ],
          "mesh3d": [
           {
            "colorbar": {
             "outlinewidth": 0,
             "ticks": ""
            },
            "type": "mesh3d"
           }
          ],
          "parcoords": [
           {
            "line": {
             "colorbar": {
              "outlinewidth": 0,
              "ticks": ""
             }
            },
            "type": "parcoords"
           }
          ],
          "pie": [
           {
            "automargin": true,
            "type": "pie"
           }
          ],
          "scatter": [
           {
            "marker": {
             "colorbar": {
              "outlinewidth": 0,
              "ticks": ""
             }
            },
            "type": "scatter"
           }
          ],
          "scatter3d": [
           {
            "line": {
             "colorbar": {
              "outlinewidth": 0,
              "ticks": ""
             }
            },
            "marker": {
             "colorbar": {
              "outlinewidth": 0,
              "ticks": ""
             }
            },
            "type": "scatter3d"
           }
          ],
          "scattercarpet": [
           {
            "marker": {
             "colorbar": {
              "outlinewidth": 0,
              "ticks": ""
             }
            },
            "type": "scattercarpet"
           }
          ],
          "scattergeo": [
           {
            "marker": {
             "colorbar": {
              "outlinewidth": 0,
              "ticks": ""
             }
            },
            "type": "scattergeo"
           }
          ],
          "scattergl": [
           {
            "marker": {
             "colorbar": {
              "outlinewidth": 0,
              "ticks": ""
             }
            },
            "type": "scattergl"
           }
          ],
          "scattermapbox": [
           {
            "marker": {
             "colorbar": {
              "outlinewidth": 0,
              "ticks": ""
             }
            },
            "type": "scattermapbox"
           }
          ],
          "scatterpolar": [
           {
            "marker": {
             "colorbar": {
              "outlinewidth": 0,
              "ticks": ""
             }
            },
            "type": "scatterpolar"
           }
          ],
          "scatterpolargl": [
           {
            "marker": {
             "colorbar": {
              "outlinewidth": 0,
              "ticks": ""
             }
            },
            "type": "scatterpolargl"
           }
          ],
          "scatterternary": [
           {
            "marker": {
             "colorbar": {
              "outlinewidth": 0,
              "ticks": ""
             }
            },
            "type": "scatterternary"
           }
          ],
          "surface": [
           {
            "colorbar": {
             "outlinewidth": 0,
             "ticks": ""
            },
            "colorscale": [
             [
              0,
              "#0d0887"
             ],
             [
              0.1111111111111111,
              "#46039f"
             ],
             [
              0.2222222222222222,
              "#7201a8"
             ],
             [
              0.3333333333333333,
              "#9c179e"
             ],
             [
              0.4444444444444444,
              "#bd3786"
             ],
             [
              0.5555555555555556,
              "#d8576b"
             ],
             [
              0.6666666666666666,
              "#ed7953"
             ],
             [
              0.7777777777777778,
              "#fb9f3a"
             ],
             [
              0.8888888888888888,
              "#fdca26"
             ],
             [
              1,
              "#f0f921"
             ]
            ],
            "type": "surface"
           }
          ],
          "table": [
           {
            "cells": {
             "fill": {
              "color": "#EBF0F8"
             },
             "line": {
              "color": "white"
             }
            },
            "header": {
             "fill": {
              "color": "#C8D4E3"
             },
             "line": {
              "color": "white"
             }
            },
            "type": "table"
           }
          ]
         },
         "layout": {
          "annotationdefaults": {
           "arrowcolor": "#2a3f5f",
           "arrowhead": 0,
           "arrowwidth": 1
          },
          "autotypenumbers": "strict",
          "coloraxis": {
           "colorbar": {
            "outlinewidth": 0,
            "ticks": ""
           }
          },
          "colorscale": {
           "diverging": [
            [
             0,
             "#8e0152"
            ],
            [
             0.1,
             "#c51b7d"
            ],
            [
             0.2,
             "#de77ae"
            ],
            [
             0.3,
             "#f1b6da"
            ],
            [
             0.4,
             "#fde0ef"
            ],
            [
             0.5,
             "#f7f7f7"
            ],
            [
             0.6,
             "#e6f5d0"
            ],
            [
             0.7,
             "#b8e186"
            ],
            [
             0.8,
             "#7fbc41"
            ],
            [
             0.9,
             "#4d9221"
            ],
            [
             1,
             "#276419"
            ]
           ],
           "sequential": [
            [
             0,
             "#0d0887"
            ],
            [
             0.1111111111111111,
             "#46039f"
            ],
            [
             0.2222222222222222,
             "#7201a8"
            ],
            [
             0.3333333333333333,
             "#9c179e"
            ],
            [
             0.4444444444444444,
             "#bd3786"
            ],
            [
             0.5555555555555556,
             "#d8576b"
            ],
            [
             0.6666666666666666,
             "#ed7953"
            ],
            [
             0.7777777777777778,
             "#fb9f3a"
            ],
            [
             0.8888888888888888,
             "#fdca26"
            ],
            [
             1,
             "#f0f921"
            ]
           ],
           "sequentialminus": [
            [
             0,
             "#0d0887"
            ],
            [
             0.1111111111111111,
             "#46039f"
            ],
            [
             0.2222222222222222,
             "#7201a8"
            ],
            [
             0.3333333333333333,
             "#9c179e"
            ],
            [
             0.4444444444444444,
             "#bd3786"
            ],
            [
             0.5555555555555556,
             "#d8576b"
            ],
            [
             0.6666666666666666,
             "#ed7953"
            ],
            [
             0.7777777777777778,
             "#fb9f3a"
            ],
            [
             0.8888888888888888,
             "#fdca26"
            ],
            [
             1,
             "#f0f921"
            ]
           ]
          },
          "colorway": [
           "#636efa",
           "#EF553B",
           "#00cc96",
           "#ab63fa",
           "#FFA15A",
           "#19d3f3",
           "#FF6692",
           "#B6E880",
           "#FF97FF",
           "#FECB52"
          ],
          "font": {
           "color": "#2a3f5f"
          },
          "geo": {
           "bgcolor": "white",
           "lakecolor": "white",
           "landcolor": "#E5ECF6",
           "showlakes": true,
           "showland": true,
           "subunitcolor": "white"
          },
          "hoverlabel": {
           "align": "left"
          },
          "hovermode": "closest",
          "mapbox": {
           "style": "light"
          },
          "paper_bgcolor": "white",
          "plot_bgcolor": "#E5ECF6",
          "polar": {
           "angularaxis": {
            "gridcolor": "white",
            "linecolor": "white",
            "ticks": ""
           },
           "bgcolor": "#E5ECF6",
           "radialaxis": {
            "gridcolor": "white",
            "linecolor": "white",
            "ticks": ""
           }
          },
          "scene": {
           "xaxis": {
            "backgroundcolor": "#E5ECF6",
            "gridcolor": "white",
            "gridwidth": 2,
            "linecolor": "white",
            "showbackground": true,
            "ticks": "",
            "zerolinecolor": "white"
           },
           "yaxis": {
            "backgroundcolor": "#E5ECF6",
            "gridcolor": "white",
            "gridwidth": 2,
            "linecolor": "white",
            "showbackground": true,
            "ticks": "",
            "zerolinecolor": "white"
           },
           "zaxis": {
            "backgroundcolor": "#E5ECF6",
            "gridcolor": "white",
            "gridwidth": 2,
            "linecolor": "white",
            "showbackground": true,
            "ticks": "",
            "zerolinecolor": "white"
           }
          },
          "shapedefaults": {
           "line": {
            "color": "#2a3f5f"
           }
          },
          "ternary": {
           "aaxis": {
            "gridcolor": "white",
            "linecolor": "white",
            "ticks": ""
           },
           "baxis": {
            "gridcolor": "white",
            "linecolor": "white",
            "ticks": ""
           },
           "bgcolor": "#E5ECF6",
           "caxis": {
            "gridcolor": "white",
            "linecolor": "white",
            "ticks": ""
           }
          },
          "title": {
           "x": 0.05
          },
          "xaxis": {
           "automargin": true,
           "gridcolor": "white",
           "linecolor": "white",
           "ticks": "",
           "title": {
            "standoff": 15
           },
           "zerolinecolor": "white",
           "zerolinewidth": 2
          },
          "yaxis": {
           "automargin": true,
           "gridcolor": "white",
           "linecolor": "white",
           "ticks": "",
           "title": {
            "standoff": 15
           },
           "zerolinecolor": "white",
           "zerolinewidth": 2
          }
         }
        },
        "title": {
         "text": "Average Track Popularity and the Number of Artists Featured"
        },
        "xaxis": {
         "anchor": "y",
         "domain": [
          0,
          1
         ],
         "title": {
          "text": "Number of Artists"
         },
         "type": "category"
        },
        "yaxis": {
         "anchor": "x",
         "domain": [
          0,
          1
         ],
         "title": {
          "text": "Average Popularity"
         }
        }
       }
      }
     },
     "metadata": {},
     "output_type": "display_data"
    }
   ],
   "source": [
    "x_axis = num_art_grp.index\n",
    "fig = px.bar(num_art_grp, x=x_axis, y='popularity',\n",
    "             hover_data={'popularity':':.2f', 'length(ms)':':.2f', 'acousticness':':.2f', 'danceability':':.2f', 'energy':':.2f', 'liveness':':.2f', 'tempo':':.2f', 'valence':':.2f'},\n",
    "             labels={'popularity':'Average Popularity', 'num_artists':\"Number of Artists\"}, title='Average Track Popularity and the Number of Artists Featured')\n",
    "fig.update_xaxes(type='category')\n",
    "fig.show()\n"
   ]
  },
  {
   "cell_type": "markdown",
   "metadata": {},
   "source": [
    "The popularity rates are equal for different number of artists featured. Therefore, the number of featured artists does not effect popularity rates.\n",
    "\n",
    "Is there any relationship between the number of artists and the audio features?\n",
    "Audio Features:\n",
    "- length(ms)\n",
    "- acousticness\n",
    "- danceability\n",
    "- energy\n",
    "- liveness (likelihood that the track was performed live)\n",
    "- tempo (beats per minute)\n",
    "- valence (the measure of positivity in tracks; how happy, cheerful, or euphoric the track is)"
   ]
  },
  {
   "cell_type": "code",
   "execution_count": 48,
   "metadata": {},
   "outputs": [
    {
     "data": {
      "text/plain": [
       "Index(['length(ms)', 'popularity', 'acousticness', 'danceability', 'energy',\n",
       "       'liveness', 'tempo', 'valence'],\n",
       "      dtype='object')"
      ]
     },
     "execution_count": 48,
     "metadata": {},
     "output_type": "execute_result"
    }
   ],
   "source": [
    "audio_feat = num_art_grp.columns\n",
    "audio_feat"
   ]
  },
  {
   "cell_type": "code",
   "execution_count": 97,
   "metadata": {},
   "outputs": [],
   "source": [
    "low_audio_feat = num_art_grp[['acousticness', 'danceability', 'energy',\n",
    "       'liveness', 'valence']]"
   ]
  },
  {
   "cell_type": "code",
   "execution_count": 108,
   "metadata": {},
   "outputs": [
    {
     "data": {
      "application/vnd.plotly.v1+json": {
       "config": {
        "plotlyServerURL": "https://plot.ly"
       },
       "data": [
        {
         "hovertemplate": "Audio Feature=acousticness<br>Number of Artists=%{x}<br>Avg Feature Value=%{y}<extra></extra>",
         "legendgroup": "acousticness",
         "line": {
          "color": "#636efa",
          "dash": "solid"
         },
         "marker": {
          "symbol": "circle"
         },
         "mode": "lines+markers",
         "name": "acousticness",
         "orientation": "v",
         "showlegend": true,
         "type": "scatter",
         "x": [
          1,
          2,
          3
         ],
         "xaxis": "x",
         "y": [
          0.38574462151394423,
          0.29000800746268657,
          0.27470781818181816
         ],
         "yaxis": "y"
        },
        {
         "hovertemplate": "Audio Feature=danceability<br>Number of Artists=%{x}<br>Avg Feature Value=%{y}<extra></extra>",
         "legendgroup": "danceability",
         "line": {
          "color": "#EF553B",
          "dash": "solid"
         },
         "marker": {
          "symbol": "circle"
         },
         "mode": "lines+markers",
         "name": "danceability",
         "orientation": "v",
         "showlegend": true,
         "type": "scatter",
         "x": [
          1,
          2,
          3
         ],
         "xaxis": "x",
         "y": [
          0.6448844621513945,
          0.7026119402985075,
          0.7260606060606061
         ],
         "yaxis": "y"
        },
        {
         "hovertemplate": "Audio Feature=energy<br>Number of Artists=%{x}<br>Avg Feature Value=%{y}<extra></extra>",
         "legendgroup": "energy",
         "line": {
          "color": "#00cc96",
          "dash": "solid"
         },
         "marker": {
          "symbol": "circle"
         },
         "mode": "lines+markers",
         "name": "energy",
         "orientation": "v",
         "showlegend": true,
         "type": "scatter",
         "x": [
          1,
          2,
          3
         ],
         "xaxis": "x",
         "y": [
          0.5832828685258964,
          0.6098970149253732,
          0.6556818181818181
         ],
         "yaxis": "y"
        },
        {
         "hovertemplate": "Audio Feature=liveness<br>Number of Artists=%{x}<br>Avg Feature Value=%{y}<extra></extra>",
         "legendgroup": "liveness",
         "line": {
          "color": "#ab63fa",
          "dash": "solid"
         },
         "marker": {
          "symbol": "circle"
         },
         "mode": "lines+markers",
         "name": "liveness",
         "orientation": "v",
         "showlegend": true,
         "type": "scatter",
         "x": [
          1,
          2,
          3
         ],
         "xaxis": "x",
         "y": [
          0.1579346613545817,
          0.1703,
          0.15287272727272727
         ],
         "yaxis": "y"
        },
        {
         "hovertemplate": "Audio Feature=valence<br>Number of Artists=%{x}<br>Avg Feature Value=%{y}<extra></extra>",
         "legendgroup": "valence",
         "line": {
          "color": "#FFA15A",
          "dash": "solid"
         },
         "marker": {
          "symbol": "circle"
         },
         "mode": "lines+markers",
         "name": "valence",
         "orientation": "v",
         "showlegend": true,
         "type": "scatter",
         "x": [
          1,
          2,
          3
         ],
         "xaxis": "x",
         "y": [
          0.4522155378486056,
          0.49939701492537314,
          0.4462015151515152
         ],
         "yaxis": "y"
        }
       ],
       "layout": {
        "legend": {
         "title": {
          "text": "Audio Feature"
         },
         "tracegroupgap": 0
        },
        "template": {
         "data": {
          "bar": [
           {
            "error_x": {
             "color": "#2a3f5f"
            },
            "error_y": {
             "color": "#2a3f5f"
            },
            "marker": {
             "line": {
              "color": "#E5ECF6",
              "width": 0.5
             },
             "pattern": {
              "fillmode": "overlay",
              "size": 10,
              "solidity": 0.2
             }
            },
            "type": "bar"
           }
          ],
          "barpolar": [
           {
            "marker": {
             "line": {
              "color": "#E5ECF6",
              "width": 0.5
             },
             "pattern": {
              "fillmode": "overlay",
              "size": 10,
              "solidity": 0.2
             }
            },
            "type": "barpolar"
           }
          ],
          "carpet": [
           {
            "aaxis": {
             "endlinecolor": "#2a3f5f",
             "gridcolor": "white",
             "linecolor": "white",
             "minorgridcolor": "white",
             "startlinecolor": "#2a3f5f"
            },
            "baxis": {
             "endlinecolor": "#2a3f5f",
             "gridcolor": "white",
             "linecolor": "white",
             "minorgridcolor": "white",
             "startlinecolor": "#2a3f5f"
            },
            "type": "carpet"
           }
          ],
          "choropleth": [
           {
            "colorbar": {
             "outlinewidth": 0,
             "ticks": ""
            },
            "type": "choropleth"
           }
          ],
          "contour": [
           {
            "colorbar": {
             "outlinewidth": 0,
             "ticks": ""
            },
            "colorscale": [
             [
              0,
              "#0d0887"
             ],
             [
              0.1111111111111111,
              "#46039f"
             ],
             [
              0.2222222222222222,
              "#7201a8"
             ],
             [
              0.3333333333333333,
              "#9c179e"
             ],
             [
              0.4444444444444444,
              "#bd3786"
             ],
             [
              0.5555555555555556,
              "#d8576b"
             ],
             [
              0.6666666666666666,
              "#ed7953"
             ],
             [
              0.7777777777777778,
              "#fb9f3a"
             ],
             [
              0.8888888888888888,
              "#fdca26"
             ],
             [
              1,
              "#f0f921"
             ]
            ],
            "type": "contour"
           }
          ],
          "contourcarpet": [
           {
            "colorbar": {
             "outlinewidth": 0,
             "ticks": ""
            },
            "type": "contourcarpet"
           }
          ],
          "heatmap": [
           {
            "colorbar": {
             "outlinewidth": 0,
             "ticks": ""
            },
            "colorscale": [
             [
              0,
              "#0d0887"
             ],
             [
              0.1111111111111111,
              "#46039f"
             ],
             [
              0.2222222222222222,
              "#7201a8"
             ],
             [
              0.3333333333333333,
              "#9c179e"
             ],
             [
              0.4444444444444444,
              "#bd3786"
             ],
             [
              0.5555555555555556,
              "#d8576b"
             ],
             [
              0.6666666666666666,
              "#ed7953"
             ],
             [
              0.7777777777777778,
              "#fb9f3a"
             ],
             [
              0.8888888888888888,
              "#fdca26"
             ],
             [
              1,
              "#f0f921"
             ]
            ],
            "type": "heatmap"
           }
          ],
          "heatmapgl": [
           {
            "colorbar": {
             "outlinewidth": 0,
             "ticks": ""
            },
            "colorscale": [
             [
              0,
              "#0d0887"
             ],
             [
              0.1111111111111111,
              "#46039f"
             ],
             [
              0.2222222222222222,
              "#7201a8"
             ],
             [
              0.3333333333333333,
              "#9c179e"
             ],
             [
              0.4444444444444444,
              "#bd3786"
             ],
             [
              0.5555555555555556,
              "#d8576b"
             ],
             [
              0.6666666666666666,
              "#ed7953"
             ],
             [
              0.7777777777777778,
              "#fb9f3a"
             ],
             [
              0.8888888888888888,
              "#fdca26"
             ],
             [
              1,
              "#f0f921"
             ]
            ],
            "type": "heatmapgl"
           }
          ],
          "histogram": [
           {
            "marker": {
             "pattern": {
              "fillmode": "overlay",
              "size": 10,
              "solidity": 0.2
             }
            },
            "type": "histogram"
           }
          ],
          "histogram2d": [
           {
            "colorbar": {
             "outlinewidth": 0,
             "ticks": ""
            },
            "colorscale": [
             [
              0,
              "#0d0887"
             ],
             [
              0.1111111111111111,
              "#46039f"
             ],
             [
              0.2222222222222222,
              "#7201a8"
             ],
             [
              0.3333333333333333,
              "#9c179e"
             ],
             [
              0.4444444444444444,
              "#bd3786"
             ],
             [
              0.5555555555555556,
              "#d8576b"
             ],
             [
              0.6666666666666666,
              "#ed7953"
             ],
             [
              0.7777777777777778,
              "#fb9f3a"
             ],
             [
              0.8888888888888888,
              "#fdca26"
             ],
             [
              1,
              "#f0f921"
             ]
            ],
            "type": "histogram2d"
           }
          ],
          "histogram2dcontour": [
           {
            "colorbar": {
             "outlinewidth": 0,
             "ticks": ""
            },
            "colorscale": [
             [
              0,
              "#0d0887"
             ],
             [
              0.1111111111111111,
              "#46039f"
             ],
             [
              0.2222222222222222,
              "#7201a8"
             ],
             [
              0.3333333333333333,
              "#9c179e"
             ],
             [
              0.4444444444444444,
              "#bd3786"
             ],
             [
              0.5555555555555556,
              "#d8576b"
             ],
             [
              0.6666666666666666,
              "#ed7953"
             ],
             [
              0.7777777777777778,
              "#fb9f3a"
             ],
             [
              0.8888888888888888,
              "#fdca26"
             ],
             [
              1,
              "#f0f921"
             ]
            ],
            "type": "histogram2dcontour"
           }
          ],
          "mesh3d": [
           {
            "colorbar": {
             "outlinewidth": 0,
             "ticks": ""
            },
            "type": "mesh3d"
           }
          ],
          "parcoords": [
           {
            "line": {
             "colorbar": {
              "outlinewidth": 0,
              "ticks": ""
             }
            },
            "type": "parcoords"
           }
          ],
          "pie": [
           {
            "automargin": true,
            "type": "pie"
           }
          ],
          "scatter": [
           {
            "marker": {
             "colorbar": {
              "outlinewidth": 0,
              "ticks": ""
             }
            },
            "type": "scatter"
           }
          ],
          "scatter3d": [
           {
            "line": {
             "colorbar": {
              "outlinewidth": 0,
              "ticks": ""
             }
            },
            "marker": {
             "colorbar": {
              "outlinewidth": 0,
              "ticks": ""
             }
            },
            "type": "scatter3d"
           }
          ],
          "scattercarpet": [
           {
            "marker": {
             "colorbar": {
              "outlinewidth": 0,
              "ticks": ""
             }
            },
            "type": "scattercarpet"
           }
          ],
          "scattergeo": [
           {
            "marker": {
             "colorbar": {
              "outlinewidth": 0,
              "ticks": ""
             }
            },
            "type": "scattergeo"
           }
          ],
          "scattergl": [
           {
            "marker": {
             "colorbar": {
              "outlinewidth": 0,
              "ticks": ""
             }
            },
            "type": "scattergl"
           }
          ],
          "scattermapbox": [
           {
            "marker": {
             "colorbar": {
              "outlinewidth": 0,
              "ticks": ""
             }
            },
            "type": "scattermapbox"
           }
          ],
          "scatterpolar": [
           {
            "marker": {
             "colorbar": {
              "outlinewidth": 0,
              "ticks": ""
             }
            },
            "type": "scatterpolar"
           }
          ],
          "scatterpolargl": [
           {
            "marker": {
             "colorbar": {
              "outlinewidth": 0,
              "ticks": ""
             }
            },
            "type": "scatterpolargl"
           }
          ],
          "scatterternary": [
           {
            "marker": {
             "colorbar": {
              "outlinewidth": 0,
              "ticks": ""
             }
            },
            "type": "scatterternary"
           }
          ],
          "surface": [
           {
            "colorbar": {
             "outlinewidth": 0,
             "ticks": ""
            },
            "colorscale": [
             [
              0,
              "#0d0887"
             ],
             [
              0.1111111111111111,
              "#46039f"
             ],
             [
              0.2222222222222222,
              "#7201a8"
             ],
             [
              0.3333333333333333,
              "#9c179e"
             ],
             [
              0.4444444444444444,
              "#bd3786"
             ],
             [
              0.5555555555555556,
              "#d8576b"
             ],
             [
              0.6666666666666666,
              "#ed7953"
             ],
             [
              0.7777777777777778,
              "#fb9f3a"
             ],
             [
              0.8888888888888888,
              "#fdca26"
             ],
             [
              1,
              "#f0f921"
             ]
            ],
            "type": "surface"
           }
          ],
          "table": [
           {
            "cells": {
             "fill": {
              "color": "#EBF0F8"
             },
             "line": {
              "color": "white"
             }
            },
            "header": {
             "fill": {
              "color": "#C8D4E3"
             },
             "line": {
              "color": "white"
             }
            },
            "type": "table"
           }
          ]
         },
         "layout": {
          "annotationdefaults": {
           "arrowcolor": "#2a3f5f",
           "arrowhead": 0,
           "arrowwidth": 1
          },
          "autotypenumbers": "strict",
          "coloraxis": {
           "colorbar": {
            "outlinewidth": 0,
            "ticks": ""
           }
          },
          "colorscale": {
           "diverging": [
            [
             0,
             "#8e0152"
            ],
            [
             0.1,
             "#c51b7d"
            ],
            [
             0.2,
             "#de77ae"
            ],
            [
             0.3,
             "#f1b6da"
            ],
            [
             0.4,
             "#fde0ef"
            ],
            [
             0.5,
             "#f7f7f7"
            ],
            [
             0.6,
             "#e6f5d0"
            ],
            [
             0.7,
             "#b8e186"
            ],
            [
             0.8,
             "#7fbc41"
            ],
            [
             0.9,
             "#4d9221"
            ],
            [
             1,
             "#276419"
            ]
           ],
           "sequential": [
            [
             0,
             "#0d0887"
            ],
            [
             0.1111111111111111,
             "#46039f"
            ],
            [
             0.2222222222222222,
             "#7201a8"
            ],
            [
             0.3333333333333333,
             "#9c179e"
            ],
            [
             0.4444444444444444,
             "#bd3786"
            ],
            [
             0.5555555555555556,
             "#d8576b"
            ],
            [
             0.6666666666666666,
             "#ed7953"
            ],
            [
             0.7777777777777778,
             "#fb9f3a"
            ],
            [
             0.8888888888888888,
             "#fdca26"
            ],
            [
             1,
             "#f0f921"
            ]
           ],
           "sequentialminus": [
            [
             0,
             "#0d0887"
            ],
            [
             0.1111111111111111,
             "#46039f"
            ],
            [
             0.2222222222222222,
             "#7201a8"
            ],
            [
             0.3333333333333333,
             "#9c179e"
            ],
            [
             0.4444444444444444,
             "#bd3786"
            ],
            [
             0.5555555555555556,
             "#d8576b"
            ],
            [
             0.6666666666666666,
             "#ed7953"
            ],
            [
             0.7777777777777778,
             "#fb9f3a"
            ],
            [
             0.8888888888888888,
             "#fdca26"
            ],
            [
             1,
             "#f0f921"
            ]
           ]
          },
          "colorway": [
           "#636efa",
           "#EF553B",
           "#00cc96",
           "#ab63fa",
           "#FFA15A",
           "#19d3f3",
           "#FF6692",
           "#B6E880",
           "#FF97FF",
           "#FECB52"
          ],
          "font": {
           "color": "#2a3f5f"
          },
          "geo": {
           "bgcolor": "white",
           "lakecolor": "white",
           "landcolor": "#E5ECF6",
           "showlakes": true,
           "showland": true,
           "subunitcolor": "white"
          },
          "hoverlabel": {
           "align": "left"
          },
          "hovermode": "closest",
          "mapbox": {
           "style": "light"
          },
          "paper_bgcolor": "white",
          "plot_bgcolor": "#E5ECF6",
          "polar": {
           "angularaxis": {
            "gridcolor": "white",
            "linecolor": "white",
            "ticks": ""
           },
           "bgcolor": "#E5ECF6",
           "radialaxis": {
            "gridcolor": "white",
            "linecolor": "white",
            "ticks": ""
           }
          },
          "scene": {
           "xaxis": {
            "backgroundcolor": "#E5ECF6",
            "gridcolor": "white",
            "gridwidth": 2,
            "linecolor": "white",
            "showbackground": true,
            "ticks": "",
            "zerolinecolor": "white"
           },
           "yaxis": {
            "backgroundcolor": "#E5ECF6",
            "gridcolor": "white",
            "gridwidth": 2,
            "linecolor": "white",
            "showbackground": true,
            "ticks": "",
            "zerolinecolor": "white"
           },
           "zaxis": {
            "backgroundcolor": "#E5ECF6",
            "gridcolor": "white",
            "gridwidth": 2,
            "linecolor": "white",
            "showbackground": true,
            "ticks": "",
            "zerolinecolor": "white"
           }
          },
          "shapedefaults": {
           "line": {
            "color": "#2a3f5f"
           }
          },
          "ternary": {
           "aaxis": {
            "gridcolor": "white",
            "linecolor": "white",
            "ticks": ""
           },
           "baxis": {
            "gridcolor": "white",
            "linecolor": "white",
            "ticks": ""
           },
           "bgcolor": "#E5ECF6",
           "caxis": {
            "gridcolor": "white",
            "linecolor": "white",
            "ticks": ""
           }
          },
          "title": {
           "x": 0.05
          },
          "xaxis": {
           "automargin": true,
           "gridcolor": "white",
           "linecolor": "white",
           "ticks": "",
           "title": {
            "standoff": 15
           },
           "zerolinecolor": "white",
           "zerolinewidth": 2
          },
          "yaxis": {
           "automargin": true,
           "gridcolor": "white",
           "linecolor": "white",
           "ticks": "",
           "title": {
            "standoff": 15
           },
           "zerolinecolor": "white",
           "zerolinewidth": 2
          }
         }
        },
        "title": {
         "text": "Number of Featured Artists and the Average Audio Feature Values"
        },
        "xaxis": {
         "anchor": "y",
         "domain": [
          0,
          1
         ],
         "title": {
          "text": "Number of Artists"
         },
         "type": "category"
        },
        "yaxis": {
         "anchor": "x",
         "domain": [
          0,
          1
         ],
         "title": {
          "text": "Avg Feature Value"
         }
        }
       }
      }
     },
     "metadata": {},
     "output_type": "display_data"
    }
   ],
   "source": [
    "# Scatter plot of number of artists and the audio features\n",
    "fig = px.line(low_audio_feat, x=x_axis, y=low_audio_feat.columns, markers=True,\n",
    "    labels={'num_artists':'Number of Artists', 'value': 'Avg Feature Value', 'variable': 'Audio Feature'},\n",
    "    title = 'Number of Featured Artists and the Average Audio Feature Values')\n",
    "fig.update_xaxes(type='category')\n",
    "\n",
    "fig.show()"
   ]
  },
  {
   "cell_type": "code",
   "execution_count": 127,
   "metadata": {},
   "outputs": [
    {
     "data": {
      "application/vnd.plotly.v1+json": {
       "config": {
        "plotlyServerURL": "https://plot.ly"
       },
       "data": [
        {
         "name": "acousticness",
         "type": "scatter",
         "x": [
          1,
          2,
          3
         ],
         "y": [
          0.38574462151394423,
          0.29000800746268657,
          0.27470781818181816
         ]
        },
        {
         "name": "danceability",
         "type": "scatter",
         "x": [
          1,
          2,
          3
         ],
         "y": [
          0.6448844621513945,
          0.7026119402985075,
          0.7260606060606061
         ]
        },
        {
         "name": "energy",
         "type": "scatter",
         "x": [
          1,
          2,
          3
         ],
         "y": [
          0.5832828685258964,
          0.6098970149253732,
          0.6556818181818181
         ]
        },
        {
         "name": "liveness",
         "type": "scatter",
         "x": [
          1,
          2,
          3
         ],
         "y": [
          0.1579346613545817,
          0.1703,
          0.15287272727272727
         ]
        },
        {
         "name": "valence",
         "type": "scatter",
         "x": [
          1,
          2,
          3
         ],
         "y": [
          0.4522155378486056,
          0.49939701492537314,
          0.4462015151515152
         ]
        }
       ],
       "layout": {
        "template": {
         "data": {
          "bar": [
           {
            "error_x": {
             "color": "#2a3f5f"
            },
            "error_y": {
             "color": "#2a3f5f"
            },
            "marker": {
             "line": {
              "color": "#E5ECF6",
              "width": 0.5
             },
             "pattern": {
              "fillmode": "overlay",
              "size": 10,
              "solidity": 0.2
             }
            },
            "type": "bar"
           }
          ],
          "barpolar": [
           {
            "marker": {
             "line": {
              "color": "#E5ECF6",
              "width": 0.5
             },
             "pattern": {
              "fillmode": "overlay",
              "size": 10,
              "solidity": 0.2
             }
            },
            "type": "barpolar"
           }
          ],
          "carpet": [
           {
            "aaxis": {
             "endlinecolor": "#2a3f5f",
             "gridcolor": "white",
             "linecolor": "white",
             "minorgridcolor": "white",
             "startlinecolor": "#2a3f5f"
            },
            "baxis": {
             "endlinecolor": "#2a3f5f",
             "gridcolor": "white",
             "linecolor": "white",
             "minorgridcolor": "white",
             "startlinecolor": "#2a3f5f"
            },
            "type": "carpet"
           }
          ],
          "choropleth": [
           {
            "colorbar": {
             "outlinewidth": 0,
             "ticks": ""
            },
            "type": "choropleth"
           }
          ],
          "contour": [
           {
            "colorbar": {
             "outlinewidth": 0,
             "ticks": ""
            },
            "colorscale": [
             [
              0,
              "#0d0887"
             ],
             [
              0.1111111111111111,
              "#46039f"
             ],
             [
              0.2222222222222222,
              "#7201a8"
             ],
             [
              0.3333333333333333,
              "#9c179e"
             ],
             [
              0.4444444444444444,
              "#bd3786"
             ],
             [
              0.5555555555555556,
              "#d8576b"
             ],
             [
              0.6666666666666666,
              "#ed7953"
             ],
             [
              0.7777777777777778,
              "#fb9f3a"
             ],
             [
              0.8888888888888888,
              "#fdca26"
             ],
             [
              1,
              "#f0f921"
             ]
            ],
            "type": "contour"
           }
          ],
          "contourcarpet": [
           {
            "colorbar": {
             "outlinewidth": 0,
             "ticks": ""
            },
            "type": "contourcarpet"
           }
          ],
          "heatmap": [
           {
            "colorbar": {
             "outlinewidth": 0,
             "ticks": ""
            },
            "colorscale": [
             [
              0,
              "#0d0887"
             ],
             [
              0.1111111111111111,
              "#46039f"
             ],
             [
              0.2222222222222222,
              "#7201a8"
             ],
             [
              0.3333333333333333,
              "#9c179e"
             ],
             [
              0.4444444444444444,
              "#bd3786"
             ],
             [
              0.5555555555555556,
              "#d8576b"
             ],
             [
              0.6666666666666666,
              "#ed7953"
             ],
             [
              0.7777777777777778,
              "#fb9f3a"
             ],
             [
              0.8888888888888888,
              "#fdca26"
             ],
             [
              1,
              "#f0f921"
             ]
            ],
            "type": "heatmap"
           }
          ],
          "heatmapgl": [
           {
            "colorbar": {
             "outlinewidth": 0,
             "ticks": ""
            },
            "colorscale": [
             [
              0,
              "#0d0887"
             ],
             [
              0.1111111111111111,
              "#46039f"
             ],
             [
              0.2222222222222222,
              "#7201a8"
             ],
             [
              0.3333333333333333,
              "#9c179e"
             ],
             [
              0.4444444444444444,
              "#bd3786"
             ],
             [
              0.5555555555555556,
              "#d8576b"
             ],
             [
              0.6666666666666666,
              "#ed7953"
             ],
             [
              0.7777777777777778,
              "#fb9f3a"
             ],
             [
              0.8888888888888888,
              "#fdca26"
             ],
             [
              1,
              "#f0f921"
             ]
            ],
            "type": "heatmapgl"
           }
          ],
          "histogram": [
           {
            "marker": {
             "pattern": {
              "fillmode": "overlay",
              "size": 10,
              "solidity": 0.2
             }
            },
            "type": "histogram"
           }
          ],
          "histogram2d": [
           {
            "colorbar": {
             "outlinewidth": 0,
             "ticks": ""
            },
            "colorscale": [
             [
              0,
              "#0d0887"
             ],
             [
              0.1111111111111111,
              "#46039f"
             ],
             [
              0.2222222222222222,
              "#7201a8"
             ],
             [
              0.3333333333333333,
              "#9c179e"
             ],
             [
              0.4444444444444444,
              "#bd3786"
             ],
             [
              0.5555555555555556,
              "#d8576b"
             ],
             [
              0.6666666666666666,
              "#ed7953"
             ],
             [
              0.7777777777777778,
              "#fb9f3a"
             ],
             [
              0.8888888888888888,
              "#fdca26"
             ],
             [
              1,
              "#f0f921"
             ]
            ],
            "type": "histogram2d"
           }
          ],
          "histogram2dcontour": [
           {
            "colorbar": {
             "outlinewidth": 0,
             "ticks": ""
            },
            "colorscale": [
             [
              0,
              "#0d0887"
             ],
             [
              0.1111111111111111,
              "#46039f"
             ],
             [
              0.2222222222222222,
              "#7201a8"
             ],
             [
              0.3333333333333333,
              "#9c179e"
             ],
             [
              0.4444444444444444,
              "#bd3786"
             ],
             [
              0.5555555555555556,
              "#d8576b"
             ],
             [
              0.6666666666666666,
              "#ed7953"
             ],
             [
              0.7777777777777778,
              "#fb9f3a"
             ],
             [
              0.8888888888888888,
              "#fdca26"
             ],
             [
              1,
              "#f0f921"
             ]
            ],
            "type": "histogram2dcontour"
           }
          ],
          "mesh3d": [
           {
            "colorbar": {
             "outlinewidth": 0,
             "ticks": ""
            },
            "type": "mesh3d"
           }
          ],
          "parcoords": [
           {
            "line": {
             "colorbar": {
              "outlinewidth": 0,
              "ticks": ""
             }
            },
            "type": "parcoords"
           }
          ],
          "pie": [
           {
            "automargin": true,
            "type": "pie"
           }
          ],
          "scatter": [
           {
            "marker": {
             "colorbar": {
              "outlinewidth": 0,
              "ticks": ""
             }
            },
            "type": "scatter"
           }
          ],
          "scatter3d": [
           {
            "line": {
             "colorbar": {
              "outlinewidth": 0,
              "ticks": ""
             }
            },
            "marker": {
             "colorbar": {
              "outlinewidth": 0,
              "ticks": ""
             }
            },
            "type": "scatter3d"
           }
          ],
          "scattercarpet": [
           {
            "marker": {
             "colorbar": {
              "outlinewidth": 0,
              "ticks": ""
             }
            },
            "type": "scattercarpet"
           }
          ],
          "scattergeo": [
           {
            "marker": {
             "colorbar": {
              "outlinewidth": 0,
              "ticks": ""
             }
            },
            "type": "scattergeo"
           }
          ],
          "scattergl": [
           {
            "marker": {
             "colorbar": {
              "outlinewidth": 0,
              "ticks": ""
             }
            },
            "type": "scattergl"
           }
          ],
          "scattermapbox": [
           {
            "marker": {
             "colorbar": {
              "outlinewidth": 0,
              "ticks": ""
             }
            },
            "type": "scattermapbox"
           }
          ],
          "scatterpolar": [
           {
            "marker": {
             "colorbar": {
              "outlinewidth": 0,
              "ticks": ""
             }
            },
            "type": "scatterpolar"
           }
          ],
          "scatterpolargl": [
           {
            "marker": {
             "colorbar": {
              "outlinewidth": 0,
              "ticks": ""
             }
            },
            "type": "scatterpolargl"
           }
          ],
          "scatterternary": [
           {
            "marker": {
             "colorbar": {
              "outlinewidth": 0,
              "ticks": ""
             }
            },
            "type": "scatterternary"
           }
          ],
          "surface": [
           {
            "colorbar": {
             "outlinewidth": 0,
             "ticks": ""
            },
            "colorscale": [
             [
              0,
              "#0d0887"
             ],
             [
              0.1111111111111111,
              "#46039f"
             ],
             [
              0.2222222222222222,
              "#7201a8"
             ],
             [
              0.3333333333333333,
              "#9c179e"
             ],
             [
              0.4444444444444444,
              "#bd3786"
             ],
             [
              0.5555555555555556,
              "#d8576b"
             ],
             [
              0.6666666666666666,
              "#ed7953"
             ],
             [
              0.7777777777777778,
              "#fb9f3a"
             ],
             [
              0.8888888888888888,
              "#fdca26"
             ],
             [
              1,
              "#f0f921"
             ]
            ],
            "type": "surface"
           }
          ],
          "table": [
           {
            "cells": {
             "fill": {
              "color": "#EBF0F8"
             },
             "line": {
              "color": "white"
             }
            },
            "header": {
             "fill": {
              "color": "#C8D4E3"
             },
             "line": {
              "color": "white"
             }
            },
            "type": "table"
           }
          ]
         },
         "layout": {
          "annotationdefaults": {
           "arrowcolor": "#2a3f5f",
           "arrowhead": 0,
           "arrowwidth": 1
          },
          "autotypenumbers": "strict",
          "coloraxis": {
           "colorbar": {
            "outlinewidth": 0,
            "ticks": ""
           }
          },
          "colorscale": {
           "diverging": [
            [
             0,
             "#8e0152"
            ],
            [
             0.1,
             "#c51b7d"
            ],
            [
             0.2,
             "#de77ae"
            ],
            [
             0.3,
             "#f1b6da"
            ],
            [
             0.4,
             "#fde0ef"
            ],
            [
             0.5,
             "#f7f7f7"
            ],
            [
             0.6,
             "#e6f5d0"
            ],
            [
             0.7,
             "#b8e186"
            ],
            [
             0.8,
             "#7fbc41"
            ],
            [
             0.9,
             "#4d9221"
            ],
            [
             1,
             "#276419"
            ]
           ],
           "sequential": [
            [
             0,
             "#0d0887"
            ],
            [
             0.1111111111111111,
             "#46039f"
            ],
            [
             0.2222222222222222,
             "#7201a8"
            ],
            [
             0.3333333333333333,
             "#9c179e"
            ],
            [
             0.4444444444444444,
             "#bd3786"
            ],
            [
             0.5555555555555556,
             "#d8576b"
            ],
            [
             0.6666666666666666,
             "#ed7953"
            ],
            [
             0.7777777777777778,
             "#fb9f3a"
            ],
            [
             0.8888888888888888,
             "#fdca26"
            ],
            [
             1,
             "#f0f921"
            ]
           ],
           "sequentialminus": [
            [
             0,
             "#0d0887"
            ],
            [
             0.1111111111111111,
             "#46039f"
            ],
            [
             0.2222222222222222,
             "#7201a8"
            ],
            [
             0.3333333333333333,
             "#9c179e"
            ],
            [
             0.4444444444444444,
             "#bd3786"
            ],
            [
             0.5555555555555556,
             "#d8576b"
            ],
            [
             0.6666666666666666,
             "#ed7953"
            ],
            [
             0.7777777777777778,
             "#fb9f3a"
            ],
            [
             0.8888888888888888,
             "#fdca26"
            ],
            [
             1,
             "#f0f921"
            ]
           ]
          },
          "colorway": [
           "#636efa",
           "#EF553B",
           "#00cc96",
           "#ab63fa",
           "#FFA15A",
           "#19d3f3",
           "#FF6692",
           "#B6E880",
           "#FF97FF",
           "#FECB52"
          ],
          "font": {
           "color": "#2a3f5f"
          },
          "geo": {
           "bgcolor": "white",
           "lakecolor": "white",
           "landcolor": "#E5ECF6",
           "showlakes": true,
           "showland": true,
           "subunitcolor": "white"
          },
          "hoverlabel": {
           "align": "left"
          },
          "hovermode": "closest",
          "mapbox": {
           "style": "light"
          },
          "paper_bgcolor": "white",
          "plot_bgcolor": "#E5ECF6",
          "polar": {
           "angularaxis": {
            "gridcolor": "white",
            "linecolor": "white",
            "ticks": ""
           },
           "bgcolor": "#E5ECF6",
           "radialaxis": {
            "gridcolor": "white",
            "linecolor": "white",
            "ticks": ""
           }
          },
          "scene": {
           "xaxis": {
            "backgroundcolor": "#E5ECF6",
            "gridcolor": "white",
            "gridwidth": 2,
            "linecolor": "white",
            "showbackground": true,
            "ticks": "",
            "zerolinecolor": "white"
           },
           "yaxis": {
            "backgroundcolor": "#E5ECF6",
            "gridcolor": "white",
            "gridwidth": 2,
            "linecolor": "white",
            "showbackground": true,
            "ticks": "",
            "zerolinecolor": "white"
           },
           "zaxis": {
            "backgroundcolor": "#E5ECF6",
            "gridcolor": "white",
            "gridwidth": 2,
            "linecolor": "white",
            "showbackground": true,
            "ticks": "",
            "zerolinecolor": "white"
           }
          },
          "shapedefaults": {
           "line": {
            "color": "#2a3f5f"
           }
          },
          "ternary": {
           "aaxis": {
            "gridcolor": "white",
            "linecolor": "white",
            "ticks": ""
           },
           "baxis": {
            "gridcolor": "white",
            "linecolor": "white",
            "ticks": ""
           },
           "bgcolor": "#E5ECF6",
           "caxis": {
            "gridcolor": "white",
            "linecolor": "white",
            "ticks": ""
           }
          },
          "title": {
           "x": 0.05
          },
          "xaxis": {
           "automargin": true,
           "gridcolor": "white",
           "linecolor": "white",
           "ticks": "",
           "title": {
            "standoff": 15
           },
           "zerolinecolor": "white",
           "zerolinewidth": 2
          },
          "yaxis": {
           "automargin": true,
           "gridcolor": "white",
           "linecolor": "white",
           "ticks": "",
           "title": {
            "standoff": 15
           },
           "zerolinecolor": "white",
           "zerolinewidth": 2
          }
         }
        },
        "updatemenus": [
         {
          "active": 0,
          "buttons": [
           {
            "args": [
             {
              "visible": [
               true,
               true,
               true,
               true,
               true
              ]
             },
             {
              "showlegend": true,
              "title": "All"
             }
            ],
            "label": "All",
            "method": "update"
           },
           {
            "args": [
             {
              "visible": [
               true,
               false,
               false,
               false,
               false
              ]
             },
             {
              "showlegend": true,
              "title": "Acousticness"
             }
            ],
            "label": "Acousticness",
            "method": "update"
           },
           {
            "args": [
             {
              "visible": [
               false,
               true,
               false,
               false,
               false
              ]
             },
             {
              "showlegend": true,
              "title": "Danceability"
             }
            ],
            "label": "Danceability",
            "method": "update"
           },
           {
            "args": [
             {
              "visible": [
               false,
               false,
               true,
               false,
               false
              ]
             },
             {
              "showlegend": true,
              "title": "Energy"
             }
            ],
            "label": "Energy",
            "method": "update"
           },
           {
            "args": [
             {
              "visible": [
               false,
               false,
               false,
               true,
               false
              ]
             },
             {
              "showlegend": true,
              "title": "Liveness"
             }
            ],
            "label": "Liveness",
            "method": "update"
           },
           {
            "args": [
             {
              "visible": [
               false,
               false,
               false,
               false,
               true
              ]
             },
             {
              "showlegend": true,
              "title": "Valence"
             }
            ],
            "label": "Valence",
            "method": "update"
           }
          ]
         }
        ]
       }
      }
     },
     "metadata": {},
     "output_type": "display_data"
    }
   ],
   "source": [
    "# Interactive Chart of Audio Features\n",
    "\n",
    "fig = go.Figure()\n",
    "\n",
    "for column in low_audio_feat.columns.to_list():\n",
    "    fig.add_trace(\n",
    "        go.Scatter(\n",
    "            x = low_audio_feat.index,\n",
    "            y = low_audio_feat[column],\n",
    "            name = column\n",
    "        )\n",
    "    )\n",
    "    \n",
    "fig.update_layout(\n",
    "    updatemenus=[go.layout.Updatemenu(\n",
    "        active=0,\n",
    "        buttons=list(\n",
    "            [dict(label = 'All',\n",
    "                  method = 'update',\n",
    "                  args = [{'visible': [True, True, True, True, True]},\n",
    "                          {'title': 'All',\n",
    "                           'showlegend':True}]),\n",
    "             dict(label = 'Acousticness',\n",
    "                  method = 'update',\n",
    "                  args = [{'visible': [True, False, False, False, False]}, # the index of True aligns with the indices of plot traces\n",
    "                          {'title': 'Acousticness',\n",
    "                           'showlegend':True}]),\n",
    "             dict(label = 'Danceability',\n",
    "                  method = 'update',\n",
    "                  args = [{'visible': [False, True, False, False, False]},\n",
    "                          {'title': 'Danceability',\n",
    "                           'showlegend':True}]),\n",
    "             dict(label = 'Energy',\n",
    "                  method = 'update',\n",
    "                  args = [{'visible': [False, False, True, False, False]},\n",
    "                          {'title': 'Energy',\n",
    "                           'showlegend':True}]),\n",
    "             dict(label = 'Liveness',\n",
    "                  method = 'update',\n",
    "                  args = [{'visible': [False, False, False, True, False]},\n",
    "                          {'title': 'Liveness',\n",
    "                           'showlegend':True}]),\n",
    "            dict(label = 'Valence',\n",
    "                  method = 'update',\n",
    "                  args = [{'visible': [False, False, False, False, True]}, # the index of True aligns with the indices of plot traces\n",
    "                          {'title': 'Valence',\n",
    "                           'showlegend':True}]),\n",
    "            ])\n",
    "        )\n",
    "    ])\n",
    "\n",
    "fig.show()"
   ]
  },
  {
   "cell_type": "code",
   "execution_count": 132,
   "metadata": {},
   "outputs": [
    {
     "data": {
      "application/vnd.plotly.v1+json": {
       "config": {
        "plotlyServerURL": "https://plot.ly"
       },
       "data": [
        {
         "hovertemplate": "num_artists=%{x}<br>length(ms)=%{y}<extra></extra>",
         "legendgroup": "",
         "line": {
          "color": "#636efa",
          "dash": "solid"
         },
         "marker": {
          "symbol": "circle"
         },
         "mode": "lines+markers",
         "name": "",
         "orientation": "v",
         "showlegend": false,
         "type": "scatter",
         "x": [
          1,
          2,
          3
         ],
         "xaxis": "x",
         "y": [
          192300.31474103587,
          191548.14925373133,
          211788.0909090909
         ],
         "yaxis": "y"
        }
       ],
       "layout": {
        "legend": {
         "tracegroupgap": 0
        },
        "template": {
         "data": {
          "bar": [
           {
            "error_x": {
             "color": "#2a3f5f"
            },
            "error_y": {
             "color": "#2a3f5f"
            },
            "marker": {
             "line": {
              "color": "#E5ECF6",
              "width": 0.5
             },
             "pattern": {
              "fillmode": "overlay",
              "size": 10,
              "solidity": 0.2
             }
            },
            "type": "bar"
           }
          ],
          "barpolar": [
           {
            "marker": {
             "line": {
              "color": "#E5ECF6",
              "width": 0.5
             },
             "pattern": {
              "fillmode": "overlay",
              "size": 10,
              "solidity": 0.2
             }
            },
            "type": "barpolar"
           }
          ],
          "carpet": [
           {
            "aaxis": {
             "endlinecolor": "#2a3f5f",
             "gridcolor": "white",
             "linecolor": "white",
             "minorgridcolor": "white",
             "startlinecolor": "#2a3f5f"
            },
            "baxis": {
             "endlinecolor": "#2a3f5f",
             "gridcolor": "white",
             "linecolor": "white",
             "minorgridcolor": "white",
             "startlinecolor": "#2a3f5f"
            },
            "type": "carpet"
           }
          ],
          "choropleth": [
           {
            "colorbar": {
             "outlinewidth": 0,
             "ticks": ""
            },
            "type": "choropleth"
           }
          ],
          "contour": [
           {
            "colorbar": {
             "outlinewidth": 0,
             "ticks": ""
            },
            "colorscale": [
             [
              0,
              "#0d0887"
             ],
             [
              0.1111111111111111,
              "#46039f"
             ],
             [
              0.2222222222222222,
              "#7201a8"
             ],
             [
              0.3333333333333333,
              "#9c179e"
             ],
             [
              0.4444444444444444,
              "#bd3786"
             ],
             [
              0.5555555555555556,
              "#d8576b"
             ],
             [
              0.6666666666666666,
              "#ed7953"
             ],
             [
              0.7777777777777778,
              "#fb9f3a"
             ],
             [
              0.8888888888888888,
              "#fdca26"
             ],
             [
              1,
              "#f0f921"
             ]
            ],
            "type": "contour"
           }
          ],
          "contourcarpet": [
           {
            "colorbar": {
             "outlinewidth": 0,
             "ticks": ""
            },
            "type": "contourcarpet"
           }
          ],
          "heatmap": [
           {
            "colorbar": {
             "outlinewidth": 0,
             "ticks": ""
            },
            "colorscale": [
             [
              0,
              "#0d0887"
             ],
             [
              0.1111111111111111,
              "#46039f"
             ],
             [
              0.2222222222222222,
              "#7201a8"
             ],
             [
              0.3333333333333333,
              "#9c179e"
             ],
             [
              0.4444444444444444,
              "#bd3786"
             ],
             [
              0.5555555555555556,
              "#d8576b"
             ],
             [
              0.6666666666666666,
              "#ed7953"
             ],
             [
              0.7777777777777778,
              "#fb9f3a"
             ],
             [
              0.8888888888888888,
              "#fdca26"
             ],
             [
              1,
              "#f0f921"
             ]
            ],
            "type": "heatmap"
           }
          ],
          "heatmapgl": [
           {
            "colorbar": {
             "outlinewidth": 0,
             "ticks": ""
            },
            "colorscale": [
             [
              0,
              "#0d0887"
             ],
             [
              0.1111111111111111,
              "#46039f"
             ],
             [
              0.2222222222222222,
              "#7201a8"
             ],
             [
              0.3333333333333333,
              "#9c179e"
             ],
             [
              0.4444444444444444,
              "#bd3786"
             ],
             [
              0.5555555555555556,
              "#d8576b"
             ],
             [
              0.6666666666666666,
              "#ed7953"
             ],
             [
              0.7777777777777778,
              "#fb9f3a"
             ],
             [
              0.8888888888888888,
              "#fdca26"
             ],
             [
              1,
              "#f0f921"
             ]
            ],
            "type": "heatmapgl"
           }
          ],
          "histogram": [
           {
            "marker": {
             "pattern": {
              "fillmode": "overlay",
              "size": 10,
              "solidity": 0.2
             }
            },
            "type": "histogram"
           }
          ],
          "histogram2d": [
           {
            "colorbar": {
             "outlinewidth": 0,
             "ticks": ""
            },
            "colorscale": [
             [
              0,
              "#0d0887"
             ],
             [
              0.1111111111111111,
              "#46039f"
             ],
             [
              0.2222222222222222,
              "#7201a8"
             ],
             [
              0.3333333333333333,
              "#9c179e"
             ],
             [
              0.4444444444444444,
              "#bd3786"
             ],
             [
              0.5555555555555556,
              "#d8576b"
             ],
             [
              0.6666666666666666,
              "#ed7953"
             ],
             [
              0.7777777777777778,
              "#fb9f3a"
             ],
             [
              0.8888888888888888,
              "#fdca26"
             ],
             [
              1,
              "#f0f921"
             ]
            ],
            "type": "histogram2d"
           }
          ],
          "histogram2dcontour": [
           {
            "colorbar": {
             "outlinewidth": 0,
             "ticks": ""
            },
            "colorscale": [
             [
              0,
              "#0d0887"
             ],
             [
              0.1111111111111111,
              "#46039f"
             ],
             [
              0.2222222222222222,
              "#7201a8"
             ],
             [
              0.3333333333333333,
              "#9c179e"
             ],
             [
              0.4444444444444444,
              "#bd3786"
             ],
             [
              0.5555555555555556,
              "#d8576b"
             ],
             [
              0.6666666666666666,
              "#ed7953"
             ],
             [
              0.7777777777777778,
              "#fb9f3a"
             ],
             [
              0.8888888888888888,
              "#fdca26"
             ],
             [
              1,
              "#f0f921"
             ]
            ],
            "type": "histogram2dcontour"
           }
          ],
          "mesh3d": [
           {
            "colorbar": {
             "outlinewidth": 0,
             "ticks": ""
            },
            "type": "mesh3d"
           }
          ],
          "parcoords": [
           {
            "line": {
             "colorbar": {
              "outlinewidth": 0,
              "ticks": ""
             }
            },
            "type": "parcoords"
           }
          ],
          "pie": [
           {
            "automargin": true,
            "type": "pie"
           }
          ],
          "scatter": [
           {
            "marker": {
             "colorbar": {
              "outlinewidth": 0,
              "ticks": ""
             }
            },
            "type": "scatter"
           }
          ],
          "scatter3d": [
           {
            "line": {
             "colorbar": {
              "outlinewidth": 0,
              "ticks": ""
             }
            },
            "marker": {
             "colorbar": {
              "outlinewidth": 0,
              "ticks": ""
             }
            },
            "type": "scatter3d"
           }
          ],
          "scattercarpet": [
           {
            "marker": {
             "colorbar": {
              "outlinewidth": 0,
              "ticks": ""
             }
            },
            "type": "scattercarpet"
           }
          ],
          "scattergeo": [
           {
            "marker": {
             "colorbar": {
              "outlinewidth": 0,
              "ticks": ""
             }
            },
            "type": "scattergeo"
           }
          ],
          "scattergl": [
           {
            "marker": {
             "colorbar": {
              "outlinewidth": 0,
              "ticks": ""
             }
            },
            "type": "scattergl"
           }
          ],
          "scattermapbox": [
           {
            "marker": {
             "colorbar": {
              "outlinewidth": 0,
              "ticks": ""
             }
            },
            "type": "scattermapbox"
           }
          ],
          "scatterpolar": [
           {
            "marker": {
             "colorbar": {
              "outlinewidth": 0,
              "ticks": ""
             }
            },
            "type": "scatterpolar"
           }
          ],
          "scatterpolargl": [
           {
            "marker": {
             "colorbar": {
              "outlinewidth": 0,
              "ticks": ""
             }
            },
            "type": "scatterpolargl"
           }
          ],
          "scatterternary": [
           {
            "marker": {
             "colorbar": {
              "outlinewidth": 0,
              "ticks": ""
             }
            },
            "type": "scatterternary"
           }
          ],
          "surface": [
           {
            "colorbar": {
             "outlinewidth": 0,
             "ticks": ""
            },
            "colorscale": [
             [
              0,
              "#0d0887"
             ],
             [
              0.1111111111111111,
              "#46039f"
             ],
             [
              0.2222222222222222,
              "#7201a8"
             ],
             [
              0.3333333333333333,
              "#9c179e"
             ],
             [
              0.4444444444444444,
              "#bd3786"
             ],
             [
              0.5555555555555556,
              "#d8576b"
             ],
             [
              0.6666666666666666,
              "#ed7953"
             ],
             [
              0.7777777777777778,
              "#fb9f3a"
             ],
             [
              0.8888888888888888,
              "#fdca26"
             ],
             [
              1,
              "#f0f921"
             ]
            ],
            "type": "surface"
           }
          ],
          "table": [
           {
            "cells": {
             "fill": {
              "color": "#EBF0F8"
             },
             "line": {
              "color": "white"
             }
            },
            "header": {
             "fill": {
              "color": "#C8D4E3"
             },
             "line": {
              "color": "white"
             }
            },
            "type": "table"
           }
          ]
         },
         "layout": {
          "annotationdefaults": {
           "arrowcolor": "#2a3f5f",
           "arrowhead": 0,
           "arrowwidth": 1
          },
          "autotypenumbers": "strict",
          "coloraxis": {
           "colorbar": {
            "outlinewidth": 0,
            "ticks": ""
           }
          },
          "colorscale": {
           "diverging": [
            [
             0,
             "#8e0152"
            ],
            [
             0.1,
             "#c51b7d"
            ],
            [
             0.2,
             "#de77ae"
            ],
            [
             0.3,
             "#f1b6da"
            ],
            [
             0.4,
             "#fde0ef"
            ],
            [
             0.5,
             "#f7f7f7"
            ],
            [
             0.6,
             "#e6f5d0"
            ],
            [
             0.7,
             "#b8e186"
            ],
            [
             0.8,
             "#7fbc41"
            ],
            [
             0.9,
             "#4d9221"
            ],
            [
             1,
             "#276419"
            ]
           ],
           "sequential": [
            [
             0,
             "#0d0887"
            ],
            [
             0.1111111111111111,
             "#46039f"
            ],
            [
             0.2222222222222222,
             "#7201a8"
            ],
            [
             0.3333333333333333,
             "#9c179e"
            ],
            [
             0.4444444444444444,
             "#bd3786"
            ],
            [
             0.5555555555555556,
             "#d8576b"
            ],
            [
             0.6666666666666666,
             "#ed7953"
            ],
            [
             0.7777777777777778,
             "#fb9f3a"
            ],
            [
             0.8888888888888888,
             "#fdca26"
            ],
            [
             1,
             "#f0f921"
            ]
           ],
           "sequentialminus": [
            [
             0,
             "#0d0887"
            ],
            [
             0.1111111111111111,
             "#46039f"
            ],
            [
             0.2222222222222222,
             "#7201a8"
            ],
            [
             0.3333333333333333,
             "#9c179e"
            ],
            [
             0.4444444444444444,
             "#bd3786"
            ],
            [
             0.5555555555555556,
             "#d8576b"
            ],
            [
             0.6666666666666666,
             "#ed7953"
            ],
            [
             0.7777777777777778,
             "#fb9f3a"
            ],
            [
             0.8888888888888888,
             "#fdca26"
            ],
            [
             1,
             "#f0f921"
            ]
           ]
          },
          "colorway": [
           "#636efa",
           "#EF553B",
           "#00cc96",
           "#ab63fa",
           "#FFA15A",
           "#19d3f3",
           "#FF6692",
           "#B6E880",
           "#FF97FF",
           "#FECB52"
          ],
          "font": {
           "color": "#2a3f5f"
          },
          "geo": {
           "bgcolor": "white",
           "lakecolor": "white",
           "landcolor": "#E5ECF6",
           "showlakes": true,
           "showland": true,
           "subunitcolor": "white"
          },
          "hoverlabel": {
           "align": "left"
          },
          "hovermode": "closest",
          "mapbox": {
           "style": "light"
          },
          "paper_bgcolor": "white",
          "plot_bgcolor": "#E5ECF6",
          "polar": {
           "angularaxis": {
            "gridcolor": "white",
            "linecolor": "white",
            "ticks": ""
           },
           "bgcolor": "#E5ECF6",
           "radialaxis": {
            "gridcolor": "white",
            "linecolor": "white",
            "ticks": ""
           }
          },
          "scene": {
           "xaxis": {
            "backgroundcolor": "#E5ECF6",
            "gridcolor": "white",
            "gridwidth": 2,
            "linecolor": "white",
            "showbackground": true,
            "ticks": "",
            "zerolinecolor": "white"
           },
           "yaxis": {
            "backgroundcolor": "#E5ECF6",
            "gridcolor": "white",
            "gridwidth": 2,
            "linecolor": "white",
            "showbackground": true,
            "ticks": "",
            "zerolinecolor": "white"
           },
           "zaxis": {
            "backgroundcolor": "#E5ECF6",
            "gridcolor": "white",
            "gridwidth": 2,
            "linecolor": "white",
            "showbackground": true,
            "ticks": "",
            "zerolinecolor": "white"
           }
          },
          "shapedefaults": {
           "line": {
            "color": "#2a3f5f"
           }
          },
          "ternary": {
           "aaxis": {
            "gridcolor": "white",
            "linecolor": "white",
            "ticks": ""
           },
           "baxis": {
            "gridcolor": "white",
            "linecolor": "white",
            "ticks": ""
           },
           "bgcolor": "#E5ECF6",
           "caxis": {
            "gridcolor": "white",
            "linecolor": "white",
            "ticks": ""
           }
          },
          "title": {
           "x": 0.05
          },
          "xaxis": {
           "automargin": true,
           "gridcolor": "white",
           "linecolor": "white",
           "ticks": "",
           "title": {
            "standoff": 15
           },
           "zerolinecolor": "white",
           "zerolinewidth": 2
          },
          "yaxis": {
           "automargin": true,
           "gridcolor": "white",
           "linecolor": "white",
           "ticks": "",
           "title": {
            "standoff": 15
           },
           "zerolinecolor": "white",
           "zerolinewidth": 2
          }
         }
        },
        "title": {
         "text": "Number of Featured Artists and the Average Track Length"
        },
        "xaxis": {
         "anchor": "y",
         "domain": [
          0,
          1
         ],
         "title": {
          "text": "num_artists"
         },
         "type": "category"
        },
        "yaxis": {
         "anchor": "x",
         "domain": [
          0,
          1
         ],
         "title": {
          "text": "length(ms)"
         }
        }
       }
      }
     },
     "metadata": {},
     "output_type": "display_data"
    }
   ],
   "source": [
    "# Scatter plot of number of artists and the Length feature\n",
    "fig = px.line(num_art_grp, x=x_axis, y='length(ms)', markers=True,\n",
    "    title = 'Number of Featured Artists and the Average Track Length')\n",
    "fig.update_xaxes(type='category')\n",
    "\n",
    "fig.show()"
   ]
  },
  {
   "cell_type": "code",
   "execution_count": 134,
   "metadata": {},
   "outputs": [
    {
     "data": {
      "application/vnd.plotly.v1+json": {
       "config": {
        "plotlyServerURL": "https://plot.ly"
       },
       "data": [
        {
         "hovertemplate": "num_artists=%{x}<br>tempo=%{y}<extra></extra>",
         "legendgroup": "",
         "line": {
          "color": "#636efa",
          "dash": "solid"
         },
         "marker": {
          "symbol": "circle"
         },
         "mode": "lines+markers",
         "name": "",
         "orientation": "v",
         "showlegend": false,
         "type": "scatter",
         "x": [
          1,
          2,
          3
         ],
         "xaxis": "x",
         "y": [
          122.58333864541834,
          120.19104477611941,
          119.77615151515151
         ],
         "yaxis": "y"
        }
       ],
       "layout": {
        "legend": {
         "tracegroupgap": 0
        },
        "template": {
         "data": {
          "bar": [
           {
            "error_x": {
             "color": "#2a3f5f"
            },
            "error_y": {
             "color": "#2a3f5f"
            },
            "marker": {
             "line": {
              "color": "#E5ECF6",
              "width": 0.5
             },
             "pattern": {
              "fillmode": "overlay",
              "size": 10,
              "solidity": 0.2
             }
            },
            "type": "bar"
           }
          ],
          "barpolar": [
           {
            "marker": {
             "line": {
              "color": "#E5ECF6",
              "width": 0.5
             },
             "pattern": {
              "fillmode": "overlay",
              "size": 10,
              "solidity": 0.2
             }
            },
            "type": "barpolar"
           }
          ],
          "carpet": [
           {
            "aaxis": {
             "endlinecolor": "#2a3f5f",
             "gridcolor": "white",
             "linecolor": "white",
             "minorgridcolor": "white",
             "startlinecolor": "#2a3f5f"
            },
            "baxis": {
             "endlinecolor": "#2a3f5f",
             "gridcolor": "white",
             "linecolor": "white",
             "minorgridcolor": "white",
             "startlinecolor": "#2a3f5f"
            },
            "type": "carpet"
           }
          ],
          "choropleth": [
           {
            "colorbar": {
             "outlinewidth": 0,
             "ticks": ""
            },
            "type": "choropleth"
           }
          ],
          "contour": [
           {
            "colorbar": {
             "outlinewidth": 0,
             "ticks": ""
            },
            "colorscale": [
             [
              0,
              "#0d0887"
             ],
             [
              0.1111111111111111,
              "#46039f"
             ],
             [
              0.2222222222222222,
              "#7201a8"
             ],
             [
              0.3333333333333333,
              "#9c179e"
             ],
             [
              0.4444444444444444,
              "#bd3786"
             ],
             [
              0.5555555555555556,
              "#d8576b"
             ],
             [
              0.6666666666666666,
              "#ed7953"
             ],
             [
              0.7777777777777778,
              "#fb9f3a"
             ],
             [
              0.8888888888888888,
              "#fdca26"
             ],
             [
              1,
              "#f0f921"
             ]
            ],
            "type": "contour"
           }
          ],
          "contourcarpet": [
           {
            "colorbar": {
             "outlinewidth": 0,
             "ticks": ""
            },
            "type": "contourcarpet"
           }
          ],
          "heatmap": [
           {
            "colorbar": {
             "outlinewidth": 0,
             "ticks": ""
            },
            "colorscale": [
             [
              0,
              "#0d0887"
             ],
             [
              0.1111111111111111,
              "#46039f"
             ],
             [
              0.2222222222222222,
              "#7201a8"
             ],
             [
              0.3333333333333333,
              "#9c179e"
             ],
             [
              0.4444444444444444,
              "#bd3786"
             ],
             [
              0.5555555555555556,
              "#d8576b"
             ],
             [
              0.6666666666666666,
              "#ed7953"
             ],
             [
              0.7777777777777778,
              "#fb9f3a"
             ],
             [
              0.8888888888888888,
              "#fdca26"
             ],
             [
              1,
              "#f0f921"
             ]
            ],
            "type": "heatmap"
           }
          ],
          "heatmapgl": [
           {
            "colorbar": {
             "outlinewidth": 0,
             "ticks": ""
            },
            "colorscale": [
             [
              0,
              "#0d0887"
             ],
             [
              0.1111111111111111,
              "#46039f"
             ],
             [
              0.2222222222222222,
              "#7201a8"
             ],
             [
              0.3333333333333333,
              "#9c179e"
             ],
             [
              0.4444444444444444,
              "#bd3786"
             ],
             [
              0.5555555555555556,
              "#d8576b"
             ],
             [
              0.6666666666666666,
              "#ed7953"
             ],
             [
              0.7777777777777778,
              "#fb9f3a"
             ],
             [
              0.8888888888888888,
              "#fdca26"
             ],
             [
              1,
              "#f0f921"
             ]
            ],
            "type": "heatmapgl"
           }
          ],
          "histogram": [
           {
            "marker": {
             "pattern": {
              "fillmode": "overlay",
              "size": 10,
              "solidity": 0.2
             }
            },
            "type": "histogram"
           }
          ],
          "histogram2d": [
           {
            "colorbar": {
             "outlinewidth": 0,
             "ticks": ""
            },
            "colorscale": [
             [
              0,
              "#0d0887"
             ],
             [
              0.1111111111111111,
              "#46039f"
             ],
             [
              0.2222222222222222,
              "#7201a8"
             ],
             [
              0.3333333333333333,
              "#9c179e"
             ],
             [
              0.4444444444444444,
              "#bd3786"
             ],
             [
              0.5555555555555556,
              "#d8576b"
             ],
             [
              0.6666666666666666,
              "#ed7953"
             ],
             [
              0.7777777777777778,
              "#fb9f3a"
             ],
             [
              0.8888888888888888,
              "#fdca26"
             ],
             [
              1,
              "#f0f921"
             ]
            ],
            "type": "histogram2d"
           }
          ],
          "histogram2dcontour": [
           {
            "colorbar": {
             "outlinewidth": 0,
             "ticks": ""
            },
            "colorscale": [
             [
              0,
              "#0d0887"
             ],
             [
              0.1111111111111111,
              "#46039f"
             ],
             [
              0.2222222222222222,
              "#7201a8"
             ],
             [
              0.3333333333333333,
              "#9c179e"
             ],
             [
              0.4444444444444444,
              "#bd3786"
             ],
             [
              0.5555555555555556,
              "#d8576b"
             ],
             [
              0.6666666666666666,
              "#ed7953"
             ],
             [
              0.7777777777777778,
              "#fb9f3a"
             ],
             [
              0.8888888888888888,
              "#fdca26"
             ],
             [
              1,
              "#f0f921"
             ]
            ],
            "type": "histogram2dcontour"
           }
          ],
          "mesh3d": [
           {
            "colorbar": {
             "outlinewidth": 0,
             "ticks": ""
            },
            "type": "mesh3d"
           }
          ],
          "parcoords": [
           {
            "line": {
             "colorbar": {
              "outlinewidth": 0,
              "ticks": ""
             }
            },
            "type": "parcoords"
           }
          ],
          "pie": [
           {
            "automargin": true,
            "type": "pie"
           }
          ],
          "scatter": [
           {
            "marker": {
             "colorbar": {
              "outlinewidth": 0,
              "ticks": ""
             }
            },
            "type": "scatter"
           }
          ],
          "scatter3d": [
           {
            "line": {
             "colorbar": {
              "outlinewidth": 0,
              "ticks": ""
             }
            },
            "marker": {
             "colorbar": {
              "outlinewidth": 0,
              "ticks": ""
             }
            },
            "type": "scatter3d"
           }
          ],
          "scattercarpet": [
           {
            "marker": {
             "colorbar": {
              "outlinewidth": 0,
              "ticks": ""
             }
            },
            "type": "scattercarpet"
           }
          ],
          "scattergeo": [
           {
            "marker": {
             "colorbar": {
              "outlinewidth": 0,
              "ticks": ""
             }
            },
            "type": "scattergeo"
           }
          ],
          "scattergl": [
           {
            "marker": {
             "colorbar": {
              "outlinewidth": 0,
              "ticks": ""
             }
            },
            "type": "scattergl"
           }
          ],
          "scattermapbox": [
           {
            "marker": {
             "colorbar": {
              "outlinewidth": 0,
              "ticks": ""
             }
            },
            "type": "scattermapbox"
           }
          ],
          "scatterpolar": [
           {
            "marker": {
             "colorbar": {
              "outlinewidth": 0,
              "ticks": ""
             }
            },
            "type": "scatterpolar"
           }
          ],
          "scatterpolargl": [
           {
            "marker": {
             "colorbar": {
              "outlinewidth": 0,
              "ticks": ""
             }
            },
            "type": "scatterpolargl"
           }
          ],
          "scatterternary": [
           {
            "marker": {
             "colorbar": {
              "outlinewidth": 0,
              "ticks": ""
             }
            },
            "type": "scatterternary"
           }
          ],
          "surface": [
           {
            "colorbar": {
             "outlinewidth": 0,
             "ticks": ""
            },
            "colorscale": [
             [
              0,
              "#0d0887"
             ],
             [
              0.1111111111111111,
              "#46039f"
             ],
             [
              0.2222222222222222,
              "#7201a8"
             ],
             [
              0.3333333333333333,
              "#9c179e"
             ],
             [
              0.4444444444444444,
              "#bd3786"
             ],
             [
              0.5555555555555556,
              "#d8576b"
             ],
             [
              0.6666666666666666,
              "#ed7953"
             ],
             [
              0.7777777777777778,
              "#fb9f3a"
             ],
             [
              0.8888888888888888,
              "#fdca26"
             ],
             [
              1,
              "#f0f921"
             ]
            ],
            "type": "surface"
           }
          ],
          "table": [
           {
            "cells": {
             "fill": {
              "color": "#EBF0F8"
             },
             "line": {
              "color": "white"
             }
            },
            "header": {
             "fill": {
              "color": "#C8D4E3"
             },
             "line": {
              "color": "white"
             }
            },
            "type": "table"
           }
          ]
         },
         "layout": {
          "annotationdefaults": {
           "arrowcolor": "#2a3f5f",
           "arrowhead": 0,
           "arrowwidth": 1
          },
          "autotypenumbers": "strict",
          "coloraxis": {
           "colorbar": {
            "outlinewidth": 0,
            "ticks": ""
           }
          },
          "colorscale": {
           "diverging": [
            [
             0,
             "#8e0152"
            ],
            [
             0.1,
             "#c51b7d"
            ],
            [
             0.2,
             "#de77ae"
            ],
            [
             0.3,
             "#f1b6da"
            ],
            [
             0.4,
             "#fde0ef"
            ],
            [
             0.5,
             "#f7f7f7"
            ],
            [
             0.6,
             "#e6f5d0"
            ],
            [
             0.7,
             "#b8e186"
            ],
            [
             0.8,
             "#7fbc41"
            ],
            [
             0.9,
             "#4d9221"
            ],
            [
             1,
             "#276419"
            ]
           ],
           "sequential": [
            [
             0,
             "#0d0887"
            ],
            [
             0.1111111111111111,
             "#46039f"
            ],
            [
             0.2222222222222222,
             "#7201a8"
            ],
            [
             0.3333333333333333,
             "#9c179e"
            ],
            [
             0.4444444444444444,
             "#bd3786"
            ],
            [
             0.5555555555555556,
             "#d8576b"
            ],
            [
             0.6666666666666666,
             "#ed7953"
            ],
            [
             0.7777777777777778,
             "#fb9f3a"
            ],
            [
             0.8888888888888888,
             "#fdca26"
            ],
            [
             1,
             "#f0f921"
            ]
           ],
           "sequentialminus": [
            [
             0,
             "#0d0887"
            ],
            [
             0.1111111111111111,
             "#46039f"
            ],
            [
             0.2222222222222222,
             "#7201a8"
            ],
            [
             0.3333333333333333,
             "#9c179e"
            ],
            [
             0.4444444444444444,
             "#bd3786"
            ],
            [
             0.5555555555555556,
             "#d8576b"
            ],
            [
             0.6666666666666666,
             "#ed7953"
            ],
            [
             0.7777777777777778,
             "#fb9f3a"
            ],
            [
             0.8888888888888888,
             "#fdca26"
            ],
            [
             1,
             "#f0f921"
            ]
           ]
          },
          "colorway": [
           "#636efa",
           "#EF553B",
           "#00cc96",
           "#ab63fa",
           "#FFA15A",
           "#19d3f3",
           "#FF6692",
           "#B6E880",
           "#FF97FF",
           "#FECB52"
          ],
          "font": {
           "color": "#2a3f5f"
          },
          "geo": {
           "bgcolor": "white",
           "lakecolor": "white",
           "landcolor": "#E5ECF6",
           "showlakes": true,
           "showland": true,
           "subunitcolor": "white"
          },
          "hoverlabel": {
           "align": "left"
          },
          "hovermode": "closest",
          "mapbox": {
           "style": "light"
          },
          "paper_bgcolor": "white",
          "plot_bgcolor": "#E5ECF6",
          "polar": {
           "angularaxis": {
            "gridcolor": "white",
            "linecolor": "white",
            "ticks": ""
           },
           "bgcolor": "#E5ECF6",
           "radialaxis": {
            "gridcolor": "white",
            "linecolor": "white",
            "ticks": ""
           }
          },
          "scene": {
           "xaxis": {
            "backgroundcolor": "#E5ECF6",
            "gridcolor": "white",
            "gridwidth": 2,
            "linecolor": "white",
            "showbackground": true,
            "ticks": "",
            "zerolinecolor": "white"
           },
           "yaxis": {
            "backgroundcolor": "#E5ECF6",
            "gridcolor": "white",
            "gridwidth": 2,
            "linecolor": "white",
            "showbackground": true,
            "ticks": "",
            "zerolinecolor": "white"
           },
           "zaxis": {
            "backgroundcolor": "#E5ECF6",
            "gridcolor": "white",
            "gridwidth": 2,
            "linecolor": "white",
            "showbackground": true,
            "ticks": "",
            "zerolinecolor": "white"
           }
          },
          "shapedefaults": {
           "line": {
            "color": "#2a3f5f"
           }
          },
          "ternary": {
           "aaxis": {
            "gridcolor": "white",
            "linecolor": "white",
            "ticks": ""
           },
           "baxis": {
            "gridcolor": "white",
            "linecolor": "white",
            "ticks": ""
           },
           "bgcolor": "#E5ECF6",
           "caxis": {
            "gridcolor": "white",
            "linecolor": "white",
            "ticks": ""
           }
          },
          "title": {
           "x": 0.05
          },
          "xaxis": {
           "automargin": true,
           "gridcolor": "white",
           "linecolor": "white",
           "ticks": "",
           "title": {
            "standoff": 15
           },
           "zerolinecolor": "white",
           "zerolinewidth": 2
          },
          "yaxis": {
           "automargin": true,
           "gridcolor": "white",
           "linecolor": "white",
           "ticks": "",
           "title": {
            "standoff": 15
           },
           "zerolinecolor": "white",
           "zerolinewidth": 2
          }
         }
        },
        "title": {
         "text": "Number of Featured Artists and the Average Tempo"
        },
        "xaxis": {
         "anchor": "y",
         "domain": [
          0,
          1
         ],
         "title": {
          "text": "num_artists"
         },
         "type": "category"
        },
        "yaxis": {
         "anchor": "x",
         "domain": [
          0,
          1
         ],
         "title": {
          "text": "tempo"
         }
        }
       }
      }
     },
     "metadata": {},
     "output_type": "display_data"
    }
   ],
   "source": [
    "# Scatter plot of number of artists and the Tempo feature\n",
    "fig = px.line(num_art_grp, x=x_axis, y='tempo', markers=True,\n",
    "    title = 'Number of Featured Artists and the Average Tempo')\n",
    "fig.update_xaxes(type='category')\n",
    "\n",
    "fig.show()"
   ]
  },
  {
   "cell_type": "markdown",
   "metadata": {},
   "source": [
    "Findings:\n",
    "Tracks are longer when there are more artists.\n",
    "Acoustic levels go down as the number of featured artists increased.\n",
    "Danceability increases as the number of artists increased.\n",
    "Energy level increases as the number of artists increased.\n",
    "Highest average liveness is with two artists.\n",
    "The tempo in beats per minute decreases as the number of artists increase.\n",
    "Most happy songs (highest average valence) when there are two artists."
   ]
  },
  {
   "cell_type": "markdown",
   "metadata": {},
   "source": [
    "### What are popular artists to collab with?\n",
    "Which 88rising artists have the most number of collaborations? We will be looking into artists with the most tracks that has features."
   ]
  },
  {
   "cell_type": "code",
   "execution_count": 150,
   "metadata": {},
   "outputs": [
    {
     "data": {
      "text/html": [
       "<div>\n",
       "<style scoped>\n",
       "    .dataframe tbody tr th:only-of-type {\n",
       "        vertical-align: middle;\n",
       "    }\n",
       "\n",
       "    .dataframe tbody tr th {\n",
       "        vertical-align: top;\n",
       "    }\n",
       "\n",
       "    .dataframe thead th {\n",
       "        text-align: right;\n",
       "    }\n",
       "</style>\n",
       "<table border=\"1\" class=\"dataframe\">\n",
       "  <thead>\n",
       "    <tr style=\"text-align: right;\">\n",
       "      <th></th>\n",
       "      <th>song name</th>\n",
       "      <th>album</th>\n",
       "      <th>artist</th>\n",
       "      <th>featured</th>\n",
       "      <th>release_date</th>\n",
       "      <th>length(ms)</th>\n",
       "      <th>popularity</th>\n",
       "      <th>acousticness</th>\n",
       "      <th>danceability</th>\n",
       "      <th>energy</th>\n",
       "      <th>liveness</th>\n",
       "      <th>tempo</th>\n",
       "      <th>valence</th>\n",
       "    </tr>\n",
       "  </thead>\n",
       "  <tbody>\n",
       "    <tr>\n",
       "      <th>0</th>\n",
       "      <td>The Weekend</td>\n",
       "      <td>The Weekend</td>\n",
       "      <td>88rising</td>\n",
       "      <td>[88rising, BIBI]</td>\n",
       "      <td>2021-10-14</td>\n",
       "      <td>167661</td>\n",
       "      <td>69</td>\n",
       "      <td>0.062000</td>\n",
       "      <td>0.784</td>\n",
       "      <td>0.521</td>\n",
       "      <td>0.0995</td>\n",
       "      <td>101.491</td>\n",
       "      <td>0.817</td>\n",
       "    </tr>\n",
       "    <tr>\n",
       "      <th>1</th>\n",
       "      <td>Best Lover</td>\n",
       "      <td>Head In The Clouds Forever</td>\n",
       "      <td>88rising</td>\n",
       "      <td>[88rising, BIBI]</td>\n",
       "      <td>2022-04-16</td>\n",
       "      <td>152910</td>\n",
       "      <td>66</td>\n",
       "      <td>0.268000</td>\n",
       "      <td>0.740</td>\n",
       "      <td>0.663</td>\n",
       "      <td>0.1210</td>\n",
       "      <td>82.004</td>\n",
       "      <td>0.519</td>\n",
       "    </tr>\n",
       "    <tr>\n",
       "      <th>2</th>\n",
       "      <td>Crazy Like You (feat. BIBI)</td>\n",
       "      <td>Bare&amp;Rare, Pt. 1</td>\n",
       "      <td>CHUNG HA</td>\n",
       "      <td>[CHUNG HA, BIBI]</td>\n",
       "      <td>2022-07-11</td>\n",
       "      <td>175480</td>\n",
       "      <td>50</td>\n",
       "      <td>0.095700</td>\n",
       "      <td>0.536</td>\n",
       "      <td>0.639</td>\n",
       "      <td>0.2090</td>\n",
       "      <td>170.940</td>\n",
       "      <td>0.502</td>\n",
       "    </tr>\n",
       "    <tr>\n",
       "      <th>3</th>\n",
       "      <td>froyo (feat. Warren Hue)</td>\n",
       "      <td>Head In The Clouds Forever</td>\n",
       "      <td>88rising</td>\n",
       "      <td>[88rising, BIBI, Rich Brian]</td>\n",
       "      <td>2022-04-16</td>\n",
       "      <td>309121</td>\n",
       "      <td>45</td>\n",
       "      <td>0.213000</td>\n",
       "      <td>0.508</td>\n",
       "      <td>0.688</td>\n",
       "      <td>0.1570</td>\n",
       "      <td>145.089</td>\n",
       "      <td>0.335</td>\n",
       "    </tr>\n",
       "    <tr>\n",
       "      <th>4</th>\n",
       "      <td>These Nights</td>\n",
       "      <td>These Nights</td>\n",
       "      <td>88rising</td>\n",
       "      <td>[88rising, Rich Brian]</td>\n",
       "      <td>2019-10-03</td>\n",
       "      <td>223006</td>\n",
       "      <td>41</td>\n",
       "      <td>0.000317</td>\n",
       "      <td>0.656</td>\n",
       "      <td>0.673</td>\n",
       "      <td>0.2800</td>\n",
       "      <td>83.018</td>\n",
       "      <td>0.494</td>\n",
       "    </tr>\n",
       "  </tbody>\n",
       "</table>\n",
       "</div>"
      ],
      "text/plain": [
       "                     song name                       album    artist  \\\n",
       "0                  The Weekend                 The Weekend  88rising   \n",
       "1                   Best Lover  Head In The Clouds Forever  88rising   \n",
       "2  Crazy Like You (feat. BIBI)            Bare&Rare, Pt. 1  CHUNG HA   \n",
       "3     froyo (feat. Warren Hue)  Head In The Clouds Forever  88rising   \n",
       "4                 These Nights                These Nights  88rising   \n",
       "\n",
       "                       featured release_date  length(ms)  popularity  \\\n",
       "0              [88rising, BIBI]   2021-10-14      167661          69   \n",
       "1              [88rising, BIBI]   2022-04-16      152910          66   \n",
       "2              [CHUNG HA, BIBI]   2022-07-11      175480          50   \n",
       "3  [88rising, BIBI, Rich Brian]   2022-04-16      309121          45   \n",
       "4        [88rising, Rich Brian]   2019-10-03      223006          41   \n",
       "\n",
       "   acousticness  danceability  energy  liveness    tempo  valence  \n",
       "0      0.062000         0.784   0.521    0.0995  101.491    0.817  \n",
       "1      0.268000         0.740   0.663    0.1210   82.004    0.519  \n",
       "2      0.095700         0.536   0.639    0.2090  170.940    0.502  \n",
       "3      0.213000         0.508   0.688    0.1570  145.089    0.335  \n",
       "4      0.000317         0.656   0.673    0.2800   83.018    0.494  "
      ]
     },
     "execution_count": 150,
     "metadata": {},
     "output_type": "execute_result"
    }
   ],
   "source": [
    "# Combine 88rising collabs and outside collabs data\n",
    "all_collabs_df = pd.concat([collabs_88_df, collab_out_df], axis=0)\n",
    "all_collabs_df = all_collabs_df.reset_index(drop = True)\n",
    "all_collabs_df.head()"
   ]
  },
  {
   "cell_type": "code",
   "execution_count": 137,
   "metadata": {},
   "outputs": [
    {
     "data": {
      "text/html": [
       "<div>\n",
       "<style scoped>\n",
       "    .dataframe tbody tr th:only-of-type {\n",
       "        vertical-align: middle;\n",
       "    }\n",
       "\n",
       "    .dataframe tbody tr th {\n",
       "        vertical-align: top;\n",
       "    }\n",
       "\n",
       "    .dataframe thead th {\n",
       "        text-align: right;\n",
       "    }\n",
       "</style>\n",
       "<table border=\"1\" class=\"dataframe\">\n",
       "  <thead>\n",
       "    <tr style=\"text-align: right;\">\n",
       "      <th></th>\n",
       "      <th>length(ms)</th>\n",
       "      <th>popularity</th>\n",
       "      <th>acousticness</th>\n",
       "      <th>danceability</th>\n",
       "      <th>energy</th>\n",
       "      <th>liveness</th>\n",
       "      <th>tempo</th>\n",
       "      <th>valence</th>\n",
       "    </tr>\n",
       "    <tr>\n",
       "      <th>artist</th>\n",
       "      <th></th>\n",
       "      <th></th>\n",
       "      <th></th>\n",
       "      <th></th>\n",
       "      <th></th>\n",
       "      <th></th>\n",
       "      <th></th>\n",
       "      <th></th>\n",
       "    </tr>\n",
       "  </thead>\n",
       "  <tbody>\n",
       "    <tr>\n",
       "      <th>88rising</th>\n",
       "      <td>203475.860465</td>\n",
       "      <td>50.372093</td>\n",
       "      <td>0.275442</td>\n",
       "      <td>0.690698</td>\n",
       "      <td>0.616326</td>\n",
       "      <td>0.156477</td>\n",
       "      <td>117.029953</td>\n",
       "      <td>0.420535</td>\n",
       "    </tr>\n",
       "    <tr>\n",
       "      <th>Afgan</th>\n",
       "      <td>178798.000000</td>\n",
       "      <td>46.000000</td>\n",
       "      <td>0.256000</td>\n",
       "      <td>0.723000</td>\n",
       "      <td>0.458000</td>\n",
       "      <td>0.087900</td>\n",
       "      <td>113.954000</td>\n",
       "      <td>0.357000</td>\n",
       "    </tr>\n",
       "    <tr>\n",
       "      <th>Al Rocco</th>\n",
       "      <td>179885.000000</td>\n",
       "      <td>37.000000</td>\n",
       "      <td>0.494000</td>\n",
       "      <td>0.882000</td>\n",
       "      <td>0.613000</td>\n",
       "      <td>0.294000</td>\n",
       "      <td>134.013000</td>\n",
       "      <td>0.720000</td>\n",
       "    </tr>\n",
       "    <tr>\n",
       "      <th>BIBI</th>\n",
       "      <td>190177.666667</td>\n",
       "      <td>41.333333</td>\n",
       "      <td>0.179000</td>\n",
       "      <td>0.647000</td>\n",
       "      <td>0.677000</td>\n",
       "      <td>0.139667</td>\n",
       "      <td>118.993333</td>\n",
       "      <td>0.420667</td>\n",
       "    </tr>\n",
       "    <tr>\n",
       "      <th>Babylon</th>\n",
       "      <td>214782.000000</td>\n",
       "      <td>22.000000</td>\n",
       "      <td>0.129000</td>\n",
       "      <td>0.769000</td>\n",
       "      <td>0.895000</td>\n",
       "      <td>0.196000</td>\n",
       "      <td>104.948000</td>\n",
       "      <td>0.631000</td>\n",
       "    </tr>\n",
       "  </tbody>\n",
       "</table>\n",
       "</div>"
      ],
      "text/plain": [
       "             length(ms)  popularity  acousticness  danceability    energy  \\\n",
       "artist                                                                      \n",
       "88rising  203475.860465   50.372093      0.275442      0.690698  0.616326   \n",
       "Afgan     178798.000000   46.000000      0.256000      0.723000  0.458000   \n",
       "Al Rocco  179885.000000   37.000000      0.494000      0.882000  0.613000   \n",
       "BIBI      190177.666667   41.333333      0.179000      0.647000  0.677000   \n",
       "Babylon   214782.000000   22.000000      0.129000      0.769000  0.895000   \n",
       "\n",
       "          liveness       tempo   valence  \n",
       "artist                                    \n",
       "88rising  0.156477  117.029953  0.420535  \n",
       "Afgan     0.087900  113.954000  0.357000  \n",
       "Al Rocco  0.294000  134.013000  0.720000  \n",
       "BIBI      0.139667  118.993333  0.420667  \n",
       "Babylon   0.196000  104.948000  0.631000  "
      ]
     },
     "execution_count": 137,
     "metadata": {},
     "output_type": "execute_result"
    }
   ],
   "source": [
    "all_collabs_grp = all_collabs_df.groupby('artist')\n",
    "all_collabs_grp = all_collabs_grp.mean()\n",
    "all_collabs_grp.head()"
   ]
  },
  {
   "cell_type": "code",
   "execution_count": 141,
   "metadata": {},
   "outputs": [
    {
     "data": {
      "text/plain": [
       "array(['88rising', 'CHUNG HA', 'Rich Brian', 'Higher Brothers',\n",
       "       'Jackson Wang', 'NIKI', 'Various Artists', 'twlv', 'Min Kyunghoon',\n",
       "       'Crush', 'Way Ched', 'Lolo ZouaÃ¯', 'ZICO', 'BIBI', 'J.Y. Park',\n",
       "       'Drunken Tiger', 'Yoon Mirae', 'nafla', 'Christopher', 'Paul Kim',\n",
       "       'Grizzly', 'YESUNG', 'CHANGMO', 'Babylon', 'Dreamville',\n",
       "       'Thundercat', 'Guapdad 4000', 'Jace', 'Kembe X', 'Travis Thompson',\n",
       "       'Quadeca', 'Moslikely', 'Eric Bellinger', 'Lou Phelps',\n",
       "       'Marc E. Bassy', \"Twelve'len\", 'JP Saxe', 'Too $hort',\n",
       "       \"Deante' Hitchcock\", 'Buddy', 'Lou From Paradise', 'Jay Worthy',\n",
       "       'Shawn Wasabi', 'lil ricefield', 'The Cool Kids', 'KnowKnow',\n",
       "       'Masiwei', 'Psy.P', 'Melo', 'Bohan Phoenix', 'Rain', 'Afgan',\n",
       "       'JAY B', 'CrazyBoy', 'Sammi Cheng', 'VaVa', 'Al Rocco', 'Joji',\n",
       "       'rei brown', 'Bonobo', 'shamana', 'SahBabii', 'Ryan Hemsworth',\n",
       "       'Mili', 'Binary Haze Interactive', 'Promise of wizard', 'HONNE',\n",
       "       'End of the World', 'bbno$', 'Stephanie Poetri', 'Goodbye Felicia'],\n",
       "      dtype=object)"
      ]
     },
     "execution_count": 141,
     "metadata": {},
     "output_type": "execute_result"
    }
   ],
   "source": [
    "all_collabs_df['artist'].unique()"
   ]
  },
  {
   "cell_type": "markdown",
   "metadata": {},
   "source": [
    "Some main artists are outside of 88rising and some tracks have more than one 88rising artist. Need to create a duplicate row for each 8rising artist featured and make the featured column contain only one artist name."
   ]
  },
  {
   "cell_type": "code",
   "execution_count": 143,
   "metadata": {},
   "outputs": [],
   "source": [
    "lowercase_artists = [x.lower() for x in artists]"
   ]
  },
  {
   "cell_type": "code",
   "execution_count": 176,
   "metadata": {},
   "outputs": [
    {
     "data": {
      "text/html": [
       "<div>\n",
       "<style scoped>\n",
       "    .dataframe tbody tr th:only-of-type {\n",
       "        vertical-align: middle;\n",
       "    }\n",
       "\n",
       "    .dataframe tbody tr th {\n",
       "        vertical-align: top;\n",
       "    }\n",
       "\n",
       "    .dataframe thead th {\n",
       "        text-align: right;\n",
       "    }\n",
       "</style>\n",
       "<table border=\"1\" class=\"dataframe\">\n",
       "  <thead>\n",
       "    <tr style=\"text-align: right;\">\n",
       "      <th></th>\n",
       "      <th>song name</th>\n",
       "      <th>album</th>\n",
       "      <th>artist</th>\n",
       "      <th>featured</th>\n",
       "      <th>featured_artist</th>\n",
       "      <th>release_date</th>\n",
       "      <th>length(ms)</th>\n",
       "      <th>popularity</th>\n",
       "      <th>acousticness</th>\n",
       "      <th>danceability</th>\n",
       "      <th>energy</th>\n",
       "      <th>liveness</th>\n",
       "      <th>tempo</th>\n",
       "      <th>valence</th>\n",
       "    </tr>\n",
       "  </thead>\n",
       "  <tbody>\n",
       "    <tr>\n",
       "      <th>0</th>\n",
       "      <td>The Weekend</td>\n",
       "      <td>The Weekend</td>\n",
       "      <td>88rising</td>\n",
       "      <td>[88rising, BIBI]</td>\n",
       "      <td>88rising</td>\n",
       "      <td>2021-10-14</td>\n",
       "      <td>167661</td>\n",
       "      <td>69</td>\n",
       "      <td>0.062000</td>\n",
       "      <td>0.784</td>\n",
       "      <td>0.521</td>\n",
       "      <td>0.0995</td>\n",
       "      <td>101.491</td>\n",
       "      <td>0.817</td>\n",
       "    </tr>\n",
       "    <tr>\n",
       "      <th>1</th>\n",
       "      <td>Best Lover</td>\n",
       "      <td>Head In The Clouds Forever</td>\n",
       "      <td>88rising</td>\n",
       "      <td>[88rising, BIBI]</td>\n",
       "      <td>88rising</td>\n",
       "      <td>2022-04-16</td>\n",
       "      <td>152910</td>\n",
       "      <td>66</td>\n",
       "      <td>0.268000</td>\n",
       "      <td>0.740</td>\n",
       "      <td>0.663</td>\n",
       "      <td>0.1210</td>\n",
       "      <td>82.004</td>\n",
       "      <td>0.519</td>\n",
       "    </tr>\n",
       "    <tr>\n",
       "      <th>2</th>\n",
       "      <td>Crazy Like You (feat. BIBI)</td>\n",
       "      <td>Bare&amp;Rare, Pt. 1</td>\n",
       "      <td>CHUNG HA</td>\n",
       "      <td>[CHUNG HA, BIBI]</td>\n",
       "      <td>CHUNG HA</td>\n",
       "      <td>2022-07-11</td>\n",
       "      <td>175480</td>\n",
       "      <td>50</td>\n",
       "      <td>0.095700</td>\n",
       "      <td>0.536</td>\n",
       "      <td>0.639</td>\n",
       "      <td>0.2090</td>\n",
       "      <td>170.940</td>\n",
       "      <td>0.502</td>\n",
       "    </tr>\n",
       "    <tr>\n",
       "      <th>3</th>\n",
       "      <td>froyo (feat. Warren Hue)</td>\n",
       "      <td>Head In The Clouds Forever</td>\n",
       "      <td>88rising</td>\n",
       "      <td>[88rising, BIBI, Rich Brian]</td>\n",
       "      <td>88rising</td>\n",
       "      <td>2022-04-16</td>\n",
       "      <td>309121</td>\n",
       "      <td>45</td>\n",
       "      <td>0.213000</td>\n",
       "      <td>0.508</td>\n",
       "      <td>0.688</td>\n",
       "      <td>0.1570</td>\n",
       "      <td>145.089</td>\n",
       "      <td>0.335</td>\n",
       "    </tr>\n",
       "    <tr>\n",
       "      <th>4</th>\n",
       "      <td>These Nights</td>\n",
       "      <td>These Nights</td>\n",
       "      <td>88rising</td>\n",
       "      <td>[88rising, Rich Brian]</td>\n",
       "      <td>88rising</td>\n",
       "      <td>2019-10-03</td>\n",
       "      <td>223006</td>\n",
       "      <td>41</td>\n",
       "      <td>0.000317</td>\n",
       "      <td>0.656</td>\n",
       "      <td>0.673</td>\n",
       "      <td>0.2800</td>\n",
       "      <td>83.018</td>\n",
       "      <td>0.494</td>\n",
       "    </tr>\n",
       "  </tbody>\n",
       "</table>\n",
       "</div>"
      ],
      "text/plain": [
       "                     song name                       album    artist  \\\n",
       "0                  The Weekend                 The Weekend  88rising   \n",
       "1                   Best Lover  Head In The Clouds Forever  88rising   \n",
       "2  Crazy Like You (feat. BIBI)            Bare&Rare, Pt. 1  CHUNG HA   \n",
       "3     froyo (feat. Warren Hue)  Head In The Clouds Forever  88rising   \n",
       "4                 These Nights                These Nights  88rising   \n",
       "\n",
       "                       featured featured_artist release_date  length(ms)  \\\n",
       "0              [88rising, BIBI]        88rising   2021-10-14      167661   \n",
       "1              [88rising, BIBI]        88rising   2022-04-16      152910   \n",
       "2              [CHUNG HA, BIBI]        CHUNG HA   2022-07-11      175480   \n",
       "3  [88rising, BIBI, Rich Brian]        88rising   2022-04-16      309121   \n",
       "4        [88rising, Rich Brian]        88rising   2019-10-03      223006   \n",
       "\n",
       "   popularity  acousticness  danceability  energy  liveness    tempo  valence  \n",
       "0          69      0.062000         0.784   0.521    0.0995  101.491    0.817  \n",
       "1          66      0.268000         0.740   0.663    0.1210   82.004    0.519  \n",
       "2          50      0.095700         0.536   0.639    0.2090  170.940    0.502  \n",
       "3          45      0.213000         0.508   0.688    0.1570  145.089    0.335  \n",
       "4          41      0.000317         0.656   0.673    0.2800   83.018    0.494  "
      ]
     },
     "execution_count": 176,
     "metadata": {},
     "output_type": "execute_result"
    }
   ],
   "source": [
    "dup_all_collabs = all_collabs_df.copy()\n",
    "dup_all_collabs.insert(4, 'featured_artist', \"\")\n",
    "for index, row in all_collabs_df.iterrows():\n",
    "    for a in row['featured']:\n",
    "        if a.lower() in lowercase_artists or a.lower() == '88rising' or a.lower() == 'chung ha':\n",
    "            # If the featured artist is the same as the main artist, set featured_artist to the main artist and go to the next featured artist\n",
    "            # If the artist is in 88rising, but isn't the main artist and is the last row, duplicate the row and set the featured_artist. Then delete the row\n",
    "            # Othwerise, duplicate the row and set featured_artist to the featured_artist\n",
    "            if a.lower() == row['artist'].lower() and a.lower() != row['featured'][-1].lower():\n",
    "                dup_all_collabs.loc[dup_all_collabs.index == index, 'featured_artist'] = a\n",
    "            elif a.lower() != row['artist'].lower() and a.lower() == row['featured'][-1].lower():\n",
    "                add_index = max(dup_all_collabs.index)+1\n",
    "                dup_all_collabs.loc[add_index] = row\n",
    "                dup_all_collabs.loc[dup_all_collabs.index == add_index, 'featured_artist'] = a\n",
    "                dup_all_collabs.drop(dup_all_collabs.index[index])\n",
    "            else:\n",
    "                add_index = max(dup_all_collabs.index)+1\n",
    "                dup_all_collabs.loc[add_index] = row\n",
    "                dup_all_collabs.loc[dup_all_collabs.index == add_index, 'featured_artist'] = a\n",
    "dup_all_collabs.head()"
   ]
  },
  {
   "cell_type": "code",
   "execution_count": 177,
   "metadata": {},
   "outputs": [
    {
     "name": "stdout",
     "output_type": "stream",
     "text": [
      "200 346\n"
     ]
    }
   ],
   "source": [
    "print(len(all_collabs_df), len(dup_all_collabs))"
   ]
  },
  {
   "cell_type": "code",
   "execution_count": 180,
   "metadata": {},
   "outputs": [
    {
     "data": {
      "text/plain": [
       "array(['88rising', 'CHUNG HA', 'Rich Brian', '', 'Higher Brothers',\n",
       "       'Jackson Wang', 'NIKI', 'BIBI', 'Guapdad 4000', 'Joji',\n",
       "       'Stephanie Poetri', 'Warren Hue', 'Keith Ape', 'MILLI'],\n",
       "      dtype=object)"
      ]
     },
     "execution_count": 180,
     "metadata": {},
     "output_type": "execute_result"
    }
   ],
   "source": [
    "dup_all_collabs['featured_artist'].unique()"
   ]
  },
  {
   "cell_type": "code",
   "execution_count": 179,
   "metadata": {},
   "outputs": [
    {
     "data": {
      "text/html": [
       "<div>\n",
       "<style scoped>\n",
       "    .dataframe tbody tr th:only-of-type {\n",
       "        vertical-align: middle;\n",
       "    }\n",
       "\n",
       "    .dataframe tbody tr th {\n",
       "        vertical-align: top;\n",
       "    }\n",
       "\n",
       "    .dataframe thead th {\n",
       "        text-align: right;\n",
       "    }\n",
       "</style>\n",
       "<table border=\"1\" class=\"dataframe\">\n",
       "  <thead>\n",
       "    <tr style=\"text-align: right;\">\n",
       "      <th></th>\n",
       "      <th>song name</th>\n",
       "      <th>album</th>\n",
       "      <th>artist</th>\n",
       "      <th>featured</th>\n",
       "      <th>featured_artist</th>\n",
       "      <th>release_date</th>\n",
       "      <th>length(ms)</th>\n",
       "      <th>popularity</th>\n",
       "      <th>acousticness</th>\n",
       "      <th>danceability</th>\n",
       "      <th>energy</th>\n",
       "      <th>liveness</th>\n",
       "      <th>tempo</th>\n",
       "      <th>valence</th>\n",
       "    </tr>\n",
       "  </thead>\n",
       "  <tbody>\n",
       "    <tr>\n",
       "      <th>6</th>\n",
       "      <td>Foolish</td>\n",
       "      <td>Shang-Chi and The Legend of The Ten Rings: The...</td>\n",
       "      <td>88rising</td>\n",
       "      <td>[Rich Brian, Warren Hue, Guapdad 4000]</td>\n",
       "      <td></td>\n",
       "      <td>2021-09-03</td>\n",
       "      <td>177626</td>\n",
       "      <td>45</td>\n",
       "      <td>0.03100</td>\n",
       "      <td>0.869</td>\n",
       "      <td>0.794</td>\n",
       "      <td>0.0769</td>\n",
       "      <td>112.017</td>\n",
       "      <td>0.3390</td>\n",
       "    </tr>\n",
       "    <tr>\n",
       "      <th>34</th>\n",
       "      <td>Always Rising</td>\n",
       "      <td>Shang-Chi and The Legend of The Ten Rings: The...</td>\n",
       "      <td>88rising</td>\n",
       "      <td>[NIKI, Rich Brian, Warren Hue]</td>\n",
       "      <td></td>\n",
       "      <td>2021-09-03</td>\n",
       "      <td>184080</td>\n",
       "      <td>50</td>\n",
       "      <td>0.28000</td>\n",
       "      <td>0.376</td>\n",
       "      <td>0.694</td>\n",
       "      <td>0.1020</td>\n",
       "      <td>75.625</td>\n",
       "      <td>0.0399</td>\n",
       "    </tr>\n",
       "    <tr>\n",
       "      <th>36</th>\n",
       "      <td>LAW (Prod. Czaer)</td>\n",
       "      <td>Street Man Fighter Original Vol.3 (Mission by ...</td>\n",
       "      <td>Various Artists</td>\n",
       "      <td>[Yoon Mirae, BIBI]</td>\n",
       "      <td></td>\n",
       "      <td>2022-09-06</td>\n",
       "      <td>189373</td>\n",
       "      <td>71</td>\n",
       "      <td>0.00857</td>\n",
       "      <td>0.756</td>\n",
       "      <td>0.900</td>\n",
       "      <td>0.2370</td>\n",
       "      <td>128.054</td>\n",
       "      <td>0.5500</td>\n",
       "    </tr>\n",
       "    <tr>\n",
       "      <th>37</th>\n",
       "      <td>Never Gonna Come Down</td>\n",
       "      <td>Shang-Chi and The Legend of The Ten Rings: The...</td>\n",
       "      <td>88rising</td>\n",
       "      <td>[Mark Tuan, BIBI]</td>\n",
       "      <td></td>\n",
       "      <td>2021-09-03</td>\n",
       "      <td>203800</td>\n",
       "      <td>51</td>\n",
       "      <td>0.65600</td>\n",
       "      <td>0.777</td>\n",
       "      <td>0.689</td>\n",
       "      <td>0.0620</td>\n",
       "      <td>150.036</td>\n",
       "      <td>0.8730</td>\n",
       "    </tr>\n",
       "    <tr>\n",
       "      <th>38</th>\n",
       "      <td>AUTOMATIC</td>\n",
       "      <td>AUTOMATIC</td>\n",
       "      <td>Various Artists</td>\n",
       "      <td>[Chancellor, Babylon, twlv]</td>\n",
       "      <td></td>\n",
       "      <td>2020-10-14</td>\n",
       "      <td>268293</td>\n",
       "      <td>51</td>\n",
       "      <td>0.13300</td>\n",
       "      <td>0.720</td>\n",
       "      <td>0.703</td>\n",
       "      <td>0.1210</td>\n",
       "      <td>99.999</td>\n",
       "      <td>0.4920</td>\n",
       "    </tr>\n",
       "    <tr>\n",
       "      <th>...</th>\n",
       "      <td>...</td>\n",
       "      <td>...</td>\n",
       "      <td>...</td>\n",
       "      <td>...</td>\n",
       "      <td>...</td>\n",
       "      <td>...</td>\n",
       "      <td>...</td>\n",
       "      <td>...</td>\n",
       "      <td>...</td>\n",
       "      <td>...</td>\n",
       "      <td>...</td>\n",
       "      <td>...</td>\n",
       "      <td>...</td>\n",
       "      <td>...</td>\n",
       "    </tr>\n",
       "    <tr>\n",
       "      <th>186</th>\n",
       "      <td>Run It (feat. Rick Ross &amp; Rich Brian)</td>\n",
       "      <td>Shang-Chi and The Legend of The Ten Rings: The...</td>\n",
       "      <td>88rising</td>\n",
       "      <td>[DJ Snake, Rick Ross, Rich Brian]</td>\n",
       "      <td></td>\n",
       "      <td>2021-09-03</td>\n",
       "      <td>163373</td>\n",
       "      <td>68</td>\n",
       "      <td>0.01950</td>\n",
       "      <td>0.688</td>\n",
       "      <td>0.725</td>\n",
       "      <td>0.0726</td>\n",
       "      <td>104.006</td>\n",
       "      <td>0.2250</td>\n",
       "    </tr>\n",
       "    <tr>\n",
       "      <th>187</th>\n",
       "      <td>Lazy Susan (with Rich Brian feat. Warren Hue &amp;...</td>\n",
       "      <td>Shang-Chi and The Legend of The Ten Rings: The...</td>\n",
       "      <td>88rising</td>\n",
       "      <td>[21 Savage, Rich Brian, Warren Hue]</td>\n",
       "      <td></td>\n",
       "      <td>2021-09-03</td>\n",
       "      <td>279960</td>\n",
       "      <td>51</td>\n",
       "      <td>0.04280</td>\n",
       "      <td>0.766</td>\n",
       "      <td>0.825</td>\n",
       "      <td>0.1020</td>\n",
       "      <td>155.967</td>\n",
       "      <td>0.6460</td>\n",
       "    </tr>\n",
       "    <tr>\n",
       "      <th>188</th>\n",
       "      <td>edamame (feat. Rich Brian)</td>\n",
       "      <td>edamame (feat. Rich Brian)</td>\n",
       "      <td>bbno$</td>\n",
       "      <td>[bbno$, Rich Brian]</td>\n",
       "      <td></td>\n",
       "      <td>2021-07-24</td>\n",
       "      <td>133706</td>\n",
       "      <td>75</td>\n",
       "      <td>0.02300</td>\n",
       "      <td>0.815</td>\n",
       "      <td>0.848</td>\n",
       "      <td>0.0265</td>\n",
       "      <td>106.032</td>\n",
       "      <td>0.6840</td>\n",
       "    </tr>\n",
       "    <tr>\n",
       "      <th>195</th>\n",
       "      <td>18</td>\n",
       "      <td>18</td>\n",
       "      <td>Various Artists</td>\n",
       "      <td>[Kris Wu, Rich Brian, Trippie Redd]</td>\n",
       "      <td></td>\n",
       "      <td>2018-01-16</td>\n",
       "      <td>254507</td>\n",
       "      <td>46</td>\n",
       "      <td>0.18300</td>\n",
       "      <td>0.632</td>\n",
       "      <td>0.629</td>\n",
       "      <td>0.3440</td>\n",
       "      <td>179.882</td>\n",
       "      <td>0.2070</td>\n",
       "    </tr>\n",
       "    <tr>\n",
       "      <th>199</th>\n",
       "      <td>Bimbang</td>\n",
       "      <td>Bimbang</td>\n",
       "      <td>Goodbye Felicia</td>\n",
       "      <td>[Goodbye Felicia, Stephanie Poetri]</td>\n",
       "      <td></td>\n",
       "      <td>2015-12-15</td>\n",
       "      <td>203533</td>\n",
       "      <td>43</td>\n",
       "      <td>0.12500</td>\n",
       "      <td>0.455</td>\n",
       "      <td>0.619</td>\n",
       "      <td>0.1010</td>\n",
       "      <td>86.396</td>\n",
       "      <td>0.4700</td>\n",
       "    </tr>\n",
       "  </tbody>\n",
       "</table>\n",
       "<p>102 rows × 14 columns</p>\n",
       "</div>"
      ],
      "text/plain": [
       "                                             song name  \\\n",
       "6                                              Foolish   \n",
       "34                                       Always Rising   \n",
       "36                                   LAW (Prod. Czaer)   \n",
       "37                               Never Gonna Come Down   \n",
       "38                                           AUTOMATIC   \n",
       "..                                                 ...   \n",
       "186              Run It (feat. Rick Ross & Rich Brian)   \n",
       "187  Lazy Susan (with Rich Brian feat. Warren Hue &...   \n",
       "188                         edamame (feat. Rich Brian)   \n",
       "195                                                 18   \n",
       "199                                            Bimbang   \n",
       "\n",
       "                                                 album           artist  \\\n",
       "6    Shang-Chi and The Legend of The Ten Rings: The...         88rising   \n",
       "34   Shang-Chi and The Legend of The Ten Rings: The...         88rising   \n",
       "36   Street Man Fighter Original Vol.3 (Mission by ...  Various Artists   \n",
       "37   Shang-Chi and The Legend of The Ten Rings: The...         88rising   \n",
       "38                                           AUTOMATIC  Various Artists   \n",
       "..                                                 ...              ...   \n",
       "186  Shang-Chi and The Legend of The Ten Rings: The...         88rising   \n",
       "187  Shang-Chi and The Legend of The Ten Rings: The...         88rising   \n",
       "188                         edamame (feat. Rich Brian)            bbno$   \n",
       "195                                                 18  Various Artists   \n",
       "199                                            Bimbang  Goodbye Felicia   \n",
       "\n",
       "                                   featured featured_artist release_date  \\\n",
       "6    [Rich Brian, Warren Hue, Guapdad 4000]                   2021-09-03   \n",
       "34           [NIKI, Rich Brian, Warren Hue]                   2021-09-03   \n",
       "36                       [Yoon Mirae, BIBI]                   2022-09-06   \n",
       "37                        [Mark Tuan, BIBI]                   2021-09-03   \n",
       "38              [Chancellor, Babylon, twlv]                   2020-10-14   \n",
       "..                                      ...             ...          ...   \n",
       "186       [DJ Snake, Rick Ross, Rich Brian]                   2021-09-03   \n",
       "187     [21 Savage, Rich Brian, Warren Hue]                   2021-09-03   \n",
       "188                     [bbno$, Rich Brian]                   2021-07-24   \n",
       "195     [Kris Wu, Rich Brian, Trippie Redd]                   2018-01-16   \n",
       "199     [Goodbye Felicia, Stephanie Poetri]                   2015-12-15   \n",
       "\n",
       "     length(ms)  popularity  acousticness  danceability  energy  liveness  \\\n",
       "6        177626          45       0.03100         0.869   0.794    0.0769   \n",
       "34       184080          50       0.28000         0.376   0.694    0.1020   \n",
       "36       189373          71       0.00857         0.756   0.900    0.2370   \n",
       "37       203800          51       0.65600         0.777   0.689    0.0620   \n",
       "38       268293          51       0.13300         0.720   0.703    0.1210   \n",
       "..          ...         ...           ...           ...     ...       ...   \n",
       "186      163373          68       0.01950         0.688   0.725    0.0726   \n",
       "187      279960          51       0.04280         0.766   0.825    0.1020   \n",
       "188      133706          75       0.02300         0.815   0.848    0.0265   \n",
       "195      254507          46       0.18300         0.632   0.629    0.3440   \n",
       "199      203533          43       0.12500         0.455   0.619    0.1010   \n",
       "\n",
       "       tempo  valence  \n",
       "6    112.017   0.3390  \n",
       "34    75.625   0.0399  \n",
       "36   128.054   0.5500  \n",
       "37   150.036   0.8730  \n",
       "38    99.999   0.4920  \n",
       "..       ...      ...  \n",
       "186  104.006   0.2250  \n",
       "187  155.967   0.6460  \n",
       "188  106.032   0.6840  \n",
       "195  179.882   0.2070  \n",
       "199   86.396   0.4700  \n",
       "\n",
       "[102 rows x 14 columns]"
      ]
     },
     "execution_count": 179,
     "metadata": {},
     "output_type": "execute_result"
    }
   ],
   "source": [
    "dup_all_collabs.loc[dup_all_collabs['featured_artist'] == '']"
   ]
  }
 ],
 "metadata": {
  "kernelspec": {
   "display_name": "Python 3.9.12 ('base')",
   "language": "python",
   "name": "python3"
  },
  "language_info": {
   "codemirror_mode": {
    "name": "ipython",
    "version": 3
   },
   "file_extension": ".py",
   "mimetype": "text/x-python",
   "name": "python",
   "nbconvert_exporter": "python",
   "pygments_lexer": "ipython3",
   "version": "3.9.12"
  },
  "orig_nbformat": 4,
  "vscode": {
   "interpreter": {
    "hash": "fd5f0602b361fcd80b6e43c9db32d5ff96b182a40640908c77b502a93aa9387e"
   }
  }
 },
 "nbformat": 4,
 "nbformat_minor": 2
}
