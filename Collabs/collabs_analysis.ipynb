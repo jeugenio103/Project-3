{
 "cells": [
  {
   "cell_type": "code",
   "execution_count": 2,
   "metadata": {},
   "outputs": [],
   "source": [
    "import pandas as pd\n",
    "import numpy as np\n",
    "from plotly.subplots import make_subplots as p_sub\n",
    "import plotly.express as px\n",
    "import plotly.graph_objects as go\n",
    "import json\n",
    "from artists_88rising import artists"
   ]
  },
  {
   "cell_type": "code",
   "execution_count": 3,
   "metadata": {},
   "outputs": [
    {
     "data": {
      "text/html": [
       "<div>\n",
       "<style scoped>\n",
       "    .dataframe tbody tr th:only-of-type {\n",
       "        vertical-align: middle;\n",
       "    }\n",
       "\n",
       "    .dataframe tbody tr th {\n",
       "        vertical-align: top;\n",
       "    }\n",
       "\n",
       "    .dataframe thead th {\n",
       "        text-align: right;\n",
       "    }\n",
       "</style>\n",
       "<table border=\"1\" class=\"dataframe\">\n",
       "  <thead>\n",
       "    <tr style=\"text-align: right;\">\n",
       "      <th></th>\n",
       "      <th>song name</th>\n",
       "      <th>album</th>\n",
       "      <th>artist</th>\n",
       "      <th>featured</th>\n",
       "      <th>release_date</th>\n",
       "      <th>length(ms)</th>\n",
       "      <th>popularity</th>\n",
       "      <th>acousticness</th>\n",
       "      <th>danceability</th>\n",
       "      <th>energy</th>\n",
       "      <th>liveness</th>\n",
       "      <th>tempo</th>\n",
       "      <th>valence</th>\n",
       "      <th>num_artists</th>\n",
       "    </tr>\n",
       "  </thead>\n",
       "  <tbody>\n",
       "    <tr>\n",
       "      <th>0</th>\n",
       "      <td>Animal Farm</td>\n",
       "      <td>Animal Farm</td>\n",
       "      <td>BIBI</td>\n",
       "      <td>[BIBI]</td>\n",
       "      <td>2022-09-27</td>\n",
       "      <td>203945</td>\n",
       "      <td>69</td>\n",
       "      <td>0.0178</td>\n",
       "      <td>0.617</td>\n",
       "      <td>0.570</td>\n",
       "      <td>0.5500</td>\n",
       "      <td>107.971</td>\n",
       "      <td>0.375</td>\n",
       "      <td>1</td>\n",
       "    </tr>\n",
       "    <tr>\n",
       "      <th>1</th>\n",
       "      <td>KAZINO</td>\n",
       "      <td>KAZINO</td>\n",
       "      <td>BIBI</td>\n",
       "      <td>[BIBI]</td>\n",
       "      <td>2020-04-29</td>\n",
       "      <td>185946</td>\n",
       "      <td>65</td>\n",
       "      <td>0.1390</td>\n",
       "      <td>0.625</td>\n",
       "      <td>0.686</td>\n",
       "      <td>0.1100</td>\n",
       "      <td>133.041</td>\n",
       "      <td>0.263</td>\n",
       "      <td>1</td>\n",
       "    </tr>\n",
       "    <tr>\n",
       "      <th>2</th>\n",
       "      <td>BAD SAD AND MAD</td>\n",
       "      <td>Life is a Biâ¦</td>\n",
       "      <td>BIBI</td>\n",
       "      <td>[BIBI]</td>\n",
       "      <td>2021-04-28</td>\n",
       "      <td>154988</td>\n",
       "      <td>64</td>\n",
       "      <td>0.5450</td>\n",
       "      <td>0.746</td>\n",
       "      <td>0.558</td>\n",
       "      <td>0.0904</td>\n",
       "      <td>90.013</td>\n",
       "      <td>0.638</td>\n",
       "      <td>1</td>\n",
       "    </tr>\n",
       "    <tr>\n",
       "      <th>3</th>\n",
       "      <td>Very, Slowly</td>\n",
       "      <td>Twenty-Five Twenty-One OST Part 3</td>\n",
       "      <td>BIBI</td>\n",
       "      <td>[BIBI]</td>\n",
       "      <td>2022-02-20</td>\n",
       "      <td>214851</td>\n",
       "      <td>60</td>\n",
       "      <td>0.6780</td>\n",
       "      <td>0.528</td>\n",
       "      <td>0.423</td>\n",
       "      <td>0.1670</td>\n",
       "      <td>135.917</td>\n",
       "      <td>0.249</td>\n",
       "      <td>1</td>\n",
       "    </tr>\n",
       "    <tr>\n",
       "      <th>4</th>\n",
       "      <td>MotoSpeed 24</td>\n",
       "      <td>Sweet Sorrow of Mother</td>\n",
       "      <td>BIBI</td>\n",
       "      <td>[BIBI]</td>\n",
       "      <td>2022-10-24</td>\n",
       "      <td>133904</td>\n",
       "      <td>56</td>\n",
       "      <td>0.3190</td>\n",
       "      <td>0.610</td>\n",
       "      <td>0.597</td>\n",
       "      <td>0.1360</td>\n",
       "      <td>95.004</td>\n",
       "      <td>0.295</td>\n",
       "      <td>1</td>\n",
       "    </tr>\n",
       "  </tbody>\n",
       "</table>\n",
       "</div>"
      ],
      "text/plain": [
       "         song name                              album artist featured  \\\n",
       "0      Animal Farm                        Animal Farm   BIBI   [BIBI]   \n",
       "1           KAZINO                             KAZINO   BIBI   [BIBI]   \n",
       "2  BAD SAD AND MAD                    Life is a Biâ¦   BIBI   [BIBI]   \n",
       "3     Very, Slowly  Twenty-Five Twenty-One OST Part 3   BIBI   [BIBI]   \n",
       "4     MotoSpeed 24             Sweet Sorrow of Mother   BIBI   [BIBI]   \n",
       "\n",
       "  release_date  length(ms)  popularity  acousticness  danceability  energy  \\\n",
       "0   2022-09-27      203945          69        0.0178         0.617   0.570   \n",
       "1   2020-04-29      185946          65        0.1390         0.625   0.686   \n",
       "2   2021-04-28      154988          64        0.5450         0.746   0.558   \n",
       "3   2022-02-20      214851          60        0.6780         0.528   0.423   \n",
       "4   2022-10-24      133904          56        0.3190         0.610   0.597   \n",
       "\n",
       "   liveness    tempo  valence  num_artists  \n",
       "0    0.5500  107.971    0.375            1  \n",
       "1    0.1100  133.041    0.263            1  \n",
       "2    0.0904   90.013    0.638            1  \n",
       "3    0.1670  135.917    0.249            1  \n",
       "4    0.1360   95.004    0.295            1  "
      ]
     },
     "execution_count": 3,
     "metadata": {},
     "output_type": "execute_result"
    }
   ],
   "source": [
    "# Import JSON data into dataframe\n",
    "\n",
    "# Solo tracks\n",
    "solo_df = pd.read_json('./Datasets/solo_tracks_88rising.json')\n",
    "solo_df.head()"
   ]
  },
  {
   "cell_type": "code",
   "execution_count": 4,
   "metadata": {},
   "outputs": [
    {
     "data": {
      "text/html": [
       "<div>\n",
       "<style scoped>\n",
       "    .dataframe tbody tr th:only-of-type {\n",
       "        vertical-align: middle;\n",
       "    }\n",
       "\n",
       "    .dataframe tbody tr th {\n",
       "        vertical-align: top;\n",
       "    }\n",
       "\n",
       "    .dataframe thead th {\n",
       "        text-align: right;\n",
       "    }\n",
       "</style>\n",
       "<table border=\"1\" class=\"dataframe\">\n",
       "  <thead>\n",
       "    <tr style=\"text-align: right;\">\n",
       "      <th></th>\n",
       "      <th>song name</th>\n",
       "      <th>album</th>\n",
       "      <th>artist</th>\n",
       "      <th>featured</th>\n",
       "      <th>release_date</th>\n",
       "      <th>length(ms)</th>\n",
       "      <th>popularity</th>\n",
       "      <th>acousticness</th>\n",
       "      <th>danceability</th>\n",
       "      <th>energy</th>\n",
       "      <th>liveness</th>\n",
       "      <th>tempo</th>\n",
       "      <th>valence</th>\n",
       "      <th>num_artists</th>\n",
       "    </tr>\n",
       "  </thead>\n",
       "  <tbody>\n",
       "    <tr>\n",
       "      <th>0</th>\n",
       "      <td>The Weekend</td>\n",
       "      <td>The Weekend</td>\n",
       "      <td>88rising</td>\n",
       "      <td>[88rising, BIBI]</td>\n",
       "      <td>2021-10-14</td>\n",
       "      <td>167661</td>\n",
       "      <td>69</td>\n",
       "      <td>0.062000</td>\n",
       "      <td>0.784</td>\n",
       "      <td>0.521</td>\n",
       "      <td>0.0995</td>\n",
       "      <td>101.491</td>\n",
       "      <td>0.817</td>\n",
       "      <td>2</td>\n",
       "    </tr>\n",
       "    <tr>\n",
       "      <th>1</th>\n",
       "      <td>Best Lover</td>\n",
       "      <td>Head In The Clouds Forever</td>\n",
       "      <td>88rising</td>\n",
       "      <td>[88rising, BIBI]</td>\n",
       "      <td>2022-04-16</td>\n",
       "      <td>152910</td>\n",
       "      <td>66</td>\n",
       "      <td>0.268000</td>\n",
       "      <td>0.740</td>\n",
       "      <td>0.663</td>\n",
       "      <td>0.1210</td>\n",
       "      <td>82.004</td>\n",
       "      <td>0.519</td>\n",
       "      <td>2</td>\n",
       "    </tr>\n",
       "    <tr>\n",
       "      <th>2</th>\n",
       "      <td>Crazy Like You (feat. BIBI)</td>\n",
       "      <td>Bare&amp;Rare, Pt. 1</td>\n",
       "      <td>CHUNG HA</td>\n",
       "      <td>[CHUNG HA, BIBI]</td>\n",
       "      <td>2022-07-11</td>\n",
       "      <td>175480</td>\n",
       "      <td>50</td>\n",
       "      <td>0.095700</td>\n",
       "      <td>0.536</td>\n",
       "      <td>0.639</td>\n",
       "      <td>0.2090</td>\n",
       "      <td>170.940</td>\n",
       "      <td>0.502</td>\n",
       "      <td>2</td>\n",
       "    </tr>\n",
       "    <tr>\n",
       "      <th>3</th>\n",
       "      <td>froyo (feat. Warren Hue)</td>\n",
       "      <td>Head In The Clouds Forever</td>\n",
       "      <td>88rising</td>\n",
       "      <td>[88rising, BIBI, Rich Brian]</td>\n",
       "      <td>2022-04-16</td>\n",
       "      <td>309121</td>\n",
       "      <td>45</td>\n",
       "      <td>0.213000</td>\n",
       "      <td>0.508</td>\n",
       "      <td>0.688</td>\n",
       "      <td>0.1570</td>\n",
       "      <td>145.089</td>\n",
       "      <td>0.335</td>\n",
       "      <td>3</td>\n",
       "    </tr>\n",
       "    <tr>\n",
       "      <th>4</th>\n",
       "      <td>These Nights</td>\n",
       "      <td>These Nights</td>\n",
       "      <td>88rising</td>\n",
       "      <td>[88rising, Rich Brian]</td>\n",
       "      <td>2019-10-03</td>\n",
       "      <td>223006</td>\n",
       "      <td>41</td>\n",
       "      <td>0.000317</td>\n",
       "      <td>0.656</td>\n",
       "      <td>0.673</td>\n",
       "      <td>0.2800</td>\n",
       "      <td>83.018</td>\n",
       "      <td>0.494</td>\n",
       "      <td>2</td>\n",
       "    </tr>\n",
       "  </tbody>\n",
       "</table>\n",
       "</div>"
      ],
      "text/plain": [
       "                     song name                       album    artist  \\\n",
       "0                  The Weekend                 The Weekend  88rising   \n",
       "1                   Best Lover  Head In The Clouds Forever  88rising   \n",
       "2  Crazy Like You (feat. BIBI)            Bare&Rare, Pt. 1  CHUNG HA   \n",
       "3     froyo (feat. Warren Hue)  Head In The Clouds Forever  88rising   \n",
       "4                 These Nights                These Nights  88rising   \n",
       "\n",
       "                       featured release_date  length(ms)  popularity  \\\n",
       "0              [88rising, BIBI]   2021-10-14      167661          69   \n",
       "1              [88rising, BIBI]   2022-04-16      152910          66   \n",
       "2              [CHUNG HA, BIBI]   2022-07-11      175480          50   \n",
       "3  [88rising, BIBI, Rich Brian]   2022-04-16      309121          45   \n",
       "4        [88rising, Rich Brian]   2019-10-03      223006          41   \n",
       "\n",
       "   acousticness  danceability  energy  liveness    tempo  valence  num_artists  \n",
       "0      0.062000         0.784   0.521    0.0995  101.491    0.817            2  \n",
       "1      0.268000         0.740   0.663    0.1210   82.004    0.519            2  \n",
       "2      0.095700         0.536   0.639    0.2090  170.940    0.502            2  \n",
       "3      0.213000         0.508   0.688    0.1570  145.089    0.335            3  \n",
       "4      0.000317         0.656   0.673    0.2800   83.018    0.494            2  "
      ]
     },
     "execution_count": 4,
     "metadata": {},
     "output_type": "execute_result"
    }
   ],
   "source": [
    "# Tracks with collaborations from 88 Rising artists\n",
    "collabs_88_df = pd.read_json('./Datasets/collab_88rising.json')\n",
    "collabs_88_df.head()"
   ]
  },
  {
   "cell_type": "code",
   "execution_count": 5,
   "metadata": {},
   "outputs": [
    {
     "data": {
      "text/html": [
       "<div>\n",
       "<style scoped>\n",
       "    .dataframe tbody tr th:only-of-type {\n",
       "        vertical-align: middle;\n",
       "    }\n",
       "\n",
       "    .dataframe tbody tr th {\n",
       "        vertical-align: top;\n",
       "    }\n",
       "\n",
       "    .dataframe thead th {\n",
       "        text-align: right;\n",
       "    }\n",
       "</style>\n",
       "<table border=\"1\" class=\"dataframe\">\n",
       "  <thead>\n",
       "    <tr style=\"text-align: right;\">\n",
       "      <th></th>\n",
       "      <th>song name</th>\n",
       "      <th>album</th>\n",
       "      <th>artist</th>\n",
       "      <th>featured</th>\n",
       "      <th>release_date</th>\n",
       "      <th>length(ms)</th>\n",
       "      <th>popularity</th>\n",
       "      <th>acousticness</th>\n",
       "      <th>danceability</th>\n",
       "      <th>energy</th>\n",
       "      <th>liveness</th>\n",
       "      <th>tempo</th>\n",
       "      <th>valence</th>\n",
       "      <th>num_artists</th>\n",
       "    </tr>\n",
       "  </thead>\n",
       "  <tbody>\n",
       "    <tr>\n",
       "      <th>0</th>\n",
       "      <td>LAW (Prod. Czaer)</td>\n",
       "      <td>Street Man Fighter Original Vol.3 (Mission by ...</td>\n",
       "      <td>Various Artists</td>\n",
       "      <td>[Yoon Mirae, BIBI]</td>\n",
       "      <td>2022-09-06</td>\n",
       "      <td>189373</td>\n",
       "      <td>71</td>\n",
       "      <td>0.00857</td>\n",
       "      <td>0.756</td>\n",
       "      <td>0.900</td>\n",
       "      <td>0.2370</td>\n",
       "      <td>128.054</td>\n",
       "      <td>0.550</td>\n",
       "      <td>2</td>\n",
       "    </tr>\n",
       "    <tr>\n",
       "      <th>1</th>\n",
       "      <td>Never Gonna Come Down</td>\n",
       "      <td>Shang-Chi and The Legend of The Ten Rings: The...</td>\n",
       "      <td>88rising</td>\n",
       "      <td>[Mark Tuan, BIBI]</td>\n",
       "      <td>2021-09-03</td>\n",
       "      <td>203800</td>\n",
       "      <td>51</td>\n",
       "      <td>0.65600</td>\n",
       "      <td>0.777</td>\n",
       "      <td>0.689</td>\n",
       "      <td>0.0620</td>\n",
       "      <td>150.036</td>\n",
       "      <td>0.873</td>\n",
       "      <td>2</td>\n",
       "    </tr>\n",
       "    <tr>\n",
       "      <th>2</th>\n",
       "      <td>AUTOMATIC</td>\n",
       "      <td>AUTOMATIC</td>\n",
       "      <td>Various Artists</td>\n",
       "      <td>[Chancellor, Babylon, twlv]</td>\n",
       "      <td>2020-10-14</td>\n",
       "      <td>268293</td>\n",
       "      <td>51</td>\n",
       "      <td>0.13300</td>\n",
       "      <td>0.720</td>\n",
       "      <td>0.703</td>\n",
       "      <td>0.1210</td>\n",
       "      <td>99.999</td>\n",
       "      <td>0.492</td>\n",
       "      <td>3</td>\n",
       "    </tr>\n",
       "    <tr>\n",
       "      <th>3</th>\n",
       "      <td>Eleven (feat. BIBI)</td>\n",
       "      <td>Blueline</td>\n",
       "      <td>twlv</td>\n",
       "      <td>[twlv, BIBI]</td>\n",
       "      <td>2019-03-15</td>\n",
       "      <td>196520</td>\n",
       "      <td>46</td>\n",
       "      <td>0.14500</td>\n",
       "      <td>0.502</td>\n",
       "      <td>0.576</td>\n",
       "      <td>0.1700</td>\n",
       "      <td>89.897</td>\n",
       "      <td>0.205</td>\n",
       "      <td>2</td>\n",
       "    </tr>\n",
       "    <tr>\n",
       "      <th>4</th>\n",
       "      <td>Hanryang</td>\n",
       "      <td>Hanryang</td>\n",
       "      <td>Min Kyunghoon</td>\n",
       "      <td>[Min Kyunghoon, KIM HEECHUL, BIBI]</td>\n",
       "      <td>2020-12-19</td>\n",
       "      <td>202866</td>\n",
       "      <td>49</td>\n",
       "      <td>0.06050</td>\n",
       "      <td>0.698</td>\n",
       "      <td>0.729</td>\n",
       "      <td>0.0918</td>\n",
       "      <td>140.083</td>\n",
       "      <td>0.306</td>\n",
       "      <td>3</td>\n",
       "    </tr>\n",
       "  </tbody>\n",
       "</table>\n",
       "</div>"
      ],
      "text/plain": [
       "               song name                                              album  \\\n",
       "0      LAW (Prod. Czaer)  Street Man Fighter Original Vol.3 (Mission by ...   \n",
       "1  Never Gonna Come Down  Shang-Chi and The Legend of The Ten Rings: The...   \n",
       "2              AUTOMATIC                                          AUTOMATIC   \n",
       "3    Eleven (feat. BIBI)                                           Blueline   \n",
       "4               Hanryang                                           Hanryang   \n",
       "\n",
       "            artist                            featured release_date  \\\n",
       "0  Various Artists                  [Yoon Mirae, BIBI]   2022-09-06   \n",
       "1         88rising                   [Mark Tuan, BIBI]   2021-09-03   \n",
       "2  Various Artists         [Chancellor, Babylon, twlv]   2020-10-14   \n",
       "3             twlv                        [twlv, BIBI]   2019-03-15   \n",
       "4    Min Kyunghoon  [Min Kyunghoon, KIM HEECHUL, BIBI]   2020-12-19   \n",
       "\n",
       "   length(ms)  popularity  acousticness  danceability  energy  liveness  \\\n",
       "0      189373          71       0.00857         0.756   0.900    0.2370   \n",
       "1      203800          51       0.65600         0.777   0.689    0.0620   \n",
       "2      268293          51       0.13300         0.720   0.703    0.1210   \n",
       "3      196520          46       0.14500         0.502   0.576    0.1700   \n",
       "4      202866          49       0.06050         0.698   0.729    0.0918   \n",
       "\n",
       "     tempo  valence  num_artists  \n",
       "0  128.054    0.550            2  \n",
       "1  150.036    0.873            2  \n",
       "2   99.999    0.492            3  \n",
       "3   89.897    0.205            2  \n",
       "4  140.083    0.306            3  "
      ]
     },
     "execution_count": 5,
     "metadata": {},
     "output_type": "execute_result"
    }
   ],
   "source": [
    "# Collaborations with artists outside of 88 Rising\n",
    "collab_out_df = pd.read_json('./Datasets/collab_outside_artists.json')\n",
    "collab_out_df.head()"
   ]
  },
  {
   "cell_type": "markdown",
   "metadata": {},
   "source": [
    "## Collaboration Trends\n",
    "Explore the collaborations data to see if there is any effect on popularity. This will include tracks with collaborations with artists both part of 88 Rising and outside of 88 Rising\n",
    "- Does the number of artists in the collaboration effect song popularity?\n",
    "- Which artist collaborations are the most popular?\n"
   ]
  },
  {
   "cell_type": "code",
   "execution_count": 6,
   "metadata": {},
   "outputs": [
    {
     "data": {
      "text/html": [
       "<div>\n",
       "<style scoped>\n",
       "    .dataframe tbody tr th:only-of-type {\n",
       "        vertical-align: middle;\n",
       "    }\n",
       "\n",
       "    .dataframe tbody tr th {\n",
       "        vertical-align: top;\n",
       "    }\n",
       "\n",
       "    .dataframe thead th {\n",
       "        text-align: right;\n",
       "    }\n",
       "</style>\n",
       "<table border=\"1\" class=\"dataframe\">\n",
       "  <thead>\n",
       "    <tr style=\"text-align: right;\">\n",
       "      <th></th>\n",
       "      <th>song name</th>\n",
       "      <th>album</th>\n",
       "      <th>artist</th>\n",
       "      <th>featured</th>\n",
       "      <th>release_date</th>\n",
       "      <th>length(ms)</th>\n",
       "      <th>popularity</th>\n",
       "      <th>acousticness</th>\n",
       "      <th>danceability</th>\n",
       "      <th>energy</th>\n",
       "      <th>liveness</th>\n",
       "      <th>tempo</th>\n",
       "      <th>valence</th>\n",
       "      <th>num_artists</th>\n",
       "    </tr>\n",
       "  </thead>\n",
       "  <tbody>\n",
       "    <tr>\n",
       "      <th>0</th>\n",
       "      <td>The Weekend</td>\n",
       "      <td>The Weekend</td>\n",
       "      <td>88rising</td>\n",
       "      <td>[88rising, BIBI]</td>\n",
       "      <td>2021-10-14</td>\n",
       "      <td>167661</td>\n",
       "      <td>69</td>\n",
       "      <td>0.062000</td>\n",
       "      <td>0.784</td>\n",
       "      <td>0.521</td>\n",
       "      <td>0.0995</td>\n",
       "      <td>101.491</td>\n",
       "      <td>0.817</td>\n",
       "      <td>2</td>\n",
       "    </tr>\n",
       "    <tr>\n",
       "      <th>1</th>\n",
       "      <td>Best Lover</td>\n",
       "      <td>Head In The Clouds Forever</td>\n",
       "      <td>88rising</td>\n",
       "      <td>[88rising, BIBI]</td>\n",
       "      <td>2022-04-16</td>\n",
       "      <td>152910</td>\n",
       "      <td>66</td>\n",
       "      <td>0.268000</td>\n",
       "      <td>0.740</td>\n",
       "      <td>0.663</td>\n",
       "      <td>0.1210</td>\n",
       "      <td>82.004</td>\n",
       "      <td>0.519</td>\n",
       "      <td>2</td>\n",
       "    </tr>\n",
       "    <tr>\n",
       "      <th>2</th>\n",
       "      <td>Crazy Like You (feat. BIBI)</td>\n",
       "      <td>Bare&amp;Rare, Pt. 1</td>\n",
       "      <td>CHUNG HA</td>\n",
       "      <td>[CHUNG HA, BIBI]</td>\n",
       "      <td>2022-07-11</td>\n",
       "      <td>175480</td>\n",
       "      <td>50</td>\n",
       "      <td>0.095700</td>\n",
       "      <td>0.536</td>\n",
       "      <td>0.639</td>\n",
       "      <td>0.2090</td>\n",
       "      <td>170.940</td>\n",
       "      <td>0.502</td>\n",
       "      <td>2</td>\n",
       "    </tr>\n",
       "    <tr>\n",
       "      <th>3</th>\n",
       "      <td>froyo (feat. Warren Hue)</td>\n",
       "      <td>Head In The Clouds Forever</td>\n",
       "      <td>88rising</td>\n",
       "      <td>[88rising, BIBI, Rich Brian]</td>\n",
       "      <td>2022-04-16</td>\n",
       "      <td>309121</td>\n",
       "      <td>45</td>\n",
       "      <td>0.213000</td>\n",
       "      <td>0.508</td>\n",
       "      <td>0.688</td>\n",
       "      <td>0.1570</td>\n",
       "      <td>145.089</td>\n",
       "      <td>0.335</td>\n",
       "      <td>3</td>\n",
       "    </tr>\n",
       "    <tr>\n",
       "      <th>4</th>\n",
       "      <td>These Nights</td>\n",
       "      <td>These Nights</td>\n",
       "      <td>88rising</td>\n",
       "      <td>[88rising, Rich Brian]</td>\n",
       "      <td>2019-10-03</td>\n",
       "      <td>223006</td>\n",
       "      <td>41</td>\n",
       "      <td>0.000317</td>\n",
       "      <td>0.656</td>\n",
       "      <td>0.673</td>\n",
       "      <td>0.2800</td>\n",
       "      <td>83.018</td>\n",
       "      <td>0.494</td>\n",
       "      <td>2</td>\n",
       "    </tr>\n",
       "  </tbody>\n",
       "</table>\n",
       "</div>"
      ],
      "text/plain": [
       "                     song name                       album    artist  \\\n",
       "0                  The Weekend                 The Weekend  88rising   \n",
       "1                   Best Lover  Head In The Clouds Forever  88rising   \n",
       "2  Crazy Like You (feat. BIBI)            Bare&Rare, Pt. 1  CHUNG HA   \n",
       "3     froyo (feat. Warren Hue)  Head In The Clouds Forever  88rising   \n",
       "4                 These Nights                These Nights  88rising   \n",
       "\n",
       "                       featured release_date  length(ms)  popularity  \\\n",
       "0              [88rising, BIBI]   2021-10-14      167661          69   \n",
       "1              [88rising, BIBI]   2022-04-16      152910          66   \n",
       "2              [CHUNG HA, BIBI]   2022-07-11      175480          50   \n",
       "3  [88rising, BIBI, Rich Brian]   2022-04-16      309121          45   \n",
       "4        [88rising, Rich Brian]   2019-10-03      223006          41   \n",
       "\n",
       "   acousticness  danceability  energy  liveness    tempo  valence  num_artists  \n",
       "0      0.062000         0.784   0.521    0.0995  101.491    0.817            2  \n",
       "1      0.268000         0.740   0.663    0.1210   82.004    0.519            2  \n",
       "2      0.095700         0.536   0.639    0.2090  170.940    0.502            2  \n",
       "3      0.213000         0.508   0.688    0.1570  145.089    0.335            3  \n",
       "4      0.000317         0.656   0.673    0.2800   83.018    0.494            2  "
      ]
     },
     "execution_count": 6,
     "metadata": {},
     "output_type": "execute_result"
    }
   ],
   "source": [
    "# Combine 88 Rising solo, collabs and outside collabs data\n",
    "all_df = pd.concat([collabs_88_df, collab_out_df, solo_df], axis=0)\n",
    "all_df.head()"
   ]
  },
  {
   "cell_type": "code",
   "execution_count": 330,
   "metadata": {},
   "outputs": [
    {
     "name": "stdout",
     "output_type": "stream",
     "text": [
      "451 164 36 251\n"
     ]
    }
   ],
   "source": [
    "print(len(all_df), len(collab_out_df), len(collabs_88_df), len(solo_df))"
   ]
  },
  {
   "cell_type": "markdown",
   "metadata": {},
   "source": [
    "all_df consists of all data on 88rising. Need to add a column that indicates the amount of artists in each track."
   ]
  },
  {
   "cell_type": "code",
   "execution_count": 7,
   "metadata": {},
   "outputs": [
    {
     "data": {
      "text/html": [
       "<div>\n",
       "<style scoped>\n",
       "    .dataframe tbody tr th:only-of-type {\n",
       "        vertical-align: middle;\n",
       "    }\n",
       "\n",
       "    .dataframe tbody tr th {\n",
       "        vertical-align: top;\n",
       "    }\n",
       "\n",
       "    .dataframe thead th {\n",
       "        text-align: right;\n",
       "    }\n",
       "</style>\n",
       "<table border=\"1\" class=\"dataframe\">\n",
       "  <thead>\n",
       "    <tr style=\"text-align: right;\">\n",
       "      <th></th>\n",
       "      <th>song name</th>\n",
       "      <th>album</th>\n",
       "      <th>artist</th>\n",
       "      <th>featured</th>\n",
       "      <th>release_date</th>\n",
       "      <th>length(ms)</th>\n",
       "      <th>popularity</th>\n",
       "      <th>acousticness</th>\n",
       "      <th>danceability</th>\n",
       "      <th>energy</th>\n",
       "      <th>liveness</th>\n",
       "      <th>tempo</th>\n",
       "      <th>valence</th>\n",
       "      <th>num_artists</th>\n",
       "    </tr>\n",
       "  </thead>\n",
       "  <tbody>\n",
       "    <tr>\n",
       "      <th>0</th>\n",
       "      <td>The Weekend</td>\n",
       "      <td>The Weekend</td>\n",
       "      <td>88rising</td>\n",
       "      <td>[88rising, BIBI]</td>\n",
       "      <td>2021-10-14</td>\n",
       "      <td>167661</td>\n",
       "      <td>69</td>\n",
       "      <td>0.062000</td>\n",
       "      <td>0.784</td>\n",
       "      <td>0.521</td>\n",
       "      <td>0.0995</td>\n",
       "      <td>101.491</td>\n",
       "      <td>0.817</td>\n",
       "      <td>2</td>\n",
       "    </tr>\n",
       "    <tr>\n",
       "      <th>1</th>\n",
       "      <td>Best Lover</td>\n",
       "      <td>Head In The Clouds Forever</td>\n",
       "      <td>88rising</td>\n",
       "      <td>[88rising, BIBI]</td>\n",
       "      <td>2022-04-16</td>\n",
       "      <td>152910</td>\n",
       "      <td>66</td>\n",
       "      <td>0.268000</td>\n",
       "      <td>0.740</td>\n",
       "      <td>0.663</td>\n",
       "      <td>0.1210</td>\n",
       "      <td>82.004</td>\n",
       "      <td>0.519</td>\n",
       "      <td>2</td>\n",
       "    </tr>\n",
       "    <tr>\n",
       "      <th>2</th>\n",
       "      <td>Crazy Like You (feat. BIBI)</td>\n",
       "      <td>Bare&amp;Rare, Pt. 1</td>\n",
       "      <td>CHUNG HA</td>\n",
       "      <td>[CHUNG HA, BIBI]</td>\n",
       "      <td>2022-07-11</td>\n",
       "      <td>175480</td>\n",
       "      <td>50</td>\n",
       "      <td>0.095700</td>\n",
       "      <td>0.536</td>\n",
       "      <td>0.639</td>\n",
       "      <td>0.2090</td>\n",
       "      <td>170.940</td>\n",
       "      <td>0.502</td>\n",
       "      <td>2</td>\n",
       "    </tr>\n",
       "    <tr>\n",
       "      <th>3</th>\n",
       "      <td>froyo (feat. Warren Hue)</td>\n",
       "      <td>Head In The Clouds Forever</td>\n",
       "      <td>88rising</td>\n",
       "      <td>[88rising, BIBI, Rich Brian]</td>\n",
       "      <td>2022-04-16</td>\n",
       "      <td>309121</td>\n",
       "      <td>45</td>\n",
       "      <td>0.213000</td>\n",
       "      <td>0.508</td>\n",
       "      <td>0.688</td>\n",
       "      <td>0.1570</td>\n",
       "      <td>145.089</td>\n",
       "      <td>0.335</td>\n",
       "      <td>3</td>\n",
       "    </tr>\n",
       "    <tr>\n",
       "      <th>4</th>\n",
       "      <td>These Nights</td>\n",
       "      <td>These Nights</td>\n",
       "      <td>88rising</td>\n",
       "      <td>[88rising, Rich Brian]</td>\n",
       "      <td>2019-10-03</td>\n",
       "      <td>223006</td>\n",
       "      <td>41</td>\n",
       "      <td>0.000317</td>\n",
       "      <td>0.656</td>\n",
       "      <td>0.673</td>\n",
       "      <td>0.2800</td>\n",
       "      <td>83.018</td>\n",
       "      <td>0.494</td>\n",
       "      <td>2</td>\n",
       "    </tr>\n",
       "  </tbody>\n",
       "</table>\n",
       "</div>"
      ],
      "text/plain": [
       "                     song name                       album    artist  \\\n",
       "0                  The Weekend                 The Weekend  88rising   \n",
       "1                   Best Lover  Head In The Clouds Forever  88rising   \n",
       "2  Crazy Like You (feat. BIBI)            Bare&Rare, Pt. 1  CHUNG HA   \n",
       "3     froyo (feat. Warren Hue)  Head In The Clouds Forever  88rising   \n",
       "4                 These Nights                These Nights  88rising   \n",
       "\n",
       "                       featured release_date  length(ms)  popularity  \\\n",
       "0              [88rising, BIBI]   2021-10-14      167661          69   \n",
       "1              [88rising, BIBI]   2022-04-16      152910          66   \n",
       "2              [CHUNG HA, BIBI]   2022-07-11      175480          50   \n",
       "3  [88rising, BIBI, Rich Brian]   2022-04-16      309121          45   \n",
       "4        [88rising, Rich Brian]   2019-10-03      223006          41   \n",
       "\n",
       "   acousticness  danceability  energy  liveness    tempo  valence  num_artists  \n",
       "0      0.062000         0.784   0.521    0.0995  101.491    0.817            2  \n",
       "1      0.268000         0.740   0.663    0.1210   82.004    0.519            2  \n",
       "2      0.095700         0.536   0.639    0.2090  170.940    0.502            2  \n",
       "3      0.213000         0.508   0.688    0.1570  145.089    0.335            3  \n",
       "4      0.000317         0.656   0.673    0.2800   83.018    0.494            2  "
      ]
     },
     "execution_count": 7,
     "metadata": {},
     "output_type": "execute_result"
    }
   ],
   "source": [
    "all_df['num_artists'] = all_df['featured'].apply(lambda x: len(x))\n",
    "all_df.head()"
   ]
  },
  {
   "cell_type": "code",
   "execution_count": 332,
   "metadata": {},
   "outputs": [
    {
     "data": {
      "text/plain": [
       "array([2, 3, 1], dtype=int64)"
      ]
     },
     "execution_count": 332,
     "metadata": {},
     "output_type": "execute_result"
    }
   ],
   "source": [
    "all_df['num_artists'].unique()"
   ]
  },
  {
   "cell_type": "markdown",
   "metadata": {},
   "source": [
    "Create a column that specifies if the main artist is an 88rising artist. This value will be boolean (true or false)."
   ]
  },
  {
   "cell_type": "code",
   "execution_count": 8,
   "metadata": {},
   "outputs": [
    {
     "data": {
      "text/plain": [
       "['atarashii gakko!',\n",
       " 'bibi',\n",
       " 'chungha',\n",
       " 'dumbfoundead',\n",
       " 'guapdad 4000',\n",
       " 'higher brothers',\n",
       " 'jackson wang',\n",
       " 'joji',\n",
       " 'keith ape',\n",
       " 'lexie liu',\n",
       " 'milli',\n",
       " 'niki',\n",
       " 'rich brian',\n",
       " 'seori',\n",
       " 'stephanie poetri',\n",
       " 'warren hue',\n",
       " 'ylona garcia',\n",
       " 'chung ha',\n",
       " '88rising',\n",
       " 'mili']"
      ]
     },
     "execution_count": 8,
     "metadata": {},
     "output_type": "execute_result"
    }
   ],
   "source": [
    "lowercase_artists = [x.lower() for x in artists]\n",
    "lowercase_artists.append('chung ha')\n",
    "lowercase_artists.append('88rising')\n",
    "lowercase_artists.append('mili')\n",
    "lowercase_artists"
   ]
  },
  {
   "cell_type": "code",
   "execution_count": 9,
   "metadata": {},
   "outputs": [
    {
     "data": {
      "text/plain": [
       "[True, True, True, True, True, True, True, True, True, True]"
      ]
     },
     "execution_count": 9,
     "metadata": {},
     "output_type": "execute_result"
    }
   ],
   "source": [
    "in_88 = []\n",
    "for index, row in all_df.iterrows():\n",
    "    if row['artist'].lower() in lowercase_artists or row['artist'].lower() == '88rising' or row['artist'].lower() =='chung ha': # Chung Ha is mispelled in tracks csv\n",
    "        in_88.append(True)\n",
    "    else:\n",
    "        in_88.append(False)\n",
    "        \n",
    "in_88[0:10]"
   ]
  },
  {
   "cell_type": "code",
   "execution_count": 10,
   "metadata": {},
   "outputs": [
    {
     "data": {
      "text/html": [
       "<div>\n",
       "<style scoped>\n",
       "    .dataframe tbody tr th:only-of-type {\n",
       "        vertical-align: middle;\n",
       "    }\n",
       "\n",
       "    .dataframe tbody tr th {\n",
       "        vertical-align: top;\n",
       "    }\n",
       "\n",
       "    .dataframe thead th {\n",
       "        text-align: right;\n",
       "    }\n",
       "</style>\n",
       "<table border=\"1\" class=\"dataframe\">\n",
       "  <thead>\n",
       "    <tr style=\"text-align: right;\">\n",
       "      <th></th>\n",
       "      <th>song name</th>\n",
       "      <th>album</th>\n",
       "      <th>artist</th>\n",
       "      <th>featured</th>\n",
       "      <th>release_date</th>\n",
       "      <th>length(ms)</th>\n",
       "      <th>popularity</th>\n",
       "      <th>acousticness</th>\n",
       "      <th>danceability</th>\n",
       "      <th>energy</th>\n",
       "      <th>liveness</th>\n",
       "      <th>tempo</th>\n",
       "      <th>valence</th>\n",
       "      <th>num_artists</th>\n",
       "      <th>in_88rising</th>\n",
       "    </tr>\n",
       "  </thead>\n",
       "  <tbody>\n",
       "    <tr>\n",
       "      <th>0</th>\n",
       "      <td>The Weekend</td>\n",
       "      <td>The Weekend</td>\n",
       "      <td>88rising</td>\n",
       "      <td>[88rising, BIBI]</td>\n",
       "      <td>2021-10-14</td>\n",
       "      <td>167661</td>\n",
       "      <td>69</td>\n",
       "      <td>0.062000</td>\n",
       "      <td>0.784</td>\n",
       "      <td>0.521</td>\n",
       "      <td>0.0995</td>\n",
       "      <td>101.491</td>\n",
       "      <td>0.817</td>\n",
       "      <td>2</td>\n",
       "      <td>True</td>\n",
       "    </tr>\n",
       "    <tr>\n",
       "      <th>1</th>\n",
       "      <td>Best Lover</td>\n",
       "      <td>Head In The Clouds Forever</td>\n",
       "      <td>88rising</td>\n",
       "      <td>[88rising, BIBI]</td>\n",
       "      <td>2022-04-16</td>\n",
       "      <td>152910</td>\n",
       "      <td>66</td>\n",
       "      <td>0.268000</td>\n",
       "      <td>0.740</td>\n",
       "      <td>0.663</td>\n",
       "      <td>0.1210</td>\n",
       "      <td>82.004</td>\n",
       "      <td>0.519</td>\n",
       "      <td>2</td>\n",
       "      <td>True</td>\n",
       "    </tr>\n",
       "    <tr>\n",
       "      <th>2</th>\n",
       "      <td>Crazy Like You (feat. BIBI)</td>\n",
       "      <td>Bare&amp;Rare, Pt. 1</td>\n",
       "      <td>CHUNG HA</td>\n",
       "      <td>[CHUNG HA, BIBI]</td>\n",
       "      <td>2022-07-11</td>\n",
       "      <td>175480</td>\n",
       "      <td>50</td>\n",
       "      <td>0.095700</td>\n",
       "      <td>0.536</td>\n",
       "      <td>0.639</td>\n",
       "      <td>0.2090</td>\n",
       "      <td>170.940</td>\n",
       "      <td>0.502</td>\n",
       "      <td>2</td>\n",
       "      <td>True</td>\n",
       "    </tr>\n",
       "    <tr>\n",
       "      <th>3</th>\n",
       "      <td>froyo (feat. Warren Hue)</td>\n",
       "      <td>Head In The Clouds Forever</td>\n",
       "      <td>88rising</td>\n",
       "      <td>[88rising, BIBI, Rich Brian]</td>\n",
       "      <td>2022-04-16</td>\n",
       "      <td>309121</td>\n",
       "      <td>45</td>\n",
       "      <td>0.213000</td>\n",
       "      <td>0.508</td>\n",
       "      <td>0.688</td>\n",
       "      <td>0.1570</td>\n",
       "      <td>145.089</td>\n",
       "      <td>0.335</td>\n",
       "      <td>3</td>\n",
       "      <td>True</td>\n",
       "    </tr>\n",
       "    <tr>\n",
       "      <th>4</th>\n",
       "      <td>These Nights</td>\n",
       "      <td>These Nights</td>\n",
       "      <td>88rising</td>\n",
       "      <td>[88rising, Rich Brian]</td>\n",
       "      <td>2019-10-03</td>\n",
       "      <td>223006</td>\n",
       "      <td>41</td>\n",
       "      <td>0.000317</td>\n",
       "      <td>0.656</td>\n",
       "      <td>0.673</td>\n",
       "      <td>0.2800</td>\n",
       "      <td>83.018</td>\n",
       "      <td>0.494</td>\n",
       "      <td>2</td>\n",
       "      <td>True</td>\n",
       "    </tr>\n",
       "  </tbody>\n",
       "</table>\n",
       "</div>"
      ],
      "text/plain": [
       "                     song name                       album    artist  \\\n",
       "0                  The Weekend                 The Weekend  88rising   \n",
       "1                   Best Lover  Head In The Clouds Forever  88rising   \n",
       "2  Crazy Like You (feat. BIBI)            Bare&Rare, Pt. 1  CHUNG HA   \n",
       "3     froyo (feat. Warren Hue)  Head In The Clouds Forever  88rising   \n",
       "4                 These Nights                These Nights  88rising   \n",
       "\n",
       "                       featured release_date  length(ms)  popularity  \\\n",
       "0              [88rising, BIBI]   2021-10-14      167661          69   \n",
       "1              [88rising, BIBI]   2022-04-16      152910          66   \n",
       "2              [CHUNG HA, BIBI]   2022-07-11      175480          50   \n",
       "3  [88rising, BIBI, Rich Brian]   2022-04-16      309121          45   \n",
       "4        [88rising, Rich Brian]   2019-10-03      223006          41   \n",
       "\n",
       "   acousticness  danceability  energy  liveness    tempo  valence  \\\n",
       "0      0.062000         0.784   0.521    0.0995  101.491    0.817   \n",
       "1      0.268000         0.740   0.663    0.1210   82.004    0.519   \n",
       "2      0.095700         0.536   0.639    0.2090  170.940    0.502   \n",
       "3      0.213000         0.508   0.688    0.1570  145.089    0.335   \n",
       "4      0.000317         0.656   0.673    0.2800   83.018    0.494   \n",
       "\n",
       "   num_artists  in_88rising  \n",
       "0            2         True  \n",
       "1            2         True  \n",
       "2            2         True  \n",
       "3            3         True  \n",
       "4            2         True  "
      ]
     },
     "execution_count": 10,
     "metadata": {},
     "output_type": "execute_result"
    }
   ],
   "source": [
    "all_df['in_88rising'] = in_88\n",
    "all_df.head()"
   ]
  },
  {
   "cell_type": "code",
   "execution_count": 343,
   "metadata": {},
   "outputs": [
    {
     "data": {
      "text/html": [
       "<div>\n",
       "<style scoped>\n",
       "    .dataframe tbody tr th:only-of-type {\n",
       "        vertical-align: middle;\n",
       "    }\n",
       "\n",
       "    .dataframe tbody tr th {\n",
       "        vertical-align: top;\n",
       "    }\n",
       "\n",
       "    .dataframe thead th {\n",
       "        text-align: right;\n",
       "    }\n",
       "</style>\n",
       "<table border=\"1\" class=\"dataframe\">\n",
       "  <thead>\n",
       "    <tr style=\"text-align: right;\">\n",
       "      <th></th>\n",
       "      <th>song name</th>\n",
       "      <th>album</th>\n",
       "      <th>artist</th>\n",
       "      <th>featured</th>\n",
       "      <th>release_date</th>\n",
       "      <th>length(ms)</th>\n",
       "      <th>popularity</th>\n",
       "      <th>acousticness</th>\n",
       "      <th>danceability</th>\n",
       "      <th>energy</th>\n",
       "      <th>liveness</th>\n",
       "      <th>tempo</th>\n",
       "      <th>valence</th>\n",
       "      <th>num_artists</th>\n",
       "      <th>in_88rising</th>\n",
       "    </tr>\n",
       "  </thead>\n",
       "  <tbody>\n",
       "    <tr>\n",
       "      <th>0</th>\n",
       "      <td>LAW (Prod. Czaer)</td>\n",
       "      <td>Street Man Fighter Original Vol.3 (Mission by ...</td>\n",
       "      <td>Various Artists</td>\n",
       "      <td>[Yoon Mirae, BIBI]</td>\n",
       "      <td>2022-09-06</td>\n",
       "      <td>189373</td>\n",
       "      <td>71</td>\n",
       "      <td>0.00857</td>\n",
       "      <td>0.756</td>\n",
       "      <td>0.900</td>\n",
       "      <td>0.2370</td>\n",
       "      <td>128.054</td>\n",
       "      <td>0.550</td>\n",
       "      <td>2</td>\n",
       "      <td>False</td>\n",
       "    </tr>\n",
       "    <tr>\n",
       "      <th>2</th>\n",
       "      <td>AUTOMATIC</td>\n",
       "      <td>AUTOMATIC</td>\n",
       "      <td>Various Artists</td>\n",
       "      <td>[Chancellor, Babylon, twlv]</td>\n",
       "      <td>2020-10-14</td>\n",
       "      <td>268293</td>\n",
       "      <td>51</td>\n",
       "      <td>0.13300</td>\n",
       "      <td>0.720</td>\n",
       "      <td>0.703</td>\n",
       "      <td>0.1210</td>\n",
       "      <td>99.999</td>\n",
       "      <td>0.492</td>\n",
       "      <td>3</td>\n",
       "      <td>False</td>\n",
       "    </tr>\n",
       "    <tr>\n",
       "      <th>3</th>\n",
       "      <td>Eleven (feat. BIBI)</td>\n",
       "      <td>Blueline</td>\n",
       "      <td>twlv</td>\n",
       "      <td>[twlv, BIBI]</td>\n",
       "      <td>2019-03-15</td>\n",
       "      <td>196520</td>\n",
       "      <td>46</td>\n",
       "      <td>0.14500</td>\n",
       "      <td>0.502</td>\n",
       "      <td>0.576</td>\n",
       "      <td>0.1700</td>\n",
       "      <td>89.897</td>\n",
       "      <td>0.205</td>\n",
       "      <td>2</td>\n",
       "      <td>False</td>\n",
       "    </tr>\n",
       "    <tr>\n",
       "      <th>4</th>\n",
       "      <td>Hanryang</td>\n",
       "      <td>Hanryang</td>\n",
       "      <td>Min Kyunghoon</td>\n",
       "      <td>[Min Kyunghoon, KIM HEECHUL, BIBI]</td>\n",
       "      <td>2020-12-19</td>\n",
       "      <td>202866</td>\n",
       "      <td>49</td>\n",
       "      <td>0.06050</td>\n",
       "      <td>0.698</td>\n",
       "      <td>0.729</td>\n",
       "      <td>0.0918</td>\n",
       "      <td>140.083</td>\n",
       "      <td>0.306</td>\n",
       "      <td>3</td>\n",
       "      <td>False</td>\n",
       "    </tr>\n",
       "    <tr>\n",
       "      <th>5</th>\n",
       "      <td>She Said (with BIBI)</td>\n",
       "      <td>with HER</td>\n",
       "      <td>Crush</td>\n",
       "      <td>[Crush, BIBI]</td>\n",
       "      <td>2020-10-20</td>\n",
       "      <td>208786</td>\n",
       "      <td>46</td>\n",
       "      <td>0.31300</td>\n",
       "      <td>0.685</td>\n",
       "      <td>0.655</td>\n",
       "      <td>0.1020</td>\n",
       "      <td>142.087</td>\n",
       "      <td>0.574</td>\n",
       "      <td>2</td>\n",
       "      <td>False</td>\n",
       "    </tr>\n",
       "    <tr>\n",
       "      <th>...</th>\n",
       "      <td>...</td>\n",
       "      <td>...</td>\n",
       "      <td>...</td>\n",
       "      <td>...</td>\n",
       "      <td>...</td>\n",
       "      <td>...</td>\n",
       "      <td>...</td>\n",
       "      <td>...</td>\n",
       "      <td>...</td>\n",
       "      <td>...</td>\n",
       "      <td>...</td>\n",
       "      <td>...</td>\n",
       "      <td>...</td>\n",
       "      <td>...</td>\n",
       "      <td>...</td>\n",
       "    </tr>\n",
       "    <tr>\n",
       "      <th>143</th>\n",
       "      <td>COMING HOME (feat. NIKI)</td>\n",
       "      <td>LETâS JUST SAY THE WORLD ENDED A WEEK FROM N...</td>\n",
       "      <td>HONNE</td>\n",
       "      <td>[HONNE, NIKI]</td>\n",
       "      <td>2021-10-22</td>\n",
       "      <td>210019</td>\n",
       "      <td>58</td>\n",
       "      <td>0.17000</td>\n",
       "      <td>0.826</td>\n",
       "      <td>0.329</td>\n",
       "      <td>0.0927</td>\n",
       "      <td>106.935</td>\n",
       "      <td>0.558</td>\n",
       "      <td>2</td>\n",
       "      <td>False</td>\n",
       "    </tr>\n",
       "    <tr>\n",
       "      <th>148</th>\n",
       "      <td>Forever (feat. NIKI)</td>\n",
       "      <td>Chameleon</td>\n",
       "      <td>End of the World</td>\n",
       "      <td>[End of the World, NIKI]</td>\n",
       "      <td>2020-11-27</td>\n",
       "      <td>176186</td>\n",
       "      <td>34</td>\n",
       "      <td>0.25800</td>\n",
       "      <td>0.582</td>\n",
       "      <td>0.762</td>\n",
       "      <td>0.3640</td>\n",
       "      <td>81.009</td>\n",
       "      <td>0.372</td>\n",
       "      <td>2</td>\n",
       "      <td>False</td>\n",
       "    </tr>\n",
       "    <tr>\n",
       "      <th>152</th>\n",
       "      <td>edamame (feat. Rich Brian)</td>\n",
       "      <td>edamame (feat. Rich Brian)</td>\n",
       "      <td>bbno$</td>\n",
       "      <td>[bbno$, Rich Brian]</td>\n",
       "      <td>2021-07-24</td>\n",
       "      <td>133706</td>\n",
       "      <td>75</td>\n",
       "      <td>0.02300</td>\n",
       "      <td>0.815</td>\n",
       "      <td>0.848</td>\n",
       "      <td>0.0265</td>\n",
       "      <td>106.032</td>\n",
       "      <td>0.684</td>\n",
       "      <td>2</td>\n",
       "      <td>False</td>\n",
       "    </tr>\n",
       "    <tr>\n",
       "      <th>159</th>\n",
       "      <td>18</td>\n",
       "      <td>18</td>\n",
       "      <td>Various Artists</td>\n",
       "      <td>[Kris Wu, Rich Brian, Trippie Redd]</td>\n",
       "      <td>2018-01-16</td>\n",
       "      <td>254507</td>\n",
       "      <td>46</td>\n",
       "      <td>0.18300</td>\n",
       "      <td>0.632</td>\n",
       "      <td>0.629</td>\n",
       "      <td>0.3440</td>\n",
       "      <td>179.882</td>\n",
       "      <td>0.207</td>\n",
       "      <td>3</td>\n",
       "      <td>False</td>\n",
       "    </tr>\n",
       "    <tr>\n",
       "      <th>163</th>\n",
       "      <td>Bimbang</td>\n",
       "      <td>Bimbang</td>\n",
       "      <td>Goodbye Felicia</td>\n",
       "      <td>[Goodbye Felicia, Stephanie Poetri]</td>\n",
       "      <td>2015-12-15</td>\n",
       "      <td>203533</td>\n",
       "      <td>43</td>\n",
       "      <td>0.12500</td>\n",
       "      <td>0.455</td>\n",
       "      <td>0.619</td>\n",
       "      <td>0.1010</td>\n",
       "      <td>86.396</td>\n",
       "      <td>0.470</td>\n",
       "      <td>2</td>\n",
       "      <td>False</td>\n",
       "    </tr>\n",
       "  </tbody>\n",
       "</table>\n",
       "<p>92 rows × 15 columns</p>\n",
       "</div>"
      ],
      "text/plain": [
       "                      song name  \\\n",
       "0             LAW (Prod. Czaer)   \n",
       "2                     AUTOMATIC   \n",
       "3           Eleven (feat. BIBI)   \n",
       "4                      Hanryang   \n",
       "5          She Said (with BIBI)   \n",
       "..                          ...   \n",
       "143    COMING HOME (feat. NIKI)   \n",
       "148        Forever (feat. NIKI)   \n",
       "152  edamame (feat. Rich Brian)   \n",
       "159                          18   \n",
       "163                     Bimbang   \n",
       "\n",
       "                                                 album            artist  \\\n",
       "0    Street Man Fighter Original Vol.3 (Mission by ...   Various Artists   \n",
       "2                                            AUTOMATIC   Various Artists   \n",
       "3                                             Blueline              twlv   \n",
       "4                                             Hanryang     Min Kyunghoon   \n",
       "5                                             with HER             Crush   \n",
       "..                                                 ...               ...   \n",
       "143  LETâS JUST SAY THE WORLD ENDED A WEEK FROM N...             HONNE   \n",
       "148                                          Chameleon  End of the World   \n",
       "152                         edamame (feat. Rich Brian)             bbno$   \n",
       "159                                                 18   Various Artists   \n",
       "163                                            Bimbang   Goodbye Felicia   \n",
       "\n",
       "                                featured release_date  length(ms)  popularity  \\\n",
       "0                     [Yoon Mirae, BIBI]   2022-09-06      189373          71   \n",
       "2            [Chancellor, Babylon, twlv]   2020-10-14      268293          51   \n",
       "3                           [twlv, BIBI]   2019-03-15      196520          46   \n",
       "4     [Min Kyunghoon, KIM HEECHUL, BIBI]   2020-12-19      202866          49   \n",
       "5                          [Crush, BIBI]   2020-10-20      208786          46   \n",
       "..                                   ...          ...         ...         ...   \n",
       "143                        [HONNE, NIKI]   2021-10-22      210019          58   \n",
       "148             [End of the World, NIKI]   2020-11-27      176186          34   \n",
       "152                  [bbno$, Rich Brian]   2021-07-24      133706          75   \n",
       "159  [Kris Wu, Rich Brian, Trippie Redd]   2018-01-16      254507          46   \n",
       "163  [Goodbye Felicia, Stephanie Poetri]   2015-12-15      203533          43   \n",
       "\n",
       "     acousticness  danceability  energy  liveness    tempo  valence  \\\n",
       "0         0.00857         0.756   0.900    0.2370  128.054    0.550   \n",
       "2         0.13300         0.720   0.703    0.1210   99.999    0.492   \n",
       "3         0.14500         0.502   0.576    0.1700   89.897    0.205   \n",
       "4         0.06050         0.698   0.729    0.0918  140.083    0.306   \n",
       "5         0.31300         0.685   0.655    0.1020  142.087    0.574   \n",
       "..            ...           ...     ...       ...      ...      ...   \n",
       "143       0.17000         0.826   0.329    0.0927  106.935    0.558   \n",
       "148       0.25800         0.582   0.762    0.3640   81.009    0.372   \n",
       "152       0.02300         0.815   0.848    0.0265  106.032    0.684   \n",
       "159       0.18300         0.632   0.629    0.3440  179.882    0.207   \n",
       "163       0.12500         0.455   0.619    0.1010   86.396    0.470   \n",
       "\n",
       "     num_artists  in_88rising  \n",
       "0              2        False  \n",
       "2              3        False  \n",
       "3              2        False  \n",
       "4              3        False  \n",
       "5              2        False  \n",
       "..           ...          ...  \n",
       "143            2        False  \n",
       "148            2        False  \n",
       "152            2        False  \n",
       "159            3        False  \n",
       "163            2        False  \n",
       "\n",
       "[92 rows x 15 columns]"
      ]
     },
     "execution_count": 343,
     "metadata": {},
     "output_type": "execute_result"
    }
   ],
   "source": [
    "all_df.loc[all_df['in_88rising']==False]"
   ]
  },
  {
   "cell_type": "markdown",
   "metadata": {},
   "source": [
    "Duplicate tracks to represent for each featured artist"
   ]
  },
  {
   "cell_type": "code",
   "execution_count": 344,
   "metadata": {},
   "outputs": [
    {
     "data": {
      "text/html": [
       "<div>\n",
       "<style scoped>\n",
       "    .dataframe tbody tr th:only-of-type {\n",
       "        vertical-align: middle;\n",
       "    }\n",
       "\n",
       "    .dataframe tbody tr th {\n",
       "        vertical-align: top;\n",
       "    }\n",
       "\n",
       "    .dataframe thead th {\n",
       "        text-align: right;\n",
       "    }\n",
       "</style>\n",
       "<table border=\"1\" class=\"dataframe\">\n",
       "  <thead>\n",
       "    <tr style=\"text-align: right;\">\n",
       "      <th></th>\n",
       "      <th>song name</th>\n",
       "      <th>album</th>\n",
       "      <th>artist</th>\n",
       "      <th>featured</th>\n",
       "      <th>featured_artist</th>\n",
       "      <th>release_date</th>\n",
       "      <th>length(ms)</th>\n",
       "      <th>popularity</th>\n",
       "      <th>acousticness</th>\n",
       "      <th>danceability</th>\n",
       "      <th>energy</th>\n",
       "      <th>liveness</th>\n",
       "      <th>tempo</th>\n",
       "      <th>valence</th>\n",
       "      <th>num_artists</th>\n",
       "      <th>in_88rising</th>\n",
       "    </tr>\n",
       "  </thead>\n",
       "  <tbody>\n",
       "    <tr>\n",
       "      <th>0</th>\n",
       "      <td>The Weekend</td>\n",
       "      <td>The Weekend</td>\n",
       "      <td>88rising</td>\n",
       "      <td>[88rising, BIBI]</td>\n",
       "      <td></td>\n",
       "      <td>2021-10-14</td>\n",
       "      <td>167661</td>\n",
       "      <td>69</td>\n",
       "      <td>0.062000</td>\n",
       "      <td>0.784</td>\n",
       "      <td>0.521</td>\n",
       "      <td>0.0995</td>\n",
       "      <td>101.491</td>\n",
       "      <td>0.817</td>\n",
       "      <td>2</td>\n",
       "      <td>True</td>\n",
       "    </tr>\n",
       "    <tr>\n",
       "      <th>1</th>\n",
       "      <td>Best Lover</td>\n",
       "      <td>Head In The Clouds Forever</td>\n",
       "      <td>88rising</td>\n",
       "      <td>[88rising, BIBI]</td>\n",
       "      <td></td>\n",
       "      <td>2022-04-16</td>\n",
       "      <td>152910</td>\n",
       "      <td>66</td>\n",
       "      <td>0.268000</td>\n",
       "      <td>0.740</td>\n",
       "      <td>0.663</td>\n",
       "      <td>0.1210</td>\n",
       "      <td>82.004</td>\n",
       "      <td>0.519</td>\n",
       "      <td>2</td>\n",
       "      <td>True</td>\n",
       "    </tr>\n",
       "    <tr>\n",
       "      <th>2</th>\n",
       "      <td>Crazy Like You (feat. BIBI)</td>\n",
       "      <td>Bare&amp;Rare, Pt. 1</td>\n",
       "      <td>CHUNG HA</td>\n",
       "      <td>[CHUNG HA, BIBI]</td>\n",
       "      <td></td>\n",
       "      <td>2022-07-11</td>\n",
       "      <td>175480</td>\n",
       "      <td>50</td>\n",
       "      <td>0.095700</td>\n",
       "      <td>0.536</td>\n",
       "      <td>0.639</td>\n",
       "      <td>0.2090</td>\n",
       "      <td>170.940</td>\n",
       "      <td>0.502</td>\n",
       "      <td>2</td>\n",
       "      <td>True</td>\n",
       "    </tr>\n",
       "    <tr>\n",
       "      <th>3</th>\n",
       "      <td>froyo (feat. Warren Hue)</td>\n",
       "      <td>Head In The Clouds Forever</td>\n",
       "      <td>88rising</td>\n",
       "      <td>[88rising, BIBI, Rich Brian]</td>\n",
       "      <td></td>\n",
       "      <td>2022-04-16</td>\n",
       "      <td>309121</td>\n",
       "      <td>45</td>\n",
       "      <td>0.213000</td>\n",
       "      <td>0.508</td>\n",
       "      <td>0.688</td>\n",
       "      <td>0.1570</td>\n",
       "      <td>145.089</td>\n",
       "      <td>0.335</td>\n",
       "      <td>3</td>\n",
       "      <td>True</td>\n",
       "    </tr>\n",
       "    <tr>\n",
       "      <th>4</th>\n",
       "      <td>These Nights</td>\n",
       "      <td>These Nights</td>\n",
       "      <td>88rising</td>\n",
       "      <td>[88rising, Rich Brian]</td>\n",
       "      <td></td>\n",
       "      <td>2019-10-03</td>\n",
       "      <td>223006</td>\n",
       "      <td>41</td>\n",
       "      <td>0.000317</td>\n",
       "      <td>0.656</td>\n",
       "      <td>0.673</td>\n",
       "      <td>0.2800</td>\n",
       "      <td>83.018</td>\n",
       "      <td>0.494</td>\n",
       "      <td>2</td>\n",
       "      <td>True</td>\n",
       "    </tr>\n",
       "  </tbody>\n",
       "</table>\n",
       "</div>"
      ],
      "text/plain": [
       "                     song name                       album    artist  \\\n",
       "0                  The Weekend                 The Weekend  88rising   \n",
       "1                   Best Lover  Head In The Clouds Forever  88rising   \n",
       "2  Crazy Like You (feat. BIBI)            Bare&Rare, Pt. 1  CHUNG HA   \n",
       "3     froyo (feat. Warren Hue)  Head In The Clouds Forever  88rising   \n",
       "4                 These Nights                These Nights  88rising   \n",
       "\n",
       "                       featured featured_artist release_date  length(ms)  \\\n",
       "0              [88rising, BIBI]                   2021-10-14      167661   \n",
       "1              [88rising, BIBI]                   2022-04-16      152910   \n",
       "2              [CHUNG HA, BIBI]                   2022-07-11      175480   \n",
       "3  [88rising, BIBI, Rich Brian]                   2022-04-16      309121   \n",
       "4        [88rising, Rich Brian]                   2019-10-03      223006   \n",
       "\n",
       "   popularity  acousticness  danceability  energy  liveness    tempo  valence  \\\n",
       "0          69      0.062000         0.784   0.521    0.0995  101.491    0.817   \n",
       "1          66      0.268000         0.740   0.663    0.1210   82.004    0.519   \n",
       "2          50      0.095700         0.536   0.639    0.2090  170.940    0.502   \n",
       "3          45      0.213000         0.508   0.688    0.1570  145.089    0.335   \n",
       "4          41      0.000317         0.656   0.673    0.2800   83.018    0.494   \n",
       "\n",
       "   num_artists  in_88rising  \n",
       "0            2         True  \n",
       "1            2         True  \n",
       "2            2         True  \n",
       "3            3         True  \n",
       "4            2         True  "
      ]
     },
     "execution_count": 344,
     "metadata": {},
     "output_type": "execute_result"
    }
   ],
   "source": [
    "# Duplicate rows based on the amount of featured artists and fill in the featured_artist column\n",
    "dup_all_df = all_df.copy()\n",
    "dup_all_df.insert(4, 'featured_artist', \"\")\n",
    "for index, row in all_df.iterrows():\n",
    "    for a in row['featured']:\n",
    "        add_index = max(dup_all_df.index)+1\n",
    "        dup_all_df.loc[add_index] = row\n",
    "        dup_all_df.loc[dup_all_df.index == add_index, 'featured_artist'] = a\n",
    "dup_all_df.head()"
   ]
  },
  {
   "cell_type": "code",
   "execution_count": 345,
   "metadata": {},
   "outputs": [],
   "source": [
    "# Drop all rows where featured_artist is missing\n",
    "no_na_all_df = dup_all_df.drop(dup_all_df.loc[dup_all_df['featured_artist']==\"\"].index)\n"
   ]
  },
  {
   "cell_type": "code",
   "execution_count": 348,
   "metadata": {},
   "outputs": [
    {
     "name": "stdout",
     "output_type": "stream",
     "text": [
      "717 1168\n"
     ]
    }
   ],
   "source": [
    "print(len(no_na_all_df), len(dup_all_df))"
   ]
  },
  {
   "cell_type": "markdown",
   "metadata": {},
   "source": [
    "Save this new dataset as a JSON"
   ]
  },
  {
   "cell_type": "code",
   "execution_count": 370,
   "metadata": {},
   "outputs": [],
   "source": [
    "all_dict = no_na_all_df.to_dict(\"records\")\n",
    "# Save dictionary into a JSON\n",
    "with open(\"./Datasets/all_collabs.json\", \"w\") as outfile:\n",
    "    json.dump(all_dict, outfile, indent=4)"
   ]
  },
  {
   "cell_type": "markdown",
   "metadata": {},
   "source": [
    "### Number of Artists per song and track popularity\n",
    "A bar plot of the number of artists featured in a song and the song popularity. (Note: 88rising will be considered as one artist)"
   ]
  },
  {
   "cell_type": "code",
   "execution_count": 32,
   "metadata": {},
   "outputs": [
    {
     "data": {
      "text/html": [
       "<div>\n",
       "<style scoped>\n",
       "    .dataframe tbody tr th:only-of-type {\n",
       "        vertical-align: middle;\n",
       "    }\n",
       "\n",
       "    .dataframe tbody tr th {\n",
       "        vertical-align: top;\n",
       "    }\n",
       "\n",
       "    .dataframe thead th {\n",
       "        text-align: right;\n",
       "    }\n",
       "</style>\n",
       "<table border=\"1\" class=\"dataframe\">\n",
       "  <thead>\n",
       "    <tr style=\"text-align: right;\">\n",
       "      <th></th>\n",
       "      <th>length(ms)</th>\n",
       "      <th>popularity</th>\n",
       "      <th>acousticness</th>\n",
       "      <th>danceability</th>\n",
       "      <th>energy</th>\n",
       "      <th>liveness</th>\n",
       "      <th>tempo</th>\n",
       "      <th>valence</th>\n",
       "    </tr>\n",
       "    <tr>\n",
       "      <th>num_artists</th>\n",
       "      <th></th>\n",
       "      <th></th>\n",
       "      <th></th>\n",
       "      <th></th>\n",
       "      <th></th>\n",
       "      <th></th>\n",
       "      <th></th>\n",
       "      <th></th>\n",
       "    </tr>\n",
       "  </thead>\n",
       "  <tbody>\n",
       "    <tr>\n",
       "      <th>1</th>\n",
       "      <td>192300.314741</td>\n",
       "      <td>44.816733</td>\n",
       "      <td>0.385745</td>\n",
       "      <td>0.644884</td>\n",
       "      <td>0.583283</td>\n",
       "      <td>0.157935</td>\n",
       "      <td>122.583339</td>\n",
       "      <td>0.452216</td>\n",
       "    </tr>\n",
       "    <tr>\n",
       "      <th>2</th>\n",
       "      <td>191548.149254</td>\n",
       "      <td>43.395522</td>\n",
       "      <td>0.290008</td>\n",
       "      <td>0.702612</td>\n",
       "      <td>0.609897</td>\n",
       "      <td>0.170300</td>\n",
       "      <td>120.191045</td>\n",
       "      <td>0.499397</td>\n",
       "    </tr>\n",
       "    <tr>\n",
       "      <th>3</th>\n",
       "      <td>211788.090909</td>\n",
       "      <td>44.060606</td>\n",
       "      <td>0.274708</td>\n",
       "      <td>0.726061</td>\n",
       "      <td>0.655682</td>\n",
       "      <td>0.152873</td>\n",
       "      <td>119.776152</td>\n",
       "      <td>0.446202</td>\n",
       "    </tr>\n",
       "  </tbody>\n",
       "</table>\n",
       "</div>"
      ],
      "text/plain": [
       "                length(ms)  popularity  acousticness  danceability    energy  \\\n",
       "num_artists                                                                    \n",
       "1            192300.314741   44.816733      0.385745      0.644884  0.583283   \n",
       "2            191548.149254   43.395522      0.290008      0.702612  0.609897   \n",
       "3            211788.090909   44.060606      0.274708      0.726061  0.655682   \n",
       "\n",
       "             liveness       tempo   valence  \n",
       "num_artists                                  \n",
       "1            0.157935  122.583339  0.452216  \n",
       "2            0.170300  120.191045  0.499397  \n",
       "3            0.152873  119.776152  0.446202  "
      ]
     },
     "execution_count": 32,
     "metadata": {},
     "output_type": "execute_result"
    }
   ],
   "source": [
    "# Group data by number of artists and taking the average of the popularity and audio features\n",
    "num_art_grp = all_df.groupby(\"num_artists\")\n",
    "num_art_grp=num_art_grp.mean()\n",
    "num_art_grp.head()"
   ]
  },
  {
   "cell_type": "code",
   "execution_count": 37,
   "metadata": {},
   "outputs": [
    {
     "data": {
      "text/plain": [
       "Int64Index([1, 2, 3], dtype='int64', name='num_artists')"
      ]
     },
     "execution_count": 37,
     "metadata": {},
     "output_type": "execute_result"
    }
   ],
   "source": [
    "num_art_grp.index"
   ]
  },
  {
   "cell_type": "code",
   "execution_count": 68,
   "metadata": {},
   "outputs": [
    {
     "data": {
      "application/vnd.plotly.v1+json": {
       "config": {
        "plotlyServerURL": "https://plot.ly"
       },
       "data": [
        {
         "alignmentgroup": "True",
         "customdata": [
          [
           192300.31474103587,
           0.38574462151394423,
           0.6448844621513945,
           0.5832828685258964,
           0.1579346613545817,
           122.58333864541834,
           0.4522155378486056
          ],
          [
           191548.14925373133,
           0.29000800746268657,
           0.7026119402985075,
           0.6098970149253732,
           0.1703,
           120.19104477611941,
           0.49939701492537314
          ],
          [
           211788.0909090909,
           0.27470781818181816,
           0.7260606060606061,
           0.6556818181818181,
           0.15287272727272727,
           119.77615151515151,
           0.4462015151515152
          ]
         ],
         "hovertemplate": "Number of Artists=%{x}<br>Average Popularity=%{y:.2f}<br>length(ms)=%{customdata[0]:.2f}<br>acousticness=%{customdata[1]:.2f}<br>danceability=%{customdata[2]:.2f}<br>energy=%{customdata[3]:.2f}<br>liveness=%{customdata[4]:.2f}<br>tempo=%{customdata[5]:.2f}<br>valence=%{customdata[6]:.2f}<extra></extra>",
         "legendgroup": "",
         "marker": {
          "color": "#636efa",
          "pattern": {
           "shape": ""
          }
         },
         "name": "",
         "offsetgroup": "",
         "orientation": "v",
         "showlegend": false,
         "textposition": "auto",
         "type": "bar",
         "x": [
          1,
          2,
          3
         ],
         "xaxis": "x",
         "y": [
          44.81673306772908,
          43.3955223880597,
          44.06060606060606
         ],
         "yaxis": "y"
        }
       ],
       "layout": {
        "barmode": "relative",
        "legend": {
         "tracegroupgap": 0
        },
        "template": {
         "data": {
          "bar": [
           {
            "error_x": {
             "color": "#2a3f5f"
            },
            "error_y": {
             "color": "#2a3f5f"
            },
            "marker": {
             "line": {
              "color": "#E5ECF6",
              "width": 0.5
             },
             "pattern": {
              "fillmode": "overlay",
              "size": 10,
              "solidity": 0.2
             }
            },
            "type": "bar"
           }
          ],
          "barpolar": [
           {
            "marker": {
             "line": {
              "color": "#E5ECF6",
              "width": 0.5
             },
             "pattern": {
              "fillmode": "overlay",
              "size": 10,
              "solidity": 0.2
             }
            },
            "type": "barpolar"
           }
          ],
          "carpet": [
           {
            "aaxis": {
             "endlinecolor": "#2a3f5f",
             "gridcolor": "white",
             "linecolor": "white",
             "minorgridcolor": "white",
             "startlinecolor": "#2a3f5f"
            },
            "baxis": {
             "endlinecolor": "#2a3f5f",
             "gridcolor": "white",
             "linecolor": "white",
             "minorgridcolor": "white",
             "startlinecolor": "#2a3f5f"
            },
            "type": "carpet"
           }
          ],
          "choropleth": [
           {
            "colorbar": {
             "outlinewidth": 0,
             "ticks": ""
            },
            "type": "choropleth"
           }
          ],
          "contour": [
           {
            "colorbar": {
             "outlinewidth": 0,
             "ticks": ""
            },
            "colorscale": [
             [
              0,
              "#0d0887"
             ],
             [
              0.1111111111111111,
              "#46039f"
             ],
             [
              0.2222222222222222,
              "#7201a8"
             ],
             [
              0.3333333333333333,
              "#9c179e"
             ],
             [
              0.4444444444444444,
              "#bd3786"
             ],
             [
              0.5555555555555556,
              "#d8576b"
             ],
             [
              0.6666666666666666,
              "#ed7953"
             ],
             [
              0.7777777777777778,
              "#fb9f3a"
             ],
             [
              0.8888888888888888,
              "#fdca26"
             ],
             [
              1,
              "#f0f921"
             ]
            ],
            "type": "contour"
           }
          ],
          "contourcarpet": [
           {
            "colorbar": {
             "outlinewidth": 0,
             "ticks": ""
            },
            "type": "contourcarpet"
           }
          ],
          "heatmap": [
           {
            "colorbar": {
             "outlinewidth": 0,
             "ticks": ""
            },
            "colorscale": [
             [
              0,
              "#0d0887"
             ],
             [
              0.1111111111111111,
              "#46039f"
             ],
             [
              0.2222222222222222,
              "#7201a8"
             ],
             [
              0.3333333333333333,
              "#9c179e"
             ],
             [
              0.4444444444444444,
              "#bd3786"
             ],
             [
              0.5555555555555556,
              "#d8576b"
             ],
             [
              0.6666666666666666,
              "#ed7953"
             ],
             [
              0.7777777777777778,
              "#fb9f3a"
             ],
             [
              0.8888888888888888,
              "#fdca26"
             ],
             [
              1,
              "#f0f921"
             ]
            ],
            "type": "heatmap"
           }
          ],
          "heatmapgl": [
           {
            "colorbar": {
             "outlinewidth": 0,
             "ticks": ""
            },
            "colorscale": [
             [
              0,
              "#0d0887"
             ],
             [
              0.1111111111111111,
              "#46039f"
             ],
             [
              0.2222222222222222,
              "#7201a8"
             ],
             [
              0.3333333333333333,
              "#9c179e"
             ],
             [
              0.4444444444444444,
              "#bd3786"
             ],
             [
              0.5555555555555556,
              "#d8576b"
             ],
             [
              0.6666666666666666,
              "#ed7953"
             ],
             [
              0.7777777777777778,
              "#fb9f3a"
             ],
             [
              0.8888888888888888,
              "#fdca26"
             ],
             [
              1,
              "#f0f921"
             ]
            ],
            "type": "heatmapgl"
           }
          ],
          "histogram": [
           {
            "marker": {
             "pattern": {
              "fillmode": "overlay",
              "size": 10,
              "solidity": 0.2
             }
            },
            "type": "histogram"
           }
          ],
          "histogram2d": [
           {
            "colorbar": {
             "outlinewidth": 0,
             "ticks": ""
            },
            "colorscale": [
             [
              0,
              "#0d0887"
             ],
             [
              0.1111111111111111,
              "#46039f"
             ],
             [
              0.2222222222222222,
              "#7201a8"
             ],
             [
              0.3333333333333333,
              "#9c179e"
             ],
             [
              0.4444444444444444,
              "#bd3786"
             ],
             [
              0.5555555555555556,
              "#d8576b"
             ],
             [
              0.6666666666666666,
              "#ed7953"
             ],
             [
              0.7777777777777778,
              "#fb9f3a"
             ],
             [
              0.8888888888888888,
              "#fdca26"
             ],
             [
              1,
              "#f0f921"
             ]
            ],
            "type": "histogram2d"
           }
          ],
          "histogram2dcontour": [
           {
            "colorbar": {
             "outlinewidth": 0,
             "ticks": ""
            },
            "colorscale": [
             [
              0,
              "#0d0887"
             ],
             [
              0.1111111111111111,
              "#46039f"
             ],
             [
              0.2222222222222222,
              "#7201a8"
             ],
             [
              0.3333333333333333,
              "#9c179e"
             ],
             [
              0.4444444444444444,
              "#bd3786"
             ],
             [
              0.5555555555555556,
              "#d8576b"
             ],
             [
              0.6666666666666666,
              "#ed7953"
             ],
             [
              0.7777777777777778,
              "#fb9f3a"
             ],
             [
              0.8888888888888888,
              "#fdca26"
             ],
             [
              1,
              "#f0f921"
             ]
            ],
            "type": "histogram2dcontour"
           }
          ],
          "mesh3d": [
           {
            "colorbar": {
             "outlinewidth": 0,
             "ticks": ""
            },
            "type": "mesh3d"
           }
          ],
          "parcoords": [
           {
            "line": {
             "colorbar": {
              "outlinewidth": 0,
              "ticks": ""
             }
            },
            "type": "parcoords"
           }
          ],
          "pie": [
           {
            "automargin": true,
            "type": "pie"
           }
          ],
          "scatter": [
           {
            "marker": {
             "colorbar": {
              "outlinewidth": 0,
              "ticks": ""
             }
            },
            "type": "scatter"
           }
          ],
          "scatter3d": [
           {
            "line": {
             "colorbar": {
              "outlinewidth": 0,
              "ticks": ""
             }
            },
            "marker": {
             "colorbar": {
              "outlinewidth": 0,
              "ticks": ""
             }
            },
            "type": "scatter3d"
           }
          ],
          "scattercarpet": [
           {
            "marker": {
             "colorbar": {
              "outlinewidth": 0,
              "ticks": ""
             }
            },
            "type": "scattercarpet"
           }
          ],
          "scattergeo": [
           {
            "marker": {
             "colorbar": {
              "outlinewidth": 0,
              "ticks": ""
             }
            },
            "type": "scattergeo"
           }
          ],
          "scattergl": [
           {
            "marker": {
             "colorbar": {
              "outlinewidth": 0,
              "ticks": ""
             }
            },
            "type": "scattergl"
           }
          ],
          "scattermapbox": [
           {
            "marker": {
             "colorbar": {
              "outlinewidth": 0,
              "ticks": ""
             }
            },
            "type": "scattermapbox"
           }
          ],
          "scatterpolar": [
           {
            "marker": {
             "colorbar": {
              "outlinewidth": 0,
              "ticks": ""
             }
            },
            "type": "scatterpolar"
           }
          ],
          "scatterpolargl": [
           {
            "marker": {
             "colorbar": {
              "outlinewidth": 0,
              "ticks": ""
             }
            },
            "type": "scatterpolargl"
           }
          ],
          "scatterternary": [
           {
            "marker": {
             "colorbar": {
              "outlinewidth": 0,
              "ticks": ""
             }
            },
            "type": "scatterternary"
           }
          ],
          "surface": [
           {
            "colorbar": {
             "outlinewidth": 0,
             "ticks": ""
            },
            "colorscale": [
             [
              0,
              "#0d0887"
             ],
             [
              0.1111111111111111,
              "#46039f"
             ],
             [
              0.2222222222222222,
              "#7201a8"
             ],
             [
              0.3333333333333333,
              "#9c179e"
             ],
             [
              0.4444444444444444,
              "#bd3786"
             ],
             [
              0.5555555555555556,
              "#d8576b"
             ],
             [
              0.6666666666666666,
              "#ed7953"
             ],
             [
              0.7777777777777778,
              "#fb9f3a"
             ],
             [
              0.8888888888888888,
              "#fdca26"
             ],
             [
              1,
              "#f0f921"
             ]
            ],
            "type": "surface"
           }
          ],
          "table": [
           {
            "cells": {
             "fill": {
              "color": "#EBF0F8"
             },
             "line": {
              "color": "white"
             }
            },
            "header": {
             "fill": {
              "color": "#C8D4E3"
             },
             "line": {
              "color": "white"
             }
            },
            "type": "table"
           }
          ]
         },
         "layout": {
          "annotationdefaults": {
           "arrowcolor": "#2a3f5f",
           "arrowhead": 0,
           "arrowwidth": 1
          },
          "autotypenumbers": "strict",
          "coloraxis": {
           "colorbar": {
            "outlinewidth": 0,
            "ticks": ""
           }
          },
          "colorscale": {
           "diverging": [
            [
             0,
             "#8e0152"
            ],
            [
             0.1,
             "#c51b7d"
            ],
            [
             0.2,
             "#de77ae"
            ],
            [
             0.3,
             "#f1b6da"
            ],
            [
             0.4,
             "#fde0ef"
            ],
            [
             0.5,
             "#f7f7f7"
            ],
            [
             0.6,
             "#e6f5d0"
            ],
            [
             0.7,
             "#b8e186"
            ],
            [
             0.8,
             "#7fbc41"
            ],
            [
             0.9,
             "#4d9221"
            ],
            [
             1,
             "#276419"
            ]
           ],
           "sequential": [
            [
             0,
             "#0d0887"
            ],
            [
             0.1111111111111111,
             "#46039f"
            ],
            [
             0.2222222222222222,
             "#7201a8"
            ],
            [
             0.3333333333333333,
             "#9c179e"
            ],
            [
             0.4444444444444444,
             "#bd3786"
            ],
            [
             0.5555555555555556,
             "#d8576b"
            ],
            [
             0.6666666666666666,
             "#ed7953"
            ],
            [
             0.7777777777777778,
             "#fb9f3a"
            ],
            [
             0.8888888888888888,
             "#fdca26"
            ],
            [
             1,
             "#f0f921"
            ]
           ],
           "sequentialminus": [
            [
             0,
             "#0d0887"
            ],
            [
             0.1111111111111111,
             "#46039f"
            ],
            [
             0.2222222222222222,
             "#7201a8"
            ],
            [
             0.3333333333333333,
             "#9c179e"
            ],
            [
             0.4444444444444444,
             "#bd3786"
            ],
            [
             0.5555555555555556,
             "#d8576b"
            ],
            [
             0.6666666666666666,
             "#ed7953"
            ],
            [
             0.7777777777777778,
             "#fb9f3a"
            ],
            [
             0.8888888888888888,
             "#fdca26"
            ],
            [
             1,
             "#f0f921"
            ]
           ]
          },
          "colorway": [
           "#636efa",
           "#EF553B",
           "#00cc96",
           "#ab63fa",
           "#FFA15A",
           "#19d3f3",
           "#FF6692",
           "#B6E880",
           "#FF97FF",
           "#FECB52"
          ],
          "font": {
           "color": "#2a3f5f"
          },
          "geo": {
           "bgcolor": "white",
           "lakecolor": "white",
           "landcolor": "#E5ECF6",
           "showlakes": true,
           "showland": true,
           "subunitcolor": "white"
          },
          "hoverlabel": {
           "align": "left"
          },
          "hovermode": "closest",
          "mapbox": {
           "style": "light"
          },
          "paper_bgcolor": "white",
          "plot_bgcolor": "#E5ECF6",
          "polar": {
           "angularaxis": {
            "gridcolor": "white",
            "linecolor": "white",
            "ticks": ""
           },
           "bgcolor": "#E5ECF6",
           "radialaxis": {
            "gridcolor": "white",
            "linecolor": "white",
            "ticks": ""
           }
          },
          "scene": {
           "xaxis": {
            "backgroundcolor": "#E5ECF6",
            "gridcolor": "white",
            "gridwidth": 2,
            "linecolor": "white",
            "showbackground": true,
            "ticks": "",
            "zerolinecolor": "white"
           },
           "yaxis": {
            "backgroundcolor": "#E5ECF6",
            "gridcolor": "white",
            "gridwidth": 2,
            "linecolor": "white",
            "showbackground": true,
            "ticks": "",
            "zerolinecolor": "white"
           },
           "zaxis": {
            "backgroundcolor": "#E5ECF6",
            "gridcolor": "white",
            "gridwidth": 2,
            "linecolor": "white",
            "showbackground": true,
            "ticks": "",
            "zerolinecolor": "white"
           }
          },
          "shapedefaults": {
           "line": {
            "color": "#2a3f5f"
           }
          },
          "ternary": {
           "aaxis": {
            "gridcolor": "white",
            "linecolor": "white",
            "ticks": ""
           },
           "baxis": {
            "gridcolor": "white",
            "linecolor": "white",
            "ticks": ""
           },
           "bgcolor": "#E5ECF6",
           "caxis": {
            "gridcolor": "white",
            "linecolor": "white",
            "ticks": ""
           }
          },
          "title": {
           "x": 0.05
          },
          "xaxis": {
           "automargin": true,
           "gridcolor": "white",
           "linecolor": "white",
           "ticks": "",
           "title": {
            "standoff": 15
           },
           "zerolinecolor": "white",
           "zerolinewidth": 2
          },
          "yaxis": {
           "automargin": true,
           "gridcolor": "white",
           "linecolor": "white",
           "ticks": "",
           "title": {
            "standoff": 15
           },
           "zerolinecolor": "white",
           "zerolinewidth": 2
          }
         }
        },
        "title": {
         "text": "Average Track Popularity and the Number of Artists Featured"
        },
        "xaxis": {
         "anchor": "y",
         "domain": [
          0,
          1
         ],
         "title": {
          "text": "Number of Artists"
         },
         "type": "category"
        },
        "yaxis": {
         "anchor": "x",
         "domain": [
          0,
          1
         ],
         "title": {
          "text": "Average Popularity"
         }
        }
       }
      }
     },
     "metadata": {},
     "output_type": "display_data"
    }
   ],
   "source": [
    "x_axis = num_art_grp.index\n",
    "fig = px.bar(num_art_grp, x=x_axis, y='popularity',\n",
    "             hover_data={'popularity':':.2f', 'length(ms)':':.2f', 'acousticness':':.2f', 'danceability':':.2f', 'energy':':.2f', 'liveness':':.2f', 'tempo':':.2f', 'valence':':.2f'},\n",
    "             labels={'popularity':'Average Popularity', 'num_artists':\"Number of Artists\"}, title='Average Track Popularity and the Number of Artists Featured')\n",
    "fig.update_xaxes(type='category')\n",
    "fig.show()\n"
   ]
  },
  {
   "cell_type": "markdown",
   "metadata": {},
   "source": [
    "The popularity rates are equal for different number of artists featured. Therefore, the number of featured artists does not effect popularity rates.\n",
    "\n",
    "Is there any relationship between the number of artists and the audio features?\n",
    "Audio Features:\n",
    "- length(ms)\n",
    "- acousticness\n",
    "- danceability\n",
    "- energy\n",
    "- liveness (likelihood that the track was performed live)\n",
    "- tempo (beats per minute)\n",
    "- valence (the measure of positivity in tracks; how happy, cheerful, or euphoric the track is)"
   ]
  },
  {
   "cell_type": "code",
   "execution_count": 48,
   "metadata": {},
   "outputs": [
    {
     "data": {
      "text/plain": [
       "Index(['length(ms)', 'popularity', 'acousticness', 'danceability', 'energy',\n",
       "       'liveness', 'tempo', 'valence'],\n",
       "      dtype='object')"
      ]
     },
     "execution_count": 48,
     "metadata": {},
     "output_type": "execute_result"
    }
   ],
   "source": [
    "audio_feat = num_art_grp.columns\n",
    "audio_feat"
   ]
  },
  {
   "cell_type": "code",
   "execution_count": 97,
   "metadata": {},
   "outputs": [],
   "source": [
    "low_audio_feat = num_art_grp[['acousticness', 'danceability', 'energy',\n",
    "       'liveness', 'valence']]"
   ]
  },
  {
   "cell_type": "code",
   "execution_count": 108,
   "metadata": {},
   "outputs": [
    {
     "data": {
      "application/vnd.plotly.v1+json": {
       "config": {
        "plotlyServerURL": "https://plot.ly"
       },
       "data": [
        {
         "hovertemplate": "Audio Feature=acousticness<br>Number of Artists=%{x}<br>Avg Feature Value=%{y}<extra></extra>",
         "legendgroup": "acousticness",
         "line": {
          "color": "#636efa",
          "dash": "solid"
         },
         "marker": {
          "symbol": "circle"
         },
         "mode": "lines+markers",
         "name": "acousticness",
         "orientation": "v",
         "showlegend": true,
         "type": "scatter",
         "x": [
          1,
          2,
          3
         ],
         "xaxis": "x",
         "y": [
          0.38574462151394423,
          0.29000800746268657,
          0.27470781818181816
         ],
         "yaxis": "y"
        },
        {
         "hovertemplate": "Audio Feature=danceability<br>Number of Artists=%{x}<br>Avg Feature Value=%{y}<extra></extra>",
         "legendgroup": "danceability",
         "line": {
          "color": "#EF553B",
          "dash": "solid"
         },
         "marker": {
          "symbol": "circle"
         },
         "mode": "lines+markers",
         "name": "danceability",
         "orientation": "v",
         "showlegend": true,
         "type": "scatter",
         "x": [
          1,
          2,
          3
         ],
         "xaxis": "x",
         "y": [
          0.6448844621513945,
          0.7026119402985075,
          0.7260606060606061
         ],
         "yaxis": "y"
        },
        {
         "hovertemplate": "Audio Feature=energy<br>Number of Artists=%{x}<br>Avg Feature Value=%{y}<extra></extra>",
         "legendgroup": "energy",
         "line": {
          "color": "#00cc96",
          "dash": "solid"
         },
         "marker": {
          "symbol": "circle"
         },
         "mode": "lines+markers",
         "name": "energy",
         "orientation": "v",
         "showlegend": true,
         "type": "scatter",
         "x": [
          1,
          2,
          3
         ],
         "xaxis": "x",
         "y": [
          0.5832828685258964,
          0.6098970149253732,
          0.6556818181818181
         ],
         "yaxis": "y"
        },
        {
         "hovertemplate": "Audio Feature=liveness<br>Number of Artists=%{x}<br>Avg Feature Value=%{y}<extra></extra>",
         "legendgroup": "liveness",
         "line": {
          "color": "#ab63fa",
          "dash": "solid"
         },
         "marker": {
          "symbol": "circle"
         },
         "mode": "lines+markers",
         "name": "liveness",
         "orientation": "v",
         "showlegend": true,
         "type": "scatter",
         "x": [
          1,
          2,
          3
         ],
         "xaxis": "x",
         "y": [
          0.1579346613545817,
          0.1703,
          0.15287272727272727
         ],
         "yaxis": "y"
        },
        {
         "hovertemplate": "Audio Feature=valence<br>Number of Artists=%{x}<br>Avg Feature Value=%{y}<extra></extra>",
         "legendgroup": "valence",
         "line": {
          "color": "#FFA15A",
          "dash": "solid"
         },
         "marker": {
          "symbol": "circle"
         },
         "mode": "lines+markers",
         "name": "valence",
         "orientation": "v",
         "showlegend": true,
         "type": "scatter",
         "x": [
          1,
          2,
          3
         ],
         "xaxis": "x",
         "y": [
          0.4522155378486056,
          0.49939701492537314,
          0.4462015151515152
         ],
         "yaxis": "y"
        }
       ],
       "layout": {
        "legend": {
         "title": {
          "text": "Audio Feature"
         },
         "tracegroupgap": 0
        },
        "template": {
         "data": {
          "bar": [
           {
            "error_x": {
             "color": "#2a3f5f"
            },
            "error_y": {
             "color": "#2a3f5f"
            },
            "marker": {
             "line": {
              "color": "#E5ECF6",
              "width": 0.5
             },
             "pattern": {
              "fillmode": "overlay",
              "size": 10,
              "solidity": 0.2
             }
            },
            "type": "bar"
           }
          ],
          "barpolar": [
           {
            "marker": {
             "line": {
              "color": "#E5ECF6",
              "width": 0.5
             },
             "pattern": {
              "fillmode": "overlay",
              "size": 10,
              "solidity": 0.2
             }
            },
            "type": "barpolar"
           }
          ],
          "carpet": [
           {
            "aaxis": {
             "endlinecolor": "#2a3f5f",
             "gridcolor": "white",
             "linecolor": "white",
             "minorgridcolor": "white",
             "startlinecolor": "#2a3f5f"
            },
            "baxis": {
             "endlinecolor": "#2a3f5f",
             "gridcolor": "white",
             "linecolor": "white",
             "minorgridcolor": "white",
             "startlinecolor": "#2a3f5f"
            },
            "type": "carpet"
           }
          ],
          "choropleth": [
           {
            "colorbar": {
             "outlinewidth": 0,
             "ticks": ""
            },
            "type": "choropleth"
           }
          ],
          "contour": [
           {
            "colorbar": {
             "outlinewidth": 0,
             "ticks": ""
            },
            "colorscale": [
             [
              0,
              "#0d0887"
             ],
             [
              0.1111111111111111,
              "#46039f"
             ],
             [
              0.2222222222222222,
              "#7201a8"
             ],
             [
              0.3333333333333333,
              "#9c179e"
             ],
             [
              0.4444444444444444,
              "#bd3786"
             ],
             [
              0.5555555555555556,
              "#d8576b"
             ],
             [
              0.6666666666666666,
              "#ed7953"
             ],
             [
              0.7777777777777778,
              "#fb9f3a"
             ],
             [
              0.8888888888888888,
              "#fdca26"
             ],
             [
              1,
              "#f0f921"
             ]
            ],
            "type": "contour"
           }
          ],
          "contourcarpet": [
           {
            "colorbar": {
             "outlinewidth": 0,
             "ticks": ""
            },
            "type": "contourcarpet"
           }
          ],
          "heatmap": [
           {
            "colorbar": {
             "outlinewidth": 0,
             "ticks": ""
            },
            "colorscale": [
             [
              0,
              "#0d0887"
             ],
             [
              0.1111111111111111,
              "#46039f"
             ],
             [
              0.2222222222222222,
              "#7201a8"
             ],
             [
              0.3333333333333333,
              "#9c179e"
             ],
             [
              0.4444444444444444,
              "#bd3786"
             ],
             [
              0.5555555555555556,
              "#d8576b"
             ],
             [
              0.6666666666666666,
              "#ed7953"
             ],
             [
              0.7777777777777778,
              "#fb9f3a"
             ],
             [
              0.8888888888888888,
              "#fdca26"
             ],
             [
              1,
              "#f0f921"
             ]
            ],
            "type": "heatmap"
           }
          ],
          "heatmapgl": [
           {
            "colorbar": {
             "outlinewidth": 0,
             "ticks": ""
            },
            "colorscale": [
             [
              0,
              "#0d0887"
             ],
             [
              0.1111111111111111,
              "#46039f"
             ],
             [
              0.2222222222222222,
              "#7201a8"
             ],
             [
              0.3333333333333333,
              "#9c179e"
             ],
             [
              0.4444444444444444,
              "#bd3786"
             ],
             [
              0.5555555555555556,
              "#d8576b"
             ],
             [
              0.6666666666666666,
              "#ed7953"
             ],
             [
              0.7777777777777778,
              "#fb9f3a"
             ],
             [
              0.8888888888888888,
              "#fdca26"
             ],
             [
              1,
              "#f0f921"
             ]
            ],
            "type": "heatmapgl"
           }
          ],
          "histogram": [
           {
            "marker": {
             "pattern": {
              "fillmode": "overlay",
              "size": 10,
              "solidity": 0.2
             }
            },
            "type": "histogram"
           }
          ],
          "histogram2d": [
           {
            "colorbar": {
             "outlinewidth": 0,
             "ticks": ""
            },
            "colorscale": [
             [
              0,
              "#0d0887"
             ],
             [
              0.1111111111111111,
              "#46039f"
             ],
             [
              0.2222222222222222,
              "#7201a8"
             ],
             [
              0.3333333333333333,
              "#9c179e"
             ],
             [
              0.4444444444444444,
              "#bd3786"
             ],
             [
              0.5555555555555556,
              "#d8576b"
             ],
             [
              0.6666666666666666,
              "#ed7953"
             ],
             [
              0.7777777777777778,
              "#fb9f3a"
             ],
             [
              0.8888888888888888,
              "#fdca26"
             ],
             [
              1,
              "#f0f921"
             ]
            ],
            "type": "histogram2d"
           }
          ],
          "histogram2dcontour": [
           {
            "colorbar": {
             "outlinewidth": 0,
             "ticks": ""
            },
            "colorscale": [
             [
              0,
              "#0d0887"
             ],
             [
              0.1111111111111111,
              "#46039f"
             ],
             [
              0.2222222222222222,
              "#7201a8"
             ],
             [
              0.3333333333333333,
              "#9c179e"
             ],
             [
              0.4444444444444444,
              "#bd3786"
             ],
             [
              0.5555555555555556,
              "#d8576b"
             ],
             [
              0.6666666666666666,
              "#ed7953"
             ],
             [
              0.7777777777777778,
              "#fb9f3a"
             ],
             [
              0.8888888888888888,
              "#fdca26"
             ],
             [
              1,
              "#f0f921"
             ]
            ],
            "type": "histogram2dcontour"
           }
          ],
          "mesh3d": [
           {
            "colorbar": {
             "outlinewidth": 0,
             "ticks": ""
            },
            "type": "mesh3d"
           }
          ],
          "parcoords": [
           {
            "line": {
             "colorbar": {
              "outlinewidth": 0,
              "ticks": ""
             }
            },
            "type": "parcoords"
           }
          ],
          "pie": [
           {
            "automargin": true,
            "type": "pie"
           }
          ],
          "scatter": [
           {
            "marker": {
             "colorbar": {
              "outlinewidth": 0,
              "ticks": ""
             }
            },
            "type": "scatter"
           }
          ],
          "scatter3d": [
           {
            "line": {
             "colorbar": {
              "outlinewidth": 0,
              "ticks": ""
             }
            },
            "marker": {
             "colorbar": {
              "outlinewidth": 0,
              "ticks": ""
             }
            },
            "type": "scatter3d"
           }
          ],
          "scattercarpet": [
           {
            "marker": {
             "colorbar": {
              "outlinewidth": 0,
              "ticks": ""
             }
            },
            "type": "scattercarpet"
           }
          ],
          "scattergeo": [
           {
            "marker": {
             "colorbar": {
              "outlinewidth": 0,
              "ticks": ""
             }
            },
            "type": "scattergeo"
           }
          ],
          "scattergl": [
           {
            "marker": {
             "colorbar": {
              "outlinewidth": 0,
              "ticks": ""
             }
            },
            "type": "scattergl"
           }
          ],
          "scattermapbox": [
           {
            "marker": {
             "colorbar": {
              "outlinewidth": 0,
              "ticks": ""
             }
            },
            "type": "scattermapbox"
           }
          ],
          "scatterpolar": [
           {
            "marker": {
             "colorbar": {
              "outlinewidth": 0,
              "ticks": ""
             }
            },
            "type": "scatterpolar"
           }
          ],
          "scatterpolargl": [
           {
            "marker": {
             "colorbar": {
              "outlinewidth": 0,
              "ticks": ""
             }
            },
            "type": "scatterpolargl"
           }
          ],
          "scatterternary": [
           {
            "marker": {
             "colorbar": {
              "outlinewidth": 0,
              "ticks": ""
             }
            },
            "type": "scatterternary"
           }
          ],
          "surface": [
           {
            "colorbar": {
             "outlinewidth": 0,
             "ticks": ""
            },
            "colorscale": [
             [
              0,
              "#0d0887"
             ],
             [
              0.1111111111111111,
              "#46039f"
             ],
             [
              0.2222222222222222,
              "#7201a8"
             ],
             [
              0.3333333333333333,
              "#9c179e"
             ],
             [
              0.4444444444444444,
              "#bd3786"
             ],
             [
              0.5555555555555556,
              "#d8576b"
             ],
             [
              0.6666666666666666,
              "#ed7953"
             ],
             [
              0.7777777777777778,
              "#fb9f3a"
             ],
             [
              0.8888888888888888,
              "#fdca26"
             ],
             [
              1,
              "#f0f921"
             ]
            ],
            "type": "surface"
           }
          ],
          "table": [
           {
            "cells": {
             "fill": {
              "color": "#EBF0F8"
             },
             "line": {
              "color": "white"
             }
            },
            "header": {
             "fill": {
              "color": "#C8D4E3"
             },
             "line": {
              "color": "white"
             }
            },
            "type": "table"
           }
          ]
         },
         "layout": {
          "annotationdefaults": {
           "arrowcolor": "#2a3f5f",
           "arrowhead": 0,
           "arrowwidth": 1
          },
          "autotypenumbers": "strict",
          "coloraxis": {
           "colorbar": {
            "outlinewidth": 0,
            "ticks": ""
           }
          },
          "colorscale": {
           "diverging": [
            [
             0,
             "#8e0152"
            ],
            [
             0.1,
             "#c51b7d"
            ],
            [
             0.2,
             "#de77ae"
            ],
            [
             0.3,
             "#f1b6da"
            ],
            [
             0.4,
             "#fde0ef"
            ],
            [
             0.5,
             "#f7f7f7"
            ],
            [
             0.6,
             "#e6f5d0"
            ],
            [
             0.7,
             "#b8e186"
            ],
            [
             0.8,
             "#7fbc41"
            ],
            [
             0.9,
             "#4d9221"
            ],
            [
             1,
             "#276419"
            ]
           ],
           "sequential": [
            [
             0,
             "#0d0887"
            ],
            [
             0.1111111111111111,
             "#46039f"
            ],
            [
             0.2222222222222222,
             "#7201a8"
            ],
            [
             0.3333333333333333,
             "#9c179e"
            ],
            [
             0.4444444444444444,
             "#bd3786"
            ],
            [
             0.5555555555555556,
             "#d8576b"
            ],
            [
             0.6666666666666666,
             "#ed7953"
            ],
            [
             0.7777777777777778,
             "#fb9f3a"
            ],
            [
             0.8888888888888888,
             "#fdca26"
            ],
            [
             1,
             "#f0f921"
            ]
           ],
           "sequentialminus": [
            [
             0,
             "#0d0887"
            ],
            [
             0.1111111111111111,
             "#46039f"
            ],
            [
             0.2222222222222222,
             "#7201a8"
            ],
            [
             0.3333333333333333,
             "#9c179e"
            ],
            [
             0.4444444444444444,
             "#bd3786"
            ],
            [
             0.5555555555555556,
             "#d8576b"
            ],
            [
             0.6666666666666666,
             "#ed7953"
            ],
            [
             0.7777777777777778,
             "#fb9f3a"
            ],
            [
             0.8888888888888888,
             "#fdca26"
            ],
            [
             1,
             "#f0f921"
            ]
           ]
          },
          "colorway": [
           "#636efa",
           "#EF553B",
           "#00cc96",
           "#ab63fa",
           "#FFA15A",
           "#19d3f3",
           "#FF6692",
           "#B6E880",
           "#FF97FF",
           "#FECB52"
          ],
          "font": {
           "color": "#2a3f5f"
          },
          "geo": {
           "bgcolor": "white",
           "lakecolor": "white",
           "landcolor": "#E5ECF6",
           "showlakes": true,
           "showland": true,
           "subunitcolor": "white"
          },
          "hoverlabel": {
           "align": "left"
          },
          "hovermode": "closest",
          "mapbox": {
           "style": "light"
          },
          "paper_bgcolor": "white",
          "plot_bgcolor": "#E5ECF6",
          "polar": {
           "angularaxis": {
            "gridcolor": "white",
            "linecolor": "white",
            "ticks": ""
           },
           "bgcolor": "#E5ECF6",
           "radialaxis": {
            "gridcolor": "white",
            "linecolor": "white",
            "ticks": ""
           }
          },
          "scene": {
           "xaxis": {
            "backgroundcolor": "#E5ECF6",
            "gridcolor": "white",
            "gridwidth": 2,
            "linecolor": "white",
            "showbackground": true,
            "ticks": "",
            "zerolinecolor": "white"
           },
           "yaxis": {
            "backgroundcolor": "#E5ECF6",
            "gridcolor": "white",
            "gridwidth": 2,
            "linecolor": "white",
            "showbackground": true,
            "ticks": "",
            "zerolinecolor": "white"
           },
           "zaxis": {
            "backgroundcolor": "#E5ECF6",
            "gridcolor": "white",
            "gridwidth": 2,
            "linecolor": "white",
            "showbackground": true,
            "ticks": "",
            "zerolinecolor": "white"
           }
          },
          "shapedefaults": {
           "line": {
            "color": "#2a3f5f"
           }
          },
          "ternary": {
           "aaxis": {
            "gridcolor": "white",
            "linecolor": "white",
            "ticks": ""
           },
           "baxis": {
            "gridcolor": "white",
            "linecolor": "white",
            "ticks": ""
           },
           "bgcolor": "#E5ECF6",
           "caxis": {
            "gridcolor": "white",
            "linecolor": "white",
            "ticks": ""
           }
          },
          "title": {
           "x": 0.05
          },
          "xaxis": {
           "automargin": true,
           "gridcolor": "white",
           "linecolor": "white",
           "ticks": "",
           "title": {
            "standoff": 15
           },
           "zerolinecolor": "white",
           "zerolinewidth": 2
          },
          "yaxis": {
           "automargin": true,
           "gridcolor": "white",
           "linecolor": "white",
           "ticks": "",
           "title": {
            "standoff": 15
           },
           "zerolinecolor": "white",
           "zerolinewidth": 2
          }
         }
        },
        "title": {
         "text": "Number of Featured Artists and the Average Audio Feature Values"
        },
        "xaxis": {
         "anchor": "y",
         "domain": [
          0,
          1
         ],
         "title": {
          "text": "Number of Artists"
         },
         "type": "category"
        },
        "yaxis": {
         "anchor": "x",
         "domain": [
          0,
          1
         ],
         "title": {
          "text": "Avg Feature Value"
         }
        }
       }
      }
     },
     "metadata": {},
     "output_type": "display_data"
    }
   ],
   "source": [
    "# Scatter plot of number of artists and the audio features\n",
    "fig = px.line(low_audio_feat, x=x_axis, y=low_audio_feat.columns, markers=True,\n",
    "    labels={'num_artists':'Number of Artists', 'value': 'Avg Feature Value', 'variable': 'Audio Feature'},\n",
    "    title = 'Number of Featured Artists and the Average Audio Feature Values')\n",
    "fig.update_xaxes(type='category')\n",
    "\n",
    "fig.show()"
   ]
  },
  {
   "cell_type": "code",
   "execution_count": 127,
   "metadata": {},
   "outputs": [
    {
     "data": {
      "application/vnd.plotly.v1+json": {
       "config": {
        "plotlyServerURL": "https://plot.ly"
       },
       "data": [
        {
         "name": "acousticness",
         "type": "scatter",
         "x": [
          1,
          2,
          3
         ],
         "y": [
          0.38574462151394423,
          0.29000800746268657,
          0.27470781818181816
         ]
        },
        {
         "name": "danceability",
         "type": "scatter",
         "x": [
          1,
          2,
          3
         ],
         "y": [
          0.6448844621513945,
          0.7026119402985075,
          0.7260606060606061
         ]
        },
        {
         "name": "energy",
         "type": "scatter",
         "x": [
          1,
          2,
          3
         ],
         "y": [
          0.5832828685258964,
          0.6098970149253732,
          0.6556818181818181
         ]
        },
        {
         "name": "liveness",
         "type": "scatter",
         "x": [
          1,
          2,
          3
         ],
         "y": [
          0.1579346613545817,
          0.1703,
          0.15287272727272727
         ]
        },
        {
         "name": "valence",
         "type": "scatter",
         "x": [
          1,
          2,
          3
         ],
         "y": [
          0.4522155378486056,
          0.49939701492537314,
          0.4462015151515152
         ]
        }
       ],
       "layout": {
        "template": {
         "data": {
          "bar": [
           {
            "error_x": {
             "color": "#2a3f5f"
            },
            "error_y": {
             "color": "#2a3f5f"
            },
            "marker": {
             "line": {
              "color": "#E5ECF6",
              "width": 0.5
             },
             "pattern": {
              "fillmode": "overlay",
              "size": 10,
              "solidity": 0.2
             }
            },
            "type": "bar"
           }
          ],
          "barpolar": [
           {
            "marker": {
             "line": {
              "color": "#E5ECF6",
              "width": 0.5
             },
             "pattern": {
              "fillmode": "overlay",
              "size": 10,
              "solidity": 0.2
             }
            },
            "type": "barpolar"
           }
          ],
          "carpet": [
           {
            "aaxis": {
             "endlinecolor": "#2a3f5f",
             "gridcolor": "white",
             "linecolor": "white",
             "minorgridcolor": "white",
             "startlinecolor": "#2a3f5f"
            },
            "baxis": {
             "endlinecolor": "#2a3f5f",
             "gridcolor": "white",
             "linecolor": "white",
             "minorgridcolor": "white",
             "startlinecolor": "#2a3f5f"
            },
            "type": "carpet"
           }
          ],
          "choropleth": [
           {
            "colorbar": {
             "outlinewidth": 0,
             "ticks": ""
            },
            "type": "choropleth"
           }
          ],
          "contour": [
           {
            "colorbar": {
             "outlinewidth": 0,
             "ticks": ""
            },
            "colorscale": [
             [
              0,
              "#0d0887"
             ],
             [
              0.1111111111111111,
              "#46039f"
             ],
             [
              0.2222222222222222,
              "#7201a8"
             ],
             [
              0.3333333333333333,
              "#9c179e"
             ],
             [
              0.4444444444444444,
              "#bd3786"
             ],
             [
              0.5555555555555556,
              "#d8576b"
             ],
             [
              0.6666666666666666,
              "#ed7953"
             ],
             [
              0.7777777777777778,
              "#fb9f3a"
             ],
             [
              0.8888888888888888,
              "#fdca26"
             ],
             [
              1,
              "#f0f921"
             ]
            ],
            "type": "contour"
           }
          ],
          "contourcarpet": [
           {
            "colorbar": {
             "outlinewidth": 0,
             "ticks": ""
            },
            "type": "contourcarpet"
           }
          ],
          "heatmap": [
           {
            "colorbar": {
             "outlinewidth": 0,
             "ticks": ""
            },
            "colorscale": [
             [
              0,
              "#0d0887"
             ],
             [
              0.1111111111111111,
              "#46039f"
             ],
             [
              0.2222222222222222,
              "#7201a8"
             ],
             [
              0.3333333333333333,
              "#9c179e"
             ],
             [
              0.4444444444444444,
              "#bd3786"
             ],
             [
              0.5555555555555556,
              "#d8576b"
             ],
             [
              0.6666666666666666,
              "#ed7953"
             ],
             [
              0.7777777777777778,
              "#fb9f3a"
             ],
             [
              0.8888888888888888,
              "#fdca26"
             ],
             [
              1,
              "#f0f921"
             ]
            ],
            "type": "heatmap"
           }
          ],
          "heatmapgl": [
           {
            "colorbar": {
             "outlinewidth": 0,
             "ticks": ""
            },
            "colorscale": [
             [
              0,
              "#0d0887"
             ],
             [
              0.1111111111111111,
              "#46039f"
             ],
             [
              0.2222222222222222,
              "#7201a8"
             ],
             [
              0.3333333333333333,
              "#9c179e"
             ],
             [
              0.4444444444444444,
              "#bd3786"
             ],
             [
              0.5555555555555556,
              "#d8576b"
             ],
             [
              0.6666666666666666,
              "#ed7953"
             ],
             [
              0.7777777777777778,
              "#fb9f3a"
             ],
             [
              0.8888888888888888,
              "#fdca26"
             ],
             [
              1,
              "#f0f921"
             ]
            ],
            "type": "heatmapgl"
           }
          ],
          "histogram": [
           {
            "marker": {
             "pattern": {
              "fillmode": "overlay",
              "size": 10,
              "solidity": 0.2
             }
            },
            "type": "histogram"
           }
          ],
          "histogram2d": [
           {
            "colorbar": {
             "outlinewidth": 0,
             "ticks": ""
            },
            "colorscale": [
             [
              0,
              "#0d0887"
             ],
             [
              0.1111111111111111,
              "#46039f"
             ],
             [
              0.2222222222222222,
              "#7201a8"
             ],
             [
              0.3333333333333333,
              "#9c179e"
             ],
             [
              0.4444444444444444,
              "#bd3786"
             ],
             [
              0.5555555555555556,
              "#d8576b"
             ],
             [
              0.6666666666666666,
              "#ed7953"
             ],
             [
              0.7777777777777778,
              "#fb9f3a"
             ],
             [
              0.8888888888888888,
              "#fdca26"
             ],
             [
              1,
              "#f0f921"
             ]
            ],
            "type": "histogram2d"
           }
          ],
          "histogram2dcontour": [
           {
            "colorbar": {
             "outlinewidth": 0,
             "ticks": ""
            },
            "colorscale": [
             [
              0,
              "#0d0887"
             ],
             [
              0.1111111111111111,
              "#46039f"
             ],
             [
              0.2222222222222222,
              "#7201a8"
             ],
             [
              0.3333333333333333,
              "#9c179e"
             ],
             [
              0.4444444444444444,
              "#bd3786"
             ],
             [
              0.5555555555555556,
              "#d8576b"
             ],
             [
              0.6666666666666666,
              "#ed7953"
             ],
             [
              0.7777777777777778,
              "#fb9f3a"
             ],
             [
              0.8888888888888888,
              "#fdca26"
             ],
             [
              1,
              "#f0f921"
             ]
            ],
            "type": "histogram2dcontour"
           }
          ],
          "mesh3d": [
           {
            "colorbar": {
             "outlinewidth": 0,
             "ticks": ""
            },
            "type": "mesh3d"
           }
          ],
          "parcoords": [
           {
            "line": {
             "colorbar": {
              "outlinewidth": 0,
              "ticks": ""
             }
            },
            "type": "parcoords"
           }
          ],
          "pie": [
           {
            "automargin": true,
            "type": "pie"
           }
          ],
          "scatter": [
           {
            "marker": {
             "colorbar": {
              "outlinewidth": 0,
              "ticks": ""
             }
            },
            "type": "scatter"
           }
          ],
          "scatter3d": [
           {
            "line": {
             "colorbar": {
              "outlinewidth": 0,
              "ticks": ""
             }
            },
            "marker": {
             "colorbar": {
              "outlinewidth": 0,
              "ticks": ""
             }
            },
            "type": "scatter3d"
           }
          ],
          "scattercarpet": [
           {
            "marker": {
             "colorbar": {
              "outlinewidth": 0,
              "ticks": ""
             }
            },
            "type": "scattercarpet"
           }
          ],
          "scattergeo": [
           {
            "marker": {
             "colorbar": {
              "outlinewidth": 0,
              "ticks": ""
             }
            },
            "type": "scattergeo"
           }
          ],
          "scattergl": [
           {
            "marker": {
             "colorbar": {
              "outlinewidth": 0,
              "ticks": ""
             }
            },
            "type": "scattergl"
           }
          ],
          "scattermapbox": [
           {
            "marker": {
             "colorbar": {
              "outlinewidth": 0,
              "ticks": ""
             }
            },
            "type": "scattermapbox"
           }
          ],
          "scatterpolar": [
           {
            "marker": {
             "colorbar": {
              "outlinewidth": 0,
              "ticks": ""
             }
            },
            "type": "scatterpolar"
           }
          ],
          "scatterpolargl": [
           {
            "marker": {
             "colorbar": {
              "outlinewidth": 0,
              "ticks": ""
             }
            },
            "type": "scatterpolargl"
           }
          ],
          "scatterternary": [
           {
            "marker": {
             "colorbar": {
              "outlinewidth": 0,
              "ticks": ""
             }
            },
            "type": "scatterternary"
           }
          ],
          "surface": [
           {
            "colorbar": {
             "outlinewidth": 0,
             "ticks": ""
            },
            "colorscale": [
             [
              0,
              "#0d0887"
             ],
             [
              0.1111111111111111,
              "#46039f"
             ],
             [
              0.2222222222222222,
              "#7201a8"
             ],
             [
              0.3333333333333333,
              "#9c179e"
             ],
             [
              0.4444444444444444,
              "#bd3786"
             ],
             [
              0.5555555555555556,
              "#d8576b"
             ],
             [
              0.6666666666666666,
              "#ed7953"
             ],
             [
              0.7777777777777778,
              "#fb9f3a"
             ],
             [
              0.8888888888888888,
              "#fdca26"
             ],
             [
              1,
              "#f0f921"
             ]
            ],
            "type": "surface"
           }
          ],
          "table": [
           {
            "cells": {
             "fill": {
              "color": "#EBF0F8"
             },
             "line": {
              "color": "white"
             }
            },
            "header": {
             "fill": {
              "color": "#C8D4E3"
             },
             "line": {
              "color": "white"
             }
            },
            "type": "table"
           }
          ]
         },
         "layout": {
          "annotationdefaults": {
           "arrowcolor": "#2a3f5f",
           "arrowhead": 0,
           "arrowwidth": 1
          },
          "autotypenumbers": "strict",
          "coloraxis": {
           "colorbar": {
            "outlinewidth": 0,
            "ticks": ""
           }
          },
          "colorscale": {
           "diverging": [
            [
             0,
             "#8e0152"
            ],
            [
             0.1,
             "#c51b7d"
            ],
            [
             0.2,
             "#de77ae"
            ],
            [
             0.3,
             "#f1b6da"
            ],
            [
             0.4,
             "#fde0ef"
            ],
            [
             0.5,
             "#f7f7f7"
            ],
            [
             0.6,
             "#e6f5d0"
            ],
            [
             0.7,
             "#b8e186"
            ],
            [
             0.8,
             "#7fbc41"
            ],
            [
             0.9,
             "#4d9221"
            ],
            [
             1,
             "#276419"
            ]
           ],
           "sequential": [
            [
             0,
             "#0d0887"
            ],
            [
             0.1111111111111111,
             "#46039f"
            ],
            [
             0.2222222222222222,
             "#7201a8"
            ],
            [
             0.3333333333333333,
             "#9c179e"
            ],
            [
             0.4444444444444444,
             "#bd3786"
            ],
            [
             0.5555555555555556,
             "#d8576b"
            ],
            [
             0.6666666666666666,
             "#ed7953"
            ],
            [
             0.7777777777777778,
             "#fb9f3a"
            ],
            [
             0.8888888888888888,
             "#fdca26"
            ],
            [
             1,
             "#f0f921"
            ]
           ],
           "sequentialminus": [
            [
             0,
             "#0d0887"
            ],
            [
             0.1111111111111111,
             "#46039f"
            ],
            [
             0.2222222222222222,
             "#7201a8"
            ],
            [
             0.3333333333333333,
             "#9c179e"
            ],
            [
             0.4444444444444444,
             "#bd3786"
            ],
            [
             0.5555555555555556,
             "#d8576b"
            ],
            [
             0.6666666666666666,
             "#ed7953"
            ],
            [
             0.7777777777777778,
             "#fb9f3a"
            ],
            [
             0.8888888888888888,
             "#fdca26"
            ],
            [
             1,
             "#f0f921"
            ]
           ]
          },
          "colorway": [
           "#636efa",
           "#EF553B",
           "#00cc96",
           "#ab63fa",
           "#FFA15A",
           "#19d3f3",
           "#FF6692",
           "#B6E880",
           "#FF97FF",
           "#FECB52"
          ],
          "font": {
           "color": "#2a3f5f"
          },
          "geo": {
           "bgcolor": "white",
           "lakecolor": "white",
           "landcolor": "#E5ECF6",
           "showlakes": true,
           "showland": true,
           "subunitcolor": "white"
          },
          "hoverlabel": {
           "align": "left"
          },
          "hovermode": "closest",
          "mapbox": {
           "style": "light"
          },
          "paper_bgcolor": "white",
          "plot_bgcolor": "#E5ECF6",
          "polar": {
           "angularaxis": {
            "gridcolor": "white",
            "linecolor": "white",
            "ticks": ""
           },
           "bgcolor": "#E5ECF6",
           "radialaxis": {
            "gridcolor": "white",
            "linecolor": "white",
            "ticks": ""
           }
          },
          "scene": {
           "xaxis": {
            "backgroundcolor": "#E5ECF6",
            "gridcolor": "white",
            "gridwidth": 2,
            "linecolor": "white",
            "showbackground": true,
            "ticks": "",
            "zerolinecolor": "white"
           },
           "yaxis": {
            "backgroundcolor": "#E5ECF6",
            "gridcolor": "white",
            "gridwidth": 2,
            "linecolor": "white",
            "showbackground": true,
            "ticks": "",
            "zerolinecolor": "white"
           },
           "zaxis": {
            "backgroundcolor": "#E5ECF6",
            "gridcolor": "white",
            "gridwidth": 2,
            "linecolor": "white",
            "showbackground": true,
            "ticks": "",
            "zerolinecolor": "white"
           }
          },
          "shapedefaults": {
           "line": {
            "color": "#2a3f5f"
           }
          },
          "ternary": {
           "aaxis": {
            "gridcolor": "white",
            "linecolor": "white",
            "ticks": ""
           },
           "baxis": {
            "gridcolor": "white",
            "linecolor": "white",
            "ticks": ""
           },
           "bgcolor": "#E5ECF6",
           "caxis": {
            "gridcolor": "white",
            "linecolor": "white",
            "ticks": ""
           }
          },
          "title": {
           "x": 0.05
          },
          "xaxis": {
           "automargin": true,
           "gridcolor": "white",
           "linecolor": "white",
           "ticks": "",
           "title": {
            "standoff": 15
           },
           "zerolinecolor": "white",
           "zerolinewidth": 2
          },
          "yaxis": {
           "automargin": true,
           "gridcolor": "white",
           "linecolor": "white",
           "ticks": "",
           "title": {
            "standoff": 15
           },
           "zerolinecolor": "white",
           "zerolinewidth": 2
          }
         }
        },
        "updatemenus": [
         {
          "active": 0,
          "buttons": [
           {
            "args": [
             {
              "visible": [
               true,
               true,
               true,
               true,
               true
              ]
             },
             {
              "showlegend": true,
              "title": "All"
             }
            ],
            "label": "All",
            "method": "update"
           },
           {
            "args": [
             {
              "visible": [
               true,
               false,
               false,
               false,
               false
              ]
             },
             {
              "showlegend": true,
              "title": "Acousticness"
             }
            ],
            "label": "Acousticness",
            "method": "update"
           },
           {
            "args": [
             {
              "visible": [
               false,
               true,
               false,
               false,
               false
              ]
             },
             {
              "showlegend": true,
              "title": "Danceability"
             }
            ],
            "label": "Danceability",
            "method": "update"
           },
           {
            "args": [
             {
              "visible": [
               false,
               false,
               true,
               false,
               false
              ]
             },
             {
              "showlegend": true,
              "title": "Energy"
             }
            ],
            "label": "Energy",
            "method": "update"
           },
           {
            "args": [
             {
              "visible": [
               false,
               false,
               false,
               true,
               false
              ]
             },
             {
              "showlegend": true,
              "title": "Liveness"
             }
            ],
            "label": "Liveness",
            "method": "update"
           },
           {
            "args": [
             {
              "visible": [
               false,
               false,
               false,
               false,
               true
              ]
             },
             {
              "showlegend": true,
              "title": "Valence"
             }
            ],
            "label": "Valence",
            "method": "update"
           }
          ]
         }
        ]
       }
      }
     },
     "metadata": {},
     "output_type": "display_data"
    }
   ],
   "source": [
    "# Interactive Chart of Audio Features\n",
    "\n",
    "fig = go.Figure()\n",
    "\n",
    "for column in low_audio_feat.columns.to_list():\n",
    "    fig.add_trace(\n",
    "        go.Scatter(\n",
    "            x = low_audio_feat.index,\n",
    "            y = low_audio_feat[column],\n",
    "            name = column\n",
    "        )\n",
    "    )\n",
    "    \n",
    "fig.update_layout(\n",
    "    updatemenus=[go.layout.Updatemenu(\n",
    "        active=0,\n",
    "        buttons=list(\n",
    "            [dict(label = 'All',\n",
    "                  method = 'update',\n",
    "                  args = [{'visible': [True, True, True, True, True]},\n",
    "                          {'title': 'All',\n",
    "                           'showlegend':True}]),\n",
    "             dict(label = 'Acousticness',\n",
    "                  method = 'update',\n",
    "                  args = [{'visible': [True, False, False, False, False]}, # the index of True aligns with the indices of plot traces\n",
    "                          {'title': 'Acousticness',\n",
    "                           'showlegend':True}]),\n",
    "             dict(label = 'Danceability',\n",
    "                  method = 'update',\n",
    "                  args = [{'visible': [False, True, False, False, False]},\n",
    "                          {'title': 'Danceability',\n",
    "                           'showlegend':True}]),\n",
    "             dict(label = 'Energy',\n",
    "                  method = 'update',\n",
    "                  args = [{'visible': [False, False, True, False, False]},\n",
    "                          {'title': 'Energy',\n",
    "                           'showlegend':True}]),\n",
    "             dict(label = 'Liveness',\n",
    "                  method = 'update',\n",
    "                  args = [{'visible': [False, False, False, True, False]},\n",
    "                          {'title': 'Liveness',\n",
    "                           'showlegend':True}]),\n",
    "            dict(label = 'Valence',\n",
    "                  method = 'update',\n",
    "                  args = [{'visible': [False, False, False, False, True]}, # the index of True aligns with the indices of plot traces\n",
    "                          {'title': 'Valence',\n",
    "                           'showlegend':True}]),\n",
    "            ])\n",
    "        )\n",
    "    ])\n",
    "\n",
    "fig.show()"
   ]
  },
  {
   "cell_type": "code",
   "execution_count": 132,
   "metadata": {},
   "outputs": [
    {
     "data": {
      "application/vnd.plotly.v1+json": {
       "config": {
        "plotlyServerURL": "https://plot.ly"
       },
       "data": [
        {
         "hovertemplate": "num_artists=%{x}<br>length(ms)=%{y}<extra></extra>",
         "legendgroup": "",
         "line": {
          "color": "#636efa",
          "dash": "solid"
         },
         "marker": {
          "symbol": "circle"
         },
         "mode": "lines+markers",
         "name": "",
         "orientation": "v",
         "showlegend": false,
         "type": "scatter",
         "x": [
          1,
          2,
          3
         ],
         "xaxis": "x",
         "y": [
          192300.31474103587,
          191548.14925373133,
          211788.0909090909
         ],
         "yaxis": "y"
        }
       ],
       "layout": {
        "legend": {
         "tracegroupgap": 0
        },
        "template": {
         "data": {
          "bar": [
           {
            "error_x": {
             "color": "#2a3f5f"
            },
            "error_y": {
             "color": "#2a3f5f"
            },
            "marker": {
             "line": {
              "color": "#E5ECF6",
              "width": 0.5
             },
             "pattern": {
              "fillmode": "overlay",
              "size": 10,
              "solidity": 0.2
             }
            },
            "type": "bar"
           }
          ],
          "barpolar": [
           {
            "marker": {
             "line": {
              "color": "#E5ECF6",
              "width": 0.5
             },
             "pattern": {
              "fillmode": "overlay",
              "size": 10,
              "solidity": 0.2
             }
            },
            "type": "barpolar"
           }
          ],
          "carpet": [
           {
            "aaxis": {
             "endlinecolor": "#2a3f5f",
             "gridcolor": "white",
             "linecolor": "white",
             "minorgridcolor": "white",
             "startlinecolor": "#2a3f5f"
            },
            "baxis": {
             "endlinecolor": "#2a3f5f",
             "gridcolor": "white",
             "linecolor": "white",
             "minorgridcolor": "white",
             "startlinecolor": "#2a3f5f"
            },
            "type": "carpet"
           }
          ],
          "choropleth": [
           {
            "colorbar": {
             "outlinewidth": 0,
             "ticks": ""
            },
            "type": "choropleth"
           }
          ],
          "contour": [
           {
            "colorbar": {
             "outlinewidth": 0,
             "ticks": ""
            },
            "colorscale": [
             [
              0,
              "#0d0887"
             ],
             [
              0.1111111111111111,
              "#46039f"
             ],
             [
              0.2222222222222222,
              "#7201a8"
             ],
             [
              0.3333333333333333,
              "#9c179e"
             ],
             [
              0.4444444444444444,
              "#bd3786"
             ],
             [
              0.5555555555555556,
              "#d8576b"
             ],
             [
              0.6666666666666666,
              "#ed7953"
             ],
             [
              0.7777777777777778,
              "#fb9f3a"
             ],
             [
              0.8888888888888888,
              "#fdca26"
             ],
             [
              1,
              "#f0f921"
             ]
            ],
            "type": "contour"
           }
          ],
          "contourcarpet": [
           {
            "colorbar": {
             "outlinewidth": 0,
             "ticks": ""
            },
            "type": "contourcarpet"
           }
          ],
          "heatmap": [
           {
            "colorbar": {
             "outlinewidth": 0,
             "ticks": ""
            },
            "colorscale": [
             [
              0,
              "#0d0887"
             ],
             [
              0.1111111111111111,
              "#46039f"
             ],
             [
              0.2222222222222222,
              "#7201a8"
             ],
             [
              0.3333333333333333,
              "#9c179e"
             ],
             [
              0.4444444444444444,
              "#bd3786"
             ],
             [
              0.5555555555555556,
              "#d8576b"
             ],
             [
              0.6666666666666666,
              "#ed7953"
             ],
             [
              0.7777777777777778,
              "#fb9f3a"
             ],
             [
              0.8888888888888888,
              "#fdca26"
             ],
             [
              1,
              "#f0f921"
             ]
            ],
            "type": "heatmap"
           }
          ],
          "heatmapgl": [
           {
            "colorbar": {
             "outlinewidth": 0,
             "ticks": ""
            },
            "colorscale": [
             [
              0,
              "#0d0887"
             ],
             [
              0.1111111111111111,
              "#46039f"
             ],
             [
              0.2222222222222222,
              "#7201a8"
             ],
             [
              0.3333333333333333,
              "#9c179e"
             ],
             [
              0.4444444444444444,
              "#bd3786"
             ],
             [
              0.5555555555555556,
              "#d8576b"
             ],
             [
              0.6666666666666666,
              "#ed7953"
             ],
             [
              0.7777777777777778,
              "#fb9f3a"
             ],
             [
              0.8888888888888888,
              "#fdca26"
             ],
             [
              1,
              "#f0f921"
             ]
            ],
            "type": "heatmapgl"
           }
          ],
          "histogram": [
           {
            "marker": {
             "pattern": {
              "fillmode": "overlay",
              "size": 10,
              "solidity": 0.2
             }
            },
            "type": "histogram"
           }
          ],
          "histogram2d": [
           {
            "colorbar": {
             "outlinewidth": 0,
             "ticks": ""
            },
            "colorscale": [
             [
              0,
              "#0d0887"
             ],
             [
              0.1111111111111111,
              "#46039f"
             ],
             [
              0.2222222222222222,
              "#7201a8"
             ],
             [
              0.3333333333333333,
              "#9c179e"
             ],
             [
              0.4444444444444444,
              "#bd3786"
             ],
             [
              0.5555555555555556,
              "#d8576b"
             ],
             [
              0.6666666666666666,
              "#ed7953"
             ],
             [
              0.7777777777777778,
              "#fb9f3a"
             ],
             [
              0.8888888888888888,
              "#fdca26"
             ],
             [
              1,
              "#f0f921"
             ]
            ],
            "type": "histogram2d"
           }
          ],
          "histogram2dcontour": [
           {
            "colorbar": {
             "outlinewidth": 0,
             "ticks": ""
            },
            "colorscale": [
             [
              0,
              "#0d0887"
             ],
             [
              0.1111111111111111,
              "#46039f"
             ],
             [
              0.2222222222222222,
              "#7201a8"
             ],
             [
              0.3333333333333333,
              "#9c179e"
             ],
             [
              0.4444444444444444,
              "#bd3786"
             ],
             [
              0.5555555555555556,
              "#d8576b"
             ],
             [
              0.6666666666666666,
              "#ed7953"
             ],
             [
              0.7777777777777778,
              "#fb9f3a"
             ],
             [
              0.8888888888888888,
              "#fdca26"
             ],
             [
              1,
              "#f0f921"
             ]
            ],
            "type": "histogram2dcontour"
           }
          ],
          "mesh3d": [
           {
            "colorbar": {
             "outlinewidth": 0,
             "ticks": ""
            },
            "type": "mesh3d"
           }
          ],
          "parcoords": [
           {
            "line": {
             "colorbar": {
              "outlinewidth": 0,
              "ticks": ""
             }
            },
            "type": "parcoords"
           }
          ],
          "pie": [
           {
            "automargin": true,
            "type": "pie"
           }
          ],
          "scatter": [
           {
            "marker": {
             "colorbar": {
              "outlinewidth": 0,
              "ticks": ""
             }
            },
            "type": "scatter"
           }
          ],
          "scatter3d": [
           {
            "line": {
             "colorbar": {
              "outlinewidth": 0,
              "ticks": ""
             }
            },
            "marker": {
             "colorbar": {
              "outlinewidth": 0,
              "ticks": ""
             }
            },
            "type": "scatter3d"
           }
          ],
          "scattercarpet": [
           {
            "marker": {
             "colorbar": {
              "outlinewidth": 0,
              "ticks": ""
             }
            },
            "type": "scattercarpet"
           }
          ],
          "scattergeo": [
           {
            "marker": {
             "colorbar": {
              "outlinewidth": 0,
              "ticks": ""
             }
            },
            "type": "scattergeo"
           }
          ],
          "scattergl": [
           {
            "marker": {
             "colorbar": {
              "outlinewidth": 0,
              "ticks": ""
             }
            },
            "type": "scattergl"
           }
          ],
          "scattermapbox": [
           {
            "marker": {
             "colorbar": {
              "outlinewidth": 0,
              "ticks": ""
             }
            },
            "type": "scattermapbox"
           }
          ],
          "scatterpolar": [
           {
            "marker": {
             "colorbar": {
              "outlinewidth": 0,
              "ticks": ""
             }
            },
            "type": "scatterpolar"
           }
          ],
          "scatterpolargl": [
           {
            "marker": {
             "colorbar": {
              "outlinewidth": 0,
              "ticks": ""
             }
            },
            "type": "scatterpolargl"
           }
          ],
          "scatterternary": [
           {
            "marker": {
             "colorbar": {
              "outlinewidth": 0,
              "ticks": ""
             }
            },
            "type": "scatterternary"
           }
          ],
          "surface": [
           {
            "colorbar": {
             "outlinewidth": 0,
             "ticks": ""
            },
            "colorscale": [
             [
              0,
              "#0d0887"
             ],
             [
              0.1111111111111111,
              "#46039f"
             ],
             [
              0.2222222222222222,
              "#7201a8"
             ],
             [
              0.3333333333333333,
              "#9c179e"
             ],
             [
              0.4444444444444444,
              "#bd3786"
             ],
             [
              0.5555555555555556,
              "#d8576b"
             ],
             [
              0.6666666666666666,
              "#ed7953"
             ],
             [
              0.7777777777777778,
              "#fb9f3a"
             ],
             [
              0.8888888888888888,
              "#fdca26"
             ],
             [
              1,
              "#f0f921"
             ]
            ],
            "type": "surface"
           }
          ],
          "table": [
           {
            "cells": {
             "fill": {
              "color": "#EBF0F8"
             },
             "line": {
              "color": "white"
             }
            },
            "header": {
             "fill": {
              "color": "#C8D4E3"
             },
             "line": {
              "color": "white"
             }
            },
            "type": "table"
           }
          ]
         },
         "layout": {
          "annotationdefaults": {
           "arrowcolor": "#2a3f5f",
           "arrowhead": 0,
           "arrowwidth": 1
          },
          "autotypenumbers": "strict",
          "coloraxis": {
           "colorbar": {
            "outlinewidth": 0,
            "ticks": ""
           }
          },
          "colorscale": {
           "diverging": [
            [
             0,
             "#8e0152"
            ],
            [
             0.1,
             "#c51b7d"
            ],
            [
             0.2,
             "#de77ae"
            ],
            [
             0.3,
             "#f1b6da"
            ],
            [
             0.4,
             "#fde0ef"
            ],
            [
             0.5,
             "#f7f7f7"
            ],
            [
             0.6,
             "#e6f5d0"
            ],
            [
             0.7,
             "#b8e186"
            ],
            [
             0.8,
             "#7fbc41"
            ],
            [
             0.9,
             "#4d9221"
            ],
            [
             1,
             "#276419"
            ]
           ],
           "sequential": [
            [
             0,
             "#0d0887"
            ],
            [
             0.1111111111111111,
             "#46039f"
            ],
            [
             0.2222222222222222,
             "#7201a8"
            ],
            [
             0.3333333333333333,
             "#9c179e"
            ],
            [
             0.4444444444444444,
             "#bd3786"
            ],
            [
             0.5555555555555556,
             "#d8576b"
            ],
            [
             0.6666666666666666,
             "#ed7953"
            ],
            [
             0.7777777777777778,
             "#fb9f3a"
            ],
            [
             0.8888888888888888,
             "#fdca26"
            ],
            [
             1,
             "#f0f921"
            ]
           ],
           "sequentialminus": [
            [
             0,
             "#0d0887"
            ],
            [
             0.1111111111111111,
             "#46039f"
            ],
            [
             0.2222222222222222,
             "#7201a8"
            ],
            [
             0.3333333333333333,
             "#9c179e"
            ],
            [
             0.4444444444444444,
             "#bd3786"
            ],
            [
             0.5555555555555556,
             "#d8576b"
            ],
            [
             0.6666666666666666,
             "#ed7953"
            ],
            [
             0.7777777777777778,
             "#fb9f3a"
            ],
            [
             0.8888888888888888,
             "#fdca26"
            ],
            [
             1,
             "#f0f921"
            ]
           ]
          },
          "colorway": [
           "#636efa",
           "#EF553B",
           "#00cc96",
           "#ab63fa",
           "#FFA15A",
           "#19d3f3",
           "#FF6692",
           "#B6E880",
           "#FF97FF",
           "#FECB52"
          ],
          "font": {
           "color": "#2a3f5f"
          },
          "geo": {
           "bgcolor": "white",
           "lakecolor": "white",
           "landcolor": "#E5ECF6",
           "showlakes": true,
           "showland": true,
           "subunitcolor": "white"
          },
          "hoverlabel": {
           "align": "left"
          },
          "hovermode": "closest",
          "mapbox": {
           "style": "light"
          },
          "paper_bgcolor": "white",
          "plot_bgcolor": "#E5ECF6",
          "polar": {
           "angularaxis": {
            "gridcolor": "white",
            "linecolor": "white",
            "ticks": ""
           },
           "bgcolor": "#E5ECF6",
           "radialaxis": {
            "gridcolor": "white",
            "linecolor": "white",
            "ticks": ""
           }
          },
          "scene": {
           "xaxis": {
            "backgroundcolor": "#E5ECF6",
            "gridcolor": "white",
            "gridwidth": 2,
            "linecolor": "white",
            "showbackground": true,
            "ticks": "",
            "zerolinecolor": "white"
           },
           "yaxis": {
            "backgroundcolor": "#E5ECF6",
            "gridcolor": "white",
            "gridwidth": 2,
            "linecolor": "white",
            "showbackground": true,
            "ticks": "",
            "zerolinecolor": "white"
           },
           "zaxis": {
            "backgroundcolor": "#E5ECF6",
            "gridcolor": "white",
            "gridwidth": 2,
            "linecolor": "white",
            "showbackground": true,
            "ticks": "",
            "zerolinecolor": "white"
           }
          },
          "shapedefaults": {
           "line": {
            "color": "#2a3f5f"
           }
          },
          "ternary": {
           "aaxis": {
            "gridcolor": "white",
            "linecolor": "white",
            "ticks": ""
           },
           "baxis": {
            "gridcolor": "white",
            "linecolor": "white",
            "ticks": ""
           },
           "bgcolor": "#E5ECF6",
           "caxis": {
            "gridcolor": "white",
            "linecolor": "white",
            "ticks": ""
           }
          },
          "title": {
           "x": 0.05
          },
          "xaxis": {
           "automargin": true,
           "gridcolor": "white",
           "linecolor": "white",
           "ticks": "",
           "title": {
            "standoff": 15
           },
           "zerolinecolor": "white",
           "zerolinewidth": 2
          },
          "yaxis": {
           "automargin": true,
           "gridcolor": "white",
           "linecolor": "white",
           "ticks": "",
           "title": {
            "standoff": 15
           },
           "zerolinecolor": "white",
           "zerolinewidth": 2
          }
         }
        },
        "title": {
         "text": "Number of Featured Artists and the Average Track Length"
        },
        "xaxis": {
         "anchor": "y",
         "domain": [
          0,
          1
         ],
         "title": {
          "text": "num_artists"
         },
         "type": "category"
        },
        "yaxis": {
         "anchor": "x",
         "domain": [
          0,
          1
         ],
         "title": {
          "text": "length(ms)"
         }
        }
       }
      }
     },
     "metadata": {},
     "output_type": "display_data"
    }
   ],
   "source": [
    "# Scatter plot of number of artists and the Length feature\n",
    "fig = px.line(num_art_grp, x=x_axis, y='length(ms)', markers=True,\n",
    "    title = 'Number of Featured Artists and the Average Track Length')\n",
    "fig.update_xaxes(type='category')\n",
    "\n",
    "fig.show()"
   ]
  },
  {
   "cell_type": "code",
   "execution_count": 134,
   "metadata": {},
   "outputs": [
    {
     "data": {
      "application/vnd.plotly.v1+json": {
       "config": {
        "plotlyServerURL": "https://plot.ly"
       },
       "data": [
        {
         "hovertemplate": "num_artists=%{x}<br>tempo=%{y}<extra></extra>",
         "legendgroup": "",
         "line": {
          "color": "#636efa",
          "dash": "solid"
         },
         "marker": {
          "symbol": "circle"
         },
         "mode": "lines+markers",
         "name": "",
         "orientation": "v",
         "showlegend": false,
         "type": "scatter",
         "x": [
          1,
          2,
          3
         ],
         "xaxis": "x",
         "y": [
          122.58333864541834,
          120.19104477611941,
          119.77615151515151
         ],
         "yaxis": "y"
        }
       ],
       "layout": {
        "legend": {
         "tracegroupgap": 0
        },
        "template": {
         "data": {
          "bar": [
           {
            "error_x": {
             "color": "#2a3f5f"
            },
            "error_y": {
             "color": "#2a3f5f"
            },
            "marker": {
             "line": {
              "color": "#E5ECF6",
              "width": 0.5
             },
             "pattern": {
              "fillmode": "overlay",
              "size": 10,
              "solidity": 0.2
             }
            },
            "type": "bar"
           }
          ],
          "barpolar": [
           {
            "marker": {
             "line": {
              "color": "#E5ECF6",
              "width": 0.5
             },
             "pattern": {
              "fillmode": "overlay",
              "size": 10,
              "solidity": 0.2
             }
            },
            "type": "barpolar"
           }
          ],
          "carpet": [
           {
            "aaxis": {
             "endlinecolor": "#2a3f5f",
             "gridcolor": "white",
             "linecolor": "white",
             "minorgridcolor": "white",
             "startlinecolor": "#2a3f5f"
            },
            "baxis": {
             "endlinecolor": "#2a3f5f",
             "gridcolor": "white",
             "linecolor": "white",
             "minorgridcolor": "white",
             "startlinecolor": "#2a3f5f"
            },
            "type": "carpet"
           }
          ],
          "choropleth": [
           {
            "colorbar": {
             "outlinewidth": 0,
             "ticks": ""
            },
            "type": "choropleth"
           }
          ],
          "contour": [
           {
            "colorbar": {
             "outlinewidth": 0,
             "ticks": ""
            },
            "colorscale": [
             [
              0,
              "#0d0887"
             ],
             [
              0.1111111111111111,
              "#46039f"
             ],
             [
              0.2222222222222222,
              "#7201a8"
             ],
             [
              0.3333333333333333,
              "#9c179e"
             ],
             [
              0.4444444444444444,
              "#bd3786"
             ],
             [
              0.5555555555555556,
              "#d8576b"
             ],
             [
              0.6666666666666666,
              "#ed7953"
             ],
             [
              0.7777777777777778,
              "#fb9f3a"
             ],
             [
              0.8888888888888888,
              "#fdca26"
             ],
             [
              1,
              "#f0f921"
             ]
            ],
            "type": "contour"
           }
          ],
          "contourcarpet": [
           {
            "colorbar": {
             "outlinewidth": 0,
             "ticks": ""
            },
            "type": "contourcarpet"
           }
          ],
          "heatmap": [
           {
            "colorbar": {
             "outlinewidth": 0,
             "ticks": ""
            },
            "colorscale": [
             [
              0,
              "#0d0887"
             ],
             [
              0.1111111111111111,
              "#46039f"
             ],
             [
              0.2222222222222222,
              "#7201a8"
             ],
             [
              0.3333333333333333,
              "#9c179e"
             ],
             [
              0.4444444444444444,
              "#bd3786"
             ],
             [
              0.5555555555555556,
              "#d8576b"
             ],
             [
              0.6666666666666666,
              "#ed7953"
             ],
             [
              0.7777777777777778,
              "#fb9f3a"
             ],
             [
              0.8888888888888888,
              "#fdca26"
             ],
             [
              1,
              "#f0f921"
             ]
            ],
            "type": "heatmap"
           }
          ],
          "heatmapgl": [
           {
            "colorbar": {
             "outlinewidth": 0,
             "ticks": ""
            },
            "colorscale": [
             [
              0,
              "#0d0887"
             ],
             [
              0.1111111111111111,
              "#46039f"
             ],
             [
              0.2222222222222222,
              "#7201a8"
             ],
             [
              0.3333333333333333,
              "#9c179e"
             ],
             [
              0.4444444444444444,
              "#bd3786"
             ],
             [
              0.5555555555555556,
              "#d8576b"
             ],
             [
              0.6666666666666666,
              "#ed7953"
             ],
             [
              0.7777777777777778,
              "#fb9f3a"
             ],
             [
              0.8888888888888888,
              "#fdca26"
             ],
             [
              1,
              "#f0f921"
             ]
            ],
            "type": "heatmapgl"
           }
          ],
          "histogram": [
           {
            "marker": {
             "pattern": {
              "fillmode": "overlay",
              "size": 10,
              "solidity": 0.2
             }
            },
            "type": "histogram"
           }
          ],
          "histogram2d": [
           {
            "colorbar": {
             "outlinewidth": 0,
             "ticks": ""
            },
            "colorscale": [
             [
              0,
              "#0d0887"
             ],
             [
              0.1111111111111111,
              "#46039f"
             ],
             [
              0.2222222222222222,
              "#7201a8"
             ],
             [
              0.3333333333333333,
              "#9c179e"
             ],
             [
              0.4444444444444444,
              "#bd3786"
             ],
             [
              0.5555555555555556,
              "#d8576b"
             ],
             [
              0.6666666666666666,
              "#ed7953"
             ],
             [
              0.7777777777777778,
              "#fb9f3a"
             ],
             [
              0.8888888888888888,
              "#fdca26"
             ],
             [
              1,
              "#f0f921"
             ]
            ],
            "type": "histogram2d"
           }
          ],
          "histogram2dcontour": [
           {
            "colorbar": {
             "outlinewidth": 0,
             "ticks": ""
            },
            "colorscale": [
             [
              0,
              "#0d0887"
             ],
             [
              0.1111111111111111,
              "#46039f"
             ],
             [
              0.2222222222222222,
              "#7201a8"
             ],
             [
              0.3333333333333333,
              "#9c179e"
             ],
             [
              0.4444444444444444,
              "#bd3786"
             ],
             [
              0.5555555555555556,
              "#d8576b"
             ],
             [
              0.6666666666666666,
              "#ed7953"
             ],
             [
              0.7777777777777778,
              "#fb9f3a"
             ],
             [
              0.8888888888888888,
              "#fdca26"
             ],
             [
              1,
              "#f0f921"
             ]
            ],
            "type": "histogram2dcontour"
           }
          ],
          "mesh3d": [
           {
            "colorbar": {
             "outlinewidth": 0,
             "ticks": ""
            },
            "type": "mesh3d"
           }
          ],
          "parcoords": [
           {
            "line": {
             "colorbar": {
              "outlinewidth": 0,
              "ticks": ""
             }
            },
            "type": "parcoords"
           }
          ],
          "pie": [
           {
            "automargin": true,
            "type": "pie"
           }
          ],
          "scatter": [
           {
            "marker": {
             "colorbar": {
              "outlinewidth": 0,
              "ticks": ""
             }
            },
            "type": "scatter"
           }
          ],
          "scatter3d": [
           {
            "line": {
             "colorbar": {
              "outlinewidth": 0,
              "ticks": ""
             }
            },
            "marker": {
             "colorbar": {
              "outlinewidth": 0,
              "ticks": ""
             }
            },
            "type": "scatter3d"
           }
          ],
          "scattercarpet": [
           {
            "marker": {
             "colorbar": {
              "outlinewidth": 0,
              "ticks": ""
             }
            },
            "type": "scattercarpet"
           }
          ],
          "scattergeo": [
           {
            "marker": {
             "colorbar": {
              "outlinewidth": 0,
              "ticks": ""
             }
            },
            "type": "scattergeo"
           }
          ],
          "scattergl": [
           {
            "marker": {
             "colorbar": {
              "outlinewidth": 0,
              "ticks": ""
             }
            },
            "type": "scattergl"
           }
          ],
          "scattermapbox": [
           {
            "marker": {
             "colorbar": {
              "outlinewidth": 0,
              "ticks": ""
             }
            },
            "type": "scattermapbox"
           }
          ],
          "scatterpolar": [
           {
            "marker": {
             "colorbar": {
              "outlinewidth": 0,
              "ticks": ""
             }
            },
            "type": "scatterpolar"
           }
          ],
          "scatterpolargl": [
           {
            "marker": {
             "colorbar": {
              "outlinewidth": 0,
              "ticks": ""
             }
            },
            "type": "scatterpolargl"
           }
          ],
          "scatterternary": [
           {
            "marker": {
             "colorbar": {
              "outlinewidth": 0,
              "ticks": ""
             }
            },
            "type": "scatterternary"
           }
          ],
          "surface": [
           {
            "colorbar": {
             "outlinewidth": 0,
             "ticks": ""
            },
            "colorscale": [
             [
              0,
              "#0d0887"
             ],
             [
              0.1111111111111111,
              "#46039f"
             ],
             [
              0.2222222222222222,
              "#7201a8"
             ],
             [
              0.3333333333333333,
              "#9c179e"
             ],
             [
              0.4444444444444444,
              "#bd3786"
             ],
             [
              0.5555555555555556,
              "#d8576b"
             ],
             [
              0.6666666666666666,
              "#ed7953"
             ],
             [
              0.7777777777777778,
              "#fb9f3a"
             ],
             [
              0.8888888888888888,
              "#fdca26"
             ],
             [
              1,
              "#f0f921"
             ]
            ],
            "type": "surface"
           }
          ],
          "table": [
           {
            "cells": {
             "fill": {
              "color": "#EBF0F8"
             },
             "line": {
              "color": "white"
             }
            },
            "header": {
             "fill": {
              "color": "#C8D4E3"
             },
             "line": {
              "color": "white"
             }
            },
            "type": "table"
           }
          ]
         },
         "layout": {
          "annotationdefaults": {
           "arrowcolor": "#2a3f5f",
           "arrowhead": 0,
           "arrowwidth": 1
          },
          "autotypenumbers": "strict",
          "coloraxis": {
           "colorbar": {
            "outlinewidth": 0,
            "ticks": ""
           }
          },
          "colorscale": {
           "diverging": [
            [
             0,
             "#8e0152"
            ],
            [
             0.1,
             "#c51b7d"
            ],
            [
             0.2,
             "#de77ae"
            ],
            [
             0.3,
             "#f1b6da"
            ],
            [
             0.4,
             "#fde0ef"
            ],
            [
             0.5,
             "#f7f7f7"
            ],
            [
             0.6,
             "#e6f5d0"
            ],
            [
             0.7,
             "#b8e186"
            ],
            [
             0.8,
             "#7fbc41"
            ],
            [
             0.9,
             "#4d9221"
            ],
            [
             1,
             "#276419"
            ]
           ],
           "sequential": [
            [
             0,
             "#0d0887"
            ],
            [
             0.1111111111111111,
             "#46039f"
            ],
            [
             0.2222222222222222,
             "#7201a8"
            ],
            [
             0.3333333333333333,
             "#9c179e"
            ],
            [
             0.4444444444444444,
             "#bd3786"
            ],
            [
             0.5555555555555556,
             "#d8576b"
            ],
            [
             0.6666666666666666,
             "#ed7953"
            ],
            [
             0.7777777777777778,
             "#fb9f3a"
            ],
            [
             0.8888888888888888,
             "#fdca26"
            ],
            [
             1,
             "#f0f921"
            ]
           ],
           "sequentialminus": [
            [
             0,
             "#0d0887"
            ],
            [
             0.1111111111111111,
             "#46039f"
            ],
            [
             0.2222222222222222,
             "#7201a8"
            ],
            [
             0.3333333333333333,
             "#9c179e"
            ],
            [
             0.4444444444444444,
             "#bd3786"
            ],
            [
             0.5555555555555556,
             "#d8576b"
            ],
            [
             0.6666666666666666,
             "#ed7953"
            ],
            [
             0.7777777777777778,
             "#fb9f3a"
            ],
            [
             0.8888888888888888,
             "#fdca26"
            ],
            [
             1,
             "#f0f921"
            ]
           ]
          },
          "colorway": [
           "#636efa",
           "#EF553B",
           "#00cc96",
           "#ab63fa",
           "#FFA15A",
           "#19d3f3",
           "#FF6692",
           "#B6E880",
           "#FF97FF",
           "#FECB52"
          ],
          "font": {
           "color": "#2a3f5f"
          },
          "geo": {
           "bgcolor": "white",
           "lakecolor": "white",
           "landcolor": "#E5ECF6",
           "showlakes": true,
           "showland": true,
           "subunitcolor": "white"
          },
          "hoverlabel": {
           "align": "left"
          },
          "hovermode": "closest",
          "mapbox": {
           "style": "light"
          },
          "paper_bgcolor": "white",
          "plot_bgcolor": "#E5ECF6",
          "polar": {
           "angularaxis": {
            "gridcolor": "white",
            "linecolor": "white",
            "ticks": ""
           },
           "bgcolor": "#E5ECF6",
           "radialaxis": {
            "gridcolor": "white",
            "linecolor": "white",
            "ticks": ""
           }
          },
          "scene": {
           "xaxis": {
            "backgroundcolor": "#E5ECF6",
            "gridcolor": "white",
            "gridwidth": 2,
            "linecolor": "white",
            "showbackground": true,
            "ticks": "",
            "zerolinecolor": "white"
           },
           "yaxis": {
            "backgroundcolor": "#E5ECF6",
            "gridcolor": "white",
            "gridwidth": 2,
            "linecolor": "white",
            "showbackground": true,
            "ticks": "",
            "zerolinecolor": "white"
           },
           "zaxis": {
            "backgroundcolor": "#E5ECF6",
            "gridcolor": "white",
            "gridwidth": 2,
            "linecolor": "white",
            "showbackground": true,
            "ticks": "",
            "zerolinecolor": "white"
           }
          },
          "shapedefaults": {
           "line": {
            "color": "#2a3f5f"
           }
          },
          "ternary": {
           "aaxis": {
            "gridcolor": "white",
            "linecolor": "white",
            "ticks": ""
           },
           "baxis": {
            "gridcolor": "white",
            "linecolor": "white",
            "ticks": ""
           },
           "bgcolor": "#E5ECF6",
           "caxis": {
            "gridcolor": "white",
            "linecolor": "white",
            "ticks": ""
           }
          },
          "title": {
           "x": 0.05
          },
          "xaxis": {
           "automargin": true,
           "gridcolor": "white",
           "linecolor": "white",
           "ticks": "",
           "title": {
            "standoff": 15
           },
           "zerolinecolor": "white",
           "zerolinewidth": 2
          },
          "yaxis": {
           "automargin": true,
           "gridcolor": "white",
           "linecolor": "white",
           "ticks": "",
           "title": {
            "standoff": 15
           },
           "zerolinecolor": "white",
           "zerolinewidth": 2
          }
         }
        },
        "title": {
         "text": "Number of Featured Artists and the Average Tempo"
        },
        "xaxis": {
         "anchor": "y",
         "domain": [
          0,
          1
         ],
         "title": {
          "text": "num_artists"
         },
         "type": "category"
        },
        "yaxis": {
         "anchor": "x",
         "domain": [
          0,
          1
         ],
         "title": {
          "text": "tempo"
         }
        }
       }
      }
     },
     "metadata": {},
     "output_type": "display_data"
    }
   ],
   "source": [
    "# Scatter plot of number of artists and the Tempo feature\n",
    "fig = px.line(num_art_grp, x=x_axis, y='tempo', markers=True,\n",
    "    title = 'Number of Featured Artists and the Average Tempo')\n",
    "fig.update_xaxes(type='category')\n",
    "\n",
    "fig.show()"
   ]
  },
  {
   "cell_type": "markdown",
   "metadata": {},
   "source": [
    "Findings:\n",
    "Tracks are longer when there are more artists.\n",
    "Acoustic levels go down as the number of featured artists increased.\n",
    "Danceability increases as the number of artists increased.\n",
    "Energy level increases as the number of artists increased.\n",
    "Highest average liveness is with two artists.\n",
    "The tempo in beats per minute decreases as the number of artists increase.\n",
    "Most happy songs (highest average valence) when there are two artists."
   ]
  },
  {
   "cell_type": "markdown",
   "metadata": {},
   "source": [
    "### What are popular artists to collab with?\n",
    "Which 88rising artists have the most number of collaborations? We will be looking into artists with the most tracks that has features."
   ]
  },
  {
   "cell_type": "code",
   "execution_count": 12,
   "metadata": {},
   "outputs": [
    {
     "data": {
      "text/html": [
       "<div>\n",
       "<style scoped>\n",
       "    .dataframe tbody tr th:only-of-type {\n",
       "        vertical-align: middle;\n",
       "    }\n",
       "\n",
       "    .dataframe tbody tr th {\n",
       "        vertical-align: top;\n",
       "    }\n",
       "\n",
       "    .dataframe thead th {\n",
       "        text-align: right;\n",
       "    }\n",
       "</style>\n",
       "<table border=\"1\" class=\"dataframe\">\n",
       "  <thead>\n",
       "    <tr style=\"text-align: right;\">\n",
       "      <th></th>\n",
       "      <th>song name</th>\n",
       "      <th>album</th>\n",
       "      <th>artist</th>\n",
       "      <th>featured</th>\n",
       "      <th>release_date</th>\n",
       "      <th>length(ms)</th>\n",
       "      <th>popularity</th>\n",
       "      <th>acousticness</th>\n",
       "      <th>danceability</th>\n",
       "      <th>energy</th>\n",
       "      <th>liveness</th>\n",
       "      <th>tempo</th>\n",
       "      <th>valence</th>\n",
       "      <th>num_artists</th>\n",
       "    </tr>\n",
       "  </thead>\n",
       "  <tbody>\n",
       "    <tr>\n",
       "      <th>0</th>\n",
       "      <td>The Weekend</td>\n",
       "      <td>The Weekend</td>\n",
       "      <td>88rising</td>\n",
       "      <td>[88rising, BIBI]</td>\n",
       "      <td>2021-10-14</td>\n",
       "      <td>167661</td>\n",
       "      <td>69</td>\n",
       "      <td>0.062000</td>\n",
       "      <td>0.784</td>\n",
       "      <td>0.521</td>\n",
       "      <td>0.0995</td>\n",
       "      <td>101.491</td>\n",
       "      <td>0.817</td>\n",
       "      <td>2</td>\n",
       "    </tr>\n",
       "    <tr>\n",
       "      <th>1</th>\n",
       "      <td>Best Lover</td>\n",
       "      <td>Head In The Clouds Forever</td>\n",
       "      <td>88rising</td>\n",
       "      <td>[88rising, BIBI]</td>\n",
       "      <td>2022-04-16</td>\n",
       "      <td>152910</td>\n",
       "      <td>66</td>\n",
       "      <td>0.268000</td>\n",
       "      <td>0.740</td>\n",
       "      <td>0.663</td>\n",
       "      <td>0.1210</td>\n",
       "      <td>82.004</td>\n",
       "      <td>0.519</td>\n",
       "      <td>2</td>\n",
       "    </tr>\n",
       "    <tr>\n",
       "      <th>2</th>\n",
       "      <td>Crazy Like You (feat. BIBI)</td>\n",
       "      <td>Bare&amp;Rare, Pt. 1</td>\n",
       "      <td>CHUNG HA</td>\n",
       "      <td>[CHUNG HA, BIBI]</td>\n",
       "      <td>2022-07-11</td>\n",
       "      <td>175480</td>\n",
       "      <td>50</td>\n",
       "      <td>0.095700</td>\n",
       "      <td>0.536</td>\n",
       "      <td>0.639</td>\n",
       "      <td>0.2090</td>\n",
       "      <td>170.940</td>\n",
       "      <td>0.502</td>\n",
       "      <td>2</td>\n",
       "    </tr>\n",
       "    <tr>\n",
       "      <th>3</th>\n",
       "      <td>froyo (feat. Warren Hue)</td>\n",
       "      <td>Head In The Clouds Forever</td>\n",
       "      <td>88rising</td>\n",
       "      <td>[88rising, BIBI, Rich Brian]</td>\n",
       "      <td>2022-04-16</td>\n",
       "      <td>309121</td>\n",
       "      <td>45</td>\n",
       "      <td>0.213000</td>\n",
       "      <td>0.508</td>\n",
       "      <td>0.688</td>\n",
       "      <td>0.1570</td>\n",
       "      <td>145.089</td>\n",
       "      <td>0.335</td>\n",
       "      <td>3</td>\n",
       "    </tr>\n",
       "    <tr>\n",
       "      <th>4</th>\n",
       "      <td>These Nights</td>\n",
       "      <td>These Nights</td>\n",
       "      <td>88rising</td>\n",
       "      <td>[88rising, Rich Brian]</td>\n",
       "      <td>2019-10-03</td>\n",
       "      <td>223006</td>\n",
       "      <td>41</td>\n",
       "      <td>0.000317</td>\n",
       "      <td>0.656</td>\n",
       "      <td>0.673</td>\n",
       "      <td>0.2800</td>\n",
       "      <td>83.018</td>\n",
       "      <td>0.494</td>\n",
       "      <td>2</td>\n",
       "    </tr>\n",
       "  </tbody>\n",
       "</table>\n",
       "</div>"
      ],
      "text/plain": [
       "                     song name                       album    artist  \\\n",
       "0                  The Weekend                 The Weekend  88rising   \n",
       "1                   Best Lover  Head In The Clouds Forever  88rising   \n",
       "2  Crazy Like You (feat. BIBI)            Bare&Rare, Pt. 1  CHUNG HA   \n",
       "3     froyo (feat. Warren Hue)  Head In The Clouds Forever  88rising   \n",
       "4                 These Nights                These Nights  88rising   \n",
       "\n",
       "                       featured release_date  length(ms)  popularity  \\\n",
       "0              [88rising, BIBI]   2021-10-14      167661          69   \n",
       "1              [88rising, BIBI]   2022-04-16      152910          66   \n",
       "2              [CHUNG HA, BIBI]   2022-07-11      175480          50   \n",
       "3  [88rising, BIBI, Rich Brian]   2022-04-16      309121          45   \n",
       "4        [88rising, Rich Brian]   2019-10-03      223006          41   \n",
       "\n",
       "   acousticness  danceability  energy  liveness    tempo  valence  num_artists  \n",
       "0      0.062000         0.784   0.521    0.0995  101.491    0.817            2  \n",
       "1      0.268000         0.740   0.663    0.1210   82.004    0.519            2  \n",
       "2      0.095700         0.536   0.639    0.2090  170.940    0.502            2  \n",
       "3      0.213000         0.508   0.688    0.1570  145.089    0.335            3  \n",
       "4      0.000317         0.656   0.673    0.2800   83.018    0.494            2  "
      ]
     },
     "execution_count": 12,
     "metadata": {},
     "output_type": "execute_result"
    }
   ],
   "source": [
    "# Combine 88rising collabs and outside collabs data\n",
    "all_collabs_df = pd.concat([collabs_88_df, collab_out_df], axis=0)\n",
    "all_collabs_df = all_collabs_df.reset_index(drop = True)\n",
    "all_collabs_df.head()"
   ]
  },
  {
   "cell_type": "code",
   "execution_count": 5,
   "metadata": {},
   "outputs": [
    {
     "data": {
      "text/html": [
       "<div>\n",
       "<style scoped>\n",
       "    .dataframe tbody tr th:only-of-type {\n",
       "        vertical-align: middle;\n",
       "    }\n",
       "\n",
       "    .dataframe tbody tr th {\n",
       "        vertical-align: top;\n",
       "    }\n",
       "\n",
       "    .dataframe thead th {\n",
       "        text-align: right;\n",
       "    }\n",
       "</style>\n",
       "<table border=\"1\" class=\"dataframe\">\n",
       "  <thead>\n",
       "    <tr style=\"text-align: right;\">\n",
       "      <th></th>\n",
       "      <th>length(ms)</th>\n",
       "      <th>popularity</th>\n",
       "      <th>acousticness</th>\n",
       "      <th>danceability</th>\n",
       "      <th>energy</th>\n",
       "      <th>liveness</th>\n",
       "      <th>tempo</th>\n",
       "      <th>valence</th>\n",
       "    </tr>\n",
       "    <tr>\n",
       "      <th>artist</th>\n",
       "      <th></th>\n",
       "      <th></th>\n",
       "      <th></th>\n",
       "      <th></th>\n",
       "      <th></th>\n",
       "      <th></th>\n",
       "      <th></th>\n",
       "      <th></th>\n",
       "    </tr>\n",
       "  </thead>\n",
       "  <tbody>\n",
       "    <tr>\n",
       "      <th>88rising</th>\n",
       "      <td>203475.860465</td>\n",
       "      <td>50.372093</td>\n",
       "      <td>0.275442</td>\n",
       "      <td>0.690698</td>\n",
       "      <td>0.616326</td>\n",
       "      <td>0.156477</td>\n",
       "      <td>117.029953</td>\n",
       "      <td>0.420535</td>\n",
       "    </tr>\n",
       "    <tr>\n",
       "      <th>Afgan</th>\n",
       "      <td>178798.000000</td>\n",
       "      <td>46.000000</td>\n",
       "      <td>0.256000</td>\n",
       "      <td>0.723000</td>\n",
       "      <td>0.458000</td>\n",
       "      <td>0.087900</td>\n",
       "      <td>113.954000</td>\n",
       "      <td>0.357000</td>\n",
       "    </tr>\n",
       "    <tr>\n",
       "      <th>Al Rocco</th>\n",
       "      <td>179885.000000</td>\n",
       "      <td>37.000000</td>\n",
       "      <td>0.494000</td>\n",
       "      <td>0.882000</td>\n",
       "      <td>0.613000</td>\n",
       "      <td>0.294000</td>\n",
       "      <td>134.013000</td>\n",
       "      <td>0.720000</td>\n",
       "    </tr>\n",
       "    <tr>\n",
       "      <th>BIBI</th>\n",
       "      <td>190177.666667</td>\n",
       "      <td>41.333333</td>\n",
       "      <td>0.179000</td>\n",
       "      <td>0.647000</td>\n",
       "      <td>0.677000</td>\n",
       "      <td>0.139667</td>\n",
       "      <td>118.993333</td>\n",
       "      <td>0.420667</td>\n",
       "    </tr>\n",
       "    <tr>\n",
       "      <th>Babylon</th>\n",
       "      <td>214782.000000</td>\n",
       "      <td>22.000000</td>\n",
       "      <td>0.129000</td>\n",
       "      <td>0.769000</td>\n",
       "      <td>0.895000</td>\n",
       "      <td>0.196000</td>\n",
       "      <td>104.948000</td>\n",
       "      <td>0.631000</td>\n",
       "    </tr>\n",
       "  </tbody>\n",
       "</table>\n",
       "</div>"
      ],
      "text/plain": [
       "             length(ms)  popularity  acousticness  danceability    energy  \\\n",
       "artist                                                                      \n",
       "88rising  203475.860465   50.372093      0.275442      0.690698  0.616326   \n",
       "Afgan     178798.000000   46.000000      0.256000      0.723000  0.458000   \n",
       "Al Rocco  179885.000000   37.000000      0.494000      0.882000  0.613000   \n",
       "BIBI      190177.666667   41.333333      0.179000      0.647000  0.677000   \n",
       "Babylon   214782.000000   22.000000      0.129000      0.769000  0.895000   \n",
       "\n",
       "          liveness       tempo   valence  \n",
       "artist                                    \n",
       "88rising  0.156477  117.029953  0.420535  \n",
       "Afgan     0.087900  113.954000  0.357000  \n",
       "Al Rocco  0.294000  134.013000  0.720000  \n",
       "BIBI      0.139667  118.993333  0.420667  \n",
       "Babylon   0.196000  104.948000  0.631000  "
      ]
     },
     "execution_count": 5,
     "metadata": {},
     "output_type": "execute_result"
    }
   ],
   "source": [
    "all_collabs_grp = all_collabs_df.groupby('artist')\n",
    "all_collabs_grp = all_collabs_grp.mean()\n",
    "all_collabs_grp.head()"
   ]
  },
  {
   "cell_type": "code",
   "execution_count": 141,
   "metadata": {},
   "outputs": [
    {
     "data": {
      "text/plain": [
       "array(['88rising', 'CHUNG HA', 'Rich Brian', 'Higher Brothers',\n",
       "       'Jackson Wang', 'NIKI', 'Various Artists', 'twlv', 'Min Kyunghoon',\n",
       "       'Crush', 'Way Ched', 'Lolo ZouaÃ¯', 'ZICO', 'BIBI', 'J.Y. Park',\n",
       "       'Drunken Tiger', 'Yoon Mirae', 'nafla', 'Christopher', 'Paul Kim',\n",
       "       'Grizzly', 'YESUNG', 'CHANGMO', 'Babylon', 'Dreamville',\n",
       "       'Thundercat', 'Guapdad 4000', 'Jace', 'Kembe X', 'Travis Thompson',\n",
       "       'Quadeca', 'Moslikely', 'Eric Bellinger', 'Lou Phelps',\n",
       "       'Marc E. Bassy', \"Twelve'len\", 'JP Saxe', 'Too $hort',\n",
       "       \"Deante' Hitchcock\", 'Buddy', 'Lou From Paradise', 'Jay Worthy',\n",
       "       'Shawn Wasabi', 'lil ricefield', 'The Cool Kids', 'KnowKnow',\n",
       "       'Masiwei', 'Psy.P', 'Melo', 'Bohan Phoenix', 'Rain', 'Afgan',\n",
       "       'JAY B', 'CrazyBoy', 'Sammi Cheng', 'VaVa', 'Al Rocco', 'Joji',\n",
       "       'rei brown', 'Bonobo', 'shamana', 'SahBabii', 'Ryan Hemsworth',\n",
       "       'Mili', 'Binary Haze Interactive', 'Promise of wizard', 'HONNE',\n",
       "       'End of the World', 'bbno$', 'Stephanie Poetri', 'Goodbye Felicia'],\n",
       "      dtype=object)"
      ]
     },
     "execution_count": 141,
     "metadata": {},
     "output_type": "execute_result"
    }
   ],
   "source": [
    "all_collabs_df['artist'].unique()"
   ]
  },
  {
   "cell_type": "markdown",
   "metadata": {},
   "source": [
    "Some main artists are outside of 88rising and some tracks have more than one 88rising artist. Need to create a duplicate row for each 8rising artist featured and make the featured column contain only one artist name."
   ]
  },
  {
   "cell_type": "code",
   "execution_count": 107,
   "metadata": {},
   "outputs": [
    {
     "data": {
      "text/plain": [
       "['atarashii gakko!',\n",
       " 'bibi',\n",
       " 'chungha',\n",
       " 'dumbfoundead',\n",
       " 'guapdad 4000',\n",
       " 'higher brothers',\n",
       " 'jackson wang',\n",
       " 'joji',\n",
       " 'keith ape',\n",
       " 'lexie liu',\n",
       " 'milli',\n",
       " 'niki',\n",
       " 'rich brian',\n",
       " 'seori',\n",
       " 'stephanie poetri',\n",
       " 'warren hue',\n",
       " 'ylona garcia',\n",
       " 'chung ha',\n",
       " '88rising']"
      ]
     },
     "execution_count": 107,
     "metadata": {},
     "output_type": "execute_result"
    }
   ],
   "source": [
    "lowercase_artists = [x.lower() for x in artists]\n",
    "lowercase_artists.append('chung ha')\n",
    "lowercase_artists.append('88rising')\n",
    "lowercase_artists"
   ]
  },
  {
   "cell_type": "code",
   "execution_count": 108,
   "metadata": {},
   "outputs": [
    {
     "data": {
      "text/plain": [
       "200"
      ]
     },
     "execution_count": 108,
     "metadata": {},
     "output_type": "execute_result"
    }
   ],
   "source": [
    "len(all_collabs_df)"
   ]
  },
  {
   "cell_type": "code",
   "execution_count": 109,
   "metadata": {},
   "outputs": [
    {
     "data": {
      "text/html": [
       "<div>\n",
       "<style scoped>\n",
       "    .dataframe tbody tr th:only-of-type {\n",
       "        vertical-align: middle;\n",
       "    }\n",
       "\n",
       "    .dataframe tbody tr th {\n",
       "        vertical-align: top;\n",
       "    }\n",
       "\n",
       "    .dataframe thead th {\n",
       "        text-align: right;\n",
       "    }\n",
       "</style>\n",
       "<table border=\"1\" class=\"dataframe\">\n",
       "  <thead>\n",
       "    <tr style=\"text-align: right;\">\n",
       "      <th></th>\n",
       "      <th>song name</th>\n",
       "      <th>album</th>\n",
       "      <th>artist</th>\n",
       "      <th>featured</th>\n",
       "      <th>featured_artist</th>\n",
       "      <th>release_date</th>\n",
       "      <th>length(ms)</th>\n",
       "      <th>popularity</th>\n",
       "      <th>acousticness</th>\n",
       "      <th>danceability</th>\n",
       "      <th>energy</th>\n",
       "      <th>liveness</th>\n",
       "      <th>tempo</th>\n",
       "      <th>valence</th>\n",
       "    </tr>\n",
       "  </thead>\n",
       "  <tbody>\n",
       "    <tr>\n",
       "      <th>0</th>\n",
       "      <td>The Weekend</td>\n",
       "      <td>The Weekend</td>\n",
       "      <td>88rising</td>\n",
       "      <td>[88rising, BIBI]</td>\n",
       "      <td></td>\n",
       "      <td>2021-10-14</td>\n",
       "      <td>167661</td>\n",
       "      <td>69</td>\n",
       "      <td>0.062000</td>\n",
       "      <td>0.784</td>\n",
       "      <td>0.521</td>\n",
       "      <td>0.0995</td>\n",
       "      <td>101.491</td>\n",
       "      <td>0.817</td>\n",
       "    </tr>\n",
       "    <tr>\n",
       "      <th>1</th>\n",
       "      <td>Best Lover</td>\n",
       "      <td>Head In The Clouds Forever</td>\n",
       "      <td>88rising</td>\n",
       "      <td>[88rising, BIBI]</td>\n",
       "      <td></td>\n",
       "      <td>2022-04-16</td>\n",
       "      <td>152910</td>\n",
       "      <td>66</td>\n",
       "      <td>0.268000</td>\n",
       "      <td>0.740</td>\n",
       "      <td>0.663</td>\n",
       "      <td>0.1210</td>\n",
       "      <td>82.004</td>\n",
       "      <td>0.519</td>\n",
       "    </tr>\n",
       "    <tr>\n",
       "      <th>2</th>\n",
       "      <td>Crazy Like You (feat. BIBI)</td>\n",
       "      <td>Bare&amp;Rare, Pt. 1</td>\n",
       "      <td>CHUNG HA</td>\n",
       "      <td>[CHUNG HA, BIBI]</td>\n",
       "      <td></td>\n",
       "      <td>2022-07-11</td>\n",
       "      <td>175480</td>\n",
       "      <td>50</td>\n",
       "      <td>0.095700</td>\n",
       "      <td>0.536</td>\n",
       "      <td>0.639</td>\n",
       "      <td>0.2090</td>\n",
       "      <td>170.940</td>\n",
       "      <td>0.502</td>\n",
       "    </tr>\n",
       "    <tr>\n",
       "      <th>3</th>\n",
       "      <td>froyo (feat. Warren Hue)</td>\n",
       "      <td>Head In The Clouds Forever</td>\n",
       "      <td>88rising</td>\n",
       "      <td>[88rising, BIBI, Rich Brian]</td>\n",
       "      <td></td>\n",
       "      <td>2022-04-16</td>\n",
       "      <td>309121</td>\n",
       "      <td>45</td>\n",
       "      <td>0.213000</td>\n",
       "      <td>0.508</td>\n",
       "      <td>0.688</td>\n",
       "      <td>0.1570</td>\n",
       "      <td>145.089</td>\n",
       "      <td>0.335</td>\n",
       "    </tr>\n",
       "    <tr>\n",
       "      <th>4</th>\n",
       "      <td>These Nights</td>\n",
       "      <td>These Nights</td>\n",
       "      <td>88rising</td>\n",
       "      <td>[88rising, Rich Brian]</td>\n",
       "      <td></td>\n",
       "      <td>2019-10-03</td>\n",
       "      <td>223006</td>\n",
       "      <td>41</td>\n",
       "      <td>0.000317</td>\n",
       "      <td>0.656</td>\n",
       "      <td>0.673</td>\n",
       "      <td>0.2800</td>\n",
       "      <td>83.018</td>\n",
       "      <td>0.494</td>\n",
       "    </tr>\n",
       "  </tbody>\n",
       "</table>\n",
       "</div>"
      ],
      "text/plain": [
       "                     song name                       album    artist  \\\n",
       "0                  The Weekend                 The Weekend  88rising   \n",
       "1                   Best Lover  Head In The Clouds Forever  88rising   \n",
       "2  Crazy Like You (feat. BIBI)            Bare&Rare, Pt. 1  CHUNG HA   \n",
       "3     froyo (feat. Warren Hue)  Head In The Clouds Forever  88rising   \n",
       "4                 These Nights                These Nights  88rising   \n",
       "\n",
       "                       featured featured_artist release_date  length(ms)  \\\n",
       "0              [88rising, BIBI]                   2021-10-14      167661   \n",
       "1              [88rising, BIBI]                   2022-04-16      152910   \n",
       "2              [CHUNG HA, BIBI]                   2022-07-11      175480   \n",
       "3  [88rising, BIBI, Rich Brian]                   2022-04-16      309121   \n",
       "4        [88rising, Rich Brian]                   2019-10-03      223006   \n",
       "\n",
       "   popularity  acousticness  danceability  energy  liveness    tempo  valence  \n",
       "0          69      0.062000         0.784   0.521    0.0995  101.491    0.817  \n",
       "1          66      0.268000         0.740   0.663    0.1210   82.004    0.519  \n",
       "2          50      0.095700         0.536   0.639    0.2090  170.940    0.502  \n",
       "3          45      0.213000         0.508   0.688    0.1570  145.089    0.335  \n",
       "4          41      0.000317         0.656   0.673    0.2800   83.018    0.494  "
      ]
     },
     "execution_count": 109,
     "metadata": {},
     "output_type": "execute_result"
    }
   ],
   "source": [
    "# Duplicate rows based on the amount of featured artists and fill in the featured_artist column\n",
    "dup_all_collabs = all_collabs_df.copy()\n",
    "dup_all_collabs.insert(4, 'featured_artist', \"\")\n",
    "for index, row in all_collabs_df.iterrows():\n",
    "    for a in row['featured']:\n",
    "        add_index = max(dup_all_collabs.index)+1\n",
    "        dup_all_collabs.loc[add_index] = row\n",
    "        dup_all_collabs.loc[dup_all_collabs.index == add_index, 'featured_artist'] = a\n",
    "dup_all_collabs.head()"
   ]
  },
  {
   "cell_type": "code",
   "execution_count": 110,
   "metadata": {},
   "outputs": [],
   "source": [
    "# Drop all rows where featured_artist is missing\n",
    "no_na_all_collabs = dup_all_collabs.drop(dup_all_collabs.loc[dup_all_collabs['featured_artist']==\"\"].index)"
   ]
  },
  {
   "cell_type": "code",
   "execution_count": 111,
   "metadata": {},
   "outputs": [
    {
     "data": {
      "text/html": [
       "<div>\n",
       "<style scoped>\n",
       "    .dataframe tbody tr th:only-of-type {\n",
       "        vertical-align: middle;\n",
       "    }\n",
       "\n",
       "    .dataframe tbody tr th {\n",
       "        vertical-align: top;\n",
       "    }\n",
       "\n",
       "    .dataframe thead th {\n",
       "        text-align: right;\n",
       "    }\n",
       "</style>\n",
       "<table border=\"1\" class=\"dataframe\">\n",
       "  <thead>\n",
       "    <tr style=\"text-align: right;\">\n",
       "      <th></th>\n",
       "      <th>song name</th>\n",
       "      <th>album</th>\n",
       "      <th>artist</th>\n",
       "      <th>featured</th>\n",
       "      <th>featured_artist</th>\n",
       "      <th>release_date</th>\n",
       "      <th>length(ms)</th>\n",
       "      <th>popularity</th>\n",
       "      <th>acousticness</th>\n",
       "      <th>danceability</th>\n",
       "      <th>energy</th>\n",
       "      <th>liveness</th>\n",
       "      <th>tempo</th>\n",
       "      <th>valence</th>\n",
       "    </tr>\n",
       "  </thead>\n",
       "  <tbody>\n",
       "    <tr>\n",
       "      <th>200</th>\n",
       "      <td>The Weekend</td>\n",
       "      <td>The Weekend</td>\n",
       "      <td>88rising</td>\n",
       "      <td>[88rising, BIBI]</td>\n",
       "      <td>88rising</td>\n",
       "      <td>2021-10-14</td>\n",
       "      <td>167661</td>\n",
       "      <td>69</td>\n",
       "      <td>0.0620</td>\n",
       "      <td>0.784</td>\n",
       "      <td>0.521</td>\n",
       "      <td>0.0995</td>\n",
       "      <td>101.491</td>\n",
       "      <td>0.817</td>\n",
       "    </tr>\n",
       "    <tr>\n",
       "      <th>201</th>\n",
       "      <td>The Weekend</td>\n",
       "      <td>The Weekend</td>\n",
       "      <td>88rising</td>\n",
       "      <td>[88rising, BIBI]</td>\n",
       "      <td>BIBI</td>\n",
       "      <td>2021-10-14</td>\n",
       "      <td>167661</td>\n",
       "      <td>69</td>\n",
       "      <td>0.0620</td>\n",
       "      <td>0.784</td>\n",
       "      <td>0.521</td>\n",
       "      <td>0.0995</td>\n",
       "      <td>101.491</td>\n",
       "      <td>0.817</td>\n",
       "    </tr>\n",
       "    <tr>\n",
       "      <th>202</th>\n",
       "      <td>Best Lover</td>\n",
       "      <td>Head In The Clouds Forever</td>\n",
       "      <td>88rising</td>\n",
       "      <td>[88rising, BIBI]</td>\n",
       "      <td>88rising</td>\n",
       "      <td>2022-04-16</td>\n",
       "      <td>152910</td>\n",
       "      <td>66</td>\n",
       "      <td>0.2680</td>\n",
       "      <td>0.740</td>\n",
       "      <td>0.663</td>\n",
       "      <td>0.1210</td>\n",
       "      <td>82.004</td>\n",
       "      <td>0.519</td>\n",
       "    </tr>\n",
       "    <tr>\n",
       "      <th>203</th>\n",
       "      <td>Best Lover</td>\n",
       "      <td>Head In The Clouds Forever</td>\n",
       "      <td>88rising</td>\n",
       "      <td>[88rising, BIBI]</td>\n",
       "      <td>BIBI</td>\n",
       "      <td>2022-04-16</td>\n",
       "      <td>152910</td>\n",
       "      <td>66</td>\n",
       "      <td>0.2680</td>\n",
       "      <td>0.740</td>\n",
       "      <td>0.663</td>\n",
       "      <td>0.1210</td>\n",
       "      <td>82.004</td>\n",
       "      <td>0.519</td>\n",
       "    </tr>\n",
       "    <tr>\n",
       "      <th>204</th>\n",
       "      <td>Crazy Like You (feat. BIBI)</td>\n",
       "      <td>Bare&amp;Rare, Pt. 1</td>\n",
       "      <td>CHUNG HA</td>\n",
       "      <td>[CHUNG HA, BIBI]</td>\n",
       "      <td>CHUNG HA</td>\n",
       "      <td>2022-07-11</td>\n",
       "      <td>175480</td>\n",
       "      <td>50</td>\n",
       "      <td>0.0957</td>\n",
       "      <td>0.536</td>\n",
       "      <td>0.639</td>\n",
       "      <td>0.2090</td>\n",
       "      <td>170.940</td>\n",
       "      <td>0.502</td>\n",
       "    </tr>\n",
       "  </tbody>\n",
       "</table>\n",
       "</div>"
      ],
      "text/plain": [
       "                       song name                       album    artist  \\\n",
       "200                  The Weekend                 The Weekend  88rising   \n",
       "201                  The Weekend                 The Weekend  88rising   \n",
       "202                   Best Lover  Head In The Clouds Forever  88rising   \n",
       "203                   Best Lover  Head In The Clouds Forever  88rising   \n",
       "204  Crazy Like You (feat. BIBI)            Bare&Rare, Pt. 1  CHUNG HA   \n",
       "\n",
       "             featured featured_artist release_date  length(ms)  popularity  \\\n",
       "200  [88rising, BIBI]        88rising   2021-10-14      167661          69   \n",
       "201  [88rising, BIBI]            BIBI   2021-10-14      167661          69   \n",
       "202  [88rising, BIBI]        88rising   2022-04-16      152910          66   \n",
       "203  [88rising, BIBI]            BIBI   2022-04-16      152910          66   \n",
       "204  [CHUNG HA, BIBI]        CHUNG HA   2022-07-11      175480          50   \n",
       "\n",
       "     acousticness  danceability  energy  liveness    tempo  valence  \n",
       "200        0.0620         0.784   0.521    0.0995  101.491    0.817  \n",
       "201        0.0620         0.784   0.521    0.0995  101.491    0.817  \n",
       "202        0.2680         0.740   0.663    0.1210   82.004    0.519  \n",
       "203        0.2680         0.740   0.663    0.1210   82.004    0.519  \n",
       "204        0.0957         0.536   0.639    0.2090  170.940    0.502  "
      ]
     },
     "execution_count": 111,
     "metadata": {},
     "output_type": "execute_result"
    }
   ],
   "source": [
    "no_na_all_collabs.head()"
   ]
  },
  {
   "cell_type": "code",
   "execution_count": 112,
   "metadata": {},
   "outputs": [
    {
     "data": {
      "text/plain": [
       "466"
      ]
     },
     "execution_count": 112,
     "metadata": {},
     "output_type": "execute_result"
    }
   ],
   "source": [
    "len(no_na_all_collabs)"
   ]
  },
  {
   "cell_type": "code",
   "execution_count": 113,
   "metadata": {},
   "outputs": [],
   "source": [
    "# Filter data to only include featured_artist within 88rising\n",
    "no_na_all_collabs['featured_artist'] = no_na_all_collabs['featured_artist'].apply(lambda x: x.lower())\n"
   ]
  },
  {
   "cell_type": "code",
   "execution_count": 114,
   "metadata": {},
   "outputs": [
    {
     "data": {
      "text/html": [
       "<div>\n",
       "<style scoped>\n",
       "    .dataframe tbody tr th:only-of-type {\n",
       "        vertical-align: middle;\n",
       "    }\n",
       "\n",
       "    .dataframe tbody tr th {\n",
       "        vertical-align: top;\n",
       "    }\n",
       "\n",
       "    .dataframe thead th {\n",
       "        text-align: right;\n",
       "    }\n",
       "</style>\n",
       "<table border=\"1\" class=\"dataframe\">\n",
       "  <thead>\n",
       "    <tr style=\"text-align: right;\">\n",
       "      <th></th>\n",
       "      <th>song name</th>\n",
       "      <th>album</th>\n",
       "      <th>artist</th>\n",
       "      <th>featured</th>\n",
       "      <th>featured_artist</th>\n",
       "      <th>release_date</th>\n",
       "      <th>length(ms)</th>\n",
       "      <th>popularity</th>\n",
       "      <th>acousticness</th>\n",
       "      <th>danceability</th>\n",
       "      <th>energy</th>\n",
       "      <th>liveness</th>\n",
       "      <th>tempo</th>\n",
       "      <th>valence</th>\n",
       "    </tr>\n",
       "  </thead>\n",
       "  <tbody>\n",
       "    <tr>\n",
       "      <th>200</th>\n",
       "      <td>The Weekend</td>\n",
       "      <td>The Weekend</td>\n",
       "      <td>88rising</td>\n",
       "      <td>[88rising, BIBI]</td>\n",
       "      <td>88rising</td>\n",
       "      <td>2021-10-14</td>\n",
       "      <td>167661</td>\n",
       "      <td>69</td>\n",
       "      <td>0.0620</td>\n",
       "      <td>0.784</td>\n",
       "      <td>0.521</td>\n",
       "      <td>0.0995</td>\n",
       "      <td>101.491</td>\n",
       "      <td>0.817</td>\n",
       "    </tr>\n",
       "    <tr>\n",
       "      <th>201</th>\n",
       "      <td>The Weekend</td>\n",
       "      <td>The Weekend</td>\n",
       "      <td>88rising</td>\n",
       "      <td>[88rising, BIBI]</td>\n",
       "      <td>bibi</td>\n",
       "      <td>2021-10-14</td>\n",
       "      <td>167661</td>\n",
       "      <td>69</td>\n",
       "      <td>0.0620</td>\n",
       "      <td>0.784</td>\n",
       "      <td>0.521</td>\n",
       "      <td>0.0995</td>\n",
       "      <td>101.491</td>\n",
       "      <td>0.817</td>\n",
       "    </tr>\n",
       "    <tr>\n",
       "      <th>202</th>\n",
       "      <td>Best Lover</td>\n",
       "      <td>Head In The Clouds Forever</td>\n",
       "      <td>88rising</td>\n",
       "      <td>[88rising, BIBI]</td>\n",
       "      <td>88rising</td>\n",
       "      <td>2022-04-16</td>\n",
       "      <td>152910</td>\n",
       "      <td>66</td>\n",
       "      <td>0.2680</td>\n",
       "      <td>0.740</td>\n",
       "      <td>0.663</td>\n",
       "      <td>0.1210</td>\n",
       "      <td>82.004</td>\n",
       "      <td>0.519</td>\n",
       "    </tr>\n",
       "    <tr>\n",
       "      <th>203</th>\n",
       "      <td>Best Lover</td>\n",
       "      <td>Head In The Clouds Forever</td>\n",
       "      <td>88rising</td>\n",
       "      <td>[88rising, BIBI]</td>\n",
       "      <td>bibi</td>\n",
       "      <td>2022-04-16</td>\n",
       "      <td>152910</td>\n",
       "      <td>66</td>\n",
       "      <td>0.2680</td>\n",
       "      <td>0.740</td>\n",
       "      <td>0.663</td>\n",
       "      <td>0.1210</td>\n",
       "      <td>82.004</td>\n",
       "      <td>0.519</td>\n",
       "    </tr>\n",
       "    <tr>\n",
       "      <th>204</th>\n",
       "      <td>Crazy Like You (feat. BIBI)</td>\n",
       "      <td>Bare&amp;Rare, Pt. 1</td>\n",
       "      <td>CHUNG HA</td>\n",
       "      <td>[CHUNG HA, BIBI]</td>\n",
       "      <td>chung ha</td>\n",
       "      <td>2022-07-11</td>\n",
       "      <td>175480</td>\n",
       "      <td>50</td>\n",
       "      <td>0.0957</td>\n",
       "      <td>0.536</td>\n",
       "      <td>0.639</td>\n",
       "      <td>0.2090</td>\n",
       "      <td>170.940</td>\n",
       "      <td>0.502</td>\n",
       "    </tr>\n",
       "  </tbody>\n",
       "</table>\n",
       "</div>"
      ],
      "text/plain": [
       "                       song name                       album    artist  \\\n",
       "200                  The Weekend                 The Weekend  88rising   \n",
       "201                  The Weekend                 The Weekend  88rising   \n",
       "202                   Best Lover  Head In The Clouds Forever  88rising   \n",
       "203                   Best Lover  Head In The Clouds Forever  88rising   \n",
       "204  Crazy Like You (feat. BIBI)            Bare&Rare, Pt. 1  CHUNG HA   \n",
       "\n",
       "             featured featured_artist release_date  length(ms)  popularity  \\\n",
       "200  [88rising, BIBI]        88rising   2021-10-14      167661          69   \n",
       "201  [88rising, BIBI]            bibi   2021-10-14      167661          69   \n",
       "202  [88rising, BIBI]        88rising   2022-04-16      152910          66   \n",
       "203  [88rising, BIBI]            bibi   2022-04-16      152910          66   \n",
       "204  [CHUNG HA, BIBI]        chung ha   2022-07-11      175480          50   \n",
       "\n",
       "     acousticness  danceability  energy  liveness    tempo  valence  \n",
       "200        0.0620         0.784   0.521    0.0995  101.491    0.817  \n",
       "201        0.0620         0.784   0.521    0.0995  101.491    0.817  \n",
       "202        0.2680         0.740   0.663    0.1210   82.004    0.519  \n",
       "203        0.2680         0.740   0.663    0.1210   82.004    0.519  \n",
       "204        0.0957         0.536   0.639    0.2090  170.940    0.502  "
      ]
     },
     "execution_count": 114,
     "metadata": {},
     "output_type": "execute_result"
    }
   ],
   "source": [
    "featured_88_only = no_na_all_collabs.loc[no_na_all_collabs['featured_artist'].isin(lowercase_artists)]\n",
    "featured_88_only.head()"
   ]
  },
  {
   "cell_type": "code",
   "execution_count": 124,
   "metadata": {},
   "outputs": [
    {
     "data": {
      "text/html": [
       "<div>\n",
       "<style scoped>\n",
       "    .dataframe tbody tr th:only-of-type {\n",
       "        vertical-align: middle;\n",
       "    }\n",
       "\n",
       "    .dataframe tbody tr th {\n",
       "        vertical-align: top;\n",
       "    }\n",
       "\n",
       "    .dataframe thead th {\n",
       "        text-align: right;\n",
       "    }\n",
       "</style>\n",
       "<table border=\"1\" class=\"dataframe\">\n",
       "  <thead>\n",
       "    <tr style=\"text-align: right;\">\n",
       "      <th></th>\n",
       "      <th>artist</th>\n",
       "      <th>num_tracks</th>\n",
       "    </tr>\n",
       "  </thead>\n",
       "  <tbody>\n",
       "    <tr>\n",
       "      <th>0</th>\n",
       "      <td>88rising</td>\n",
       "      <td>39</td>\n",
       "    </tr>\n",
       "    <tr>\n",
       "      <th>1</th>\n",
       "      <td>higher brothers</td>\n",
       "      <td>38</td>\n",
       "    </tr>\n",
       "    <tr>\n",
       "      <th>2</th>\n",
       "      <td>guapdad 4000</td>\n",
       "      <td>34</td>\n",
       "    </tr>\n",
       "    <tr>\n",
       "      <th>3</th>\n",
       "      <td>rich brian</td>\n",
       "      <td>27</td>\n",
       "    </tr>\n",
       "    <tr>\n",
       "      <th>4</th>\n",
       "      <td>niki</td>\n",
       "      <td>22</td>\n",
       "    </tr>\n",
       "    <tr>\n",
       "      <th>5</th>\n",
       "      <td>bibi</td>\n",
       "      <td>20</td>\n",
       "    </tr>\n",
       "    <tr>\n",
       "      <th>6</th>\n",
       "      <td>chung ha</td>\n",
       "      <td>19</td>\n",
       "    </tr>\n",
       "    <tr>\n",
       "      <th>7</th>\n",
       "      <td>joji</td>\n",
       "      <td>18</td>\n",
       "    </tr>\n",
       "    <tr>\n",
       "      <th>8</th>\n",
       "      <td>jackson wang</td>\n",
       "      <td>17</td>\n",
       "    </tr>\n",
       "    <tr>\n",
       "      <th>9</th>\n",
       "      <td>stephanie poetri</td>\n",
       "      <td>4</td>\n",
       "    </tr>\n",
       "    <tr>\n",
       "      <th>10</th>\n",
       "      <td>warren hue</td>\n",
       "      <td>3</td>\n",
       "    </tr>\n",
       "    <tr>\n",
       "      <th>11</th>\n",
       "      <td>keith ape</td>\n",
       "      <td>2</td>\n",
       "    </tr>\n",
       "    <tr>\n",
       "      <th>12</th>\n",
       "      <td>milli</td>\n",
       "      <td>1</td>\n",
       "    </tr>\n",
       "  </tbody>\n",
       "</table>\n",
       "</div>"
      ],
      "text/plain": [
       "              artist  num_tracks\n",
       "0           88rising          39\n",
       "1    higher brothers          38\n",
       "2       guapdad 4000          34\n",
       "3         rich brian          27\n",
       "4               niki          22\n",
       "5               bibi          20\n",
       "6           chung ha          19\n",
       "7               joji          18\n",
       "8       jackson wang          17\n",
       "9   stephanie poetri           4\n",
       "10        warren hue           3\n",
       "11         keith ape           2\n",
       "12             milli           1"
      ]
     },
     "execution_count": 124,
     "metadata": {},
     "output_type": "execute_result"
    }
   ],
   "source": [
    "feat_88_freq = featured_88_only['featured_artist'].value_counts().to_frame()\n",
    "feat_88_freq.reset_index(inplace=True)\n",
    "feat_88_freq = feat_88_freq.rename(columns={'index':'artist','featured_artist':'num_tracks'})\n",
    "feat_88_freq"
   ]
  },
  {
   "cell_type": "code",
   "execution_count": 139,
   "metadata": {},
   "outputs": [
    {
     "data": {
      "text/html": [
       "<div>\n",
       "<style scoped>\n",
       "    .dataframe tbody tr th:only-of-type {\n",
       "        vertical-align: middle;\n",
       "    }\n",
       "\n",
       "    .dataframe tbody tr th {\n",
       "        vertical-align: top;\n",
       "    }\n",
       "\n",
       "    .dataframe thead th {\n",
       "        text-align: right;\n",
       "    }\n",
       "</style>\n",
       "<table border=\"1\" class=\"dataframe\">\n",
       "  <thead>\n",
       "    <tr style=\"text-align: right;\">\n",
       "      <th></th>\n",
       "      <th>featured_artist</th>\n",
       "      <th>length(ms)</th>\n",
       "      <th>popularity</th>\n",
       "      <th>acousticness</th>\n",
       "      <th>danceability</th>\n",
       "      <th>energy</th>\n",
       "      <th>liveness</th>\n",
       "      <th>tempo</th>\n",
       "      <th>valence</th>\n",
       "    </tr>\n",
       "  </thead>\n",
       "  <tbody>\n",
       "    <tr>\n",
       "      <th>0</th>\n",
       "      <td>88rising</td>\n",
       "      <td>203253.487179</td>\n",
       "      <td>50.717949</td>\n",
       "      <td>0.345534</td>\n",
       "      <td>0.679846</td>\n",
       "      <td>0.566179</td>\n",
       "      <td>0.164531</td>\n",
       "      <td>112.996077</td>\n",
       "      <td>0.413515</td>\n",
       "    </tr>\n",
       "    <tr>\n",
       "      <th>1</th>\n",
       "      <td>bibi</td>\n",
       "      <td>192938.500000</td>\n",
       "      <td>46.300000</td>\n",
       "      <td>0.177166</td>\n",
       "      <td>0.685650</td>\n",
       "      <td>0.683600</td>\n",
       "      <td>0.156275</td>\n",
       "      <td>122.045500</td>\n",
       "      <td>0.495150</td>\n",
       "    </tr>\n",
       "    <tr>\n",
       "      <th>2</th>\n",
       "      <td>chung ha</td>\n",
       "      <td>191575.947368</td>\n",
       "      <td>43.842105</td>\n",
       "      <td>0.258632</td>\n",
       "      <td>0.695947</td>\n",
       "      <td>0.756684</td>\n",
       "      <td>0.191553</td>\n",
       "      <td>112.999947</td>\n",
       "      <td>0.615574</td>\n",
       "    </tr>\n",
       "    <tr>\n",
       "      <th>3</th>\n",
       "      <td>guapdad 4000</td>\n",
       "      <td>186777.441176</td>\n",
       "      <td>36.235294</td>\n",
       "      <td>0.208565</td>\n",
       "      <td>0.762559</td>\n",
       "      <td>0.651676</td>\n",
       "      <td>0.173947</td>\n",
       "      <td>116.458588</td>\n",
       "      <td>0.606353</td>\n",
       "    </tr>\n",
       "    <tr>\n",
       "      <th>4</th>\n",
       "      <td>higher brothers</td>\n",
       "      <td>203793.394737</td>\n",
       "      <td>34.368421</td>\n",
       "      <td>0.217011</td>\n",
       "      <td>0.785947</td>\n",
       "      <td>0.692842</td>\n",
       "      <td>0.169882</td>\n",
       "      <td>127.504368</td>\n",
       "      <td>0.472989</td>\n",
       "    </tr>\n",
       "    <tr>\n",
       "      <th>5</th>\n",
       "      <td>jackson wang</td>\n",
       "      <td>189336.941176</td>\n",
       "      <td>48.000000</td>\n",
       "      <td>0.248247</td>\n",
       "      <td>0.705706</td>\n",
       "      <td>0.614412</td>\n",
       "      <td>0.165965</td>\n",
       "      <td>126.517353</td>\n",
       "      <td>0.452882</td>\n",
       "    </tr>\n",
       "    <tr>\n",
       "      <th>6</th>\n",
       "      <td>joji</td>\n",
       "      <td>183839.055556</td>\n",
       "      <td>58.277778</td>\n",
       "      <td>0.348849</td>\n",
       "      <td>0.670167</td>\n",
       "      <td>0.540778</td>\n",
       "      <td>0.172450</td>\n",
       "      <td>117.252444</td>\n",
       "      <td>0.366856</td>\n",
       "    </tr>\n",
       "    <tr>\n",
       "      <th>7</th>\n",
       "      <td>keith ape</td>\n",
       "      <td>215048.500000</td>\n",
       "      <td>50.500000</td>\n",
       "      <td>0.074428</td>\n",
       "      <td>0.717500</td>\n",
       "      <td>0.667000</td>\n",
       "      <td>0.072300</td>\n",
       "      <td>150.909500</td>\n",
       "      <td>0.375500</td>\n",
       "    </tr>\n",
       "    <tr>\n",
       "      <th>8</th>\n",
       "      <td>milli</td>\n",
       "      <td>193251.000000</td>\n",
       "      <td>54.000000</td>\n",
       "      <td>0.046500</td>\n",
       "      <td>0.652000</td>\n",
       "      <td>0.470000</td>\n",
       "      <td>0.229000</td>\n",
       "      <td>100.052000</td>\n",
       "      <td>0.320000</td>\n",
       "    </tr>\n",
       "    <tr>\n",
       "      <th>9</th>\n",
       "      <td>niki</td>\n",
       "      <td>190699.136364</td>\n",
       "      <td>51.863636</td>\n",
       "      <td>0.412759</td>\n",
       "      <td>0.672091</td>\n",
       "      <td>0.508045</td>\n",
       "      <td>0.142836</td>\n",
       "      <td>111.744045</td>\n",
       "      <td>0.397614</td>\n",
       "    </tr>\n",
       "    <tr>\n",
       "      <th>10</th>\n",
       "      <td>rich brian</td>\n",
       "      <td>220385.851852</td>\n",
       "      <td>51.148148</td>\n",
       "      <td>0.216695</td>\n",
       "      <td>0.700222</td>\n",
       "      <td>0.639667</td>\n",
       "      <td>0.153544</td>\n",
       "      <td>127.860667</td>\n",
       "      <td>0.396519</td>\n",
       "    </tr>\n",
       "    <tr>\n",
       "      <th>11</th>\n",
       "      <td>stephanie poetri</td>\n",
       "      <td>199746.000000</td>\n",
       "      <td>51.500000</td>\n",
       "      <td>0.669750</td>\n",
       "      <td>0.571750</td>\n",
       "      <td>0.472000</td>\n",
       "      <td>0.200000</td>\n",
       "      <td>115.808750</td>\n",
       "      <td>0.525750</td>\n",
       "    </tr>\n",
       "    <tr>\n",
       "      <th>12</th>\n",
       "      <td>warren hue</td>\n",
       "      <td>213888.666667</td>\n",
       "      <td>48.666667</td>\n",
       "      <td>0.117933</td>\n",
       "      <td>0.670333</td>\n",
       "      <td>0.771000</td>\n",
       "      <td>0.093633</td>\n",
       "      <td>114.536333</td>\n",
       "      <td>0.341633</td>\n",
       "    </tr>\n",
       "  </tbody>\n",
       "</table>\n",
       "</div>"
      ],
      "text/plain": [
       "     featured_artist     length(ms)  popularity  acousticness  danceability  \\\n",
       "0           88rising  203253.487179   50.717949      0.345534      0.679846   \n",
       "1               bibi  192938.500000   46.300000      0.177166      0.685650   \n",
       "2           chung ha  191575.947368   43.842105      0.258632      0.695947   \n",
       "3       guapdad 4000  186777.441176   36.235294      0.208565      0.762559   \n",
       "4    higher brothers  203793.394737   34.368421      0.217011      0.785947   \n",
       "5       jackson wang  189336.941176   48.000000      0.248247      0.705706   \n",
       "6               joji  183839.055556   58.277778      0.348849      0.670167   \n",
       "7          keith ape  215048.500000   50.500000      0.074428      0.717500   \n",
       "8              milli  193251.000000   54.000000      0.046500      0.652000   \n",
       "9               niki  190699.136364   51.863636      0.412759      0.672091   \n",
       "10        rich brian  220385.851852   51.148148      0.216695      0.700222   \n",
       "11  stephanie poetri  199746.000000   51.500000      0.669750      0.571750   \n",
       "12        warren hue  213888.666667   48.666667      0.117933      0.670333   \n",
       "\n",
       "      energy  liveness       tempo   valence  \n",
       "0   0.566179  0.164531  112.996077  0.413515  \n",
       "1   0.683600  0.156275  122.045500  0.495150  \n",
       "2   0.756684  0.191553  112.999947  0.615574  \n",
       "3   0.651676  0.173947  116.458588  0.606353  \n",
       "4   0.692842  0.169882  127.504368  0.472989  \n",
       "5   0.614412  0.165965  126.517353  0.452882  \n",
       "6   0.540778  0.172450  117.252444  0.366856  \n",
       "7   0.667000  0.072300  150.909500  0.375500  \n",
       "8   0.470000  0.229000  100.052000  0.320000  \n",
       "9   0.508045  0.142836  111.744045  0.397614  \n",
       "10  0.639667  0.153544  127.860667  0.396519  \n",
       "11  0.472000  0.200000  115.808750  0.525750  \n",
       "12  0.771000  0.093633  114.536333  0.341633  "
      ]
     },
     "execution_count": 139,
     "metadata": {},
     "output_type": "execute_result"
    }
   ],
   "source": [
    "# Gather averages data and append to feat_88_freq\n",
    "feat_88_grp = featured_88_only.groupby('featured_artist')\n",
    "feat_88_grp=feat_88_grp.mean()\n",
    "feat_88_grp.reset_index(inplace=True)\n",
    "feat_88_grp"
   ]
  },
  {
   "cell_type": "code",
   "execution_count": 140,
   "metadata": {},
   "outputs": [
    {
     "data": {
      "text/html": [
       "<div>\n",
       "<style scoped>\n",
       "    .dataframe tbody tr th:only-of-type {\n",
       "        vertical-align: middle;\n",
       "    }\n",
       "\n",
       "    .dataframe tbody tr th {\n",
       "        vertical-align: top;\n",
       "    }\n",
       "\n",
       "    .dataframe thead th {\n",
       "        text-align: right;\n",
       "    }\n",
       "</style>\n",
       "<table border=\"1\" class=\"dataframe\">\n",
       "  <thead>\n",
       "    <tr style=\"text-align: right;\">\n",
       "      <th></th>\n",
       "      <th>artist</th>\n",
       "      <th>num_tracks</th>\n",
       "      <th>length(ms)</th>\n",
       "      <th>popularity</th>\n",
       "      <th>acousticness</th>\n",
       "      <th>danceability</th>\n",
       "      <th>energy</th>\n",
       "      <th>liveness</th>\n",
       "      <th>tempo</th>\n",
       "      <th>valence</th>\n",
       "    </tr>\n",
       "  </thead>\n",
       "  <tbody>\n",
       "    <tr>\n",
       "      <th>0</th>\n",
       "      <td>88rising</td>\n",
       "      <td>39</td>\n",
       "      <td>203253.487179</td>\n",
       "      <td>50.717949</td>\n",
       "      <td>0.345534</td>\n",
       "      <td>0.679846</td>\n",
       "      <td>0.566179</td>\n",
       "      <td>0.164531</td>\n",
       "      <td>112.996077</td>\n",
       "      <td>0.413515</td>\n",
       "    </tr>\n",
       "    <tr>\n",
       "      <th>1</th>\n",
       "      <td>higher brothers</td>\n",
       "      <td>38</td>\n",
       "      <td>192938.500000</td>\n",
       "      <td>46.300000</td>\n",
       "      <td>0.177166</td>\n",
       "      <td>0.685650</td>\n",
       "      <td>0.683600</td>\n",
       "      <td>0.156275</td>\n",
       "      <td>122.045500</td>\n",
       "      <td>0.495150</td>\n",
       "    </tr>\n",
       "    <tr>\n",
       "      <th>2</th>\n",
       "      <td>guapdad 4000</td>\n",
       "      <td>34</td>\n",
       "      <td>191575.947368</td>\n",
       "      <td>43.842105</td>\n",
       "      <td>0.258632</td>\n",
       "      <td>0.695947</td>\n",
       "      <td>0.756684</td>\n",
       "      <td>0.191553</td>\n",
       "      <td>112.999947</td>\n",
       "      <td>0.615574</td>\n",
       "    </tr>\n",
       "    <tr>\n",
       "      <th>3</th>\n",
       "      <td>rich brian</td>\n",
       "      <td>27</td>\n",
       "      <td>186777.441176</td>\n",
       "      <td>36.235294</td>\n",
       "      <td>0.208565</td>\n",
       "      <td>0.762559</td>\n",
       "      <td>0.651676</td>\n",
       "      <td>0.173947</td>\n",
       "      <td>116.458588</td>\n",
       "      <td>0.606353</td>\n",
       "    </tr>\n",
       "    <tr>\n",
       "      <th>4</th>\n",
       "      <td>niki</td>\n",
       "      <td>22</td>\n",
       "      <td>203793.394737</td>\n",
       "      <td>34.368421</td>\n",
       "      <td>0.217011</td>\n",
       "      <td>0.785947</td>\n",
       "      <td>0.692842</td>\n",
       "      <td>0.169882</td>\n",
       "      <td>127.504368</td>\n",
       "      <td>0.472989</td>\n",
       "    </tr>\n",
       "    <tr>\n",
       "      <th>5</th>\n",
       "      <td>bibi</td>\n",
       "      <td>20</td>\n",
       "      <td>189336.941176</td>\n",
       "      <td>48.000000</td>\n",
       "      <td>0.248247</td>\n",
       "      <td>0.705706</td>\n",
       "      <td>0.614412</td>\n",
       "      <td>0.165965</td>\n",
       "      <td>126.517353</td>\n",
       "      <td>0.452882</td>\n",
       "    </tr>\n",
       "    <tr>\n",
       "      <th>6</th>\n",
       "      <td>chung ha</td>\n",
       "      <td>19</td>\n",
       "      <td>183839.055556</td>\n",
       "      <td>58.277778</td>\n",
       "      <td>0.348849</td>\n",
       "      <td>0.670167</td>\n",
       "      <td>0.540778</td>\n",
       "      <td>0.172450</td>\n",
       "      <td>117.252444</td>\n",
       "      <td>0.366856</td>\n",
       "    </tr>\n",
       "    <tr>\n",
       "      <th>7</th>\n",
       "      <td>joji</td>\n",
       "      <td>18</td>\n",
       "      <td>215048.500000</td>\n",
       "      <td>50.500000</td>\n",
       "      <td>0.074428</td>\n",
       "      <td>0.717500</td>\n",
       "      <td>0.667000</td>\n",
       "      <td>0.072300</td>\n",
       "      <td>150.909500</td>\n",
       "      <td>0.375500</td>\n",
       "    </tr>\n",
       "    <tr>\n",
       "      <th>8</th>\n",
       "      <td>jackson wang</td>\n",
       "      <td>17</td>\n",
       "      <td>193251.000000</td>\n",
       "      <td>54.000000</td>\n",
       "      <td>0.046500</td>\n",
       "      <td>0.652000</td>\n",
       "      <td>0.470000</td>\n",
       "      <td>0.229000</td>\n",
       "      <td>100.052000</td>\n",
       "      <td>0.320000</td>\n",
       "    </tr>\n",
       "    <tr>\n",
       "      <th>9</th>\n",
       "      <td>stephanie poetri</td>\n",
       "      <td>4</td>\n",
       "      <td>190699.136364</td>\n",
       "      <td>51.863636</td>\n",
       "      <td>0.412759</td>\n",
       "      <td>0.672091</td>\n",
       "      <td>0.508045</td>\n",
       "      <td>0.142836</td>\n",
       "      <td>111.744045</td>\n",
       "      <td>0.397614</td>\n",
       "    </tr>\n",
       "    <tr>\n",
       "      <th>10</th>\n",
       "      <td>warren hue</td>\n",
       "      <td>3</td>\n",
       "      <td>220385.851852</td>\n",
       "      <td>51.148148</td>\n",
       "      <td>0.216695</td>\n",
       "      <td>0.700222</td>\n",
       "      <td>0.639667</td>\n",
       "      <td>0.153544</td>\n",
       "      <td>127.860667</td>\n",
       "      <td>0.396519</td>\n",
       "    </tr>\n",
       "    <tr>\n",
       "      <th>11</th>\n",
       "      <td>keith ape</td>\n",
       "      <td>2</td>\n",
       "      <td>199746.000000</td>\n",
       "      <td>51.500000</td>\n",
       "      <td>0.669750</td>\n",
       "      <td>0.571750</td>\n",
       "      <td>0.472000</td>\n",
       "      <td>0.200000</td>\n",
       "      <td>115.808750</td>\n",
       "      <td>0.525750</td>\n",
       "    </tr>\n",
       "    <tr>\n",
       "      <th>12</th>\n",
       "      <td>milli</td>\n",
       "      <td>1</td>\n",
       "      <td>213888.666667</td>\n",
       "      <td>48.666667</td>\n",
       "      <td>0.117933</td>\n",
       "      <td>0.670333</td>\n",
       "      <td>0.771000</td>\n",
       "      <td>0.093633</td>\n",
       "      <td>114.536333</td>\n",
       "      <td>0.341633</td>\n",
       "    </tr>\n",
       "  </tbody>\n",
       "</table>\n",
       "</div>"
      ],
      "text/plain": [
       "              artist  num_tracks     length(ms)  popularity  acousticness  \\\n",
       "0           88rising          39  203253.487179   50.717949      0.345534   \n",
       "1    higher brothers          38  192938.500000   46.300000      0.177166   \n",
       "2       guapdad 4000          34  191575.947368   43.842105      0.258632   \n",
       "3         rich brian          27  186777.441176   36.235294      0.208565   \n",
       "4               niki          22  203793.394737   34.368421      0.217011   \n",
       "5               bibi          20  189336.941176   48.000000      0.248247   \n",
       "6           chung ha          19  183839.055556   58.277778      0.348849   \n",
       "7               joji          18  215048.500000   50.500000      0.074428   \n",
       "8       jackson wang          17  193251.000000   54.000000      0.046500   \n",
       "9   stephanie poetri           4  190699.136364   51.863636      0.412759   \n",
       "10        warren hue           3  220385.851852   51.148148      0.216695   \n",
       "11         keith ape           2  199746.000000   51.500000      0.669750   \n",
       "12             milli           1  213888.666667   48.666667      0.117933   \n",
       "\n",
       "    danceability    energy  liveness       tempo   valence  \n",
       "0       0.679846  0.566179  0.164531  112.996077  0.413515  \n",
       "1       0.685650  0.683600  0.156275  122.045500  0.495150  \n",
       "2       0.695947  0.756684  0.191553  112.999947  0.615574  \n",
       "3       0.762559  0.651676  0.173947  116.458588  0.606353  \n",
       "4       0.785947  0.692842  0.169882  127.504368  0.472989  \n",
       "5       0.705706  0.614412  0.165965  126.517353  0.452882  \n",
       "6       0.670167  0.540778  0.172450  117.252444  0.366856  \n",
       "7       0.717500  0.667000  0.072300  150.909500  0.375500  \n",
       "8       0.652000  0.470000  0.229000  100.052000  0.320000  \n",
       "9       0.672091  0.508045  0.142836  111.744045  0.397614  \n",
       "10      0.700222  0.639667  0.153544  127.860667  0.396519  \n",
       "11      0.571750  0.472000  0.200000  115.808750  0.525750  \n",
       "12      0.670333  0.771000  0.093633  114.536333  0.341633  "
      ]
     },
     "execution_count": 140,
     "metadata": {},
     "output_type": "execute_result"
    }
   ],
   "source": [
    "feat_88_df = pd.concat([feat_88_freq,feat_88_grp], axis='columns')\n",
    "feat_88_df.drop(feat_88_df.columns[2], axis=1, inplace=True)\n",
    "feat_88_df"
   ]
  },
  {
   "cell_type": "markdown",
   "metadata": {},
   "source": [
    "### Popular 88rising Artists for Collaborations"
   ]
  },
  {
   "cell_type": "code",
   "execution_count": 141,
   "metadata": {},
   "outputs": [
    {
     "data": {
      "application/vnd.plotly.v1+json": {
       "config": {
        "plotlyServerURL": "https://plot.ly"
       },
       "data": [
        {
         "alignmentgroup": "True",
         "customdata": [
          [
           50.717948717948715,
           203253.4871794872,
           0.3455337692307692,
           0.6798461538461539,
           0.5661794871794872,
           0.16453076923076923,
           112.99607692307691,
           0.4135153846153847
          ],
          [
           46.3,
           192938.5,
           0.177166,
           0.6856500000000001,
           0.6836,
           0.156275,
           122.04549999999999,
           0.49515000000000003
          ],
          [
           43.8421052631579,
           191575.94736842104,
           0.2586315789473684,
           0.6959473684210526,
           0.7566842105263158,
           0.19155263157894736,
           112.99994736842105,
           0.6155736842105263
          ],
          [
           36.23529411764706,
           186777.4411764706,
           0.20856488235294116,
           0.7625588235294117,
           0.6516764705882353,
           0.17394705882352943,
           116.45858823529412,
           0.6063529411764705
          ],
          [
           34.36842105263158,
           203793.3947368421,
           0.21701078947368424,
           0.7859473684210526,
           0.6928421052631579,
           0.1698815789473684,
           127.50436842105263,
           0.47298947368421057
          ],
          [
           48,
           189336.9411764706,
           0.24824705882352943,
           0.7057058823529412,
           0.6144117647058823,
           0.16596470588235296,
           126.51735294117647,
           0.45288235294117646
          ],
          [
           58.27777777777778,
           183839.05555555556,
           0.3488488888888889,
           0.6701666666666667,
           0.5407777777777778,
           0.17245,
           117.25244444444444,
           0.36685555555555555
          ],
          [
           50.5,
           215048.5,
           0.074428,
           0.7175,
           0.667,
           0.0723,
           150.90949999999998,
           0.3755
          ],
          [
           54,
           193251,
           0.0465,
           0.652,
           0.47000000000000003,
           0.229,
           100.052,
           0.32
          ],
          [
           51.86363636363637,
           190699.13636363635,
           0.4127590909090909,
           0.6720909090909091,
           0.5080454545454546,
           0.14283636363636365,
           111.74404545454546,
           0.3976136363636364
          ],
          [
           51.148148148148145,
           220385.85185185185,
           0.2166952962962963,
           0.7002222222222222,
           0.6396666666666667,
           0.15354444444444446,
           127.86066666666666,
           0.3965185185185185
          ],
          [
           51.5,
           199746,
           0.66975,
           0.57175,
           0.472,
           0.2,
           115.80875,
           0.52575
          ],
          [
           48.666666666666664,
           213888.66666666666,
           0.11793333333333335,
           0.6703333333333333,
           0.771,
           0.09363333333333335,
           114.53633333333335,
           0.3416333333333334
          ]
         ],
         "hovertemplate": "artist=%{x}<br>num_tracks=%{yTotal Tracks}<br>Average Popularity=%{customdata[0]:.2f}<br>length(ms)=%{customdata[1]:.2f}<br>acousticness=%{customdata[2]:.2f}<br>danceability=%{customdata[3]:.2f}<br>energy=%{customdata[4]:.2f}<br>liveness=%{customdata[5]:.2f}<br>tempo=%{customdata[6]:.2f}<br>valence=%{customdata[7]:.2f}<extra></extra>",
         "legendgroup": "",
         "marker": {
          "color": "#636efa",
          "pattern": {
           "shape": ""
          }
         },
         "name": "",
         "offsetgroup": "",
         "orientation": "v",
         "showlegend": false,
         "textposition": "auto",
         "type": "bar",
         "x": [
          "88rising",
          "higher brothers",
          "guapdad 4000",
          "rich brian",
          "niki",
          "bibi",
          "chung ha",
          "joji",
          "jackson wang",
          "stephanie poetri",
          "warren hue",
          "keith ape",
          "milli"
         ],
         "xaxis": "x",
         "y": [
          39,
          38,
          34,
          27,
          22,
          20,
          19,
          18,
          17,
          4,
          3,
          2,
          1
         ],
         "yaxis": "y"
        }
       ],
       "layout": {
        "barmode": "relative",
        "legend": {
         "tracegroupgap": 0
        },
        "template": {
         "data": {
          "bar": [
           {
            "error_x": {
             "color": "#2a3f5f"
            },
            "error_y": {
             "color": "#2a3f5f"
            },
            "marker": {
             "line": {
              "color": "#E5ECF6",
              "width": 0.5
             },
             "pattern": {
              "fillmode": "overlay",
              "size": 10,
              "solidity": 0.2
             }
            },
            "type": "bar"
           }
          ],
          "barpolar": [
           {
            "marker": {
             "line": {
              "color": "#E5ECF6",
              "width": 0.5
             },
             "pattern": {
              "fillmode": "overlay",
              "size": 10,
              "solidity": 0.2
             }
            },
            "type": "barpolar"
           }
          ],
          "carpet": [
           {
            "aaxis": {
             "endlinecolor": "#2a3f5f",
             "gridcolor": "white",
             "linecolor": "white",
             "minorgridcolor": "white",
             "startlinecolor": "#2a3f5f"
            },
            "baxis": {
             "endlinecolor": "#2a3f5f",
             "gridcolor": "white",
             "linecolor": "white",
             "minorgridcolor": "white",
             "startlinecolor": "#2a3f5f"
            },
            "type": "carpet"
           }
          ],
          "choropleth": [
           {
            "colorbar": {
             "outlinewidth": 0,
             "ticks": ""
            },
            "type": "choropleth"
           }
          ],
          "contour": [
           {
            "colorbar": {
             "outlinewidth": 0,
             "ticks": ""
            },
            "colorscale": [
             [
              0,
              "#0d0887"
             ],
             [
              0.1111111111111111,
              "#46039f"
             ],
             [
              0.2222222222222222,
              "#7201a8"
             ],
             [
              0.3333333333333333,
              "#9c179e"
             ],
             [
              0.4444444444444444,
              "#bd3786"
             ],
             [
              0.5555555555555556,
              "#d8576b"
             ],
             [
              0.6666666666666666,
              "#ed7953"
             ],
             [
              0.7777777777777778,
              "#fb9f3a"
             ],
             [
              0.8888888888888888,
              "#fdca26"
             ],
             [
              1,
              "#f0f921"
             ]
            ],
            "type": "contour"
           }
          ],
          "contourcarpet": [
           {
            "colorbar": {
             "outlinewidth": 0,
             "ticks": ""
            },
            "type": "contourcarpet"
           }
          ],
          "heatmap": [
           {
            "colorbar": {
             "outlinewidth": 0,
             "ticks": ""
            },
            "colorscale": [
             [
              0,
              "#0d0887"
             ],
             [
              0.1111111111111111,
              "#46039f"
             ],
             [
              0.2222222222222222,
              "#7201a8"
             ],
             [
              0.3333333333333333,
              "#9c179e"
             ],
             [
              0.4444444444444444,
              "#bd3786"
             ],
             [
              0.5555555555555556,
              "#d8576b"
             ],
             [
              0.6666666666666666,
              "#ed7953"
             ],
             [
              0.7777777777777778,
              "#fb9f3a"
             ],
             [
              0.8888888888888888,
              "#fdca26"
             ],
             [
              1,
              "#f0f921"
             ]
            ],
            "type": "heatmap"
           }
          ],
          "heatmapgl": [
           {
            "colorbar": {
             "outlinewidth": 0,
             "ticks": ""
            },
            "colorscale": [
             [
              0,
              "#0d0887"
             ],
             [
              0.1111111111111111,
              "#46039f"
             ],
             [
              0.2222222222222222,
              "#7201a8"
             ],
             [
              0.3333333333333333,
              "#9c179e"
             ],
             [
              0.4444444444444444,
              "#bd3786"
             ],
             [
              0.5555555555555556,
              "#d8576b"
             ],
             [
              0.6666666666666666,
              "#ed7953"
             ],
             [
              0.7777777777777778,
              "#fb9f3a"
             ],
             [
              0.8888888888888888,
              "#fdca26"
             ],
             [
              1,
              "#f0f921"
             ]
            ],
            "type": "heatmapgl"
           }
          ],
          "histogram": [
           {
            "marker": {
             "pattern": {
              "fillmode": "overlay",
              "size": 10,
              "solidity": 0.2
             }
            },
            "type": "histogram"
           }
          ],
          "histogram2d": [
           {
            "colorbar": {
             "outlinewidth": 0,
             "ticks": ""
            },
            "colorscale": [
             [
              0,
              "#0d0887"
             ],
             [
              0.1111111111111111,
              "#46039f"
             ],
             [
              0.2222222222222222,
              "#7201a8"
             ],
             [
              0.3333333333333333,
              "#9c179e"
             ],
             [
              0.4444444444444444,
              "#bd3786"
             ],
             [
              0.5555555555555556,
              "#d8576b"
             ],
             [
              0.6666666666666666,
              "#ed7953"
             ],
             [
              0.7777777777777778,
              "#fb9f3a"
             ],
             [
              0.8888888888888888,
              "#fdca26"
             ],
             [
              1,
              "#f0f921"
             ]
            ],
            "type": "histogram2d"
           }
          ],
          "histogram2dcontour": [
           {
            "colorbar": {
             "outlinewidth": 0,
             "ticks": ""
            },
            "colorscale": [
             [
              0,
              "#0d0887"
             ],
             [
              0.1111111111111111,
              "#46039f"
             ],
             [
              0.2222222222222222,
              "#7201a8"
             ],
             [
              0.3333333333333333,
              "#9c179e"
             ],
             [
              0.4444444444444444,
              "#bd3786"
             ],
             [
              0.5555555555555556,
              "#d8576b"
             ],
             [
              0.6666666666666666,
              "#ed7953"
             ],
             [
              0.7777777777777778,
              "#fb9f3a"
             ],
             [
              0.8888888888888888,
              "#fdca26"
             ],
             [
              1,
              "#f0f921"
             ]
            ],
            "type": "histogram2dcontour"
           }
          ],
          "mesh3d": [
           {
            "colorbar": {
             "outlinewidth": 0,
             "ticks": ""
            },
            "type": "mesh3d"
           }
          ],
          "parcoords": [
           {
            "line": {
             "colorbar": {
              "outlinewidth": 0,
              "ticks": ""
             }
            },
            "type": "parcoords"
           }
          ],
          "pie": [
           {
            "automargin": true,
            "type": "pie"
           }
          ],
          "scatter": [
           {
            "marker": {
             "colorbar": {
              "outlinewidth": 0,
              "ticks": ""
             }
            },
            "type": "scatter"
           }
          ],
          "scatter3d": [
           {
            "line": {
             "colorbar": {
              "outlinewidth": 0,
              "ticks": ""
             }
            },
            "marker": {
             "colorbar": {
              "outlinewidth": 0,
              "ticks": ""
             }
            },
            "type": "scatter3d"
           }
          ],
          "scattercarpet": [
           {
            "marker": {
             "colorbar": {
              "outlinewidth": 0,
              "ticks": ""
             }
            },
            "type": "scattercarpet"
           }
          ],
          "scattergeo": [
           {
            "marker": {
             "colorbar": {
              "outlinewidth": 0,
              "ticks": ""
             }
            },
            "type": "scattergeo"
           }
          ],
          "scattergl": [
           {
            "marker": {
             "colorbar": {
              "outlinewidth": 0,
              "ticks": ""
             }
            },
            "type": "scattergl"
           }
          ],
          "scattermapbox": [
           {
            "marker": {
             "colorbar": {
              "outlinewidth": 0,
              "ticks": ""
             }
            },
            "type": "scattermapbox"
           }
          ],
          "scatterpolar": [
           {
            "marker": {
             "colorbar": {
              "outlinewidth": 0,
              "ticks": ""
             }
            },
            "type": "scatterpolar"
           }
          ],
          "scatterpolargl": [
           {
            "marker": {
             "colorbar": {
              "outlinewidth": 0,
              "ticks": ""
             }
            },
            "type": "scatterpolargl"
           }
          ],
          "scatterternary": [
           {
            "marker": {
             "colorbar": {
              "outlinewidth": 0,
              "ticks": ""
             }
            },
            "type": "scatterternary"
           }
          ],
          "surface": [
           {
            "colorbar": {
             "outlinewidth": 0,
             "ticks": ""
            },
            "colorscale": [
             [
              0,
              "#0d0887"
             ],
             [
              0.1111111111111111,
              "#46039f"
             ],
             [
              0.2222222222222222,
              "#7201a8"
             ],
             [
              0.3333333333333333,
              "#9c179e"
             ],
             [
              0.4444444444444444,
              "#bd3786"
             ],
             [
              0.5555555555555556,
              "#d8576b"
             ],
             [
              0.6666666666666666,
              "#ed7953"
             ],
             [
              0.7777777777777778,
              "#fb9f3a"
             ],
             [
              0.8888888888888888,
              "#fdca26"
             ],
             [
              1,
              "#f0f921"
             ]
            ],
            "type": "surface"
           }
          ],
          "table": [
           {
            "cells": {
             "fill": {
              "color": "#EBF0F8"
             },
             "line": {
              "color": "white"
             }
            },
            "header": {
             "fill": {
              "color": "#C8D4E3"
             },
             "line": {
              "color": "white"
             }
            },
            "type": "table"
           }
          ]
         },
         "layout": {
          "annotationdefaults": {
           "arrowcolor": "#2a3f5f",
           "arrowhead": 0,
           "arrowwidth": 1
          },
          "autotypenumbers": "strict",
          "coloraxis": {
           "colorbar": {
            "outlinewidth": 0,
            "ticks": ""
           }
          },
          "colorscale": {
           "diverging": [
            [
             0,
             "#8e0152"
            ],
            [
             0.1,
             "#c51b7d"
            ],
            [
             0.2,
             "#de77ae"
            ],
            [
             0.3,
             "#f1b6da"
            ],
            [
             0.4,
             "#fde0ef"
            ],
            [
             0.5,
             "#f7f7f7"
            ],
            [
             0.6,
             "#e6f5d0"
            ],
            [
             0.7,
             "#b8e186"
            ],
            [
             0.8,
             "#7fbc41"
            ],
            [
             0.9,
             "#4d9221"
            ],
            [
             1,
             "#276419"
            ]
           ],
           "sequential": [
            [
             0,
             "#0d0887"
            ],
            [
             0.1111111111111111,
             "#46039f"
            ],
            [
             0.2222222222222222,
             "#7201a8"
            ],
            [
             0.3333333333333333,
             "#9c179e"
            ],
            [
             0.4444444444444444,
             "#bd3786"
            ],
            [
             0.5555555555555556,
             "#d8576b"
            ],
            [
             0.6666666666666666,
             "#ed7953"
            ],
            [
             0.7777777777777778,
             "#fb9f3a"
            ],
            [
             0.8888888888888888,
             "#fdca26"
            ],
            [
             1,
             "#f0f921"
            ]
           ],
           "sequentialminus": [
            [
             0,
             "#0d0887"
            ],
            [
             0.1111111111111111,
             "#46039f"
            ],
            [
             0.2222222222222222,
             "#7201a8"
            ],
            [
             0.3333333333333333,
             "#9c179e"
            ],
            [
             0.4444444444444444,
             "#bd3786"
            ],
            [
             0.5555555555555556,
             "#d8576b"
            ],
            [
             0.6666666666666666,
             "#ed7953"
            ],
            [
             0.7777777777777778,
             "#fb9f3a"
            ],
            [
             0.8888888888888888,
             "#fdca26"
            ],
            [
             1,
             "#f0f921"
            ]
           ]
          },
          "colorway": [
           "#636efa",
           "#EF553B",
           "#00cc96",
           "#ab63fa",
           "#FFA15A",
           "#19d3f3",
           "#FF6692",
           "#B6E880",
           "#FF97FF",
           "#FECB52"
          ],
          "font": {
           "color": "#2a3f5f"
          },
          "geo": {
           "bgcolor": "white",
           "lakecolor": "white",
           "landcolor": "#E5ECF6",
           "showlakes": true,
           "showland": true,
           "subunitcolor": "white"
          },
          "hoverlabel": {
           "align": "left"
          },
          "hovermode": "closest",
          "mapbox": {
           "style": "light"
          },
          "paper_bgcolor": "white",
          "plot_bgcolor": "#E5ECF6",
          "polar": {
           "angularaxis": {
            "gridcolor": "white",
            "linecolor": "white",
            "ticks": ""
           },
           "bgcolor": "#E5ECF6",
           "radialaxis": {
            "gridcolor": "white",
            "linecolor": "white",
            "ticks": ""
           }
          },
          "scene": {
           "xaxis": {
            "backgroundcolor": "#E5ECF6",
            "gridcolor": "white",
            "gridwidth": 2,
            "linecolor": "white",
            "showbackground": true,
            "ticks": "",
            "zerolinecolor": "white"
           },
           "yaxis": {
            "backgroundcolor": "#E5ECF6",
            "gridcolor": "white",
            "gridwidth": 2,
            "linecolor": "white",
            "showbackground": true,
            "ticks": "",
            "zerolinecolor": "white"
           },
           "zaxis": {
            "backgroundcolor": "#E5ECF6",
            "gridcolor": "white",
            "gridwidth": 2,
            "linecolor": "white",
            "showbackground": true,
            "ticks": "",
            "zerolinecolor": "white"
           }
          },
          "shapedefaults": {
           "line": {
            "color": "#2a3f5f"
           }
          },
          "ternary": {
           "aaxis": {
            "gridcolor": "white",
            "linecolor": "white",
            "ticks": ""
           },
           "baxis": {
            "gridcolor": "white",
            "linecolor": "white",
            "ticks": ""
           },
           "bgcolor": "#E5ECF6",
           "caxis": {
            "gridcolor": "white",
            "linecolor": "white",
            "ticks": ""
           }
          },
          "title": {
           "x": 0.05
          },
          "xaxis": {
           "automargin": true,
           "gridcolor": "white",
           "linecolor": "white",
           "ticks": "",
           "title": {
            "standoff": 15
           },
           "zerolinecolor": "white",
           "zerolinewidth": 2
          },
          "yaxis": {
           "automargin": true,
           "gridcolor": "white",
           "linecolor": "white",
           "ticks": "",
           "title": {
            "standoff": 15
           },
           "zerolinecolor": "white",
           "zerolinewidth": 2
          }
         }
        },
        "title": {
         "text": "88rising Artist Total Collaborations"
        },
        "xaxis": {
         "anchor": "y",
         "domain": [
          0,
          1
         ],
         "title": {
          "text": "artist"
         },
         "type": "category"
        },
        "yaxis": {
         "anchor": "x",
         "domain": [
          0,
          1
         ],
         "title": {
          "text": "num_tracks"
         }
        }
       }
      }
     },
     "metadata": {},
     "output_type": "display_data"
    }
   ],
   "source": [
    "x_axis = feat_88_df['artist']\n",
    "fig = px.bar(feat_88_df, x=x_axis, y='num_tracks',\n",
    "             hover_data={'num_tracks':'Total Tracks','popularity':':.2f', 'length(ms)':':.2f', 'acousticness':':.2f', 'danceability':':.2f', 'energy':':.2f', 'liveness':':.2f', 'tempo':':.2f', 'valence':':.2f'},\n",
    "             labels={'popularity':'Average Popularity'}, title='88rising Artist Total Collaborations')\n",
    "fig.update_xaxes(type='category')\n",
    "fig.show()"
   ]
  },
  {
   "cell_type": "code",
   "execution_count": 145,
   "metadata": {},
   "outputs": [
    {
     "data": {
      "application/vnd.plotly.v1+json": {
       "config": {
        "plotlyServerURL": "https://plot.ly"
       },
       "data": [
        {
         "marker": {
          "color": "rgb(34,163,192)"
         },
         "name": "Total Collaborated Tracks",
         "type": "bar",
         "x": [
          "88rising",
          "higher brothers",
          "guapdad 4000",
          "rich brian",
          "niki",
          "bibi",
          "chung ha",
          "joji",
          "jackson wang",
          "stephanie poetri",
          "warren hue",
          "keith ape",
          "milli"
         ],
         "y": [
          39,
          38,
          34,
          27,
          22,
          20,
          19,
          18,
          17,
          4,
          3,
          2,
          1
         ]
        },
        {
         "name": "Average Popularity Rating",
         "type": "scatter",
         "x": [
          "88rising",
          "higher brothers",
          "guapdad 4000",
          "rich brian",
          "niki",
          "bibi",
          "chung ha",
          "joji",
          "jackson wang",
          "stephanie poetri",
          "warren hue",
          "keith ape",
          "milli"
         ],
         "xaxis": "x",
         "y": [
          50.717948717948715,
          46.3,
          43.8421052631579,
          36.23529411764706,
          34.36842105263158,
          48,
          58.27777777777778,
          50.5,
          54,
          51.86363636363637,
          51.148148148148145,
          51.5,
          48.666666666666664
         ],
         "yaxis": "y2"
        }
       ],
       "layout": {
        "height": 600,
        "template": {
         "data": {
          "bar": [
           {
            "error_x": {
             "color": "#2a3f5f"
            },
            "error_y": {
             "color": "#2a3f5f"
            },
            "marker": {
             "line": {
              "color": "#E5ECF6",
              "width": 0.5
             },
             "pattern": {
              "fillmode": "overlay",
              "size": 10,
              "solidity": 0.2
             }
            },
            "type": "bar"
           }
          ],
          "barpolar": [
           {
            "marker": {
             "line": {
              "color": "#E5ECF6",
              "width": 0.5
             },
             "pattern": {
              "fillmode": "overlay",
              "size": 10,
              "solidity": 0.2
             }
            },
            "type": "barpolar"
           }
          ],
          "carpet": [
           {
            "aaxis": {
             "endlinecolor": "#2a3f5f",
             "gridcolor": "white",
             "linecolor": "white",
             "minorgridcolor": "white",
             "startlinecolor": "#2a3f5f"
            },
            "baxis": {
             "endlinecolor": "#2a3f5f",
             "gridcolor": "white",
             "linecolor": "white",
             "minorgridcolor": "white",
             "startlinecolor": "#2a3f5f"
            },
            "type": "carpet"
           }
          ],
          "choropleth": [
           {
            "colorbar": {
             "outlinewidth": 0,
             "ticks": ""
            },
            "type": "choropleth"
           }
          ],
          "contour": [
           {
            "colorbar": {
             "outlinewidth": 0,
             "ticks": ""
            },
            "colorscale": [
             [
              0,
              "#0d0887"
             ],
             [
              0.1111111111111111,
              "#46039f"
             ],
             [
              0.2222222222222222,
              "#7201a8"
             ],
             [
              0.3333333333333333,
              "#9c179e"
             ],
             [
              0.4444444444444444,
              "#bd3786"
             ],
             [
              0.5555555555555556,
              "#d8576b"
             ],
             [
              0.6666666666666666,
              "#ed7953"
             ],
             [
              0.7777777777777778,
              "#fb9f3a"
             ],
             [
              0.8888888888888888,
              "#fdca26"
             ],
             [
              1,
              "#f0f921"
             ]
            ],
            "type": "contour"
           }
          ],
          "contourcarpet": [
           {
            "colorbar": {
             "outlinewidth": 0,
             "ticks": ""
            },
            "type": "contourcarpet"
           }
          ],
          "heatmap": [
           {
            "colorbar": {
             "outlinewidth": 0,
             "ticks": ""
            },
            "colorscale": [
             [
              0,
              "#0d0887"
             ],
             [
              0.1111111111111111,
              "#46039f"
             ],
             [
              0.2222222222222222,
              "#7201a8"
             ],
             [
              0.3333333333333333,
              "#9c179e"
             ],
             [
              0.4444444444444444,
              "#bd3786"
             ],
             [
              0.5555555555555556,
              "#d8576b"
             ],
             [
              0.6666666666666666,
              "#ed7953"
             ],
             [
              0.7777777777777778,
              "#fb9f3a"
             ],
             [
              0.8888888888888888,
              "#fdca26"
             ],
             [
              1,
              "#f0f921"
             ]
            ],
            "type": "heatmap"
           }
          ],
          "heatmapgl": [
           {
            "colorbar": {
             "outlinewidth": 0,
             "ticks": ""
            },
            "colorscale": [
             [
              0,
              "#0d0887"
             ],
             [
              0.1111111111111111,
              "#46039f"
             ],
             [
              0.2222222222222222,
              "#7201a8"
             ],
             [
              0.3333333333333333,
              "#9c179e"
             ],
             [
              0.4444444444444444,
              "#bd3786"
             ],
             [
              0.5555555555555556,
              "#d8576b"
             ],
             [
              0.6666666666666666,
              "#ed7953"
             ],
             [
              0.7777777777777778,
              "#fb9f3a"
             ],
             [
              0.8888888888888888,
              "#fdca26"
             ],
             [
              1,
              "#f0f921"
             ]
            ],
            "type": "heatmapgl"
           }
          ],
          "histogram": [
           {
            "marker": {
             "pattern": {
              "fillmode": "overlay",
              "size": 10,
              "solidity": 0.2
             }
            },
            "type": "histogram"
           }
          ],
          "histogram2d": [
           {
            "colorbar": {
             "outlinewidth": 0,
             "ticks": ""
            },
            "colorscale": [
             [
              0,
              "#0d0887"
             ],
             [
              0.1111111111111111,
              "#46039f"
             ],
             [
              0.2222222222222222,
              "#7201a8"
             ],
             [
              0.3333333333333333,
              "#9c179e"
             ],
             [
              0.4444444444444444,
              "#bd3786"
             ],
             [
              0.5555555555555556,
              "#d8576b"
             ],
             [
              0.6666666666666666,
              "#ed7953"
             ],
             [
              0.7777777777777778,
              "#fb9f3a"
             ],
             [
              0.8888888888888888,
              "#fdca26"
             ],
             [
              1,
              "#f0f921"
             ]
            ],
            "type": "histogram2d"
           }
          ],
          "histogram2dcontour": [
           {
            "colorbar": {
             "outlinewidth": 0,
             "ticks": ""
            },
            "colorscale": [
             [
              0,
              "#0d0887"
             ],
             [
              0.1111111111111111,
              "#46039f"
             ],
             [
              0.2222222222222222,
              "#7201a8"
             ],
             [
              0.3333333333333333,
              "#9c179e"
             ],
             [
              0.4444444444444444,
              "#bd3786"
             ],
             [
              0.5555555555555556,
              "#d8576b"
             ],
             [
              0.6666666666666666,
              "#ed7953"
             ],
             [
              0.7777777777777778,
              "#fb9f3a"
             ],
             [
              0.8888888888888888,
              "#fdca26"
             ],
             [
              1,
              "#f0f921"
             ]
            ],
            "type": "histogram2dcontour"
           }
          ],
          "mesh3d": [
           {
            "colorbar": {
             "outlinewidth": 0,
             "ticks": ""
            },
            "type": "mesh3d"
           }
          ],
          "parcoords": [
           {
            "line": {
             "colorbar": {
              "outlinewidth": 0,
              "ticks": ""
             }
            },
            "type": "parcoords"
           }
          ],
          "pie": [
           {
            "automargin": true,
            "type": "pie"
           }
          ],
          "scatter": [
           {
            "marker": {
             "colorbar": {
              "outlinewidth": 0,
              "ticks": ""
             }
            },
            "type": "scatter"
           }
          ],
          "scatter3d": [
           {
            "line": {
             "colorbar": {
              "outlinewidth": 0,
              "ticks": ""
             }
            },
            "marker": {
             "colorbar": {
              "outlinewidth": 0,
              "ticks": ""
             }
            },
            "type": "scatter3d"
           }
          ],
          "scattercarpet": [
           {
            "marker": {
             "colorbar": {
              "outlinewidth": 0,
              "ticks": ""
             }
            },
            "type": "scattercarpet"
           }
          ],
          "scattergeo": [
           {
            "marker": {
             "colorbar": {
              "outlinewidth": 0,
              "ticks": ""
             }
            },
            "type": "scattergeo"
           }
          ],
          "scattergl": [
           {
            "marker": {
             "colorbar": {
              "outlinewidth": 0,
              "ticks": ""
             }
            },
            "type": "scattergl"
           }
          ],
          "scattermapbox": [
           {
            "marker": {
             "colorbar": {
              "outlinewidth": 0,
              "ticks": ""
             }
            },
            "type": "scattermapbox"
           }
          ],
          "scatterpolar": [
           {
            "marker": {
             "colorbar": {
              "outlinewidth": 0,
              "ticks": ""
             }
            },
            "type": "scatterpolar"
           }
          ],
          "scatterpolargl": [
           {
            "marker": {
             "colorbar": {
              "outlinewidth": 0,
              "ticks": ""
             }
            },
            "type": "scatterpolargl"
           }
          ],
          "scatterternary": [
           {
            "marker": {
             "colorbar": {
              "outlinewidth": 0,
              "ticks": ""
             }
            },
            "type": "scatterternary"
           }
          ],
          "surface": [
           {
            "colorbar": {
             "outlinewidth": 0,
             "ticks": ""
            },
            "colorscale": [
             [
              0,
              "#0d0887"
             ],
             [
              0.1111111111111111,
              "#46039f"
             ],
             [
              0.2222222222222222,
              "#7201a8"
             ],
             [
              0.3333333333333333,
              "#9c179e"
             ],
             [
              0.4444444444444444,
              "#bd3786"
             ],
             [
              0.5555555555555556,
              "#d8576b"
             ],
             [
              0.6666666666666666,
              "#ed7953"
             ],
             [
              0.7777777777777778,
              "#fb9f3a"
             ],
             [
              0.8888888888888888,
              "#fdca26"
             ],
             [
              1,
              "#f0f921"
             ]
            ],
            "type": "surface"
           }
          ],
          "table": [
           {
            "cells": {
             "fill": {
              "color": "#EBF0F8"
             },
             "line": {
              "color": "white"
             }
            },
            "header": {
             "fill": {
              "color": "#C8D4E3"
             },
             "line": {
              "color": "white"
             }
            },
            "type": "table"
           }
          ]
         },
         "layout": {
          "annotationdefaults": {
           "arrowcolor": "#2a3f5f",
           "arrowhead": 0,
           "arrowwidth": 1
          },
          "autotypenumbers": "strict",
          "coloraxis": {
           "colorbar": {
            "outlinewidth": 0,
            "ticks": ""
           }
          },
          "colorscale": {
           "diverging": [
            [
             0,
             "#8e0152"
            ],
            [
             0.1,
             "#c51b7d"
            ],
            [
             0.2,
             "#de77ae"
            ],
            [
             0.3,
             "#f1b6da"
            ],
            [
             0.4,
             "#fde0ef"
            ],
            [
             0.5,
             "#f7f7f7"
            ],
            [
             0.6,
             "#e6f5d0"
            ],
            [
             0.7,
             "#b8e186"
            ],
            [
             0.8,
             "#7fbc41"
            ],
            [
             0.9,
             "#4d9221"
            ],
            [
             1,
             "#276419"
            ]
           ],
           "sequential": [
            [
             0,
             "#0d0887"
            ],
            [
             0.1111111111111111,
             "#46039f"
            ],
            [
             0.2222222222222222,
             "#7201a8"
            ],
            [
             0.3333333333333333,
             "#9c179e"
            ],
            [
             0.4444444444444444,
             "#bd3786"
            ],
            [
             0.5555555555555556,
             "#d8576b"
            ],
            [
             0.6666666666666666,
             "#ed7953"
            ],
            [
             0.7777777777777778,
             "#fb9f3a"
            ],
            [
             0.8888888888888888,
             "#fdca26"
            ],
            [
             1,
             "#f0f921"
            ]
           ],
           "sequentialminus": [
            [
             0,
             "#0d0887"
            ],
            [
             0.1111111111111111,
             "#46039f"
            ],
            [
             0.2222222222222222,
             "#7201a8"
            ],
            [
             0.3333333333333333,
             "#9c179e"
            ],
            [
             0.4444444444444444,
             "#bd3786"
            ],
            [
             0.5555555555555556,
             "#d8576b"
            ],
            [
             0.6666666666666666,
             "#ed7953"
            ],
            [
             0.7777777777777778,
             "#fb9f3a"
            ],
            [
             0.8888888888888888,
             "#fdca26"
            ],
            [
             1,
             "#f0f921"
            ]
           ]
          },
          "colorway": [
           "#636efa",
           "#EF553B",
           "#00cc96",
           "#ab63fa",
           "#FFA15A",
           "#19d3f3",
           "#FF6692",
           "#B6E880",
           "#FF97FF",
           "#FECB52"
          ],
          "font": {
           "color": "#2a3f5f"
          },
          "geo": {
           "bgcolor": "white",
           "lakecolor": "white",
           "landcolor": "#E5ECF6",
           "showlakes": true,
           "showland": true,
           "subunitcolor": "white"
          },
          "hoverlabel": {
           "align": "left"
          },
          "hovermode": "closest",
          "mapbox": {
           "style": "light"
          },
          "paper_bgcolor": "white",
          "plot_bgcolor": "#E5ECF6",
          "polar": {
           "angularaxis": {
            "gridcolor": "white",
            "linecolor": "white",
            "ticks": ""
           },
           "bgcolor": "#E5ECF6",
           "radialaxis": {
            "gridcolor": "white",
            "linecolor": "white",
            "ticks": ""
           }
          },
          "scene": {
           "xaxis": {
            "backgroundcolor": "#E5ECF6",
            "gridcolor": "white",
            "gridwidth": 2,
            "linecolor": "white",
            "showbackground": true,
            "ticks": "",
            "zerolinecolor": "white"
           },
           "yaxis": {
            "backgroundcolor": "#E5ECF6",
            "gridcolor": "white",
            "gridwidth": 2,
            "linecolor": "white",
            "showbackground": true,
            "ticks": "",
            "zerolinecolor": "white"
           },
           "zaxis": {
            "backgroundcolor": "#E5ECF6",
            "gridcolor": "white",
            "gridwidth": 2,
            "linecolor": "white",
            "showbackground": true,
            "ticks": "",
            "zerolinecolor": "white"
           }
          },
          "shapedefaults": {
           "line": {
            "color": "#2a3f5f"
           }
          },
          "ternary": {
           "aaxis": {
            "gridcolor": "white",
            "linecolor": "white",
            "ticks": ""
           },
           "baxis": {
            "gridcolor": "white",
            "linecolor": "white",
            "ticks": ""
           },
           "bgcolor": "#E5ECF6",
           "caxis": {
            "gridcolor": "white",
            "linecolor": "white",
            "ticks": ""
           }
          },
          "title": {
           "x": 0.05
          },
          "xaxis": {
           "automargin": true,
           "gridcolor": "white",
           "linecolor": "white",
           "ticks": "",
           "title": {
            "standoff": 15
           },
           "zerolinecolor": "white",
           "zerolinewidth": 2
          },
          "yaxis": {
           "automargin": true,
           "gridcolor": "white",
           "linecolor": "white",
           "ticks": "",
           "title": {
            "standoff": 15
           },
           "zerolinecolor": "white",
           "zerolinewidth": 2
          }
         }
        },
        "title": {
         "text": "88rising Artist Collaborations and Popularity"
        },
        "width": 800,
        "xaxis": {
         "anchor": "y",
         "domain": [
          0,
          0.94
         ],
         "tickangle": -90
        },
        "yaxis": {
         "anchor": "x",
         "domain": [
          0,
          1
         ]
        },
        "yaxis2": {
         "anchor": "x",
         "overlaying": "y",
         "side": "right"
        }
       }
      }
     },
     "metadata": {},
     "output_type": "display_data"
    }
   ],
   "source": [
    "trace1 = go.Bar(\n",
    "    x=x_axis,\n",
    "    y=feat_88_df['num_tracks'],\n",
    "    name=\"Total Collaborated Tracks\",\n",
    "    marker=dict(\n",
    "        color='rgb(34,163,192)'\n",
    "               )\n",
    ")\n",
    "trace2 = go.Scatter(\n",
    "    x=x_axis,\n",
    "    y=feat_88_df['popularity'],\n",
    "    name='Average Popularity Rating',\n",
    "    yaxis='y2'\n",
    "\n",
    ")\n",
    "\n",
    "fig = p_sub(specs=[[{\"secondary_y\": True}]])\n",
    "fig.add_trace(trace1)\n",
    "fig.add_trace(trace2,secondary_y=True)\n",
    "fig['layout'].update(height = 600, width = 800, title = '88rising Artist Collaborations and Popularity',xaxis=dict(\n",
    "      tickangle=-90\n",
    "    ))\n",
    "fig.show()"
   ]
  },
  {
   "cell_type": "markdown",
   "metadata": {},
   "source": [
    "It is interesting to see that some artists that I thought would be popular had less popularity such as Niki and Rich Brian.\n",
    "Let's see if there is a relationship between artist total collaborations and their popularity rating."
   ]
  },
  {
   "cell_type": "code",
   "execution_count": 148,
   "metadata": {},
   "outputs": [
    {
     "data": {
      "application/vnd.plotly.v1+json": {
       "config": {
        "plotlyServerURL": "https://plot.ly"
       },
       "data": [
        {
         "hovertemplate": "num_tracks=%{x}<br>popularity=%{y}<extra></extra>",
         "legendgroup": "",
         "marker": {
          "color": "#636efa",
          "symbol": "circle"
         },
         "mode": "markers",
         "name": "",
         "orientation": "v",
         "showlegend": false,
         "type": "scatter",
         "x": [
          39,
          38,
          34,
          27,
          22,
          20,
          19,
          18,
          17,
          4,
          3,
          2,
          1
         ],
         "xaxis": "x",
         "y": [
          50.717948717948715,
          46.3,
          43.8421052631579,
          36.23529411764706,
          34.36842105263158,
          48,
          58.27777777777778,
          50.5,
          54,
          51.86363636363637,
          51.148148148148145,
          51.5,
          48.666666666666664
         ],
         "yaxis": "y"
        },
        {
         "hovertemplate": "<b>OLS trendline</b><br>popularity = -0.171115 * num_tracks + 51.3209<br>R<sup>2</sup>=0.117672<br><br>num_tracks=%{x}<br>popularity=%{y} <b>(trend)</b><extra></extra>",
         "legendgroup": "",
         "marker": {
          "color": "#636efa",
          "symbol": "circle"
         },
         "mode": "lines",
         "name": "",
         "showlegend": false,
         "type": "scatter",
         "x": [
          1,
          2,
          3,
          4,
          17,
          18,
          19,
          20,
          22,
          27,
          34,
          38,
          39
         ],
         "xaxis": "x",
         "y": [
          51.14981447143181,
          50.9786993631158,
          50.807584254799785,
          50.636469146483776,
          48.4119727383756,
          48.24085763005959,
          48.06974252174357,
          47.89862741342756,
          47.55639719679554,
          46.700821655215464,
          45.50301589700337,
          44.81855546373932,
          44.647440355423306
         ],
         "yaxis": "y"
        }
       ],
       "layout": {
        "legend": {
         "tracegroupgap": 0
        },
        "margin": {
         "t": 60
        },
        "template": {
         "data": {
          "bar": [
           {
            "error_x": {
             "color": "#2a3f5f"
            },
            "error_y": {
             "color": "#2a3f5f"
            },
            "marker": {
             "line": {
              "color": "#E5ECF6",
              "width": 0.5
             },
             "pattern": {
              "fillmode": "overlay",
              "size": 10,
              "solidity": 0.2
             }
            },
            "type": "bar"
           }
          ],
          "barpolar": [
           {
            "marker": {
             "line": {
              "color": "#E5ECF6",
              "width": 0.5
             },
             "pattern": {
              "fillmode": "overlay",
              "size": 10,
              "solidity": 0.2
             }
            },
            "type": "barpolar"
           }
          ],
          "carpet": [
           {
            "aaxis": {
             "endlinecolor": "#2a3f5f",
             "gridcolor": "white",
             "linecolor": "white",
             "minorgridcolor": "white",
             "startlinecolor": "#2a3f5f"
            },
            "baxis": {
             "endlinecolor": "#2a3f5f",
             "gridcolor": "white",
             "linecolor": "white",
             "minorgridcolor": "white",
             "startlinecolor": "#2a3f5f"
            },
            "type": "carpet"
           }
          ],
          "choropleth": [
           {
            "colorbar": {
             "outlinewidth": 0,
             "ticks": ""
            },
            "type": "choropleth"
           }
          ],
          "contour": [
           {
            "colorbar": {
             "outlinewidth": 0,
             "ticks": ""
            },
            "colorscale": [
             [
              0,
              "#0d0887"
             ],
             [
              0.1111111111111111,
              "#46039f"
             ],
             [
              0.2222222222222222,
              "#7201a8"
             ],
             [
              0.3333333333333333,
              "#9c179e"
             ],
             [
              0.4444444444444444,
              "#bd3786"
             ],
             [
              0.5555555555555556,
              "#d8576b"
             ],
             [
              0.6666666666666666,
              "#ed7953"
             ],
             [
              0.7777777777777778,
              "#fb9f3a"
             ],
             [
              0.8888888888888888,
              "#fdca26"
             ],
             [
              1,
              "#f0f921"
             ]
            ],
            "type": "contour"
           }
          ],
          "contourcarpet": [
           {
            "colorbar": {
             "outlinewidth": 0,
             "ticks": ""
            },
            "type": "contourcarpet"
           }
          ],
          "heatmap": [
           {
            "colorbar": {
             "outlinewidth": 0,
             "ticks": ""
            },
            "colorscale": [
             [
              0,
              "#0d0887"
             ],
             [
              0.1111111111111111,
              "#46039f"
             ],
             [
              0.2222222222222222,
              "#7201a8"
             ],
             [
              0.3333333333333333,
              "#9c179e"
             ],
             [
              0.4444444444444444,
              "#bd3786"
             ],
             [
              0.5555555555555556,
              "#d8576b"
             ],
             [
              0.6666666666666666,
              "#ed7953"
             ],
             [
              0.7777777777777778,
              "#fb9f3a"
             ],
             [
              0.8888888888888888,
              "#fdca26"
             ],
             [
              1,
              "#f0f921"
             ]
            ],
            "type": "heatmap"
           }
          ],
          "heatmapgl": [
           {
            "colorbar": {
             "outlinewidth": 0,
             "ticks": ""
            },
            "colorscale": [
             [
              0,
              "#0d0887"
             ],
             [
              0.1111111111111111,
              "#46039f"
             ],
             [
              0.2222222222222222,
              "#7201a8"
             ],
             [
              0.3333333333333333,
              "#9c179e"
             ],
             [
              0.4444444444444444,
              "#bd3786"
             ],
             [
              0.5555555555555556,
              "#d8576b"
             ],
             [
              0.6666666666666666,
              "#ed7953"
             ],
             [
              0.7777777777777778,
              "#fb9f3a"
             ],
             [
              0.8888888888888888,
              "#fdca26"
             ],
             [
              1,
              "#f0f921"
             ]
            ],
            "type": "heatmapgl"
           }
          ],
          "histogram": [
           {
            "marker": {
             "pattern": {
              "fillmode": "overlay",
              "size": 10,
              "solidity": 0.2
             }
            },
            "type": "histogram"
           }
          ],
          "histogram2d": [
           {
            "colorbar": {
             "outlinewidth": 0,
             "ticks": ""
            },
            "colorscale": [
             [
              0,
              "#0d0887"
             ],
             [
              0.1111111111111111,
              "#46039f"
             ],
             [
              0.2222222222222222,
              "#7201a8"
             ],
             [
              0.3333333333333333,
              "#9c179e"
             ],
             [
              0.4444444444444444,
              "#bd3786"
             ],
             [
              0.5555555555555556,
              "#d8576b"
             ],
             [
              0.6666666666666666,
              "#ed7953"
             ],
             [
              0.7777777777777778,
              "#fb9f3a"
             ],
             [
              0.8888888888888888,
              "#fdca26"
             ],
             [
              1,
              "#f0f921"
             ]
            ],
            "type": "histogram2d"
           }
          ],
          "histogram2dcontour": [
           {
            "colorbar": {
             "outlinewidth": 0,
             "ticks": ""
            },
            "colorscale": [
             [
              0,
              "#0d0887"
             ],
             [
              0.1111111111111111,
              "#46039f"
             ],
             [
              0.2222222222222222,
              "#7201a8"
             ],
             [
              0.3333333333333333,
              "#9c179e"
             ],
             [
              0.4444444444444444,
              "#bd3786"
             ],
             [
              0.5555555555555556,
              "#d8576b"
             ],
             [
              0.6666666666666666,
              "#ed7953"
             ],
             [
              0.7777777777777778,
              "#fb9f3a"
             ],
             [
              0.8888888888888888,
              "#fdca26"
             ],
             [
              1,
              "#f0f921"
             ]
            ],
            "type": "histogram2dcontour"
           }
          ],
          "mesh3d": [
           {
            "colorbar": {
             "outlinewidth": 0,
             "ticks": ""
            },
            "type": "mesh3d"
           }
          ],
          "parcoords": [
           {
            "line": {
             "colorbar": {
              "outlinewidth": 0,
              "ticks": ""
             }
            },
            "type": "parcoords"
           }
          ],
          "pie": [
           {
            "automargin": true,
            "type": "pie"
           }
          ],
          "scatter": [
           {
            "marker": {
             "colorbar": {
              "outlinewidth": 0,
              "ticks": ""
             }
            },
            "type": "scatter"
           }
          ],
          "scatter3d": [
           {
            "line": {
             "colorbar": {
              "outlinewidth": 0,
              "ticks": ""
             }
            },
            "marker": {
             "colorbar": {
              "outlinewidth": 0,
              "ticks": ""
             }
            },
            "type": "scatter3d"
           }
          ],
          "scattercarpet": [
           {
            "marker": {
             "colorbar": {
              "outlinewidth": 0,
              "ticks": ""
             }
            },
            "type": "scattercarpet"
           }
          ],
          "scattergeo": [
           {
            "marker": {
             "colorbar": {
              "outlinewidth": 0,
              "ticks": ""
             }
            },
            "type": "scattergeo"
           }
          ],
          "scattergl": [
           {
            "marker": {
             "colorbar": {
              "outlinewidth": 0,
              "ticks": ""
             }
            },
            "type": "scattergl"
           }
          ],
          "scattermapbox": [
           {
            "marker": {
             "colorbar": {
              "outlinewidth": 0,
              "ticks": ""
             }
            },
            "type": "scattermapbox"
           }
          ],
          "scatterpolar": [
           {
            "marker": {
             "colorbar": {
              "outlinewidth": 0,
              "ticks": ""
             }
            },
            "type": "scatterpolar"
           }
          ],
          "scatterpolargl": [
           {
            "marker": {
             "colorbar": {
              "outlinewidth": 0,
              "ticks": ""
             }
            },
            "type": "scatterpolargl"
           }
          ],
          "scatterternary": [
           {
            "marker": {
             "colorbar": {
              "outlinewidth": 0,
              "ticks": ""
             }
            },
            "type": "scatterternary"
           }
          ],
          "surface": [
           {
            "colorbar": {
             "outlinewidth": 0,
             "ticks": ""
            },
            "colorscale": [
             [
              0,
              "#0d0887"
             ],
             [
              0.1111111111111111,
              "#46039f"
             ],
             [
              0.2222222222222222,
              "#7201a8"
             ],
             [
              0.3333333333333333,
              "#9c179e"
             ],
             [
              0.4444444444444444,
              "#bd3786"
             ],
             [
              0.5555555555555556,
              "#d8576b"
             ],
             [
              0.6666666666666666,
              "#ed7953"
             ],
             [
              0.7777777777777778,
              "#fb9f3a"
             ],
             [
              0.8888888888888888,
              "#fdca26"
             ],
             [
              1,
              "#f0f921"
             ]
            ],
            "type": "surface"
           }
          ],
          "table": [
           {
            "cells": {
             "fill": {
              "color": "#EBF0F8"
             },
             "line": {
              "color": "white"
             }
            },
            "header": {
             "fill": {
              "color": "#C8D4E3"
             },
             "line": {
              "color": "white"
             }
            },
            "type": "table"
           }
          ]
         },
         "layout": {
          "annotationdefaults": {
           "arrowcolor": "#2a3f5f",
           "arrowhead": 0,
           "arrowwidth": 1
          },
          "autotypenumbers": "strict",
          "coloraxis": {
           "colorbar": {
            "outlinewidth": 0,
            "ticks": ""
           }
          },
          "colorscale": {
           "diverging": [
            [
             0,
             "#8e0152"
            ],
            [
             0.1,
             "#c51b7d"
            ],
            [
             0.2,
             "#de77ae"
            ],
            [
             0.3,
             "#f1b6da"
            ],
            [
             0.4,
             "#fde0ef"
            ],
            [
             0.5,
             "#f7f7f7"
            ],
            [
             0.6,
             "#e6f5d0"
            ],
            [
             0.7,
             "#b8e186"
            ],
            [
             0.8,
             "#7fbc41"
            ],
            [
             0.9,
             "#4d9221"
            ],
            [
             1,
             "#276419"
            ]
           ],
           "sequential": [
            [
             0,
             "#0d0887"
            ],
            [
             0.1111111111111111,
             "#46039f"
            ],
            [
             0.2222222222222222,
             "#7201a8"
            ],
            [
             0.3333333333333333,
             "#9c179e"
            ],
            [
             0.4444444444444444,
             "#bd3786"
            ],
            [
             0.5555555555555556,
             "#d8576b"
            ],
            [
             0.6666666666666666,
             "#ed7953"
            ],
            [
             0.7777777777777778,
             "#fb9f3a"
            ],
            [
             0.8888888888888888,
             "#fdca26"
            ],
            [
             1,
             "#f0f921"
            ]
           ],
           "sequentialminus": [
            [
             0,
             "#0d0887"
            ],
            [
             0.1111111111111111,
             "#46039f"
            ],
            [
             0.2222222222222222,
             "#7201a8"
            ],
            [
             0.3333333333333333,
             "#9c179e"
            ],
            [
             0.4444444444444444,
             "#bd3786"
            ],
            [
             0.5555555555555556,
             "#d8576b"
            ],
            [
             0.6666666666666666,
             "#ed7953"
            ],
            [
             0.7777777777777778,
             "#fb9f3a"
            ],
            [
             0.8888888888888888,
             "#fdca26"
            ],
            [
             1,
             "#f0f921"
            ]
           ]
          },
          "colorway": [
           "#636efa",
           "#EF553B",
           "#00cc96",
           "#ab63fa",
           "#FFA15A",
           "#19d3f3",
           "#FF6692",
           "#B6E880",
           "#FF97FF",
           "#FECB52"
          ],
          "font": {
           "color": "#2a3f5f"
          },
          "geo": {
           "bgcolor": "white",
           "lakecolor": "white",
           "landcolor": "#E5ECF6",
           "showlakes": true,
           "showland": true,
           "subunitcolor": "white"
          },
          "hoverlabel": {
           "align": "left"
          },
          "hovermode": "closest",
          "mapbox": {
           "style": "light"
          },
          "paper_bgcolor": "white",
          "plot_bgcolor": "#E5ECF6",
          "polar": {
           "angularaxis": {
            "gridcolor": "white",
            "linecolor": "white",
            "ticks": ""
           },
           "bgcolor": "#E5ECF6",
           "radialaxis": {
            "gridcolor": "white",
            "linecolor": "white",
            "ticks": ""
           }
          },
          "scene": {
           "xaxis": {
            "backgroundcolor": "#E5ECF6",
            "gridcolor": "white",
            "gridwidth": 2,
            "linecolor": "white",
            "showbackground": true,
            "ticks": "",
            "zerolinecolor": "white"
           },
           "yaxis": {
            "backgroundcolor": "#E5ECF6",
            "gridcolor": "white",
            "gridwidth": 2,
            "linecolor": "white",
            "showbackground": true,
            "ticks": "",
            "zerolinecolor": "white"
           },
           "zaxis": {
            "backgroundcolor": "#E5ECF6",
            "gridcolor": "white",
            "gridwidth": 2,
            "linecolor": "white",
            "showbackground": true,
            "ticks": "",
            "zerolinecolor": "white"
           }
          },
          "shapedefaults": {
           "line": {
            "color": "#2a3f5f"
           }
          },
          "ternary": {
           "aaxis": {
            "gridcolor": "white",
            "linecolor": "white",
            "ticks": ""
           },
           "baxis": {
            "gridcolor": "white",
            "linecolor": "white",
            "ticks": ""
           },
           "bgcolor": "#E5ECF6",
           "caxis": {
            "gridcolor": "white",
            "linecolor": "white",
            "ticks": ""
           }
          },
          "title": {
           "x": 0.05
          },
          "xaxis": {
           "automargin": true,
           "gridcolor": "white",
           "linecolor": "white",
           "ticks": "",
           "title": {
            "standoff": 15
           },
           "zerolinecolor": "white",
           "zerolinewidth": 2
          },
          "yaxis": {
           "automargin": true,
           "gridcolor": "white",
           "linecolor": "white",
           "ticks": "",
           "title": {
            "standoff": 15
           },
           "zerolinecolor": "white",
           "zerolinewidth": 2
          }
         }
        },
        "xaxis": {
         "anchor": "y",
         "domain": [
          0,
          1
         ],
         "title": {
          "text": "num_tracks"
         }
        },
        "yaxis": {
         "anchor": "x",
         "domain": [
          0,
          1
         ],
         "title": {
          "text": "popularity"
         }
        }
       }
      }
     },
     "metadata": {},
     "output_type": "display_data"
    },
    {
     "name": "stderr",
     "output_type": "stream",
     "text": [
      "c:\\Users\\krist\\anaconda3\\lib\\site-packages\\scipy\\stats\\stats.py:1541: UserWarning:\n",
      "\n",
      "kurtosistest only valid for n>=20 ... continuing anyway, n=13\n",
      "\n"
     ]
    },
    {
     "data": {
      "text/html": [
       "<table class=\"simpletable\">\n",
       "<caption>OLS Regression Results</caption>\n",
       "<tr>\n",
       "  <th>Dep. Variable:</th>            <td>y</td>        <th>  R-squared:         </th> <td>   0.118</td>\n",
       "</tr>\n",
       "<tr>\n",
       "  <th>Model:</th>                   <td>OLS</td>       <th>  Adj. R-squared:    </th> <td>   0.037</td>\n",
       "</tr>\n",
       "<tr>\n",
       "  <th>Method:</th>             <td>Least Squares</td>  <th>  F-statistic:       </th> <td>   1.467</td>\n",
       "</tr>\n",
       "<tr>\n",
       "  <th>Date:</th>             <td>Sun, 06 Nov 2022</td> <th>  Prob (F-statistic):</th>  <td> 0.251</td> \n",
       "</tr>\n",
       "<tr>\n",
       "  <th>Time:</th>                 <td>14:00:49</td>     <th>  Log-Likelihood:    </th> <td> -41.820</td>\n",
       "</tr>\n",
       "<tr>\n",
       "  <th>No. Observations:</th>      <td>    13</td>      <th>  AIC:               </th> <td>   87.64</td>\n",
       "</tr>\n",
       "<tr>\n",
       "  <th>Df Residuals:</th>          <td>    11</td>      <th>  BIC:               </th> <td>   88.77</td>\n",
       "</tr>\n",
       "<tr>\n",
       "  <th>Df Model:</th>              <td>     1</td>      <th>                     </th>     <td> </td>   \n",
       "</tr>\n",
       "<tr>\n",
       "  <th>Covariance Type:</th>      <td>nonrobust</td>    <th>                     </th>     <td> </td>   \n",
       "</tr>\n",
       "</table>\n",
       "<table class=\"simpletable\">\n",
       "<tr>\n",
       "    <td></td>       <th>coef</th>     <th>std err</th>      <th>t</th>      <th>P>|t|</th>  <th>[0.025</th>    <th>0.975]</th>  \n",
       "</tr>\n",
       "<tr>\n",
       "  <th>const</th> <td>   51.3209</td> <td>    3.216</td> <td>   15.956</td> <td> 0.000</td> <td>   44.242</td> <td>   58.400</td>\n",
       "</tr>\n",
       "<tr>\n",
       "  <th>x1</th>    <td>   -0.1711</td> <td>    0.141</td> <td>   -1.211</td> <td> 0.251</td> <td>   -0.482</td> <td>    0.140</td>\n",
       "</tr>\n",
       "</table>\n",
       "<table class=\"simpletable\">\n",
       "<tr>\n",
       "  <th>Omnibus:</th>       <td> 2.640</td> <th>  Durbin-Watson:     </th> <td>   1.050</td>\n",
       "</tr>\n",
       "<tr>\n",
       "  <th>Prob(Omnibus):</th> <td> 0.267</td> <th>  Jarque-Bera (JB):  </th> <td>   1.064</td>\n",
       "</tr>\n",
       "<tr>\n",
       "  <th>Skew:</th>          <td>-0.692</td> <th>  Prob(JB):          </th> <td>   0.587</td>\n",
       "</tr>\n",
       "<tr>\n",
       "  <th>Kurtosis:</th>      <td> 3.214</td> <th>  Cond. No.          </th> <td>    40.3</td>\n",
       "</tr>\n",
       "</table><br/><br/>Notes:<br/>[1] Standard Errors assume that the covariance matrix of the errors is correctly specified."
      ],
      "text/plain": [
       "<class 'statsmodels.iolib.summary.Summary'>\n",
       "\"\"\"\n",
       "                            OLS Regression Results                            \n",
       "==============================================================================\n",
       "Dep. Variable:                      y   R-squared:                       0.118\n",
       "Model:                            OLS   Adj. R-squared:                  0.037\n",
       "Method:                 Least Squares   F-statistic:                     1.467\n",
       "Date:                Sun, 06 Nov 2022   Prob (F-statistic):              0.251\n",
       "Time:                        14:00:49   Log-Likelihood:                -41.820\n",
       "No. Observations:                  13   AIC:                             87.64\n",
       "Df Residuals:                      11   BIC:                             88.77\n",
       "Df Model:                           1                                         \n",
       "Covariance Type:            nonrobust                                         \n",
       "==============================================================================\n",
       "                 coef    std err          t      P>|t|      [0.025      0.975]\n",
       "------------------------------------------------------------------------------\n",
       "const         51.3209      3.216     15.956      0.000      44.242      58.400\n",
       "x1            -0.1711      0.141     -1.211      0.251      -0.482       0.140\n",
       "==============================================================================\n",
       "Omnibus:                        2.640   Durbin-Watson:                   1.050\n",
       "Prob(Omnibus):                  0.267   Jarque-Bera (JB):                1.064\n",
       "Skew:                          -0.692   Prob(JB):                        0.587\n",
       "Kurtosis:                       3.214   Cond. No.                         40.3\n",
       "==============================================================================\n",
       "\n",
       "Notes:\n",
       "[1] Standard Errors assume that the covariance matrix of the errors is correctly specified.\n",
       "\"\"\""
      ]
     },
     "execution_count": 148,
     "metadata": {},
     "output_type": "execute_result"
    }
   ],
   "source": [
    "fig = px.scatter(feat_88_df, x=\"num_tracks\", y=\"popularity\", trendline=\"ols\")\n",
    "fig.show()\n",
    "px.get_trendline_results(fig).px_fit_results.iloc[0].summary()\n"
   ]
  },
  {
   "cell_type": "markdown",
   "metadata": {},
   "source": [
    "There is no relationship between the number of collaborations and the artist's popularity rating as the R-squared is 11.8%. This indicates that 11.8% of the variance in the data can be explained by this linear regression model."
   ]
  },
  {
   "cell_type": "markdown",
   "metadata": {},
   "source": [
    "#### Audio Feature Analysis per Artist\n",
    "What kinds of songs does each artist perform in their collaboration?"
   ]
  },
  {
   "cell_type": "code",
   "execution_count": 163,
   "metadata": {},
   "outputs": [
    {
     "name": "stdout",
     "output_type": "stream",
     "text": [
      "244\n"
     ]
    },
    {
     "data": {
      "text/html": [
       "<div>\n",
       "<style scoped>\n",
       "    .dataframe tbody tr th:only-of-type {\n",
       "        vertical-align: middle;\n",
       "    }\n",
       "\n",
       "    .dataframe tbody tr th {\n",
       "        vertical-align: top;\n",
       "    }\n",
       "\n",
       "    .dataframe thead th {\n",
       "        text-align: right;\n",
       "    }\n",
       "</style>\n",
       "<table border=\"1\" class=\"dataframe\">\n",
       "  <thead>\n",
       "    <tr style=\"text-align: right;\">\n",
       "      <th></th>\n",
       "      <th>featured_artist</th>\n",
       "      <th>release_date</th>\n",
       "      <th>length(ms)</th>\n",
       "      <th>acousticness</th>\n",
       "      <th>danceability</th>\n",
       "      <th>energy</th>\n",
       "      <th>liveness</th>\n",
       "      <th>tempo</th>\n",
       "      <th>valence</th>\n",
       "      <th>popularity</th>\n",
       "    </tr>\n",
       "  </thead>\n",
       "  <tbody>\n",
       "    <tr>\n",
       "      <th>200</th>\n",
       "      <td>88rising</td>\n",
       "      <td>2021-10-14</td>\n",
       "      <td>167661</td>\n",
       "      <td>0.0620</td>\n",
       "      <td>0.784</td>\n",
       "      <td>0.521</td>\n",
       "      <td>0.0995</td>\n",
       "      <td>101.491</td>\n",
       "      <td>0.817</td>\n",
       "      <td>69</td>\n",
       "    </tr>\n",
       "    <tr>\n",
       "      <th>201</th>\n",
       "      <td>bibi</td>\n",
       "      <td>2021-10-14</td>\n",
       "      <td>167661</td>\n",
       "      <td>0.0620</td>\n",
       "      <td>0.784</td>\n",
       "      <td>0.521</td>\n",
       "      <td>0.0995</td>\n",
       "      <td>101.491</td>\n",
       "      <td>0.817</td>\n",
       "      <td>69</td>\n",
       "    </tr>\n",
       "    <tr>\n",
       "      <th>202</th>\n",
       "      <td>88rising</td>\n",
       "      <td>2022-04-16</td>\n",
       "      <td>152910</td>\n",
       "      <td>0.2680</td>\n",
       "      <td>0.740</td>\n",
       "      <td>0.663</td>\n",
       "      <td>0.1210</td>\n",
       "      <td>82.004</td>\n",
       "      <td>0.519</td>\n",
       "      <td>66</td>\n",
       "    </tr>\n",
       "    <tr>\n",
       "      <th>203</th>\n",
       "      <td>bibi</td>\n",
       "      <td>2022-04-16</td>\n",
       "      <td>152910</td>\n",
       "      <td>0.2680</td>\n",
       "      <td>0.740</td>\n",
       "      <td>0.663</td>\n",
       "      <td>0.1210</td>\n",
       "      <td>82.004</td>\n",
       "      <td>0.519</td>\n",
       "      <td>66</td>\n",
       "    </tr>\n",
       "    <tr>\n",
       "      <th>204</th>\n",
       "      <td>chung ha</td>\n",
       "      <td>2022-07-11</td>\n",
       "      <td>175480</td>\n",
       "      <td>0.0957</td>\n",
       "      <td>0.536</td>\n",
       "      <td>0.639</td>\n",
       "      <td>0.2090</td>\n",
       "      <td>170.940</td>\n",
       "      <td>0.502</td>\n",
       "      <td>50</td>\n",
       "    </tr>\n",
       "  </tbody>\n",
       "</table>\n",
       "</div>"
      ],
      "text/plain": [
       "    featured_artist release_date  length(ms)  acousticness  danceability  \\\n",
       "200        88rising   2021-10-14      167661        0.0620         0.784   \n",
       "201            bibi   2021-10-14      167661        0.0620         0.784   \n",
       "202        88rising   2022-04-16      152910        0.2680         0.740   \n",
       "203            bibi   2022-04-16      152910        0.2680         0.740   \n",
       "204        chung ha   2022-07-11      175480        0.0957         0.536   \n",
       "\n",
       "     energy  liveness    tempo  valence  popularity  \n",
       "200   0.521    0.0995  101.491    0.817          69  \n",
       "201   0.521    0.0995  101.491    0.817          69  \n",
       "202   0.663    0.1210   82.004    0.519          66  \n",
       "203   0.663    0.1210   82.004    0.519          66  \n",
       "204   0.639    0.2090  170.940    0.502          50  "
      ]
     },
     "execution_count": 163,
     "metadata": {},
     "output_type": "execute_result"
    }
   ],
   "source": [
    "audio_88_df = featured_88_only.iloc[:, 4:]\n",
    "col = ['featured_artist', 'release_date', 'length(ms)',\n",
    "       'acousticness', 'danceability', 'energy', 'liveness', 'tempo',\n",
    "       'valence', 'popularity']\n",
    "audio_88_df=audio_88_df[col]\n",
    "print(len(audio_88_df))\n",
    "audio_88_df.head()"
   ]
  },
  {
   "cell_type": "code",
   "execution_count": 181,
   "metadata": {},
   "outputs": [
    {
     "data": {
      "text/plain": [
       "array(['88rising', 'bibi', 'chung ha', 'rich brian', 'guapdad 4000',\n",
       "       'warren hue', 'jackson wang', 'higher brothers', 'niki', 'joji',\n",
       "       'keith ape', 'stephanie poetri', 'milli'], dtype=object)"
      ]
     },
     "execution_count": 181,
     "metadata": {},
     "output_type": "execute_result"
    }
   ],
   "source": [
    "audio_88_df['featured_artist'].unique()"
   ]
  },
  {
   "cell_type": "code",
   "execution_count": 188,
   "metadata": {},
   "outputs": [
    {
     "data": {
      "text/plain": [
       "13"
      ]
     },
     "execution_count": 188,
     "metadata": {},
     "output_type": "execute_result"
    }
   ],
   "source": [
    "len(audio_88_df['featured_artist'].unique())"
   ]
  },
  {
   "cell_type": "code",
   "execution_count": 234,
   "metadata": {},
   "outputs": [],
   "source": [
    "unique_artists = list(audio_88_df['featured_artist'].unique())\n",
    "col_list = audio_88_df.columns[2:9].to_list()"
   ]
  },
  {
   "cell_type": "code",
   "execution_count": 235,
   "metadata": {},
   "outputs": [
    {
     "data": {
      "text/plain": [
       "['length(ms)',\n",
       " 'acousticness',\n",
       " 'danceability',\n",
       " 'energy',\n",
       " 'liveness',\n",
       " 'tempo',\n",
       " 'valence']"
      ]
     },
     "execution_count": 235,
     "metadata": {},
     "output_type": "execute_result"
    }
   ],
   "source": [
    "col_list"
   ]
  },
  {
   "cell_type": "code",
   "execution_count": 236,
   "metadata": {},
   "outputs": [
    {
     "name": "stdout",
     "output_type": "stream",
     "text": [
      "13 7\n"
     ]
    }
   ],
   "source": [
    "print(len(unique_artists), len(col_list))\n"
   ]
  },
  {
   "cell_type": "code",
   "execution_count": 266,
   "metadata": {},
   "outputs": [],
   "source": [
    "# Function to calculate row and column value\n",
    "import math\n",
    "def rowValue(column, col_list):\n",
    "    if col_list.index(column) < math.ceil(len(col_list)/2):\n",
    "        return 1\n",
    "    else: return 2\n",
    "\n",
    "def colValue(column, col_list):\n",
    "    if col_list.index(column) < math.ceil(len(col_list)/2):\n",
    "        return col_list.index(column)+1\n",
    "    else: \n",
    "        return math.ceil(col_list.index(column)/2)"
   ]
  },
  {
   "cell_type": "code",
   "execution_count": 267,
   "metadata": {},
   "outputs": [
    {
     "name": "stdout",
     "output_type": "stream",
     "text": [
      "2\n",
      "3\n"
     ]
    }
   ],
   "source": [
    "print(rowValue('valence', col_list))\n",
    "print(colValue('valence', col_list))"
   ]
  },
  {
   "cell_type": "code",
   "execution_count": 260,
   "metadata": {},
   "outputs": [],
   "source": [
    "jackson_test_df = audio_88_df.loc[audio_88_df['featured_artist'] == 'jackson wang', ['featured_artist', 'popularity',]+col_list]"
   ]
  },
  {
   "cell_type": "code",
   "execution_count": 284,
   "metadata": {},
   "outputs": [
    {
     "name": "stdout",
     "output_type": "stream",
     "text": [
      "88rising\n",
      "bibi\n"
     ]
    }
   ],
   "source": [
    "for a in unique_artists[0:2]:\n",
    "    print(a)"
   ]
  },
  {
   "cell_type": "code",
   "execution_count": 289,
   "metadata": {},
   "outputs": [
    {
     "data": {
      "application/vnd.plotly.v1+json": {
       "config": {
        "plotlyServerURL": "https://plot.ly"
       },
       "data": [
        {
         "mode": "markers",
         "name": "bibi",
         "type": "scatter",
         "x": [
          0.8170000000000001,
          0.519,
          0.502,
          0.335,
          0.55,
          0.873,
          0.20500000000000002,
          0.306,
          0.5740000000000001,
          0.621,
          0.638,
          0.535,
          0.493,
          0.352,
          0.809,
          0.417,
          0.12,
          0.5760000000000001,
          0.132,
          0.529
         ],
         "xaxis": "x",
         "y": [
          69,
          66,
          50,
          45,
          71,
          51,
          46,
          49,
          46,
          44,
          43,
          43,
          41,
          42,
          45,
          41,
          37,
          31,
          34,
          32
         ],
         "yaxis": "y"
        },
        {
         "mode": "markers",
         "name": "bibi",
         "type": "scatter",
         "x": [
          0.0995,
          0.121,
          0.209,
          0.157,
          0.23700000000000002,
          0.062,
          0.17,
          0.0918,
          0.10200000000000001,
          0.07930000000000001,
          0.648,
          0.085,
          0.17200000000000001,
          0.134,
          0.0949,
          0.113,
          0.187,
          0.069,
          0.157,
          0.137
         ],
         "xaxis": "x2",
         "y": [
          69,
          66,
          50,
          45,
          71,
          51,
          46,
          49,
          46,
          44,
          43,
          43,
          41,
          42,
          45,
          41,
          37,
          31,
          34,
          32
         ],
         "yaxis": "y2"
        },
        {
         "mode": "markers",
         "name": "bibi",
         "type": "scatter",
         "x": [
          167661,
          152910,
          175480,
          309121,
          189373,
          203800,
          196520,
          202866,
          208786,
          197714,
          122638,
          196866,
          186533,
          209000,
          173925,
          175000,
          194645,
          163919,
          201000,
          231013
         ],
         "xaxis": "x3",
         "y": [
          69,
          66,
          50,
          45,
          71,
          51,
          46,
          49,
          46,
          44,
          43,
          43,
          41,
          42,
          45,
          41,
          37,
          31,
          34,
          32
         ],
         "yaxis": "y3"
        },
        {
         "mode": "markers",
         "name": "bibi",
         "type": "scatter",
         "x": [
          0.062,
          0.268,
          0.09570000000000001,
          0.213,
          0.008570000000000001,
          0.656,
          0.145,
          0.060500000000000005,
          0.313,
          0.405,
          0.225,
          0.216,
          0.131,
          0.30000000000000004,
          0.0238,
          0.106,
          0.00725,
          0.0292,
          0.0123,
          0.266
         ],
         "xaxis": "x4",
         "y": [
          69,
          66,
          50,
          45,
          71,
          51,
          46,
          49,
          46,
          44,
          43,
          43,
          41,
          42,
          45,
          41,
          37,
          31,
          34,
          32
         ],
         "yaxis": "y4"
        },
        {
         "mode": "markers",
         "name": "bibi",
         "type": "scatter",
         "x": [
          101.491,
          82.004,
          170.94,
          145.089,
          128.054,
          150.036,
          89.897,
          140.083,
          142.087,
          105.035,
          144.979,
          104.968,
          99.999,
          90.995,
          95.963,
          165.986,
          93.12,
          102.105,
          127.992,
          160.087
         ],
         "xaxis": "x5",
         "y": [
          69,
          66,
          50,
          45,
          71,
          51,
          46,
          49,
          46,
          44,
          43,
          43,
          41,
          42,
          45,
          41,
          37,
          31,
          34,
          32
         ],
         "yaxis": "y5"
        },
        {
         "mode": "markers",
         "name": "bibi",
         "type": "scatter",
         "x": [
          0.784,
          0.74,
          0.536,
          0.508,
          0.756,
          0.777,
          0.502,
          0.6980000000000001,
          0.685,
          0.754,
          0.727,
          0.807,
          0.687,
          0.648,
          0.8320000000000001,
          0.606,
          0.448,
          0.736,
          0.748,
          0.734
         ],
         "xaxis": "x6",
         "y": [
          69,
          66,
          50,
          45,
          71,
          51,
          46,
          49,
          46,
          44,
          43,
          43,
          41,
          42,
          45,
          41,
          37,
          31,
          34,
          32
         ],
         "yaxis": "y6"
        },
        {
         "mode": "markers",
         "name": "bibi",
         "type": "scatter",
         "x": [
          0.521,
          0.663,
          0.639,
          0.6880000000000001,
          0.9,
          0.6890000000000001,
          0.5760000000000001,
          0.729,
          0.655,
          0.888,
          0.644,
          0.647,
          0.745,
          0.523,
          0.8270000000000001,
          0.763,
          0.662,
          0.606,
          0.758,
          0.549
         ],
         "xaxis": "x7",
         "y": [
          69,
          66,
          50,
          45,
          71,
          51,
          46,
          49,
          46,
          44,
          43,
          43,
          41,
          42,
          45,
          41,
          37,
          31,
          34,
          32
         ],
         "yaxis": "y7"
        }
       ],
       "layout": {
        "template": {
         "data": {
          "bar": [
           {
            "error_x": {
             "color": "#2a3f5f"
            },
            "error_y": {
             "color": "#2a3f5f"
            },
            "marker": {
             "line": {
              "color": "#E5ECF6",
              "width": 0.5
             },
             "pattern": {
              "fillmode": "overlay",
              "size": 10,
              "solidity": 0.2
             }
            },
            "type": "bar"
           }
          ],
          "barpolar": [
           {
            "marker": {
             "line": {
              "color": "#E5ECF6",
              "width": 0.5
             },
             "pattern": {
              "fillmode": "overlay",
              "size": 10,
              "solidity": 0.2
             }
            },
            "type": "barpolar"
           }
          ],
          "carpet": [
           {
            "aaxis": {
             "endlinecolor": "#2a3f5f",
             "gridcolor": "white",
             "linecolor": "white",
             "minorgridcolor": "white",
             "startlinecolor": "#2a3f5f"
            },
            "baxis": {
             "endlinecolor": "#2a3f5f",
             "gridcolor": "white",
             "linecolor": "white",
             "minorgridcolor": "white",
             "startlinecolor": "#2a3f5f"
            },
            "type": "carpet"
           }
          ],
          "choropleth": [
           {
            "colorbar": {
             "outlinewidth": 0,
             "ticks": ""
            },
            "type": "choropleth"
           }
          ],
          "contour": [
           {
            "colorbar": {
             "outlinewidth": 0,
             "ticks": ""
            },
            "colorscale": [
             [
              0,
              "#0d0887"
             ],
             [
              0.1111111111111111,
              "#46039f"
             ],
             [
              0.2222222222222222,
              "#7201a8"
             ],
             [
              0.3333333333333333,
              "#9c179e"
             ],
             [
              0.4444444444444444,
              "#bd3786"
             ],
             [
              0.5555555555555556,
              "#d8576b"
             ],
             [
              0.6666666666666666,
              "#ed7953"
             ],
             [
              0.7777777777777778,
              "#fb9f3a"
             ],
             [
              0.8888888888888888,
              "#fdca26"
             ],
             [
              1,
              "#f0f921"
             ]
            ],
            "type": "contour"
           }
          ],
          "contourcarpet": [
           {
            "colorbar": {
             "outlinewidth": 0,
             "ticks": ""
            },
            "type": "contourcarpet"
           }
          ],
          "heatmap": [
           {
            "colorbar": {
             "outlinewidth": 0,
             "ticks": ""
            },
            "colorscale": [
             [
              0,
              "#0d0887"
             ],
             [
              0.1111111111111111,
              "#46039f"
             ],
             [
              0.2222222222222222,
              "#7201a8"
             ],
             [
              0.3333333333333333,
              "#9c179e"
             ],
             [
              0.4444444444444444,
              "#bd3786"
             ],
             [
              0.5555555555555556,
              "#d8576b"
             ],
             [
              0.6666666666666666,
              "#ed7953"
             ],
             [
              0.7777777777777778,
              "#fb9f3a"
             ],
             [
              0.8888888888888888,
              "#fdca26"
             ],
             [
              1,
              "#f0f921"
             ]
            ],
            "type": "heatmap"
           }
          ],
          "heatmapgl": [
           {
            "colorbar": {
             "outlinewidth": 0,
             "ticks": ""
            },
            "colorscale": [
             [
              0,
              "#0d0887"
             ],
             [
              0.1111111111111111,
              "#46039f"
             ],
             [
              0.2222222222222222,
              "#7201a8"
             ],
             [
              0.3333333333333333,
              "#9c179e"
             ],
             [
              0.4444444444444444,
              "#bd3786"
             ],
             [
              0.5555555555555556,
              "#d8576b"
             ],
             [
              0.6666666666666666,
              "#ed7953"
             ],
             [
              0.7777777777777778,
              "#fb9f3a"
             ],
             [
              0.8888888888888888,
              "#fdca26"
             ],
             [
              1,
              "#f0f921"
             ]
            ],
            "type": "heatmapgl"
           }
          ],
          "histogram": [
           {
            "marker": {
             "pattern": {
              "fillmode": "overlay",
              "size": 10,
              "solidity": 0.2
             }
            },
            "type": "histogram"
           }
          ],
          "histogram2d": [
           {
            "colorbar": {
             "outlinewidth": 0,
             "ticks": ""
            },
            "colorscale": [
             [
              0,
              "#0d0887"
             ],
             [
              0.1111111111111111,
              "#46039f"
             ],
             [
              0.2222222222222222,
              "#7201a8"
             ],
             [
              0.3333333333333333,
              "#9c179e"
             ],
             [
              0.4444444444444444,
              "#bd3786"
             ],
             [
              0.5555555555555556,
              "#d8576b"
             ],
             [
              0.6666666666666666,
              "#ed7953"
             ],
             [
              0.7777777777777778,
              "#fb9f3a"
             ],
             [
              0.8888888888888888,
              "#fdca26"
             ],
             [
              1,
              "#f0f921"
             ]
            ],
            "type": "histogram2d"
           }
          ],
          "histogram2dcontour": [
           {
            "colorbar": {
             "outlinewidth": 0,
             "ticks": ""
            },
            "colorscale": [
             [
              0,
              "#0d0887"
             ],
             [
              0.1111111111111111,
              "#46039f"
             ],
             [
              0.2222222222222222,
              "#7201a8"
             ],
             [
              0.3333333333333333,
              "#9c179e"
             ],
             [
              0.4444444444444444,
              "#bd3786"
             ],
             [
              0.5555555555555556,
              "#d8576b"
             ],
             [
              0.6666666666666666,
              "#ed7953"
             ],
             [
              0.7777777777777778,
              "#fb9f3a"
             ],
             [
              0.8888888888888888,
              "#fdca26"
             ],
             [
              1,
              "#f0f921"
             ]
            ],
            "type": "histogram2dcontour"
           }
          ],
          "mesh3d": [
           {
            "colorbar": {
             "outlinewidth": 0,
             "ticks": ""
            },
            "type": "mesh3d"
           }
          ],
          "parcoords": [
           {
            "line": {
             "colorbar": {
              "outlinewidth": 0,
              "ticks": ""
             }
            },
            "type": "parcoords"
           }
          ],
          "pie": [
           {
            "automargin": true,
            "type": "pie"
           }
          ],
          "scatter": [
           {
            "marker": {
             "colorbar": {
              "outlinewidth": 0,
              "ticks": ""
             }
            },
            "type": "scatter"
           }
          ],
          "scatter3d": [
           {
            "line": {
             "colorbar": {
              "outlinewidth": 0,
              "ticks": ""
             }
            },
            "marker": {
             "colorbar": {
              "outlinewidth": 0,
              "ticks": ""
             }
            },
            "type": "scatter3d"
           }
          ],
          "scattercarpet": [
           {
            "marker": {
             "colorbar": {
              "outlinewidth": 0,
              "ticks": ""
             }
            },
            "type": "scattercarpet"
           }
          ],
          "scattergeo": [
           {
            "marker": {
             "colorbar": {
              "outlinewidth": 0,
              "ticks": ""
             }
            },
            "type": "scattergeo"
           }
          ],
          "scattergl": [
           {
            "marker": {
             "colorbar": {
              "outlinewidth": 0,
              "ticks": ""
             }
            },
            "type": "scattergl"
           }
          ],
          "scattermapbox": [
           {
            "marker": {
             "colorbar": {
              "outlinewidth": 0,
              "ticks": ""
             }
            },
            "type": "scattermapbox"
           }
          ],
          "scatterpolar": [
           {
            "marker": {
             "colorbar": {
              "outlinewidth": 0,
              "ticks": ""
             }
            },
            "type": "scatterpolar"
           }
          ],
          "scatterpolargl": [
           {
            "marker": {
             "colorbar": {
              "outlinewidth": 0,
              "ticks": ""
             }
            },
            "type": "scatterpolargl"
           }
          ],
          "scatterternary": [
           {
            "marker": {
             "colorbar": {
              "outlinewidth": 0,
              "ticks": ""
             }
            },
            "type": "scatterternary"
           }
          ],
          "surface": [
           {
            "colorbar": {
             "outlinewidth": 0,
             "ticks": ""
            },
            "colorscale": [
             [
              0,
              "#0d0887"
             ],
             [
              0.1111111111111111,
              "#46039f"
             ],
             [
              0.2222222222222222,
              "#7201a8"
             ],
             [
              0.3333333333333333,
              "#9c179e"
             ],
             [
              0.4444444444444444,
              "#bd3786"
             ],
             [
              0.5555555555555556,
              "#d8576b"
             ],
             [
              0.6666666666666666,
              "#ed7953"
             ],
             [
              0.7777777777777778,
              "#fb9f3a"
             ],
             [
              0.8888888888888888,
              "#fdca26"
             ],
             [
              1,
              "#f0f921"
             ]
            ],
            "type": "surface"
           }
          ],
          "table": [
           {
            "cells": {
             "fill": {
              "color": "#EBF0F8"
             },
             "line": {
              "color": "white"
             }
            },
            "header": {
             "fill": {
              "color": "#C8D4E3"
             },
             "line": {
              "color": "white"
             }
            },
            "type": "table"
           }
          ]
         },
         "layout": {
          "annotationdefaults": {
           "arrowcolor": "#2a3f5f",
           "arrowhead": 0,
           "arrowwidth": 1
          },
          "autotypenumbers": "strict",
          "coloraxis": {
           "colorbar": {
            "outlinewidth": 0,
            "ticks": ""
           }
          },
          "colorscale": {
           "diverging": [
            [
             0,
             "#8e0152"
            ],
            [
             0.1,
             "#c51b7d"
            ],
            [
             0.2,
             "#de77ae"
            ],
            [
             0.3,
             "#f1b6da"
            ],
            [
             0.4,
             "#fde0ef"
            ],
            [
             0.5,
             "#f7f7f7"
            ],
            [
             0.6,
             "#e6f5d0"
            ],
            [
             0.7,
             "#b8e186"
            ],
            [
             0.8,
             "#7fbc41"
            ],
            [
             0.9,
             "#4d9221"
            ],
            [
             1,
             "#276419"
            ]
           ],
           "sequential": [
            [
             0,
             "#0d0887"
            ],
            [
             0.1111111111111111,
             "#46039f"
            ],
            [
             0.2222222222222222,
             "#7201a8"
            ],
            [
             0.3333333333333333,
             "#9c179e"
            ],
            [
             0.4444444444444444,
             "#bd3786"
            ],
            [
             0.5555555555555556,
             "#d8576b"
            ],
            [
             0.6666666666666666,
             "#ed7953"
            ],
            [
             0.7777777777777778,
             "#fb9f3a"
            ],
            [
             0.8888888888888888,
             "#fdca26"
            ],
            [
             1,
             "#f0f921"
            ]
           ],
           "sequentialminus": [
            [
             0,
             "#0d0887"
            ],
            [
             0.1111111111111111,
             "#46039f"
            ],
            [
             0.2222222222222222,
             "#7201a8"
            ],
            [
             0.3333333333333333,
             "#9c179e"
            ],
            [
             0.4444444444444444,
             "#bd3786"
            ],
            [
             0.5555555555555556,
             "#d8576b"
            ],
            [
             0.6666666666666666,
             "#ed7953"
            ],
            [
             0.7777777777777778,
             "#fb9f3a"
            ],
            [
             0.8888888888888888,
             "#fdca26"
            ],
            [
             1,
             "#f0f921"
            ]
           ]
          },
          "colorway": [
           "#636efa",
           "#EF553B",
           "#00cc96",
           "#ab63fa",
           "#FFA15A",
           "#19d3f3",
           "#FF6692",
           "#B6E880",
           "#FF97FF",
           "#FECB52"
          ],
          "font": {
           "color": "#2a3f5f"
          },
          "geo": {
           "bgcolor": "white",
           "lakecolor": "white",
           "landcolor": "#E5ECF6",
           "showlakes": true,
           "showland": true,
           "subunitcolor": "white"
          },
          "hoverlabel": {
           "align": "left"
          },
          "hovermode": "closest",
          "mapbox": {
           "style": "light"
          },
          "paper_bgcolor": "white",
          "plot_bgcolor": "#E5ECF6",
          "polar": {
           "angularaxis": {
            "gridcolor": "white",
            "linecolor": "white",
            "ticks": ""
           },
           "bgcolor": "#E5ECF6",
           "radialaxis": {
            "gridcolor": "white",
            "linecolor": "white",
            "ticks": ""
           }
          },
          "scene": {
           "xaxis": {
            "backgroundcolor": "#E5ECF6",
            "gridcolor": "white",
            "gridwidth": 2,
            "linecolor": "white",
            "showbackground": true,
            "ticks": "",
            "zerolinecolor": "white"
           },
           "yaxis": {
            "backgroundcolor": "#E5ECF6",
            "gridcolor": "white",
            "gridwidth": 2,
            "linecolor": "white",
            "showbackground": true,
            "ticks": "",
            "zerolinecolor": "white"
           },
           "zaxis": {
            "backgroundcolor": "#E5ECF6",
            "gridcolor": "white",
            "gridwidth": 2,
            "linecolor": "white",
            "showbackground": true,
            "ticks": "",
            "zerolinecolor": "white"
           }
          },
          "shapedefaults": {
           "line": {
            "color": "#2a3f5f"
           }
          },
          "ternary": {
           "aaxis": {
            "gridcolor": "white",
            "linecolor": "white",
            "ticks": ""
           },
           "baxis": {
            "gridcolor": "white",
            "linecolor": "white",
            "ticks": ""
           },
           "bgcolor": "#E5ECF6",
           "caxis": {
            "gridcolor": "white",
            "linecolor": "white",
            "ticks": ""
           }
          },
          "title": {
           "x": 0.05
          },
          "xaxis": {
           "automargin": true,
           "gridcolor": "white",
           "linecolor": "white",
           "ticks": "",
           "title": {
            "standoff": 15
           },
           "zerolinecolor": "white",
           "zerolinewidth": 2
          },
          "yaxis": {
           "automargin": true,
           "gridcolor": "white",
           "linecolor": "white",
           "ticks": "",
           "title": {
            "standoff": 15
           },
           "zerolinecolor": "white",
           "zerolinewidth": 2
          }
         }
        },
        "updatemenus": [
         {
          "active": 0,
          "buttons": [
           {
            "args": [
             {
              "visibility": [
               true,
               false,
               false
              ]
             },
             {
              "showlegend": false,
              "title": "88rising"
             }
            ],
            "label": "88rising",
            "method": "relayout"
           },
           {
            "args": [
             {
              "visibility": [
               false,
               true,
               false
              ]
             },
             {
              "showlegend": false,
              "title": "bibi"
             }
            ],
            "label": "bibi",
            "method": "relayout"
           }
          ]
         }
        ],
        "xaxis": {
         "anchor": "y",
         "domain": [
          0,
          0.2125
         ]
        },
        "xaxis2": {
         "anchor": "y2",
         "domain": [
          0.2625,
          0.475
         ]
        },
        "xaxis3": {
         "anchor": "y3",
         "domain": [
          0.525,
          0.7375
         ]
        },
        "xaxis4": {
         "anchor": "y4",
         "domain": [
          0.7875,
          1
         ]
        },
        "xaxis5": {
         "anchor": "y5",
         "domain": [
          0,
          0.2125
         ]
        },
        "xaxis6": {
         "anchor": "y6",
         "domain": [
          0.2625,
          0.475
         ]
        },
        "xaxis7": {
         "anchor": "y7",
         "domain": [
          0.525,
          0.7375
         ]
        },
        "xaxis8": {
         "anchor": "y8",
         "domain": [
          0.7875,
          1
         ]
        },
        "yaxis": {
         "anchor": "x",
         "domain": [
          0,
          0.425
         ]
        },
        "yaxis2": {
         "anchor": "x2",
         "domain": [
          0,
          0.425
         ]
        },
        "yaxis3": {
         "anchor": "x3",
         "domain": [
          0,
          0.425
         ]
        },
        "yaxis4": {
         "anchor": "x4",
         "domain": [
          0,
          0.425
         ]
        },
        "yaxis5": {
         "anchor": "x5",
         "domain": [
          0.575,
          1
         ]
        },
        "yaxis6": {
         "anchor": "x6",
         "domain": [
          0.575,
          1
         ]
        },
        "yaxis7": {
         "anchor": "x7",
         "domain": [
          0.575,
          1
         ]
        },
        "yaxis8": {
         "anchor": "x8",
         "domain": [
          0.575,
          1
         ]
        }
       }
      }
     },
     "metadata": {},
     "output_type": "display_data"
    }
   ],
   "source": [
    "fig = go.Figure()\n",
    "\n",
    "for a in unique_artists[0:2]:\n",
    "        fig = p_sub(rows=2, cols=4, start_cell=\"bottom-left\")\n",
    "        df = audio_88_df.loc[audio_88_df['featured_artist'] == a]\n",
    "        fig.add_trace(\n",
    "                                go.Scatter(\n",
    "                                x = df['valence'],\n",
    "                                y = df['popularity'],\n",
    "                                name = a,\n",
    "                                mode='markers'\n",
    "                                ), row=1, col=1\n",
    "                        )\n",
    "        fig.add_trace(\n",
    "                                go.Scatter(\n",
    "                                x = df['liveness'],\n",
    "                                y = df['popularity'],\n",
    "                                name = a,\n",
    "                                mode='markers'\n",
    "                                ), row=1, col=2\n",
    "                        )\n",
    "        fig.add_trace(\n",
    "                                go.Scatter(\n",
    "                                x = df['length(ms)'],\n",
    "                                y = df['popularity'],\n",
    "                                name = a,\n",
    "                                mode='markers'\n",
    "                                ), row=1, col=3\n",
    "                        )\n",
    "        fig.add_trace(\n",
    "                                go.Scatter(\n",
    "                                x = df['acousticness'],\n",
    "                                y = df['popularity'],\n",
    "                                name = a,\n",
    "                                mode='markers'\n",
    "                                ), row=1, col=4\n",
    "                        )\n",
    "        fig.add_trace(\n",
    "                                go.Scatter(\n",
    "                                x = df['tempo'],\n",
    "                                y = df['popularity'],\n",
    "                                name = a,\n",
    "                                mode='markers'\n",
    "                                ), row=2, col=1\n",
    "                        )\n",
    "        fig.add_trace(\n",
    "                                go.Scatter(\n",
    "                                x = df['danceability'],\n",
    "                                y = df['popularity'],\n",
    "                                name = a,\n",
    "                                mode='markers'\n",
    "                                ), row=2, col=2\n",
    "                        )\n",
    "        fig.add_trace(\n",
    "                                go.Scatter(\n",
    "                                x = df['energy'],\n",
    "                                y = df['popularity'],\n",
    "                                name = a,\n",
    "                                mode='markers'\n",
    "                                ), row=2, col=3\n",
    "                        )\n",
    "fig.update_layout(\n",
    "    updatemenus=[go.layout.Updatemenu(\n",
    "        active=0,\n",
    "        buttons=list(\n",
    "            [dict(label = '88rising',\n",
    "                  method = 'relayout',\n",
    "                  args = [{'visibility': [True, False, False]}, {'title': '88rising',\n",
    "                           'showlegend':False}]),\n",
    "             dict(label = 'bibi',\n",
    "                  method = 'relayout',\n",
    "                  args = [{'visibility': [False, True, False]}, {'title': 'bibi',\n",
    "                           'showlegend':False}]),\n",
    "            #  dict(label = 'chung ha',\n",
    "            #       method = 'relayout',\n",
    "            #       args = [{'visibility': [False, False, True]}, {'title': 'chung ha',\n",
    "            #                'showlegend':False}]),\n",
    "#              dict(label = 'rich brian',\n",
    "#                   method = 'update',\n",
    "#                   args = [{'title': 'rich brian',\n",
    "#                            'showlegend':False}]),\n",
    "#              dict(label = 'guapdad 4000',\n",
    "#                   method = 'update',\n",
    "#                   args = [{'title': 'guapdad 4000',\n",
    "#                            'showlegend':False}]),\n",
    "#              dict(label = 'warren hue',\n",
    "#                   method = 'update',\n",
    "#                   args = [{'title': 'warren hue',\n",
    "#                            'showlegend':False}]),\n",
    "#              dict(label = 'jackson wang',\n",
    "#                   method = 'update',\n",
    "#                   args = [{'title': 'jackson wang',\n",
    "#                            'showlegend':False}]),\n",
    "#              dict(label = 'higher brothers',\n",
    "#                   method = 'update',\n",
    "#                   args = [{'title': 'higher brothers',\n",
    "#                            'showlegend':False}]),\n",
    "#              dict(label = 'niki',\n",
    "#                   method = 'update',\n",
    "#                   args = [{'title': 'niki',\n",
    "#                            'showlegend':False}]),\n",
    "#              dict(label = 'joji',\n",
    "#                   method = 'update',\n",
    "#                   args = [{'title': 'joji',\n",
    "#                            'showlegend':False}]),\n",
    "#              dict(label = 'keith ape',\n",
    "#                   method = 'update',\n",
    "#                   args = [{'title': 'keith ape',\n",
    "#                            'showlegend':False}]),\n",
    "#              dict(label = 'stephanie poetri',\n",
    "#                   method = 'update',\n",
    "#                   args = [{'title': 'stephanie poetri',\n",
    "#                            'showlegend':False}]),\n",
    "#              dict(label = 'milli',\n",
    "#                   method = 'update',\n",
    "#                   args = [{'title': 'milli',\n",
    "#                            'showlegend':False}]),\n",
    "            ])\n",
    "        )\n",
    "    ])\n",
    "\n",
    "fig.show()"
   ]
  },
  {
   "cell_type": "markdown",
   "metadata": {},
   "source": [
    "### Top 10 Songs with 88rising Collaborations\n"
   ]
  },
  {
   "cell_type": "code",
   "execution_count": 15,
   "metadata": {},
   "outputs": [
    {
     "data": {
      "text/html": [
       "<div>\n",
       "<style scoped>\n",
       "    .dataframe tbody tr th:only-of-type {\n",
       "        vertical-align: middle;\n",
       "    }\n",
       "\n",
       "    .dataframe tbody tr th {\n",
       "        vertical-align: top;\n",
       "    }\n",
       "\n",
       "    .dataframe thead th {\n",
       "        text-align: right;\n",
       "    }\n",
       "</style>\n",
       "<table border=\"1\" class=\"dataframe\">\n",
       "  <thead>\n",
       "    <tr style=\"text-align: right;\">\n",
       "      <th></th>\n",
       "      <th>song name</th>\n",
       "      <th>album</th>\n",
       "      <th>artist</th>\n",
       "      <th>featured</th>\n",
       "      <th>popularity</th>\n",
       "    </tr>\n",
       "  </thead>\n",
       "  <tbody>\n",
       "    <tr>\n",
       "      <th>0</th>\n",
       "      <td>edamame (feat. Rich Brian)</td>\n",
       "      <td>edamame (feat. Rich Brian)</td>\n",
       "      <td>bbno$</td>\n",
       "      <td>[bbno$, Rich Brian]</td>\n",
       "      <td>75</td>\n",
       "    </tr>\n",
       "    <tr>\n",
       "      <th>1</th>\n",
       "      <td>Daylight</td>\n",
       "      <td>Daylight</td>\n",
       "      <td>Joji</td>\n",
       "      <td>[Joji, Diplo]</td>\n",
       "      <td>71</td>\n",
       "    </tr>\n",
       "    <tr>\n",
       "      <th>2</th>\n",
       "      <td>LAW (Prod. Czaer)</td>\n",
       "      <td>Street Man Fighter Original Vol.3 (Mission by ...</td>\n",
       "      <td>Various Artists</td>\n",
       "      <td>[Yoon Mirae, BIBI]</td>\n",
       "      <td>71</td>\n",
       "    </tr>\n",
       "    <tr>\n",
       "      <th>3</th>\n",
       "      <td>La La Lost You - Acoustic Version</td>\n",
       "      <td>NIKI Acoustic Sessions: Head In The Clouds II</td>\n",
       "      <td>NIKI</td>\n",
       "      <td>[NIKI, 88rising]</td>\n",
       "      <td>70</td>\n",
       "    </tr>\n",
       "    <tr>\n",
       "      <th>4</th>\n",
       "      <td>CAN'T GET OVER YOU (feat. Clams Casino)</td>\n",
       "      <td>BALLADS 1</td>\n",
       "      <td>Joji</td>\n",
       "      <td>[Joji, Clams Casino]</td>\n",
       "      <td>70</td>\n",
       "    </tr>\n",
       "    <tr>\n",
       "      <th>5</th>\n",
       "      <td>Midsummer Madness</td>\n",
       "      <td>Head In The Clouds</td>\n",
       "      <td>88rising</td>\n",
       "      <td>[88rising, Joji, Rich Brian]</td>\n",
       "      <td>69</td>\n",
       "    </tr>\n",
       "    <tr>\n",
       "      <th>6</th>\n",
       "      <td>The Weekend</td>\n",
       "      <td>The Weekend</td>\n",
       "      <td>88rising</td>\n",
       "      <td>[88rising, BIBI]</td>\n",
       "      <td>69</td>\n",
       "    </tr>\n",
       "    <tr>\n",
       "      <th>7</th>\n",
       "      <td>Afterthought</td>\n",
       "      <td>Nectar</td>\n",
       "      <td>Joji</td>\n",
       "      <td>[Joji, BENEE]</td>\n",
       "      <td>68</td>\n",
       "    </tr>\n",
       "    <tr>\n",
       "      <th>8</th>\n",
       "      <td>Run It (feat. Rick Ross &amp; Rich Brian)</td>\n",
       "      <td>Shang-Chi and The Legend of The Ten Rings: The...</td>\n",
       "      <td>88rising</td>\n",
       "      <td>[DJ Snake, Rick Ross, Rich Brian]</td>\n",
       "      <td>68</td>\n",
       "    </tr>\n",
       "    <tr>\n",
       "      <th>9</th>\n",
       "      <td>Costa Rica (with Bas &amp; JID feat. Guapdad 4000,...</td>\n",
       "      <td>Revenge Of The Dreamers III</td>\n",
       "      <td>Dreamville</td>\n",
       "      <td>[Dreamville, Bas, JID]</td>\n",
       "      <td>67</td>\n",
       "    </tr>\n",
       "  </tbody>\n",
       "</table>\n",
       "</div>"
      ],
      "text/plain": [
       "                                           song name  \\\n",
       "0                         edamame (feat. Rich Brian)   \n",
       "1                                           Daylight   \n",
       "2                                  LAW (Prod. Czaer)   \n",
       "3                  La La Lost You - Acoustic Version   \n",
       "4            CAN'T GET OVER YOU (feat. Clams Casino)   \n",
       "5                                  Midsummer Madness   \n",
       "6                                        The Weekend   \n",
       "7                                       Afterthought   \n",
       "8              Run It (feat. Rick Ross & Rich Brian)   \n",
       "9  Costa Rica (with Bas & JID feat. Guapdad 4000,...   \n",
       "\n",
       "                                               album           artist  \\\n",
       "0                         edamame (feat. Rich Brian)            bbno$   \n",
       "1                                           Daylight             Joji   \n",
       "2  Street Man Fighter Original Vol.3 (Mission by ...  Various Artists   \n",
       "3      NIKI Acoustic Sessions: Head In The Clouds II             NIKI   \n",
       "4                                          BALLADS 1             Joji   \n",
       "5                                 Head In The Clouds         88rising   \n",
       "6                                        The Weekend         88rising   \n",
       "7                                             Nectar             Joji   \n",
       "8  Shang-Chi and The Legend of The Ten Rings: The...         88rising   \n",
       "9                        Revenge Of The Dreamers III       Dreamville   \n",
       "\n",
       "                            featured  popularity  \n",
       "0                [bbno$, Rich Brian]          75  \n",
       "1                      [Joji, Diplo]          71  \n",
       "2                 [Yoon Mirae, BIBI]          71  \n",
       "3                   [NIKI, 88rising]          70  \n",
       "4               [Joji, Clams Casino]          70  \n",
       "5       [88rising, Joji, Rich Brian]          69  \n",
       "6                   [88rising, BIBI]          69  \n",
       "7                      [Joji, BENEE]          68  \n",
       "8  [DJ Snake, Rick Ross, Rich Brian]          68  \n",
       "9             [Dreamville, Bas, JID]          67  "
      ]
     },
     "execution_count": 15,
     "metadata": {},
     "output_type": "execute_result"
    }
   ],
   "source": [
    "# Top Collaborated Tracks\n",
    "data_sorted = all_collabs_df[['song name', 'album', 'artist', 'featured', 'popularity']].sort_values(by='popularity', ascending=False)\n",
    "data_sorted = data_sorted.reset_index(drop=True)\n",
    "data_sorted.head(10)"
   ]
  },
  {
   "cell_type": "code",
   "execution_count": 292,
   "metadata": {},
   "outputs": [
    {
     "data": {
      "text/plain": [
       "71"
      ]
     },
     "execution_count": 292,
     "metadata": {},
     "output_type": "execute_result"
    }
   ],
   "source": [
    "len(all_collabs_df['artist'].unique())"
   ]
  },
  {
   "cell_type": "code",
   "execution_count": 16,
   "metadata": {},
   "outputs": [
    {
     "data": {
      "text/html": [
       "<div>\n",
       "<style scoped>\n",
       "    .dataframe tbody tr th:only-of-type {\n",
       "        vertical-align: middle;\n",
       "    }\n",
       "\n",
       "    .dataframe tbody tr th {\n",
       "        vertical-align: top;\n",
       "    }\n",
       "\n",
       "    .dataframe thead th {\n",
       "        text-align: right;\n",
       "    }\n",
       "</style>\n",
       "<table border=\"1\" class=\"dataframe\">\n",
       "  <thead>\n",
       "    <tr style=\"text-align: right;\">\n",
       "      <th></th>\n",
       "      <th>song name</th>\n",
       "      <th>album</th>\n",
       "      <th>artist</th>\n",
       "      <th>featured</th>\n",
       "      <th>popularity</th>\n",
       "    </tr>\n",
       "  </thead>\n",
       "  <tbody>\n",
       "    <tr>\n",
       "      <th>0</th>\n",
       "      <td>edamame (feat. Rich Brian)</td>\n",
       "      <td>edamame (feat. Rich Brian)</td>\n",
       "      <td>bbno$</td>\n",
       "      <td>[bbno$, Rich Brian]</td>\n",
       "      <td>75</td>\n",
       "    </tr>\n",
       "    <tr>\n",
       "      <th>1</th>\n",
       "      <td>Daylight</td>\n",
       "      <td>Daylight</td>\n",
       "      <td>Joji</td>\n",
       "      <td>[Joji, Diplo]</td>\n",
       "      <td>71</td>\n",
       "    </tr>\n",
       "    <tr>\n",
       "      <th>2</th>\n",
       "      <td>LAW (Prod. Czaer)</td>\n",
       "      <td>Street Man Fighter Original Vol.3 (Mission by ...</td>\n",
       "      <td>Various Artists</td>\n",
       "      <td>[Yoon Mirae, BIBI]</td>\n",
       "      <td>71</td>\n",
       "    </tr>\n",
       "    <tr>\n",
       "      <th>3</th>\n",
       "      <td>La La Lost You - Acoustic Version</td>\n",
       "      <td>NIKI Acoustic Sessions: Head In The Clouds II</td>\n",
       "      <td>NIKI</td>\n",
       "      <td>[NIKI, 88rising]</td>\n",
       "      <td>70</td>\n",
       "    </tr>\n",
       "    <tr>\n",
       "      <th>4</th>\n",
       "      <td>CAN'T GET OVER YOU (feat. Clams Casino)</td>\n",
       "      <td>BALLADS 1</td>\n",
       "      <td>Joji</td>\n",
       "      <td>[Joji, Clams Casino]</td>\n",
       "      <td>70</td>\n",
       "    </tr>\n",
       "    <tr>\n",
       "      <th>5</th>\n",
       "      <td>Midsummer Madness</td>\n",
       "      <td>Head In The Clouds</td>\n",
       "      <td>88rising</td>\n",
       "      <td>[88rising, Joji, Rich Brian]</td>\n",
       "      <td>69</td>\n",
       "    </tr>\n",
       "    <tr>\n",
       "      <th>6</th>\n",
       "      <td>The Weekend</td>\n",
       "      <td>The Weekend</td>\n",
       "      <td>88rising</td>\n",
       "      <td>[88rising, BIBI]</td>\n",
       "      <td>69</td>\n",
       "    </tr>\n",
       "    <tr>\n",
       "      <th>7</th>\n",
       "      <td>Afterthought</td>\n",
       "      <td>Nectar</td>\n",
       "      <td>Joji</td>\n",
       "      <td>[Joji, BENEE]</td>\n",
       "      <td>68</td>\n",
       "    </tr>\n",
       "    <tr>\n",
       "      <th>8</th>\n",
       "      <td>Run It (feat. Rick Ross &amp; Rich Brian)</td>\n",
       "      <td>Shang-Chi and The Legend of The Ten Rings: The...</td>\n",
       "      <td>88rising</td>\n",
       "      <td>[DJ Snake, Rick Ross, Rich Brian]</td>\n",
       "      <td>68</td>\n",
       "    </tr>\n",
       "    <tr>\n",
       "      <th>9</th>\n",
       "      <td>Costa Rica (with Bas &amp; JID feat. Guapdad 4000,...</td>\n",
       "      <td>Revenge Of The Dreamers III</td>\n",
       "      <td>Dreamville</td>\n",
       "      <td>[Dreamville, Bas, JID]</td>\n",
       "      <td>67</td>\n",
       "    </tr>\n",
       "  </tbody>\n",
       "</table>\n",
       "</div>"
      ],
      "text/plain": [
       "                                           song name  \\\n",
       "0                         edamame (feat. Rich Brian)   \n",
       "1                                           Daylight   \n",
       "2                                  LAW (Prod. Czaer)   \n",
       "3                  La La Lost You - Acoustic Version   \n",
       "4            CAN'T GET OVER YOU (feat. Clams Casino)   \n",
       "5                                  Midsummer Madness   \n",
       "6                                        The Weekend   \n",
       "7                                       Afterthought   \n",
       "8              Run It (feat. Rick Ross & Rich Brian)   \n",
       "9  Costa Rica (with Bas & JID feat. Guapdad 4000,...   \n",
       "\n",
       "                                               album           artist  \\\n",
       "0                         edamame (feat. Rich Brian)            bbno$   \n",
       "1                                           Daylight             Joji   \n",
       "2  Street Man Fighter Original Vol.3 (Mission by ...  Various Artists   \n",
       "3      NIKI Acoustic Sessions: Head In The Clouds II             NIKI   \n",
       "4                                          BALLADS 1             Joji   \n",
       "5                                 Head In The Clouds         88rising   \n",
       "6                                        The Weekend         88rising   \n",
       "7                                             Nectar             Joji   \n",
       "8  Shang-Chi and The Legend of The Ten Rings: The...         88rising   \n",
       "9                        Revenge Of The Dreamers III       Dreamville   \n",
       "\n",
       "                            featured  popularity  \n",
       "0                [bbno$, Rich Brian]          75  \n",
       "1                      [Joji, Diplo]          71  \n",
       "2                 [Yoon Mirae, BIBI]          71  \n",
       "3                   [NIKI, 88rising]          70  \n",
       "4               [Joji, Clams Casino]          70  \n",
       "5       [88rising, Joji, Rich Brian]          69  \n",
       "6                   [88rising, BIBI]          69  \n",
       "7                      [Joji, BENEE]          68  \n",
       "8  [DJ Snake, Rick Ross, Rich Brian]          68  \n",
       "9             [Dreamville, Bas, JID]          67  "
      ]
     },
     "execution_count": 16,
     "metadata": {},
     "output_type": "execute_result"
    }
   ],
   "source": [
    "top_ten = data_sorted[0:10]\n",
    "top_ten"
   ]
  },
  {
   "cell_type": "code",
   "execution_count": 17,
   "metadata": {},
   "outputs": [],
   "source": [
    "# Convert table to HTML\n",
    "html = top_ten.to_html()\n",
    "  \n",
    "# write html to file\n",
    "text_file = open(\"top_ten_table.html\", \"w\")\n",
    "text_file.write(html)\n",
    "text_file.close()"
   ]
  }
 ],
 "metadata": {
  "kernelspec": {
   "display_name": "Python 3.9.12 ('base')",
   "language": "python",
   "name": "python3"
  },
  "language_info": {
   "codemirror_mode": {
    "name": "ipython",
    "version": 3
   },
   "file_extension": ".py",
   "mimetype": "text/x-python",
   "name": "python",
   "nbconvert_exporter": "python",
   "pygments_lexer": "ipython3",
   "version": "3.9.12"
  },
  "orig_nbformat": 4,
  "vscode": {
   "interpreter": {
    "hash": "fd5f0602b361fcd80b6e43c9db32d5ff96b182a40640908c77b502a93aa9387e"
   }
  }
 },
 "nbformat": 4,
 "nbformat_minor": 2
}
