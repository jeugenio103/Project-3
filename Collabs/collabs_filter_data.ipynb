{
 "cells": [
  {
   "cell_type": "code",
   "execution_count": 152,
   "metadata": {},
   "outputs": [],
   "source": [
    "import pandas as pd\n",
    "import re\n",
    "from artists_88rising import artists"
   ]
  },
  {
   "cell_type": "code",
   "execution_count": 153,
   "metadata": {},
   "outputs": [
    {
     "data": {
      "text/html": [
       "<div>\n",
       "<style scoped>\n",
       "    .dataframe tbody tr th:only-of-type {\n",
       "        vertical-align: middle;\n",
       "    }\n",
       "\n",
       "    .dataframe tbody tr th {\n",
       "        vertical-align: top;\n",
       "    }\n",
       "\n",
       "    .dataframe thead th {\n",
       "        text-align: right;\n",
       "    }\n",
       "</style>\n",
       "<table border=\"1\" class=\"dataframe\">\n",
       "  <thead>\n",
       "    <tr style=\"text-align: right;\">\n",
       "      <th></th>\n",
       "      <th>song name</th>\n",
       "      <th>album</th>\n",
       "      <th>artist</th>\n",
       "      <th>featured</th>\n",
       "      <th>release_date</th>\n",
       "      <th>length(ms)</th>\n",
       "      <th>popularity</th>\n",
       "      <th>acousticness</th>\n",
       "      <th>danceability</th>\n",
       "      <th>energy</th>\n",
       "      <th>liveness</th>\n",
       "      <th>tempo</th>\n",
       "      <th>valence</th>\n",
       "    </tr>\n",
       "  </thead>\n",
       "  <tbody>\n",
       "    <tr>\n",
       "      <th>0</th>\n",
       "      <td>The Weekend</td>\n",
       "      <td>The Weekend</td>\n",
       "      <td>88rising</td>\n",
       "      <td>['88rising', 'BIBI']</td>\n",
       "      <td>2021-10-14</td>\n",
       "      <td>167661</td>\n",
       "      <td>69</td>\n",
       "      <td>0.06200</td>\n",
       "      <td>0.784</td>\n",
       "      <td>0.521</td>\n",
       "      <td>0.0995</td>\n",
       "      <td>101.491</td>\n",
       "      <td>0.817</td>\n",
       "    </tr>\n",
       "    <tr>\n",
       "      <th>1</th>\n",
       "      <td>LAW (Prod. Czaer)</td>\n",
       "      <td>Street Man Fighter Original Vol.3 (Mission by ...</td>\n",
       "      <td>Various Artists</td>\n",
       "      <td>['Yoon Mirae', 'BIBI']</td>\n",
       "      <td>2022-09-06</td>\n",
       "      <td>189373</td>\n",
       "      <td>71</td>\n",
       "      <td>0.00857</td>\n",
       "      <td>0.756</td>\n",
       "      <td>0.900</td>\n",
       "      <td>0.2370</td>\n",
       "      <td>128.054</td>\n",
       "      <td>0.550</td>\n",
       "    </tr>\n",
       "    <tr>\n",
       "      <th>2</th>\n",
       "      <td>Best Lover</td>\n",
       "      <td>Head In The Clouds Forever</td>\n",
       "      <td>88rising</td>\n",
       "      <td>['88rising', 'BIBI']</td>\n",
       "      <td>2022-04-16</td>\n",
       "      <td>152910</td>\n",
       "      <td>66</td>\n",
       "      <td>0.26800</td>\n",
       "      <td>0.740</td>\n",
       "      <td>0.663</td>\n",
       "      <td>0.1210</td>\n",
       "      <td>82.004</td>\n",
       "      <td>0.519</td>\n",
       "    </tr>\n",
       "    <tr>\n",
       "      <th>3</th>\n",
       "      <td>Animal Farm</td>\n",
       "      <td>Animal Farm</td>\n",
       "      <td>BIBI</td>\n",
       "      <td>['BIBI']</td>\n",
       "      <td>2022-09-27</td>\n",
       "      <td>203945</td>\n",
       "      <td>69</td>\n",
       "      <td>0.01780</td>\n",
       "      <td>0.617</td>\n",
       "      <td>0.570</td>\n",
       "      <td>0.5500</td>\n",
       "      <td>107.971</td>\n",
       "      <td>0.375</td>\n",
       "    </tr>\n",
       "    <tr>\n",
       "      <th>4</th>\n",
       "      <td>KAZINO</td>\n",
       "      <td>KAZINO</td>\n",
       "      <td>BIBI</td>\n",
       "      <td>['BIBI']</td>\n",
       "      <td>2020-04-29</td>\n",
       "      <td>185946</td>\n",
       "      <td>65</td>\n",
       "      <td>0.13900</td>\n",
       "      <td>0.625</td>\n",
       "      <td>0.686</td>\n",
       "      <td>0.1100</td>\n",
       "      <td>133.041</td>\n",
       "      <td>0.263</td>\n",
       "    </tr>\n",
       "  </tbody>\n",
       "</table>\n",
       "</div>"
      ],
      "text/plain": [
       "           song name                                              album  \\\n",
       "0        The Weekend                                        The Weekend   \n",
       "1  LAW (Prod. Czaer)  Street Man Fighter Original Vol.3 (Mission by ...   \n",
       "2         Best Lover                         Head In The Clouds Forever   \n",
       "3        Animal Farm                                        Animal Farm   \n",
       "4             KAZINO                                             KAZINO   \n",
       "\n",
       "            artist                featured release_date  length(ms)  \\\n",
       "0         88rising    ['88rising', 'BIBI']   2021-10-14      167661   \n",
       "1  Various Artists  ['Yoon Mirae', 'BIBI']   2022-09-06      189373   \n",
       "2         88rising    ['88rising', 'BIBI']   2022-04-16      152910   \n",
       "3             BIBI                ['BIBI']   2022-09-27      203945   \n",
       "4             BIBI                ['BIBI']   2020-04-29      185946   \n",
       "\n",
       "   popularity  acousticness  danceability  energy  liveness    tempo  valence  \n",
       "0          69       0.06200         0.784   0.521    0.0995  101.491    0.817  \n",
       "1          71       0.00857         0.756   0.900    0.2370  128.054    0.550  \n",
       "2          66       0.26800         0.740   0.663    0.1210   82.004    0.519  \n",
       "3          69       0.01780         0.617   0.570    0.5500  107.971    0.375  \n",
       "4          65       0.13900         0.625   0.686    0.1100  133.041    0.263  "
      ]
     },
     "execution_count": 153,
     "metadata": {},
     "output_type": "execute_result"
    }
   ],
   "source": [
    "df_88R = pd.read_csv(\"../88RisingArtists/DataSets/final88data.csv\")\n",
    "df_88R.drop('ID', axis=1, inplace=True)\n",
    "df_88R.head()"
   ]
  },
  {
   "cell_type": "code",
   "execution_count": 67,
   "metadata": {},
   "outputs": [
    {
     "data": {
      "text/plain": [
       "451"
      ]
     },
     "execution_count": 67,
     "metadata": {},
     "output_type": "execute_result"
    }
   ],
   "source": [
    "len(df_88R)"
   ]
  },
  {
   "cell_type": "code",
   "execution_count": 68,
   "metadata": {},
   "outputs": [
    {
     "data": {
      "text/plain": [
       "str"
      ]
     },
     "execution_count": 68,
     "metadata": {},
     "output_type": "execute_result"
    }
   ],
   "source": [
    "type(df_88R['featured'][0])"
   ]
  },
  {
   "cell_type": "markdown",
   "metadata": {},
   "source": [
    "Featured column is stored as a string, but needs to be converted into a list."
   ]
  },
  {
   "cell_type": "code",
   "execution_count": 154,
   "metadata": {},
   "outputs": [],
   "source": [
    "df_88R['featured'] = df_88R['featured'].apply(lambda x: re.sub(\"['[\\]]\", \"\", x))"
   ]
  },
  {
   "cell_type": "code",
   "execution_count": 155,
   "metadata": {},
   "outputs": [],
   "source": [
    "df_88R['featured'] = df_88R['featured'].apply(lambda x: x.split(sep=', '))"
   ]
  },
  {
   "cell_type": "code",
   "execution_count": 82,
   "metadata": {},
   "outputs": [
    {
     "data": {
      "text/plain": [
       "list"
      ]
     },
     "execution_count": 82,
     "metadata": {},
     "output_type": "execute_result"
    }
   ],
   "source": [
    "type(df_88R['featured'][0])"
   ]
  },
  {
   "cell_type": "code",
   "execution_count": 83,
   "metadata": {},
   "outputs": [
    {
     "data": {
      "text/plain": [
       "['88rising', 'BIBI']"
      ]
     },
     "execution_count": 83,
     "metadata": {},
     "output_type": "execute_result"
    }
   ],
   "source": [
    "df_88R['featured'][0]"
   ]
  },
  {
   "cell_type": "markdown",
   "metadata": {},
   "source": [
    "Our goal is to do an analysis on the tracks with collaborations from other artists outside of 88 Rising. Therefore, we will need to split the dataframe into two dataframes (one with no collaborations and another with collaborations)."
   ]
  },
  {
   "cell_type": "code",
   "execution_count": 9,
   "metadata": {},
   "outputs": [
    {
     "data": {
      "text/plain": [
       "False"
      ]
     },
     "execution_count": 9,
     "metadata": {},
     "output_type": "execute_result"
    }
   ],
   "source": [
    "len(df_88R['featured'][4]) > 1"
   ]
  },
  {
   "cell_type": "code",
   "execution_count": 10,
   "metadata": {},
   "outputs": [
    {
     "data": {
      "text/plain": [
       "2"
      ]
     },
     "execution_count": 10,
     "metadata": {},
     "output_type": "execute_result"
    }
   ],
   "source": [
    "len(df_88R['featured'][0])"
   ]
  },
  {
   "cell_type": "code",
   "execution_count": 156,
   "metadata": {},
   "outputs": [
    {
     "data": {
      "text/html": [
       "<div>\n",
       "<style scoped>\n",
       "    .dataframe tbody tr th:only-of-type {\n",
       "        vertical-align: middle;\n",
       "    }\n",
       "\n",
       "    .dataframe tbody tr th {\n",
       "        vertical-align: top;\n",
       "    }\n",
       "\n",
       "    .dataframe thead th {\n",
       "        text-align: right;\n",
       "    }\n",
       "</style>\n",
       "<table border=\"1\" class=\"dataframe\">\n",
       "  <thead>\n",
       "    <tr style=\"text-align: right;\">\n",
       "      <th></th>\n",
       "      <th>song name</th>\n",
       "      <th>album</th>\n",
       "      <th>artist</th>\n",
       "      <th>featured</th>\n",
       "      <th>release_date</th>\n",
       "      <th>length(ms)</th>\n",
       "      <th>popularity</th>\n",
       "      <th>acousticness</th>\n",
       "      <th>danceability</th>\n",
       "      <th>energy</th>\n",
       "      <th>liveness</th>\n",
       "      <th>tempo</th>\n",
       "      <th>valence</th>\n",
       "    </tr>\n",
       "  </thead>\n",
       "  <tbody>\n",
       "    <tr>\n",
       "      <th>0</th>\n",
       "      <td>The Weekend</td>\n",
       "      <td>The Weekend</td>\n",
       "      <td>88rising</td>\n",
       "      <td>[88rising, BIBI]</td>\n",
       "      <td>2021-10-14</td>\n",
       "      <td>167661</td>\n",
       "      <td>69</td>\n",
       "      <td>0.06200</td>\n",
       "      <td>0.784</td>\n",
       "      <td>0.521</td>\n",
       "      <td>0.0995</td>\n",
       "      <td>101.491</td>\n",
       "      <td>0.817</td>\n",
       "    </tr>\n",
       "    <tr>\n",
       "      <th>1</th>\n",
       "      <td>LAW (Prod. Czaer)</td>\n",
       "      <td>Street Man Fighter Original Vol.3 (Mission by ...</td>\n",
       "      <td>Various Artists</td>\n",
       "      <td>[Yoon Mirae, BIBI]</td>\n",
       "      <td>2022-09-06</td>\n",
       "      <td>189373</td>\n",
       "      <td>71</td>\n",
       "      <td>0.00857</td>\n",
       "      <td>0.756</td>\n",
       "      <td>0.900</td>\n",
       "      <td>0.2370</td>\n",
       "      <td>128.054</td>\n",
       "      <td>0.550</td>\n",
       "    </tr>\n",
       "    <tr>\n",
       "      <th>2</th>\n",
       "      <td>Best Lover</td>\n",
       "      <td>Head In The Clouds Forever</td>\n",
       "      <td>88rising</td>\n",
       "      <td>[88rising, BIBI]</td>\n",
       "      <td>2022-04-16</td>\n",
       "      <td>152910</td>\n",
       "      <td>66</td>\n",
       "      <td>0.26800</td>\n",
       "      <td>0.740</td>\n",
       "      <td>0.663</td>\n",
       "      <td>0.1210</td>\n",
       "      <td>82.004</td>\n",
       "      <td>0.519</td>\n",
       "    </tr>\n",
       "    <tr>\n",
       "      <th>3</th>\n",
       "      <td>Never Gonna Come Down</td>\n",
       "      <td>Shang-Chi and The Legend of The Ten Rings: The...</td>\n",
       "      <td>88rising</td>\n",
       "      <td>[Mark Tuan, BIBI]</td>\n",
       "      <td>2021-09-03</td>\n",
       "      <td>203800</td>\n",
       "      <td>51</td>\n",
       "      <td>0.65600</td>\n",
       "      <td>0.777</td>\n",
       "      <td>0.689</td>\n",
       "      <td>0.0620</td>\n",
       "      <td>150.036</td>\n",
       "      <td>0.873</td>\n",
       "    </tr>\n",
       "    <tr>\n",
       "      <th>4</th>\n",
       "      <td>Crazy Like You (feat. BIBI)</td>\n",
       "      <td>Bare&amp;Rare, Pt. 1</td>\n",
       "      <td>CHUNG HA</td>\n",
       "      <td>[CHUNG HA, BIBI]</td>\n",
       "      <td>2022-07-11</td>\n",
       "      <td>175480</td>\n",
       "      <td>50</td>\n",
       "      <td>0.09570</td>\n",
       "      <td>0.536</td>\n",
       "      <td>0.639</td>\n",
       "      <td>0.2090</td>\n",
       "      <td>170.940</td>\n",
       "      <td>0.502</td>\n",
       "    </tr>\n",
       "  </tbody>\n",
       "</table>\n",
       "</div>"
      ],
      "text/plain": [
       "                     song name  \\\n",
       "0                  The Weekend   \n",
       "1            LAW (Prod. Czaer)   \n",
       "2                   Best Lover   \n",
       "3        Never Gonna Come Down   \n",
       "4  Crazy Like You (feat. BIBI)   \n",
       "\n",
       "                                               album           artist  \\\n",
       "0                                        The Weekend         88rising   \n",
       "1  Street Man Fighter Original Vol.3 (Mission by ...  Various Artists   \n",
       "2                         Head In The Clouds Forever         88rising   \n",
       "3  Shang-Chi and The Legend of The Ten Rings: The...         88rising   \n",
       "4                                   Bare&Rare, Pt. 1         CHUNG HA   \n",
       "\n",
       "             featured release_date  length(ms)  popularity  acousticness  \\\n",
       "0    [88rising, BIBI]   2021-10-14      167661          69       0.06200   \n",
       "1  [Yoon Mirae, BIBI]   2022-09-06      189373          71       0.00857   \n",
       "2    [88rising, BIBI]   2022-04-16      152910          66       0.26800   \n",
       "3   [Mark Tuan, BIBI]   2021-09-03      203800          51       0.65600   \n",
       "4    [CHUNG HA, BIBI]   2022-07-11      175480          50       0.09570   \n",
       "\n",
       "   danceability  energy  liveness    tempo  valence  \n",
       "0         0.784   0.521    0.0995  101.491    0.817  \n",
       "1         0.756   0.900    0.2370  128.054    0.550  \n",
       "2         0.740   0.663    0.1210   82.004    0.519  \n",
       "3         0.777   0.689    0.0620  150.036    0.873  \n",
       "4         0.536   0.639    0.2090  170.940    0.502  "
      ]
     },
     "execution_count": 156,
     "metadata": {},
     "output_type": "execute_result"
    }
   ],
   "source": [
    "collabs_df = df_88R[df_88R['featured'].apply(lambda x: len(x) > 1)]\n",
    "collabs_df = collabs_df.reset_index(drop=True)\n",
    "collabs_df.head()"
   ]
  },
  {
   "cell_type": "code",
   "execution_count": 167,
   "metadata": {},
   "outputs": [
    {
     "data": {
      "text/html": [
       "<div>\n",
       "<style scoped>\n",
       "    .dataframe tbody tr th:only-of-type {\n",
       "        vertical-align: middle;\n",
       "    }\n",
       "\n",
       "    .dataframe tbody tr th {\n",
       "        vertical-align: top;\n",
       "    }\n",
       "\n",
       "    .dataframe thead th {\n",
       "        text-align: right;\n",
       "    }\n",
       "</style>\n",
       "<table border=\"1\" class=\"dataframe\">\n",
       "  <thead>\n",
       "    <tr style=\"text-align: right;\">\n",
       "      <th></th>\n",
       "      <th>song name</th>\n",
       "      <th>album</th>\n",
       "      <th>artist</th>\n",
       "      <th>featured</th>\n",
       "      <th>release_date</th>\n",
       "      <th>length(ms)</th>\n",
       "      <th>popularity</th>\n",
       "      <th>acousticness</th>\n",
       "      <th>danceability</th>\n",
       "      <th>energy</th>\n",
       "      <th>liveness</th>\n",
       "      <th>tempo</th>\n",
       "      <th>valence</th>\n",
       "    </tr>\n",
       "  </thead>\n",
       "  <tbody>\n",
       "    <tr>\n",
       "      <th>0</th>\n",
       "      <td>Animal Farm</td>\n",
       "      <td>Animal Farm</td>\n",
       "      <td>BIBI</td>\n",
       "      <td>[BIBI]</td>\n",
       "      <td>2022-09-27</td>\n",
       "      <td>203945</td>\n",
       "      <td>69</td>\n",
       "      <td>0.0178</td>\n",
       "      <td>0.617</td>\n",
       "      <td>0.570</td>\n",
       "      <td>0.5500</td>\n",
       "      <td>107.971</td>\n",
       "      <td>0.375</td>\n",
       "    </tr>\n",
       "    <tr>\n",
       "      <th>1</th>\n",
       "      <td>KAZINO</td>\n",
       "      <td>KAZINO</td>\n",
       "      <td>BIBI</td>\n",
       "      <td>[BIBI]</td>\n",
       "      <td>2020-04-29</td>\n",
       "      <td>185946</td>\n",
       "      <td>65</td>\n",
       "      <td>0.1390</td>\n",
       "      <td>0.625</td>\n",
       "      <td>0.686</td>\n",
       "      <td>0.1100</td>\n",
       "      <td>133.041</td>\n",
       "      <td>0.263</td>\n",
       "    </tr>\n",
       "    <tr>\n",
       "      <th>2</th>\n",
       "      <td>BAD SAD AND MAD</td>\n",
       "      <td>Life is a Biâ¦</td>\n",
       "      <td>BIBI</td>\n",
       "      <td>[BIBI]</td>\n",
       "      <td>2021-04-28</td>\n",
       "      <td>154988</td>\n",
       "      <td>64</td>\n",
       "      <td>0.5450</td>\n",
       "      <td>0.746</td>\n",
       "      <td>0.558</td>\n",
       "      <td>0.0904</td>\n",
       "      <td>90.013</td>\n",
       "      <td>0.638</td>\n",
       "    </tr>\n",
       "    <tr>\n",
       "      <th>3</th>\n",
       "      <td>Very, Slowly</td>\n",
       "      <td>Twenty-Five Twenty-One OST Part 3</td>\n",
       "      <td>BIBI</td>\n",
       "      <td>[BIBI]</td>\n",
       "      <td>2022-02-20</td>\n",
       "      <td>214851</td>\n",
       "      <td>60</td>\n",
       "      <td>0.6780</td>\n",
       "      <td>0.528</td>\n",
       "      <td>0.423</td>\n",
       "      <td>0.1670</td>\n",
       "      <td>135.917</td>\n",
       "      <td>0.249</td>\n",
       "    </tr>\n",
       "    <tr>\n",
       "      <th>4</th>\n",
       "      <td>MotoSpeed 24</td>\n",
       "      <td>Sweet Sorrow of Mother</td>\n",
       "      <td>BIBI</td>\n",
       "      <td>[BIBI]</td>\n",
       "      <td>2022-10-24</td>\n",
       "      <td>133904</td>\n",
       "      <td>56</td>\n",
       "      <td>0.3190</td>\n",
       "      <td>0.610</td>\n",
       "      <td>0.597</td>\n",
       "      <td>0.1360</td>\n",
       "      <td>95.004</td>\n",
       "      <td>0.295</td>\n",
       "    </tr>\n",
       "  </tbody>\n",
       "</table>\n",
       "</div>"
      ],
      "text/plain": [
       "         song name                              album artist featured  \\\n",
       "0      Animal Farm                        Animal Farm   BIBI   [BIBI]   \n",
       "1           KAZINO                             KAZINO   BIBI   [BIBI]   \n",
       "2  BAD SAD AND MAD                    Life is a Biâ¦   BIBI   [BIBI]   \n",
       "3     Very, Slowly  Twenty-Five Twenty-One OST Part 3   BIBI   [BIBI]   \n",
       "4     MotoSpeed 24             Sweet Sorrow of Mother   BIBI   [BIBI]   \n",
       "\n",
       "  release_date  length(ms)  popularity  acousticness  danceability  energy  \\\n",
       "0   2022-09-27      203945          69        0.0178         0.617   0.570   \n",
       "1   2020-04-29      185946          65        0.1390         0.625   0.686   \n",
       "2   2021-04-28      154988          64        0.5450         0.746   0.558   \n",
       "3   2022-02-20      214851          60        0.6780         0.528   0.423   \n",
       "4   2022-10-24      133904          56        0.3190         0.610   0.597   \n",
       "\n",
       "   liveness    tempo  valence  \n",
       "0    0.5500  107.971    0.375  \n",
       "1    0.1100  133.041    0.263  \n",
       "2    0.0904   90.013    0.638  \n",
       "3    0.1670  135.917    0.249  \n",
       "4    0.1360   95.004    0.295  "
      ]
     },
     "execution_count": 167,
     "metadata": {},
     "output_type": "execute_result"
    }
   ],
   "source": [
    "no_collabs_df = df_88R[df_88R['featured'].apply(lambda x: len(x) == 1)]\n",
    "no_collabs_df = no_collabs_df.reset_index(drop=True)\n",
    "no_collabs_df.head()"
   ]
  },
  {
   "cell_type": "code",
   "execution_count": 169,
   "metadata": {},
   "outputs": [
    {
     "name": "stdout",
     "output_type": "stream",
     "text": [
      "200 251\n"
     ]
    }
   ],
   "source": [
    "print(len(collabs_df), len(no_collabs_df))"
   ]
  },
  {
   "cell_type": "markdown",
   "metadata": {},
   "source": [
    "Filter data on collaborations with artists outside of 88 Rising.\n",
    "collab_88 are the list of songs featuring only 88 Rising artists while collab_out are the list of 88 Rising songs with featured artists outside of 88 Rising."
   ]
  },
  {
   "cell_type": "code",
   "execution_count": 162,
   "metadata": {},
   "outputs": [],
   "source": [
    "collab_88 = []\n",
    "collab_out = []"
   ]
  },
  {
   "cell_type": "code",
   "execution_count": 163,
   "metadata": {},
   "outputs": [],
   "source": [
    "lowercase_artists = [x.lower() for x in artists]"
   ]
  },
  {
   "cell_type": "code",
   "execution_count": 134,
   "metadata": {},
   "outputs": [
    {
     "data": {
      "text/plain": [
       "200"
      ]
     },
     "execution_count": 134,
     "metadata": {},
     "output_type": "execute_result"
    }
   ],
   "source": [
    "len(collabs_df)"
   ]
  },
  {
   "cell_type": "code",
   "execution_count": 164,
   "metadata": {},
   "outputs": [
    {
     "name": "stdout",
     "output_type": "stream",
     "text": [
      "36 164\n"
     ]
    }
   ],
   "source": [
    "for index, row in collabs_df.iterrows():\n",
    "    for a in row['featured']:\n",
    "        if a.lower() in lowercase_artists or a.lower() == '88rising' or a.lower() =='chung ha': # Chung Ha is mispelled in tracks csv\n",
    "            if a == row['featured'][-1]:\n",
    "                collab_88.append(index)\n",
    "        else:\n",
    "            collab_out.append(index)\n",
    "            break\n",
    "print(len(collab_88), len(collab_out))"
   ]
  },
  {
   "cell_type": "code",
   "execution_count": 165,
   "metadata": {},
   "outputs": [
    {
     "data": {
      "text/html": [
       "<div>\n",
       "<style scoped>\n",
       "    .dataframe tbody tr th:only-of-type {\n",
       "        vertical-align: middle;\n",
       "    }\n",
       "\n",
       "    .dataframe tbody tr th {\n",
       "        vertical-align: top;\n",
       "    }\n",
       "\n",
       "    .dataframe thead th {\n",
       "        text-align: right;\n",
       "    }\n",
       "</style>\n",
       "<table border=\"1\" class=\"dataframe\">\n",
       "  <thead>\n",
       "    <tr style=\"text-align: right;\">\n",
       "      <th></th>\n",
       "      <th>song name</th>\n",
       "      <th>album</th>\n",
       "      <th>artist</th>\n",
       "      <th>featured</th>\n",
       "      <th>release_date</th>\n",
       "      <th>length(ms)</th>\n",
       "      <th>popularity</th>\n",
       "      <th>acousticness</th>\n",
       "      <th>danceability</th>\n",
       "      <th>energy</th>\n",
       "      <th>liveness</th>\n",
       "      <th>tempo</th>\n",
       "      <th>valence</th>\n",
       "    </tr>\n",
       "  </thead>\n",
       "  <tbody>\n",
       "    <tr>\n",
       "      <th>0</th>\n",
       "      <td>The Weekend</td>\n",
       "      <td>The Weekend</td>\n",
       "      <td>88rising</td>\n",
       "      <td>[88rising, BIBI]</td>\n",
       "      <td>2021-10-14</td>\n",
       "      <td>167661</td>\n",
       "      <td>69</td>\n",
       "      <td>0.062000</td>\n",
       "      <td>0.784</td>\n",
       "      <td>0.521</td>\n",
       "      <td>0.0995</td>\n",
       "      <td>101.491</td>\n",
       "      <td>0.817</td>\n",
       "    </tr>\n",
       "    <tr>\n",
       "      <th>2</th>\n",
       "      <td>Best Lover</td>\n",
       "      <td>Head In The Clouds Forever</td>\n",
       "      <td>88rising</td>\n",
       "      <td>[88rising, BIBI]</td>\n",
       "      <td>2022-04-16</td>\n",
       "      <td>152910</td>\n",
       "      <td>66</td>\n",
       "      <td>0.268000</td>\n",
       "      <td>0.740</td>\n",
       "      <td>0.663</td>\n",
       "      <td>0.1210</td>\n",
       "      <td>82.004</td>\n",
       "      <td>0.519</td>\n",
       "    </tr>\n",
       "    <tr>\n",
       "      <th>4</th>\n",
       "      <td>Crazy Like You (feat. BIBI)</td>\n",
       "      <td>Bare&amp;Rare, Pt. 1</td>\n",
       "      <td>CHUNG HA</td>\n",
       "      <td>[CHUNG HA, BIBI]</td>\n",
       "      <td>2022-07-11</td>\n",
       "      <td>175480</td>\n",
       "      <td>50</td>\n",
       "      <td>0.095700</td>\n",
       "      <td>0.536</td>\n",
       "      <td>0.639</td>\n",
       "      <td>0.2090</td>\n",
       "      <td>170.940</td>\n",
       "      <td>0.502</td>\n",
       "    </tr>\n",
       "    <tr>\n",
       "      <th>13</th>\n",
       "      <td>froyo (feat. Warren Hue)</td>\n",
       "      <td>Head In The Clouds Forever</td>\n",
       "      <td>88rising</td>\n",
       "      <td>[88rising, BIBI, Rich Brian]</td>\n",
       "      <td>2022-04-16</td>\n",
       "      <td>309121</td>\n",
       "      <td>45</td>\n",
       "      <td>0.213000</td>\n",
       "      <td>0.508</td>\n",
       "      <td>0.688</td>\n",
       "      <td>0.1570</td>\n",
       "      <td>145.089</td>\n",
       "      <td>0.335</td>\n",
       "    </tr>\n",
       "    <tr>\n",
       "      <th>37</th>\n",
       "      <td>These Nights</td>\n",
       "      <td>These Nights</td>\n",
       "      <td>88rising</td>\n",
       "      <td>[88rising, Rich Brian]</td>\n",
       "      <td>2019-10-03</td>\n",
       "      <td>223006</td>\n",
       "      <td>41</td>\n",
       "      <td>0.000317</td>\n",
       "      <td>0.656</td>\n",
       "      <td>0.673</td>\n",
       "      <td>0.2800</td>\n",
       "      <td>83.018</td>\n",
       "      <td>0.494</td>\n",
       "    </tr>\n",
       "  </tbody>\n",
       "</table>\n",
       "</div>"
      ],
      "text/plain": [
       "                      song name                       album    artist  \\\n",
       "0                   The Weekend                 The Weekend  88rising   \n",
       "2                    Best Lover  Head In The Clouds Forever  88rising   \n",
       "4   Crazy Like You (feat. BIBI)            Bare&Rare, Pt. 1  CHUNG HA   \n",
       "13     froyo (feat. Warren Hue)  Head In The Clouds Forever  88rising   \n",
       "37                 These Nights                These Nights  88rising   \n",
       "\n",
       "                        featured release_date  length(ms)  popularity  \\\n",
       "0               [88rising, BIBI]   2021-10-14      167661          69   \n",
       "2               [88rising, BIBI]   2022-04-16      152910          66   \n",
       "4               [CHUNG HA, BIBI]   2022-07-11      175480          50   \n",
       "13  [88rising, BIBI, Rich Brian]   2022-04-16      309121          45   \n",
       "37        [88rising, Rich Brian]   2019-10-03      223006          41   \n",
       "\n",
       "    acousticness  danceability  energy  liveness    tempo  valence  \n",
       "0       0.062000         0.784   0.521    0.0995  101.491    0.817  \n",
       "2       0.268000         0.740   0.663    0.1210   82.004    0.519  \n",
       "4       0.095700         0.536   0.639    0.2090  170.940    0.502  \n",
       "13      0.213000         0.508   0.688    0.1570  145.089    0.335  \n",
       "37      0.000317         0.656   0.673    0.2800   83.018    0.494  "
      ]
     },
     "execution_count": 165,
     "metadata": {},
     "output_type": "execute_result"
    }
   ],
   "source": [
    "collab_88_df = collabs_df[collabs_df.index.isin(collab_88)]\n",
    "collab_88_df.head()"
   ]
  },
  {
   "cell_type": "code",
   "execution_count": 166,
   "metadata": {},
   "outputs": [
    {
     "data": {
      "text/html": [
       "<div>\n",
       "<style scoped>\n",
       "    .dataframe tbody tr th:only-of-type {\n",
       "        vertical-align: middle;\n",
       "    }\n",
       "\n",
       "    .dataframe tbody tr th {\n",
       "        vertical-align: top;\n",
       "    }\n",
       "\n",
       "    .dataframe thead th {\n",
       "        text-align: right;\n",
       "    }\n",
       "</style>\n",
       "<table border=\"1\" class=\"dataframe\">\n",
       "  <thead>\n",
       "    <tr style=\"text-align: right;\">\n",
       "      <th></th>\n",
       "      <th>song name</th>\n",
       "      <th>album</th>\n",
       "      <th>artist</th>\n",
       "      <th>featured</th>\n",
       "      <th>release_date</th>\n",
       "      <th>length(ms)</th>\n",
       "      <th>popularity</th>\n",
       "      <th>acousticness</th>\n",
       "      <th>danceability</th>\n",
       "      <th>energy</th>\n",
       "      <th>liveness</th>\n",
       "      <th>tempo</th>\n",
       "      <th>valence</th>\n",
       "    </tr>\n",
       "  </thead>\n",
       "  <tbody>\n",
       "    <tr>\n",
       "      <th>1</th>\n",
       "      <td>LAW (Prod. Czaer)</td>\n",
       "      <td>Street Man Fighter Original Vol.3 (Mission by ...</td>\n",
       "      <td>Various Artists</td>\n",
       "      <td>[Yoon Mirae, BIBI]</td>\n",
       "      <td>2022-09-06</td>\n",
       "      <td>189373</td>\n",
       "      <td>71</td>\n",
       "      <td>0.00857</td>\n",
       "      <td>0.756</td>\n",
       "      <td>0.900</td>\n",
       "      <td>0.2370</td>\n",
       "      <td>128.054</td>\n",
       "      <td>0.550</td>\n",
       "    </tr>\n",
       "    <tr>\n",
       "      <th>3</th>\n",
       "      <td>Never Gonna Come Down</td>\n",
       "      <td>Shang-Chi and The Legend of The Ten Rings: The...</td>\n",
       "      <td>88rising</td>\n",
       "      <td>[Mark Tuan, BIBI]</td>\n",
       "      <td>2021-09-03</td>\n",
       "      <td>203800</td>\n",
       "      <td>51</td>\n",
       "      <td>0.65600</td>\n",
       "      <td>0.777</td>\n",
       "      <td>0.689</td>\n",
       "      <td>0.0620</td>\n",
       "      <td>150.036</td>\n",
       "      <td>0.873</td>\n",
       "    </tr>\n",
       "    <tr>\n",
       "      <th>5</th>\n",
       "      <td>AUTOMATIC</td>\n",
       "      <td>AUTOMATIC</td>\n",
       "      <td>Various Artists</td>\n",
       "      <td>[Chancellor, Babylon, twlv]</td>\n",
       "      <td>2020-10-14</td>\n",
       "      <td>268293</td>\n",
       "      <td>51</td>\n",
       "      <td>0.13300</td>\n",
       "      <td>0.720</td>\n",
       "      <td>0.703</td>\n",
       "      <td>0.1210</td>\n",
       "      <td>99.999</td>\n",
       "      <td>0.492</td>\n",
       "    </tr>\n",
       "    <tr>\n",
       "      <th>6</th>\n",
       "      <td>Eleven (feat. BIBI)</td>\n",
       "      <td>Blueline</td>\n",
       "      <td>twlv</td>\n",
       "      <td>[twlv, BIBI]</td>\n",
       "      <td>2019-03-15</td>\n",
       "      <td>196520</td>\n",
       "      <td>46</td>\n",
       "      <td>0.14500</td>\n",
       "      <td>0.502</td>\n",
       "      <td>0.576</td>\n",
       "      <td>0.1700</td>\n",
       "      <td>89.897</td>\n",
       "      <td>0.205</td>\n",
       "    </tr>\n",
       "    <tr>\n",
       "      <th>7</th>\n",
       "      <td>Hanryang</td>\n",
       "      <td>Hanryang</td>\n",
       "      <td>Min Kyunghoon</td>\n",
       "      <td>[Min Kyunghoon, KIM HEECHUL, BIBI]</td>\n",
       "      <td>2020-12-19</td>\n",
       "      <td>202866</td>\n",
       "      <td>49</td>\n",
       "      <td>0.06050</td>\n",
       "      <td>0.698</td>\n",
       "      <td>0.729</td>\n",
       "      <td>0.0918</td>\n",
       "      <td>140.083</td>\n",
       "      <td>0.306</td>\n",
       "    </tr>\n",
       "  </tbody>\n",
       "</table>\n",
       "</div>"
      ],
      "text/plain": [
       "               song name                                              album  \\\n",
       "1      LAW (Prod. Czaer)  Street Man Fighter Original Vol.3 (Mission by ...   \n",
       "3  Never Gonna Come Down  Shang-Chi and The Legend of The Ten Rings: The...   \n",
       "5              AUTOMATIC                                          AUTOMATIC   \n",
       "6    Eleven (feat. BIBI)                                           Blueline   \n",
       "7               Hanryang                                           Hanryang   \n",
       "\n",
       "            artist                            featured release_date  \\\n",
       "1  Various Artists                  [Yoon Mirae, BIBI]   2022-09-06   \n",
       "3         88rising                   [Mark Tuan, BIBI]   2021-09-03   \n",
       "5  Various Artists         [Chancellor, Babylon, twlv]   2020-10-14   \n",
       "6             twlv                        [twlv, BIBI]   2019-03-15   \n",
       "7    Min Kyunghoon  [Min Kyunghoon, KIM HEECHUL, BIBI]   2020-12-19   \n",
       "\n",
       "   length(ms)  popularity  acousticness  danceability  energy  liveness  \\\n",
       "1      189373          71       0.00857         0.756   0.900    0.2370   \n",
       "3      203800          51       0.65600         0.777   0.689    0.0620   \n",
       "5      268293          51       0.13300         0.720   0.703    0.1210   \n",
       "6      196520          46       0.14500         0.502   0.576    0.1700   \n",
       "7      202866          49       0.06050         0.698   0.729    0.0918   \n",
       "\n",
       "     tempo  valence  \n",
       "1  128.054    0.550  \n",
       "3  150.036    0.873  \n",
       "5   99.999    0.492  \n",
       "6   89.897    0.205  \n",
       "7  140.083    0.306  "
      ]
     },
     "execution_count": 166,
     "metadata": {},
     "output_type": "execute_result"
    }
   ],
   "source": [
    "collab_out_df = collabs_df[collabs_df.index.isin(collab_out)]\n",
    "collab_out_df.head()"
   ]
  }
 ],
 "metadata": {
  "kernelspec": {
   "display_name": "Python 3.9.12 ('base')",
   "language": "python",
   "name": "python3"
  },
  "language_info": {
   "codemirror_mode": {
    "name": "ipython",
    "version": 3
   },
   "file_extension": ".py",
   "mimetype": "text/x-python",
   "name": "python",
   "nbconvert_exporter": "python",
   "pygments_lexer": "ipython3",
   "version": "3.9.12"
  },
  "orig_nbformat": 4,
  "vscode": {
   "interpreter": {
    "hash": "fd5f0602b361fcd80b6e43c9db32d5ff96b182a40640908c77b502a93aa9387e"
   }
  }
 },
 "nbformat": 4,
 "nbformat_minor": 2
}
