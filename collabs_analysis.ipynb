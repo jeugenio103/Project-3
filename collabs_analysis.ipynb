{
 "cells": [
  {
   "cell_type": "code",
   "execution_count": 56,
   "metadata": {},
   "outputs": [],
   "source": [
    "import pandas as pd\n",
    "import re\n",
    "from artists_88rising import artists"
   ]
  },
  {
   "cell_type": "code",
   "execution_count": 81,
   "metadata": {},
   "outputs": [
    {
     "data": {
      "text/html": [
       "<div>\n",
       "<style scoped>\n",
       "    .dataframe tbody tr th:only-of-type {\n",
       "        vertical-align: middle;\n",
       "    }\n",
       "\n",
       "    .dataframe tbody tr th {\n",
       "        vertical-align: top;\n",
       "    }\n",
       "\n",
       "    .dataframe thead th {\n",
       "        text-align: right;\n",
       "    }\n",
       "</style>\n",
       "<table border=\"1\" class=\"dataframe\">\n",
       "  <thead>\n",
       "    <tr style=\"text-align: right;\">\n",
       "      <th></th>\n",
       "      <th>song name</th>\n",
       "      <th>album</th>\n",
       "      <th>artist</th>\n",
       "      <th>featured</th>\n",
       "      <th>release_date</th>\n",
       "      <th>length(ms)</th>\n",
       "      <th>popularity</th>\n",
       "      <th>acousticness</th>\n",
       "      <th>danceability</th>\n",
       "      <th>energy</th>\n",
       "      <th>liveness</th>\n",
       "      <th>tempo</th>\n",
       "      <th>valence</th>\n",
       "    </tr>\n",
       "  </thead>\n",
       "  <tbody>\n",
       "    <tr>\n",
       "      <th>0</th>\n",
       "      <td>The Weekend</td>\n",
       "      <td>The Weekend</td>\n",
       "      <td>88rising</td>\n",
       "      <td>['88rising', 'BIBI']</td>\n",
       "      <td>2021-10-14</td>\n",
       "      <td>167661</td>\n",
       "      <td>69</td>\n",
       "      <td>0.06200</td>\n",
       "      <td>0.784</td>\n",
       "      <td>0.521</td>\n",
       "      <td>0.0995</td>\n",
       "      <td>101.491</td>\n",
       "      <td>0.817</td>\n",
       "    </tr>\n",
       "    <tr>\n",
       "      <th>1</th>\n",
       "      <td>LAW (Prod. Czaer)</td>\n",
       "      <td>Street Man Fighter Original Vol.3 (Mission by ...</td>\n",
       "      <td>Various Artists</td>\n",
       "      <td>['Yoon Mirae', 'BIBI']</td>\n",
       "      <td>2022-09-06</td>\n",
       "      <td>189373</td>\n",
       "      <td>71</td>\n",
       "      <td>0.00857</td>\n",
       "      <td>0.756</td>\n",
       "      <td>0.900</td>\n",
       "      <td>0.2370</td>\n",
       "      <td>128.054</td>\n",
       "      <td>0.550</td>\n",
       "    </tr>\n",
       "    <tr>\n",
       "      <th>2</th>\n",
       "      <td>Best Lover</td>\n",
       "      <td>Head In The Clouds Forever</td>\n",
       "      <td>88rising</td>\n",
       "      <td>['88rising', 'BIBI']</td>\n",
       "      <td>2022-04-16</td>\n",
       "      <td>152910</td>\n",
       "      <td>66</td>\n",
       "      <td>0.26800</td>\n",
       "      <td>0.740</td>\n",
       "      <td>0.663</td>\n",
       "      <td>0.1210</td>\n",
       "      <td>82.004</td>\n",
       "      <td>0.519</td>\n",
       "    </tr>\n",
       "    <tr>\n",
       "      <th>3</th>\n",
       "      <td>Animal Farm</td>\n",
       "      <td>Animal Farm</td>\n",
       "      <td>BIBI</td>\n",
       "      <td>['BIBI']</td>\n",
       "      <td>2022-09-27</td>\n",
       "      <td>203945</td>\n",
       "      <td>69</td>\n",
       "      <td>0.01780</td>\n",
       "      <td>0.617</td>\n",
       "      <td>0.570</td>\n",
       "      <td>0.5500</td>\n",
       "      <td>107.971</td>\n",
       "      <td>0.375</td>\n",
       "    </tr>\n",
       "    <tr>\n",
       "      <th>4</th>\n",
       "      <td>KAZINO</td>\n",
       "      <td>KAZINO</td>\n",
       "      <td>BIBI</td>\n",
       "      <td>['BIBI']</td>\n",
       "      <td>2020-04-29</td>\n",
       "      <td>185946</td>\n",
       "      <td>65</td>\n",
       "      <td>0.13900</td>\n",
       "      <td>0.625</td>\n",
       "      <td>0.686</td>\n",
       "      <td>0.1100</td>\n",
       "      <td>133.041</td>\n",
       "      <td>0.263</td>\n",
       "    </tr>\n",
       "  </tbody>\n",
       "</table>\n",
       "</div>"
      ],
      "text/plain": [
       "           song name                                              album  \\\n",
       "0        The Weekend                                        The Weekend   \n",
       "1  LAW (Prod. Czaer)  Street Man Fighter Original Vol.3 (Mission by ...   \n",
       "2         Best Lover                         Head In The Clouds Forever   \n",
       "3        Animal Farm                                        Animal Farm   \n",
       "4             KAZINO                                             KAZINO   \n",
       "\n",
       "            artist                featured release_date  length(ms)  \\\n",
       "0         88rising    ['88rising', 'BIBI']   2021-10-14      167661   \n",
       "1  Various Artists  ['Yoon Mirae', 'BIBI']   2022-09-06      189373   \n",
       "2         88rising    ['88rising', 'BIBI']   2022-04-16      152910   \n",
       "3             BIBI                ['BIBI']   2022-09-27      203945   \n",
       "4             BIBI                ['BIBI']   2020-04-29      185946   \n",
       "\n",
       "   popularity  acousticness  danceability  energy  liveness    tempo  valence  \n",
       "0          69       0.06200         0.784   0.521    0.0995  101.491    0.817  \n",
       "1          71       0.00857         0.756   0.900    0.2370  128.054    0.550  \n",
       "2          66       0.26800         0.740   0.663    0.1210   82.004    0.519  \n",
       "3          69       0.01780         0.617   0.570    0.5500  107.971    0.375  \n",
       "4          65       0.13900         0.625   0.686    0.1100  133.041    0.263  "
      ]
     },
     "execution_count": 81,
     "metadata": {},
     "output_type": "execute_result"
    }
   ],
   "source": [
    "df_88R = pd.read_csv(\"./88RisingArtists/DataSets/final88data.csv\", index_col=0)\n",
    "df_88R.reset_index(drop=True, inplace=True)\n",
    "df_88R.head()"
   ]
  },
  {
   "cell_type": "code",
   "execution_count": 11,
   "metadata": {},
   "outputs": [
    {
     "data": {
      "text/plain": [
       "451"
      ]
     },
     "execution_count": 11,
     "metadata": {},
     "output_type": "execute_result"
    }
   ],
   "source": [
    "len(df_88R)"
   ]
  },
  {
   "cell_type": "code",
   "execution_count": 63,
   "metadata": {},
   "outputs": [
    {
     "data": {
      "text/plain": [
       "str"
      ]
     },
     "execution_count": 63,
     "metadata": {},
     "output_type": "execute_result"
    }
   ],
   "source": [
    "type(df_88R['featured'][0])"
   ]
  },
  {
   "cell_type": "markdown",
   "metadata": {},
   "source": [
    "Featured column is stored as a string, but needs to be converted into a list."
   ]
  },
  {
   "cell_type": "code",
   "execution_count": 82,
   "metadata": {},
   "outputs": [],
   "source": [
    "df_88R['featured'] = df_88R['featured'].apply(lambda x: re.sub(\"['[\\]]\", \"\", x))"
   ]
  },
  {
   "cell_type": "code",
   "execution_count": 86,
   "metadata": {},
   "outputs": [],
   "source": [
    "df_88R['featured'] = df_88R['featured'].apply(lambda x: x.split(sep=','))"
   ]
  },
  {
   "cell_type": "code",
   "execution_count": 87,
   "metadata": {},
   "outputs": [
    {
     "data": {
      "text/plain": [
       "list"
      ]
     },
     "execution_count": 87,
     "metadata": {},
     "output_type": "execute_result"
    }
   ],
   "source": [
    "type(df_88R['featured'][0])"
   ]
  },
  {
   "cell_type": "code",
   "execution_count": 89,
   "metadata": {},
   "outputs": [
    {
     "data": {
      "text/plain": [
       "['88rising', ' BIBI']"
      ]
     },
     "execution_count": 89,
     "metadata": {},
     "output_type": "execute_result"
    }
   ],
   "source": [
    "df_88R['featured'][0]"
   ]
  },
  {
   "cell_type": "markdown",
   "metadata": {},
   "source": [
    "Our goal is to do an analysis on the tracks with collaborations from other artists outside of 88 Rising. Therefore, we will need to split the dataframe into two dataframes (one with no collaborations and another with collaborations)."
   ]
  },
  {
   "cell_type": "code",
   "execution_count": 90,
   "metadata": {},
   "outputs": [
    {
     "data": {
      "text/plain": [
       "False"
      ]
     },
     "execution_count": 90,
     "metadata": {},
     "output_type": "execute_result"
    }
   ],
   "source": [
    "len(df_88R['featured'][4]) > 1"
   ]
  },
  {
   "cell_type": "code",
   "execution_count": 91,
   "metadata": {},
   "outputs": [
    {
     "data": {
      "text/plain": [
       "2"
      ]
     },
     "execution_count": 91,
     "metadata": {},
     "output_type": "execute_result"
    }
   ],
   "source": [
    "len(df_88R['featured'][0])"
   ]
  },
  {
   "cell_type": "code",
   "execution_count": 92,
   "metadata": {},
   "outputs": [
    {
     "data": {
      "text/html": [
       "<div>\n",
       "<style scoped>\n",
       "    .dataframe tbody tr th:only-of-type {\n",
       "        vertical-align: middle;\n",
       "    }\n",
       "\n",
       "    .dataframe tbody tr th {\n",
       "        vertical-align: top;\n",
       "    }\n",
       "\n",
       "    .dataframe thead th {\n",
       "        text-align: right;\n",
       "    }\n",
       "</style>\n",
       "<table border=\"1\" class=\"dataframe\">\n",
       "  <thead>\n",
       "    <tr style=\"text-align: right;\">\n",
       "      <th></th>\n",
       "      <th>song name</th>\n",
       "      <th>album</th>\n",
       "      <th>artist</th>\n",
       "      <th>featured</th>\n",
       "      <th>release_date</th>\n",
       "      <th>length(ms)</th>\n",
       "      <th>popularity</th>\n",
       "      <th>acousticness</th>\n",
       "      <th>danceability</th>\n",
       "      <th>energy</th>\n",
       "      <th>liveness</th>\n",
       "      <th>tempo</th>\n",
       "      <th>valence</th>\n",
       "    </tr>\n",
       "  </thead>\n",
       "  <tbody>\n",
       "    <tr>\n",
       "      <th>0</th>\n",
       "      <td>The Weekend</td>\n",
       "      <td>The Weekend</td>\n",
       "      <td>88rising</td>\n",
       "      <td>[88rising,  BIBI]</td>\n",
       "      <td>2021-10-14</td>\n",
       "      <td>167661</td>\n",
       "      <td>69</td>\n",
       "      <td>0.06200</td>\n",
       "      <td>0.784</td>\n",
       "      <td>0.521</td>\n",
       "      <td>0.0995</td>\n",
       "      <td>101.491</td>\n",
       "      <td>0.817</td>\n",
       "    </tr>\n",
       "    <tr>\n",
       "      <th>1</th>\n",
       "      <td>LAW (Prod. Czaer)</td>\n",
       "      <td>Street Man Fighter Original Vol.3 (Mission by ...</td>\n",
       "      <td>Various Artists</td>\n",
       "      <td>[Yoon Mirae,  BIBI]</td>\n",
       "      <td>2022-09-06</td>\n",
       "      <td>189373</td>\n",
       "      <td>71</td>\n",
       "      <td>0.00857</td>\n",
       "      <td>0.756</td>\n",
       "      <td>0.900</td>\n",
       "      <td>0.2370</td>\n",
       "      <td>128.054</td>\n",
       "      <td>0.550</td>\n",
       "    </tr>\n",
       "    <tr>\n",
       "      <th>2</th>\n",
       "      <td>Best Lover</td>\n",
       "      <td>Head In The Clouds Forever</td>\n",
       "      <td>88rising</td>\n",
       "      <td>[88rising,  BIBI]</td>\n",
       "      <td>2022-04-16</td>\n",
       "      <td>152910</td>\n",
       "      <td>66</td>\n",
       "      <td>0.26800</td>\n",
       "      <td>0.740</td>\n",
       "      <td>0.663</td>\n",
       "      <td>0.1210</td>\n",
       "      <td>82.004</td>\n",
       "      <td>0.519</td>\n",
       "    </tr>\n",
       "    <tr>\n",
       "      <th>15</th>\n",
       "      <td>Never Gonna Come Down</td>\n",
       "      <td>Shang-Chi and The Legend of The Ten Rings: The...</td>\n",
       "      <td>88rising</td>\n",
       "      <td>[Mark Tuan,  BIBI]</td>\n",
       "      <td>2021-09-03</td>\n",
       "      <td>203800</td>\n",
       "      <td>51</td>\n",
       "      <td>0.65600</td>\n",
       "      <td>0.777</td>\n",
       "      <td>0.689</td>\n",
       "      <td>0.0620</td>\n",
       "      <td>150.036</td>\n",
       "      <td>0.873</td>\n",
       "    </tr>\n",
       "    <tr>\n",
       "      <th>17</th>\n",
       "      <td>Crazy Like You (feat. BIBI)</td>\n",
       "      <td>Bare&amp;Rare, Pt. 1</td>\n",
       "      <td>CHUNG HA</td>\n",
       "      <td>[CHUNG HA,  BIBI]</td>\n",
       "      <td>2022-07-11</td>\n",
       "      <td>175480</td>\n",
       "      <td>50</td>\n",
       "      <td>0.09570</td>\n",
       "      <td>0.536</td>\n",
       "      <td>0.639</td>\n",
       "      <td>0.2090</td>\n",
       "      <td>170.940</td>\n",
       "      <td>0.502</td>\n",
       "    </tr>\n",
       "  </tbody>\n",
       "</table>\n",
       "</div>"
      ],
      "text/plain": [
       "                      song name  \\\n",
       "0                   The Weekend   \n",
       "1             LAW (Prod. Czaer)   \n",
       "2                    Best Lover   \n",
       "15        Never Gonna Come Down   \n",
       "17  Crazy Like You (feat. BIBI)   \n",
       "\n",
       "                                                album           artist  \\\n",
       "0                                         The Weekend         88rising   \n",
       "1   Street Man Fighter Original Vol.3 (Mission by ...  Various Artists   \n",
       "2                          Head In The Clouds Forever         88rising   \n",
       "15  Shang-Chi and The Legend of The Ten Rings: The...         88rising   \n",
       "17                                   Bare&Rare, Pt. 1         CHUNG HA   \n",
       "\n",
       "               featured release_date  length(ms)  popularity  acousticness  \\\n",
       "0     [88rising,  BIBI]   2021-10-14      167661          69       0.06200   \n",
       "1   [Yoon Mirae,  BIBI]   2022-09-06      189373          71       0.00857   \n",
       "2     [88rising,  BIBI]   2022-04-16      152910          66       0.26800   \n",
       "15   [Mark Tuan,  BIBI]   2021-09-03      203800          51       0.65600   \n",
       "17    [CHUNG HA,  BIBI]   2022-07-11      175480          50       0.09570   \n",
       "\n",
       "    danceability  energy  liveness    tempo  valence  \n",
       "0          0.784   0.521    0.0995  101.491    0.817  \n",
       "1          0.756   0.900    0.2370  128.054    0.550  \n",
       "2          0.740   0.663    0.1210   82.004    0.519  \n",
       "15         0.777   0.689    0.0620  150.036    0.873  \n",
       "17         0.536   0.639    0.2090  170.940    0.502  "
      ]
     },
     "execution_count": 92,
     "metadata": {},
     "output_type": "execute_result"
    }
   ],
   "source": [
    "collabs_df = df_88R[df_88R['featured'].apply(lambda x: len(x) > 1)]\n",
    "collabs_df.head()"
   ]
  },
  {
   "cell_type": "code",
   "execution_count": 17,
   "metadata": {},
   "outputs": [
    {
     "data": {
      "text/plain": [
       "451"
      ]
     },
     "execution_count": 17,
     "metadata": {},
     "output_type": "execute_result"
    }
   ],
   "source": [
    "len(collabs_df)"
   ]
  },
  {
   "cell_type": "code",
   "execution_count": 12,
   "metadata": {},
   "outputs": [
    {
     "ename": "KeyError",
     "evalue": "'True: boolean label can not be used without a boolean index'",
     "output_type": "error",
     "traceback": [
      "\u001b[1;31m---------------------------------------------------------------------------\u001b[0m",
      "\u001b[1;31mKeyError\u001b[0m                                  Traceback (most recent call last)",
      "\u001b[1;32mc:\\Users\\krist\\DataClass2\\Project-3\\collabs_analysis.ipynb Cell 5\u001b[0m in \u001b[0;36m<cell line: 1>\u001b[1;34m()\u001b[0m\n\u001b[1;32m----> <a href='vscode-notebook-cell:/c%3A/Users/krist/DataClass2/Project-3/collabs_analysis.ipynb#ch0000004?line=0'>1</a>\u001b[0m collabs_df \u001b[39m=\u001b[39m df_88R\u001b[39m.\u001b[39;49mloc[\u001b[39mlen\u001b[39;49m(df_88R[\u001b[39m'\u001b[39;49m\u001b[39mfeatured\u001b[39;49m\u001b[39m'\u001b[39;49m]) \u001b[39m>\u001b[39;49m \u001b[39m1\u001b[39;49m]\n\u001b[0;32m      <a href='vscode-notebook-cell:/c%3A/Users/krist/DataClass2/Project-3/collabs_analysis.ipynb#ch0000004?line=1'>2</a>\u001b[0m collabs_df\u001b[39m.\u001b[39mhead()\n",
      "File \u001b[1;32mc:\\Users\\krist\\anaconda3\\lib\\site-packages\\pandas\\core\\indexing.py:967\u001b[0m, in \u001b[0;36m_LocationIndexer.__getitem__\u001b[1;34m(self, key)\u001b[0m\n\u001b[0;32m    964\u001b[0m axis \u001b[39m=\u001b[39m \u001b[39mself\u001b[39m\u001b[39m.\u001b[39maxis \u001b[39mor\u001b[39;00m \u001b[39m0\u001b[39m\n\u001b[0;32m    966\u001b[0m maybe_callable \u001b[39m=\u001b[39m com\u001b[39m.\u001b[39mapply_if_callable(key, \u001b[39mself\u001b[39m\u001b[39m.\u001b[39mobj)\n\u001b[1;32m--> 967\u001b[0m \u001b[39mreturn\u001b[39;00m \u001b[39mself\u001b[39;49m\u001b[39m.\u001b[39;49m_getitem_axis(maybe_callable, axis\u001b[39m=\u001b[39;49maxis)\n",
      "File \u001b[1;32mc:\\Users\\krist\\anaconda3\\lib\\site-packages\\pandas\\core\\indexing.py:1201\u001b[0m, in \u001b[0;36m_LocIndexer._getitem_axis\u001b[1;34m(self, key, axis)\u001b[0m\n\u001b[0;32m   1198\u001b[0m         \u001b[39mreturn\u001b[39;00m \u001b[39mself\u001b[39m\u001b[39m.\u001b[39mobj\u001b[39m.\u001b[39miloc[\u001b[39mtuple\u001b[39m(indexer)]\n\u001b[0;32m   1200\u001b[0m \u001b[39m# fall thru to straight lookup\u001b[39;00m\n\u001b[1;32m-> 1201\u001b[0m \u001b[39mself\u001b[39;49m\u001b[39m.\u001b[39;49m_validate_key(key, axis)\n\u001b[0;32m   1202\u001b[0m \u001b[39mreturn\u001b[39;00m \u001b[39mself\u001b[39m\u001b[39m.\u001b[39m_get_label(key, axis\u001b[39m=\u001b[39maxis)\n",
      "File \u001b[1;32mc:\\Users\\krist\\anaconda3\\lib\\site-packages\\pandas\\core\\indexing.py:1011\u001b[0m, in \u001b[0;36m_LocIndexer._validate_key\u001b[1;34m(self, key, axis)\u001b[0m\n\u001b[0;32m   1001\u001b[0m \u001b[39m@doc\u001b[39m(_LocationIndexer\u001b[39m.\u001b[39m_validate_key)\n\u001b[0;32m   1002\u001b[0m \u001b[39mdef\u001b[39;00m \u001b[39m_validate_key\u001b[39m(\u001b[39mself\u001b[39m, key, axis: \u001b[39mint\u001b[39m):\n\u001b[0;32m   1003\u001b[0m     \u001b[39m# valid for a collection of labels (we check their presence later)\u001b[39;00m\n\u001b[0;32m   1004\u001b[0m     \u001b[39m# slice of labels (where start-end in labels)\u001b[39;00m\n\u001b[0;32m   1005\u001b[0m     \u001b[39m# slice of integers (only if in the labels)\u001b[39;00m\n\u001b[0;32m   1006\u001b[0m     \u001b[39m# boolean not in slice and with boolean index\u001b[39;00m\n\u001b[0;32m   1007\u001b[0m     \u001b[39mif\u001b[39;00m \u001b[39misinstance\u001b[39m(key, \u001b[39mbool\u001b[39m) \u001b[39mand\u001b[39;00m \u001b[39mnot\u001b[39;00m (\n\u001b[0;32m   1008\u001b[0m         is_bool_dtype(\u001b[39mself\u001b[39m\u001b[39m.\u001b[39mobj\u001b[39m.\u001b[39m_get_axis(axis))\n\u001b[0;32m   1009\u001b[0m         \u001b[39mor\u001b[39;00m \u001b[39mself\u001b[39m\u001b[39m.\u001b[39mobj\u001b[39m.\u001b[39m_get_axis(axis)\u001b[39m.\u001b[39mdtype\u001b[39m.\u001b[39mname \u001b[39m==\u001b[39m \u001b[39m\"\u001b[39m\u001b[39mboolean\u001b[39m\u001b[39m\"\u001b[39m\n\u001b[0;32m   1010\u001b[0m     ):\n\u001b[1;32m-> 1011\u001b[0m         \u001b[39mraise\u001b[39;00m \u001b[39mKeyError\u001b[39;00m(\n\u001b[0;32m   1012\u001b[0m             \u001b[39mf\u001b[39m\u001b[39m\"\u001b[39m\u001b[39m{\u001b[39;00mkey\u001b[39m}\u001b[39;00m\u001b[39m: boolean label can not be used without a boolean index\u001b[39m\u001b[39m\"\u001b[39m\n\u001b[0;32m   1013\u001b[0m         )\n\u001b[0;32m   1015\u001b[0m     \u001b[39mif\u001b[39;00m \u001b[39misinstance\u001b[39m(key, \u001b[39mslice\u001b[39m) \u001b[39mand\u001b[39;00m (\n\u001b[0;32m   1016\u001b[0m         \u001b[39misinstance\u001b[39m(key\u001b[39m.\u001b[39mstart, \u001b[39mbool\u001b[39m) \u001b[39mor\u001b[39;00m \u001b[39misinstance\u001b[39m(key\u001b[39m.\u001b[39mstop, \u001b[39mbool\u001b[39m)\n\u001b[0;32m   1017\u001b[0m     ):\n\u001b[0;32m   1018\u001b[0m         \u001b[39mraise\u001b[39;00m \u001b[39mTypeError\u001b[39;00m(\u001b[39mf\u001b[39m\u001b[39m\"\u001b[39m\u001b[39m{\u001b[39;00mkey\u001b[39m}\u001b[39;00m\u001b[39m: boolean values can not be used in a slice\u001b[39m\u001b[39m\"\u001b[39m)\n",
      "\u001b[1;31mKeyError\u001b[0m: 'True: boolean label can not be used without a boolean index'"
     ]
    }
   ],
   "source": [
    "collabs_df = df_88R.loc[len(df_88R['featured']) > 1]\n",
    "collabs_df.head()"
   ]
  },
  {
   "cell_type": "code",
   "execution_count": 6,
   "metadata": {},
   "outputs": [
    {
     "ename": "ValueError",
     "evalue": "The truth value of a Series is ambiguous. Use a.empty, a.bool(), a.item(), a.any() or a.all().",
     "output_type": "error",
     "traceback": [
      "\u001b[1;31m---------------------------------------------------------------------------\u001b[0m",
      "\u001b[1;31mValueError\u001b[0m                                Traceback (most recent call last)",
      "\u001b[1;32mc:\\Users\\krist\\DataClass2\\Project-3\\collabs_analysis.ipynb Cell 3\u001b[0m in \u001b[0;36m<cell line: 1>\u001b[1;34m()\u001b[0m\n\u001b[1;32m----> <a href='vscode-notebook-cell:/c%3A/Users/krist/DataClass2/Project-3/collabs_analysis.ipynb#ch0000002?line=0'>1</a>\u001b[0m collabs_df \u001b[39m=\u001b[39m df_88R\u001b[39m.\u001b[39mloc[df_88R[\u001b[39m'\u001b[39;49m\u001b[39mfeatured\u001b[39;49m\u001b[39m'\u001b[39;49m] \u001b[39min\u001b[39;49;00m artists]\n",
      "File \u001b[1;32mc:\\Users\\krist\\anaconda3\\lib\\site-packages\\pandas\\core\\generic.py:1527\u001b[0m, in \u001b[0;36mNDFrame.__nonzero__\u001b[1;34m(self)\u001b[0m\n\u001b[0;32m   1525\u001b[0m \u001b[39m@final\u001b[39m\n\u001b[0;32m   1526\u001b[0m \u001b[39mdef\u001b[39;00m \u001b[39m__nonzero__\u001b[39m(\u001b[39mself\u001b[39m):\n\u001b[1;32m-> 1527\u001b[0m     \u001b[39mraise\u001b[39;00m \u001b[39mValueError\u001b[39;00m(\n\u001b[0;32m   1528\u001b[0m         \u001b[39mf\u001b[39m\u001b[39m\"\u001b[39m\u001b[39mThe truth value of a \u001b[39m\u001b[39m{\u001b[39;00m\u001b[39mtype\u001b[39m(\u001b[39mself\u001b[39m)\u001b[39m.\u001b[39m\u001b[39m__name__\u001b[39m\u001b[39m}\u001b[39;00m\u001b[39m is ambiguous. \u001b[39m\u001b[39m\"\u001b[39m\n\u001b[0;32m   1529\u001b[0m         \u001b[39m\"\u001b[39m\u001b[39mUse a.empty, a.bool(), a.item(), a.any() or a.all().\u001b[39m\u001b[39m\"\u001b[39m\n\u001b[0;32m   1530\u001b[0m     )\n",
      "\u001b[1;31mValueError\u001b[0m: The truth value of a Series is ambiguous. Use a.empty, a.bool(), a.item(), a.any() or a.all()."
     ]
    }
   ],
   "source": [
    "collabs_df = df_88R.loc[df_88R['featured'] in artists]"
   ]
  }
 ],
 "metadata": {
  "kernelspec": {
   "display_name": "Python 3.9.12 ('base')",
   "language": "python",
   "name": "python3"
  },
  "language_info": {
   "codemirror_mode": {
    "name": "ipython",
    "version": 3
   },
   "file_extension": ".py",
   "mimetype": "text/x-python",
   "name": "python",
   "nbconvert_exporter": "python",
   "pygments_lexer": "ipython3",
   "version": "3.9.12"
  },
  "orig_nbformat": 4,
  "vscode": {
   "interpreter": {
    "hash": "fd5f0602b361fcd80b6e43c9db32d5ff96b182a40640908c77b502a93aa9387e"
   }
  }
 },
 "nbformat": 4,
 "nbformat_minor": 2
}
